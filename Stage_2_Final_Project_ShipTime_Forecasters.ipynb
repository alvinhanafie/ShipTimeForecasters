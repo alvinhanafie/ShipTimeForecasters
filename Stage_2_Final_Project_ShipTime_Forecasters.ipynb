{
  "nbformat": 4,
  "nbformat_minor": 0,
  "metadata": {
    "colab": {
      "provenance": []
    },
    "kernelspec": {
      "name": "python3",
      "display_name": "Python 3"
    },
    "language_info": {
      "name": "python"
    }
  },
  "cells": [
    {
      "cell_type": "markdown",
      "source": [
        "## STAGE 1 - EXPLORATORY DATA ANALYSIS (EDA)\n",
        "\n",
        "\n",
        "# Kelompok 1 - ShipTime Forecasters\n",
        "- Aisyah Nur Hasanah\n",
        "- Alvin Kurniawan Hanafie\n",
        "- Awalsyah Erlangga\n",
        "- Berliana Ayu Aprilia\n",
        "- Gladys Olivia\n",
        "- Kevin Munandar\n"
      ],
      "metadata": {
        "id": "6xbvrXULN_9O"
      }
    },
    {
      "cell_type": "markdown",
      "source": [
        "\n",
        "**E-Commerce Shipping Data**<br>\n",
        "**Deskripsi**<br>\n",
        "* This notebook is an analysis of shipping data from Shoppedia e-commerce company to determine if packages arrived on time or not<br>"
      ],
      "metadata": {
        "id": "sAAjDReoOKHT"
      }
    },
    {
      "cell_type": "code",
      "source": [
        "pip install optbinning"
      ],
      "metadata": {
        "colab": {
          "base_uri": "https://localhost:8080/"
        },
        "id": "fNv4u1CsB2Np",
        "outputId": "5b6b24f4-6fe5-4a11-bbeb-9ab2d6edadb5"
      },
      "execution_count": null,
      "outputs": [
        {
          "output_type": "stream",
          "name": "stdout",
          "text": [
            "Requirement already satisfied: optbinning in /usr/local/lib/python3.10/dist-packages (0.18.0)\n",
            "Requirement already satisfied: matplotlib in /usr/local/lib/python3.10/dist-packages (from optbinning) (3.7.1)\n",
            "Requirement already satisfied: numpy>=1.16.1 in /usr/local/lib/python3.10/dist-packages (from optbinning) (1.23.5)\n",
            "Requirement already satisfied: ortools>=9.4 in /usr/local/lib/python3.10/dist-packages (from optbinning) (9.7.2996)\n",
            "Requirement already satisfied: pandas in /usr/local/lib/python3.10/dist-packages (from optbinning) (1.5.3)\n",
            "Requirement already satisfied: ropwr>=1.0.0 in /usr/local/lib/python3.10/dist-packages (from optbinning) (1.0.0)\n",
            "Requirement already satisfied: scikit-learn>=1.0.2 in /usr/local/lib/python3.10/dist-packages (from optbinning) (1.2.2)\n",
            "Requirement already satisfied: scipy>=1.6.0 in /usr/local/lib/python3.10/dist-packages (from optbinning) (1.11.2)\n",
            "Requirement already satisfied: absl-py>=0.13 in /usr/local/lib/python3.10/dist-packages (from ortools>=9.4->optbinning) (1.4.0)\n",
            "Requirement already satisfied: protobuf>=4.23.3 in /usr/local/lib/python3.10/dist-packages (from ortools>=9.4->optbinning) (4.24.3)\n",
            "Requirement already satisfied: cvxpy>=1.1.14 in /usr/local/lib/python3.10/dist-packages (from ropwr>=1.0.0->optbinning) (1.3.2)\n",
            "Requirement already satisfied: joblib>=1.1.1 in /usr/local/lib/python3.10/dist-packages (from scikit-learn>=1.0.2->optbinning) (1.3.2)\n",
            "Requirement already satisfied: threadpoolctl>=2.0.0 in /usr/local/lib/python3.10/dist-packages (from scikit-learn>=1.0.2->optbinning) (3.2.0)\n",
            "Requirement already satisfied: contourpy>=1.0.1 in /usr/local/lib/python3.10/dist-packages (from matplotlib->optbinning) (1.1.0)\n",
            "Requirement already satisfied: cycler>=0.10 in /usr/local/lib/python3.10/dist-packages (from matplotlib->optbinning) (0.11.0)\n",
            "Requirement already satisfied: fonttools>=4.22.0 in /usr/local/lib/python3.10/dist-packages (from matplotlib->optbinning) (4.42.1)\n",
            "Requirement already satisfied: kiwisolver>=1.0.1 in /usr/local/lib/python3.10/dist-packages (from matplotlib->optbinning) (1.4.5)\n",
            "Requirement already satisfied: packaging>=20.0 in /usr/local/lib/python3.10/dist-packages (from matplotlib->optbinning) (23.1)\n",
            "Requirement already satisfied: pillow>=6.2.0 in /usr/local/lib/python3.10/dist-packages (from matplotlib->optbinning) (9.4.0)\n",
            "Requirement already satisfied: pyparsing>=2.3.1 in /usr/local/lib/python3.10/dist-packages (from matplotlib->optbinning) (3.1.1)\n",
            "Requirement already satisfied: python-dateutil>=2.7 in /usr/local/lib/python3.10/dist-packages (from matplotlib->optbinning) (2.8.2)\n",
            "Requirement already satisfied: pytz>=2020.1 in /usr/local/lib/python3.10/dist-packages (from pandas->optbinning) (2023.3.post1)\n",
            "Requirement already satisfied: osqp>=0.4.1 in /usr/local/lib/python3.10/dist-packages (from cvxpy>=1.1.14->ropwr>=1.0.0->optbinning) (0.6.2.post8)\n",
            "Requirement already satisfied: ecos>=2 in /usr/local/lib/python3.10/dist-packages (from cvxpy>=1.1.14->ropwr>=1.0.0->optbinning) (2.0.12)\n",
            "Requirement already satisfied: scs>=1.1.6 in /usr/local/lib/python3.10/dist-packages (from cvxpy>=1.1.14->ropwr>=1.0.0->optbinning) (3.2.3)\n",
            "Requirement already satisfied: setuptools>65.5.1 in /usr/local/lib/python3.10/dist-packages (from cvxpy>=1.1.14->ropwr>=1.0.0->optbinning) (67.7.2)\n",
            "Requirement already satisfied: six>=1.5 in /usr/local/lib/python3.10/dist-packages (from python-dateutil>=2.7->matplotlib->optbinning) (1.16.0)\n",
            "Requirement already satisfied: qdldl in /usr/local/lib/python3.10/dist-packages (from osqp>=0.4.1->cvxpy>=1.1.14->ropwr>=1.0.0->optbinning) (0.1.7.post0)\n"
          ]
        }
      ]
    },
    {
      "cell_type": "code",
      "source": [
        "import warnings\n",
        "warnings.filterwarnings('ignore')\n",
        "\n",
        "import numpy as np\n",
        "import pandas as pd\n",
        "import seaborn as sns\n",
        "import matplotlib.pyplot as plt\n",
        "%matplotlib inline\n",
        "from scipy import stats\n",
        "from sklearn.preprocessing import MinMaxScaler, StandardScaler, RobustScaler\n",
        "from sklearn.preprocessing import PowerTransformer, QuantileTransformer\n",
        "from sklearn.feature_selection import VarianceThreshold\n",
        "from imblearn import under_sampling, over_sampling\n",
        "from sklearn.preprocessing import OrdinalEncoder\n",
        "from numpy import asarray\n",
        "from sklearn.model_selection import train_test_split\n",
        "from optbinning import BinningProcess\n",
        "\n",
        "\n",
        "\n",
        "print('numpy version : ',np.__version__)\n",
        "print('pandas version : ',pd.__version__)\n",
        "print('seaborn version : ',sns.__version__)"
      ],
      "metadata": {
        "id": "0kNlCTO9N9mN"
      },
      "execution_count": null,
      "outputs": []
    },
    {
      "cell_type": "code",
      "source": [
        "sns.set(rc={'figure.figsize':(20.7,8.27)})\n",
        "sns.set_style(\"whitegrid\")\n",
        "sns.color_palette(\"dark\")\n",
        "plt.style.use(\"fivethirtyeight\")"
      ],
      "metadata": {
        "id": "4w7pxpQPO4ZN"
      },
      "execution_count": null,
      "outputs": []
    },
    {
      "cell_type": "markdown",
      "metadata": {
        "id": "VyWtPGpaOw0w"
      },
      "source": [
        "# Load and Describe Data"
      ]
    },
    {
      "cell_type": "markdown",
      "metadata": {
        "id": "z28Z5yMwOw0x"
      },
      "source": [
        "## Load Data"
      ]
    },
    {
      "cell_type": "code",
      "source": [
        "from google.colab import drive\n",
        "drive.mount('/content/drive')"
      ],
      "metadata": {
        "id": "vnYFpmv2O8Rl"
      },
      "execution_count": null,
      "outputs": []
    },
    {
      "cell_type": "code",
      "source": [
        "file_id = '1BSZHP0pTdFt_DlNH_jcELYoxvNtQ0mx1'\n",
        "link = f'https://drive.google.com/uc?id={file_id}'\n",
        "df = pd.read_csv(link)\n",
        "df.head()\n"
      ],
      "metadata": {
        "id": "aq2eKKNePVtq"
      },
      "execution_count": null,
      "outputs": []
    },
    {
      "cell_type": "markdown",
      "metadata": {
        "id": "zz8gHB9mOw0-"
      },
      "source": [
        "## 1. Descriptive Statistic"
      ]
    },
    {
      "cell_type": "markdown",
      "source": [
        "### Info Dataset"
      ],
      "metadata": {
        "id": "lmiJisSAW9U_"
      }
    },
    {
      "cell_type": "code",
      "source": [
        "df.info()"
      ],
      "metadata": {
        "id": "_a2-sY1pQynk"
      },
      "execution_count": null,
      "outputs": []
    },
    {
      "cell_type": "markdown",
      "source": [
        "- Dataset berisikan 12 kolom, dengan jumlah 10999 baris.\n",
        "- Tipe data, dengan nama dan nilai dalam kolomnya sudah sesuai, kecuali ID yang akan diubah menjadi tipe data string.\n",
        "- Dataset lengkap, tidak ada nilai kosong.\n",
        "- Variable Reached.on.Time_Y.N akan diubah namanya menjadi Delivered_on_Time untuk agar lebih intuitif dan sesuai dengan business metric yang akan digunakan.  \n"
      ],
      "metadata": {
        "id": "nGJ4KZwXC9qq"
      }
    },
    {
      "cell_type": "code",
      "source": [
        "#ubah data type id ke string\n",
        "df['ID']=df['ID'].astype(str)\n",
        "df.rename(columns = {'Reached.on.Time_Y.N': 'Delivered_on_Time'}, inplace = True)\n",
        "print(df.dtypes)"
      ],
      "metadata": {
        "id": "xLIgTLGUQ0TZ"
      },
      "execution_count": null,
      "outputs": []
    },
    {
      "cell_type": "code",
      "source": [
        "df.isna().sum()"
      ],
      "metadata": {
        "id": "uMVqFQdSRb59"
      },
      "execution_count": null,
      "outputs": []
    },
    {
      "cell_type": "code",
      "source": [
        "df.duplicated().any()"
      ],
      "metadata": {
        "id": "JTtDJROREGXS"
      },
      "execution_count": null,
      "outputs": []
    },
    {
      "cell_type": "markdown",
      "source": [
        "Tidak ada data kosong dan data duplikat."
      ],
      "metadata": {
        "id": "Mq1BarFmSGIg"
      }
    },
    {
      "cell_type": "markdown",
      "source": [
        "### Deskripsi Statistik Dataset"
      ],
      "metadata": {
        "id": "PefvuBhJXD5A"
      }
    },
    {
      "cell_type": "code",
      "source": [
        "numerical = ['Customer_care_calls', 'Customer_rating', 'Cost_of_the_Product', 'Prior_purchases', 'Discount_offered', 'Weight_in_gms', 'Delivered_on_Time']\n",
        "categorical = ['ID', 'Warehouse_block', 'Mode_of_Shipment','Product_importance','Gender']"
      ],
      "metadata": {
        "id": "SdEhRZK0SEu9"
      },
      "execution_count": null,
      "outputs": []
    },
    {
      "cell_type": "code",
      "source": [
        "df[numerical].describe()"
      ],
      "metadata": {
        "id": "feWbYwnyT5DZ"
      },
      "execution_count": null,
      "outputs": []
    },
    {
      "cell_type": "markdown",
      "source": [
        "- Semua nilai variable numeric (min/max) masuk akal.\n",
        "- Terdapat perbedaan yang cukup jauh antara nilai mean dan median pada feature Prior_purchases, Discount_offered, dimana nilai mean lebih besar dari nilai mediannya. Perbedaan nilai mean dan median variable Discount_offered cukup jauh (13.37 dan 7.00).\n",
        "- Nilai mean dari Weight_in_gms lebih kecil dari nilai mediannya.\n",
        "- Terdapat hal unik dimana setiap transaksi memiliki minimal 2 customer care calls.\n",
        "- Untuk nilai target (Delivered_on_Time), nilai 0 menunjukkan pengiriman barang tepat waktu, dan nilai 1 menunjukkan pengiriman barang yang tidak tepat waktu."
      ],
      "metadata": {
        "id": "kf6bjqX_-tn3"
      }
    },
    {
      "cell_type": "markdown",
      "source": [
        "### Jumlah nilai unik per variable numerik"
      ],
      "metadata": {
        "id": "h705-D4FYwbv"
      }
    },
    {
      "cell_type": "code",
      "source": [
        "for col in numerical:\n",
        "    print(f'Total nilai unik pada {col} :')\n",
        "    print(df[col].value_counts())\n",
        "    print()\n",
        "    print(f'Total persentase nilai unik pada {col} :')\n",
        "    print(round(df[col].value_counts(normalize = True)*100,2))\n",
        "    print()"
      ],
      "metadata": {
        "id": "2Vdl1940Amxh"
      },
      "execution_count": null,
      "outputs": []
    },
    {
      "cell_type": "markdown",
      "source": [
        "- Customer care calls paling banyak pada angka 4 (32.34%) dan angka 3 (29.25%).\n",
        "- Nilai rating 1 - 5 cenderung mendapat angka yang sama sekitar 20%.\n",
        "- Prior_purchase terbanyak pada angka 3 dengan persentase 35.96% dan angka 2 dengan persentase (23.63%).\n",
        "- Kebanyakan diskon yang diberikan di bawah 10%.\n",
        "- Perbandingan target Delivered_on_Time cukup seimbang, dengan perbandingan persentase 59.67% dan 40.33%, sehingga tidak terjadi permasalahan class imbalance."
      ],
      "metadata": {
        "id": "ZxYuyWNDIM8o"
      }
    },
    {
      "cell_type": "code",
      "source": [
        "df[categorical].describe()"
      ],
      "metadata": {
        "id": "DkOBaMKGT822"
      },
      "execution_count": null,
      "outputs": []
    },
    {
      "cell_type": "markdown",
      "source": [
        "- Semua nilai ID bersifat unique, sehingga tidak ada duplikat dalam ID. Kolom ID tidak diikutkan dalam Exploratory Data Analysis karena tidak memengaruhi dataset."
      ],
      "metadata": {
        "id": "b0KA39Gn9_iM"
      }
    },
    {
      "cell_type": "markdown",
      "source": [
        "### Jumlah nilai unik per variable kategorikal"
      ],
      "metadata": {
        "id": "fr0x_XxSaDNl"
      }
    },
    {
      "cell_type": "code",
      "source": [
        "categorical = ['Warehouse_block', 'Mode_of_Shipment','Product_importance','Gender']"
      ],
      "metadata": {
        "id": "O5KAIfIT_rDh"
      },
      "execution_count": null,
      "outputs": []
    },
    {
      "cell_type": "code",
      "source": [
        "for col in categorical:\n",
        "    print(f'Total nilai unik pada {col} :')\n",
        "    print(df[col].value_counts())\n",
        "    print()\n",
        "    print(f'Total persentase nilai unik pada {col} :')\n",
        "    print(round(df[col].value_counts(normalize = True)*100,2))\n",
        "    print()\n"
      ],
      "metadata": {
        "id": "ZX_7VxZ1UlL-"
      },
      "execution_count": null,
      "outputs": []
    },
    {
      "cell_type": "markdown",
      "source": [
        "- Block F pada Variable Warehouse_block paling banyak dengan persentase 33.33%.\n",
        "- Ship menjadi metode paling banyak (mendominasi) dalam variable Mode_of_Shipment dengan persentase 67.84%.\n",
        "- Produk dengan tingkat importance low paling banyak pada variable Product_importance dengan persentase 48.16%. Produk dengan importance high  paling sedikit dengan persentase 8.62%.\n",
        "- Persebaran gender Female dan Male cenderung merata dengan perbandingan persentase 50.41% dan 49.59%.\n",
        "- Tidak ada nilai feature yang jumlahnya terlalu timpang, sehingga feature categorical masih dapat digunakan untuk Exploratory Data Analysis."
      ],
      "metadata": {
        "id": "FGLJuDNXLi4-"
      }
    },
    {
      "cell_type": "markdown",
      "metadata": {
        "id": "LW0k48u-Ow1B"
      },
      "source": [
        "# 2. Univariate Analysis"
      ]
    },
    {
      "cell_type": "markdown",
      "source": [
        "### Sebaran Feature Numerik"
      ],
      "metadata": {
        "id": "WYit9QU9pRgK"
      }
    },
    {
      "cell_type": "code",
      "source": [
        "#Boxplot Features untuk mengecek outlier\n",
        "for i in range(0, len(numerical)):\n",
        "    plt.subplot(3, 4, i+1)\n",
        "    sns.boxplot(x=df[numerical[i]])\n",
        "    plt.tight_layout()"
      ],
      "metadata": {
        "id": "SGqNaDDoWeL6"
      },
      "execution_count": null,
      "outputs": []
    },
    {
      "cell_type": "markdown",
      "source": [
        "- Variable Prior_purchases dan Discount_offered memiliki nilai outlier, terutama pada variable Discount_offered yang memiliki cukup banyak nilai outlier."
      ],
      "metadata": {
        "id": "-W-4vgi2eG8u"
      }
    },
    {
      "cell_type": "code",
      "source": [
        "for i in range(0, len(numerical)):\n",
        "    plt.subplot(2, 4, i+1)\n",
        "    sns.distplot(df[numerical[i]], kde = True)\n",
        "    plt.tight_layout()"
      ],
      "metadata": {
        "id": "kQWBSBTsfDyy"
      },
      "execution_count": null,
      "outputs": []
    },
    {
      "cell_type": "markdown",
      "source": [
        "- Customer_care_calls dan Prior_purchases memiliki sebaran yang mirip (cenderung right-skewed).\n",
        "- Customer_rating memiliki sebaran unik, dimana tiap nilai rating memiliki nilai yang hampir sama.\n",
        "- Cost_of_the_Product hampir mendekati sebaran distribusi normal (cenderung left-skewed).\n",
        "- Discount_offered memiliki sebaran right-skewed.\n",
        "- Weight_in_gms memiliki sebaran bimodal, dengan distribusi data terpusat pada 2 bagian.\n",
        "- Delivered_on_Time dengan nilai 1 (pengiriman barang tidak tepat waktu) lebih mendominasi jumlahnya dibandingkan dengan nilai 0 (pengiriman barang tepat waktu)."
      ],
      "metadata": {
        "id": "7x5gxMC1cH4D"
      }
    },
    {
      "cell_type": "markdown",
      "source": [
        "#### Sebaran Fitur Numerical terhadap Target"
      ],
      "metadata": {
        "id": "8EINVENxjCYS"
      }
    },
    {
      "cell_type": "code",
      "source": [
        "#Boxplot Features pada Delivered_on_Time\n",
        "plt.figure(figsize = (20,20))\n",
        "for i in range(0, len(numerical)):\n",
        "    plt.subplot(3, 4, i+1)\n",
        "    sns.boxplot(y=df[numerical[i]], x= 'Delivered_on_Time', data = df, showfliers = False)\n",
        "    plt.tight_layout()"
      ],
      "metadata": {
        "id": "iVgD-rnp-1ss"
      },
      "execution_count": null,
      "outputs": []
    },
    {
      "cell_type": "markdown",
      "source": [
        "- Feature Cost_of_the_Product, Discount_offered, dan Weight_in_gms memiliki sebaran cukup berbeda terhadap target Delivered_on_Time, sehingga akan dianalisis lebih lanjut pada ketiga feature terkait.\n",
        "- Feature Customer_care_calls, Customer_rating, dan Prior_purchases sebarannya hampir sama terhadap target Delivered_on_Time, sehingga EDA tidak berfokus pada ketiga feature ini."
      ],
      "metadata": {
        "id": "7x2wAdufPazK"
      }
    },
    {
      "cell_type": "markdown",
      "source": [
        "#### Sebaran Fitur Numerical terhadap Target (secara proporsional)"
      ],
      "metadata": {
        "id": "VySeQ7etknUg"
      }
    },
    {
      "cell_type": "code",
      "source": [
        "for i in range(0, len(numerical)):\n",
        "    plt.subplot(2, 4, i+1)\n",
        "    sns.histplot(x=df[numerical[i]], hue= 'Delivered_on_Time', data = df, multiple = 'fill')\n",
        "    plt.ylabel('Ratio')\n",
        "    plt.tight_layout()"
      ],
      "metadata": {
        "id": "jZxM7S2iikMJ"
      },
      "execution_count": null,
      "outputs": []
    },
    {
      "cell_type": "markdown",
      "source": [
        "- Semua pengiriman barang dengan diskon >10% tidak tepat waktu.\n",
        "- Pengiriman barang dengan berat di antara 2000 - 4000 g dan di atas 6000 g tidak tepat waktu.\n",
        "- Harga barang (Cost_of_the_Product) yang semakin tinggi cenderung membuat pengiriman barang tepat waktu."
      ],
      "metadata": {
        "id": "jZXFmRSby-OZ"
      }
    },
    {
      "cell_type": "markdown",
      "source": [
        "### Sebaran Feature Categorical"
      ],
      "metadata": {
        "id": "vn_ZYWoTpWUa"
      }
    },
    {
      "cell_type": "code",
      "source": [
        "for i in range(0, len(categorical)):\n",
        "    plt.subplot(2, 2, i+1)\n",
        "    sns.countplot(x=df[categorical[i]])\n",
        "    plt.title(f'Frekuensi pada Feature {categorical[i]}')\n",
        "    plt.tight_layout()\n"
      ],
      "metadata": {
        "id": "10g_ehiRfY_C"
      },
      "execution_count": null,
      "outputs": []
    },
    {
      "cell_type": "markdown",
      "source": [
        "- Terdapat nilai feature yang mendominasi pada feature Warehouse_block (F), Mode_of_Shipment (Ship).\n",
        "- Terdapat nilai feature yang menjadi minoritas dalam feature Product_importance (high).\n",
        "- Nilai feature Gender merata dengan proporsi sekitar 50:50.\n",
        "- Perbandingan nilai dalam feature tidak terlalu timpang, sehingga keempat fitur masih akan digunakan dalam Exploratory Data Analysis."
      ],
      "metadata": {
        "id": "3e3Cf3tyLrdN"
      }
    },
    {
      "cell_type": "markdown",
      "source": [
        "### Sebaran Feature Categorical dengan Target (secara proporsional)"
      ],
      "metadata": {
        "id": "UbpG2lWU0z_w"
      }
    },
    {
      "cell_type": "code",
      "source": [
        "for i in range(0, len(categorical)):\n",
        "    fig = plt.subplot(2, 4, i+1)\n",
        "    sns.histplot(x=df[categorical[i]], hue= 'Delivered_on_Time', data = df, multiple = 'fill')\n",
        "    plt.bar_label(fig.containers[0])\n",
        "    plt.ylabel('Ratio')\n",
        "    plt.tight_layout()"
      ],
      "metadata": {
        "id": "AutyPgdsfMir"
      },
      "execution_count": null,
      "outputs": []
    },
    {
      "cell_type": "markdown",
      "source": [
        "*   Barang yang terkirim tepat waktu terbanyak terdapat di warehouse block A. Sedangkan pada block B, paling banyak barang yang tidak terkirim tepat waktu.\n",
        "*   Road menjadi metode pengiriman yang paling banyak yang berhasil mengirimkan barang tepat waktu, sedangkan Flight merupakan metode paling banyak yang tidak berhasil mengirim barang tepat waktu.\n",
        "*   Product_importance yang tergolong low memiliki jumlah barang paling banyak yang berhasil terkirim tepat waktu, sedangkan produk yang tergolong high, paling banyak gagal dalam mengirimkan barang tepat waktu.\n",
        "*   Rasio barang yang terkirim tepat waktu dengan yang tidak tepat waktu pada feature Gender cenderung sama.\n",
        "\n"
      ],
      "metadata": {
        "id": "Kuex0TPZntxr"
      }
    },
    {
      "cell_type": "markdown",
      "source": [
        "### Follow up untuk Data Pre-Processing\n",
        "\n",
        "- Akan dilakukan transformasi log untuk variable bersifat right skewed (Prior_purchases dan Discount_offered). Transformasi log dilakukan untuk meminimalisir penghilangan data yang dikategorikan sebagai outlier.\n",
        "- Feature Weight_in_gms dan Cost_of_the_Product bersifat left skewed, sehingga akan dilakukan juga transformasi data dengan menggunakan standard scaling.\n",
        "- Melakukan pengelompokkan (grouping) pada feature Weight_in_gms/ Discount_offered/ Cost_of_the_Product.\n",
        "- Customer_care_calls dan Customer_rating tidak dilakukan transformasi karena sudah mendekati sebaran distribusi normal.\n",
        "- Akan dilakukan feature encoding pada feature categorical, untuk mengubah nilai feature menjadi numerical.\n",
        "- Semua feature akan dilakukan scaling sehingga skala antar feature sama.\n",
        "- Tidak perlu dilakukan handling class imbalance, karena jumlah nilai pada target tidak mengalami ketimpangan (60:40)."
      ],
      "metadata": {
        "id": "awXxJJ47e8T8"
      }
    },
    {
      "cell_type": "markdown",
      "metadata": {
        "id": "luEHnBBiOw1C"
      },
      "source": [
        "\n",
        "# Multivariate Analysis"
      ]
    },
    {
      "cell_type": "markdown",
      "source": [
        "### Correlation Heatmap"
      ],
      "metadata": {
        "id": "4Tk0Ms_FPyrs"
      }
    },
    {
      "cell_type": "code",
      "source": [
        "#kolom id dihilangkan dari analisis univariate dan multivariate\n",
        "df_copy = df.copy() #df_copy sebagai dataframe baru (tanpa kolom id) untuk analisis heatmap\n",
        "del df_copy['ID'] #menghapus kolom id pada df_corr untuk analisis heatmap\n",
        "sns.heatmap(df_copy.corr(), cmap='Blues', annot=True, fmt='.2f')\n",
        "plt.show()"
      ],
      "metadata": {
        "id": "k6IeQkRoXuBn"
      },
      "execution_count": null,
      "outputs": []
    },
    {
      "cell_type": "markdown",
      "source": [
        "- Feature Discount_offered berkorelasi positif lemah terhadap target (0.40), sehingga semakin tinggi diskon, semakin tinggi pula kecenderungan untuk barang tidak sampai tepat waktu.\n",
        "- Feature Weight_in_gms (berat barang) berkorelasi negatif lemah terhadap target (-0.27), sehingga semakin berat barang, semakin tinggi kecenderungan barang untuk terkirim tepat waktu.\n",
        "- Terdapat korelasi positif lemah antara Customer_care_calls dengan Cost_of_the_Product (0.32). Semakin tinggi harga barang, semakin tinggi pula jumlah customer care calls yang diterima.\n",
        "- Terdapat korelasi negatif lemah antara Weight_in_gms dengan Discount_offered (-0.38). Semakin tinggi berat barang, semakin kecil nilai diskon yang diberikan.\n",
        "- Feature lainnya tidak memiliki korelasi secara linier baik dengan antar fitur dan dengan target."
      ],
      "metadata": {
        "id": "LbFnCj2zkkrV"
      }
    },
    {
      "cell_type": "markdown",
      "source": [
        "### Korelasi Antar Feature dengan Target"
      ],
      "metadata": {
        "id": "5VIREs1PP_s_"
      }
    },
    {
      "cell_type": "markdown",
      "source": [
        "### Pair Plot"
      ],
      "metadata": {
        "id": "4cTvktCvr0w8"
      }
    },
    {
      "cell_type": "code",
      "source": [
        "plt.figure(figsize=(5, 5))\n",
        "sns.pairplot(df_copy, diag_kind='kde', hue = 'Delivered_on_Time')"
      ],
      "metadata": {
        "id": "JzkNlnEbYLaF"
      },
      "execution_count": null,
      "outputs": []
    },
    {
      "cell_type": "markdown",
      "source": [
        "- Dari pairplot, didapatkan beberapa hubungan yang menarik (yang cukup terpisah pada variable targetnya) yaitu pada Discount_offered, Cost_of_the_Product, dan Weight_in_gms. Ketiga fitur ini memiliki nilai yang cukup terpisah dengan target, sehingga sangat relevan untuk dipertahankan sebagai fitur pada saat modelling. Ketiga fitur ini akan dianalisis lebih lanjut korelasinya dengan feature kategorikal.\n",
        "- **Semua barang di antara 2000 hingga 4000 gram dan harga barang yang berada di antara 175 hingga 300 tidak terkirim tepat waktu.**\n",
        "- **Barang dengan berat di bawah 2000 gram dan harga barang sekitar 100 - 125, tidak terkirim tepat waktu.**\n",
        "- **Semua barang yang mendapatkan diskon >10% tidak terkirim tepat waktu, berapapun berat dan harga barangnya.**\n",
        "- Semua barang dengan berat di atas 6000 gram tidak terkirim tepat waktu."
      ],
      "metadata": {
        "id": "a0Dvm9lLSPaY"
      }
    },
    {
      "cell_type": "markdown",
      "source": [
        "### Sebaran Feature Numerical (Discount_offered) dengan Feature Categorical (Warehouse_block, Mode_of_Shipment, Product_importance, dan Gender) pada Target"
      ],
      "metadata": {
        "id": "2bQdy5cGQLPx"
      }
    },
    {
      "cell_type": "code",
      "source": [
        "for i in range(0, len(categorical)):\n",
        "    plt.subplot(2, 2, i+1)\n",
        "    sns.boxplot(y=df[categorical[i]], x='Discount_offered', showfliers = False, data=df, hue='Delivered_on_Time')\n",
        "    plt.title(f'Sebaran Diskon pada Feature {categorical[i]}')\n",
        "    plt.tight_layout()"
      ],
      "metadata": {
        "id": "oAsmmReLsSA2"
      },
      "execution_count": null,
      "outputs": []
    },
    {
      "cell_type": "markdown",
      "source": [
        "*   Warehouse block A memberikan diskon yang cenderung lebih sedikit dibandingkan dengan Warehouse block lainnya, mengkonfirmasi pengamatan sebelumnya dimana Warehouse block A lebih tepat waktu dalam pengiriman barang.\n",
        "*   Mode_of_Shipment tipe Road memberikan diskon yang lebih kecil dibandingkan dengan tipe Flight dan Ship, dimana hal ini mengkonfirmasi mode Road menjadi metode yang paling banyak mengirimkan barang tepat waktu.\n",
        "*   Sebagian barang dengan diskon < 10% tidak mengalami keterlambatan pengiriman pada feature Warehouse_block, Product_importance, Mode_of_Shipment, maupun Gender.\n",
        "*   Sementara barang dengan diskon > 10% semuanya mengalami keterlambatan.\n",
        "\n",
        "\n",
        "\n",
        "\n",
        "\n",
        "\n"
      ],
      "metadata": {
        "id": "N-nVVS1mVEpe"
      }
    },
    {
      "cell_type": "markdown",
      "source": [
        "# Insight\n",
        "\n",
        "1. Diskon Tinggi Berkorelasi Positif dengan Pengiriman Tidak Tepat Waktu.\n",
        "2. Berat Barang dan Harga Barang berpengaruh pada Pengiriman Tepat Waktu.\n",
        "3. Warehouse Block dan Mode of Shipment Memengaruhi Diskon dan Pengiriman Tepat Waktu."
      ],
      "metadata": {
        "id": "x8HcV8x2pNeK"
      }
    },
    {
      "cell_type": "markdown",
      "source": [
        "# Data Pre-Processing"
      ],
      "metadata": {
        "id": "6bQbqwwzu5XW"
      }
    },
    {
      "cell_type": "markdown",
      "source": [
        "# Handling Missing Value"
      ],
      "metadata": {
        "id": "qHetyJiHvS9m"
      }
    },
    {
      "cell_type": "code",
      "source": [
        "df.isna().any()"
      ],
      "metadata": {
        "id": "nWoKGQQ3ueBp"
      },
      "execution_count": null,
      "outputs": []
    },
    {
      "cell_type": "markdown",
      "source": [
        "Tidak ditemukan missing value pada dataset."
      ],
      "metadata": {
        "id": "9knT-OAZvc_B"
      }
    },
    {
      "cell_type": "markdown",
      "source": [
        "# Handling Duplicate Data"
      ],
      "metadata": {
        "id": "K8-wT4H0vqDn"
      }
    },
    {
      "cell_type": "code",
      "source": [
        "df.duplicated().any()"
      ],
      "metadata": {
        "id": "81Vjxx6kvYNH"
      },
      "execution_count": null,
      "outputs": []
    },
    {
      "cell_type": "markdown",
      "source": [
        "Tidak terdapat duplicate data pada dataset."
      ],
      "metadata": {
        "id": "Sejwox6kv0qv"
      }
    },
    {
      "cell_type": "markdown",
      "source": [
        "# Handling Invalid Values"
      ],
      "metadata": {
        "id": "Wvy2LTRoLHni"
      }
    },
    {
      "cell_type": "code",
      "source": [
        "df.describe(include='all')"
      ],
      "metadata": {
        "id": "2I7Nr0bDLK-S"
      },
      "execution_count": null,
      "outputs": []
    },
    {
      "cell_type": "markdown",
      "source": [
        "Dilihat dari semua features yang ada, tidak terdapat nilai invalid yang ditemukan dari data statistik dan nilai unique value, yang telah dicek pada tahap EDA."
      ],
      "metadata": {
        "id": "gDUPIficLtTq"
      }
    },
    {
      "cell_type": "markdown",
      "source": [
        "# Feature Extraction"
      ],
      "metadata": {
        "id": "K_Cj8pweIZtF"
      }
    },
    {
      "cell_type": "markdown",
      "source": [
        "Sebelum melakukan lebih jauh data preprocessing, dilakukan terlebih dahulu feature extraction dan selection, sehingga feature yang dikurangi/ditambahkan dapat ikut diolah pada proses data preprocessing selanjutnya.\n",
        "\n",
        "Berdasarkan hasil EDA pada feature Weight_in_gms, distribusi berat barang yang ada pada dataset memiliki distribusi bimodal. Karena itu, dilakukan feature extraction dari feature Weight_in_gms untuk mengelompokkan berat barang menjadi 4 kategori:\n",
        "1. Berat barang <= 2000 g\n",
        "2. Berat barang pada 2001 - 4000 g\n",
        "3. Berat barang pada 4001 - 6000 g\n",
        "2. Berat barang > 6000 g\n"
      ],
      "metadata": {
        "id": "D0QWkpEZHWIS"
      }
    },
    {
      "cell_type": "code",
      "source": [
        "def weight_class(category):\n",
        "\n",
        "    if category <= 2000:\n",
        "        return 0\n",
        "    elif category <= 4000:\n",
        "        return 1\n",
        "    elif category <= 6000:\n",
        "        return 2\n",
        "    else:\n",
        "        return 3"
      ],
      "metadata": {
        "id": "eZvj0sUg6NOr"
      },
      "execution_count": null,
      "outputs": []
    },
    {
      "cell_type": "code",
      "source": [
        "#klasifikasi berat barang\n",
        "df['Weight_class'] = df['Weight_in_gms'].apply(lambda x: weight_class(x))\n",
        "df.sample(10)"
      ],
      "metadata": {
        "id": "FYBZv_HP-vjL"
      },
      "execution_count": null,
      "outputs": []
    },
    {
      "cell_type": "markdown",
      "source": [
        "# Feature Selection"
      ],
      "metadata": {
        "id": "cpQQjVW_DBht"
      }
    },
    {
      "cell_type": "markdown",
      "source": [
        "Feature selection dilakukan berdasarkan 3 metode:\n",
        "1. Melihat korelasi antar feature yang kuat (multicolinearity)\n",
        "2. Melihat feature yang memiliki low variance (data numerik) dan low entropy (data kategorikal).\n",
        "3. Menghitung nilai Weight of Evidence (WoE) dan Information Value (IV) pada masing-masing feature untuk mengetahui kekuatan pengaruh tiap feature dalam memprediksi nilai target."
      ],
      "metadata": {
        "id": "vqKjDdL_PMpp"
      }
    },
    {
      "cell_type": "markdown",
      "source": [
        "## Feature Selection Metode 1"
      ],
      "metadata": {
        "id": "M_j0p5BNG96b"
      }
    },
    {
      "cell_type": "markdown",
      "source": [
        "Feature Selection Metode 1 dilakukan dengan melihat korelasi antar fitur dan fitur dengan target."
      ],
      "metadata": {
        "id": "W0Noe_O4UL9d"
      }
    },
    {
      "cell_type": "code",
      "source": [
        "df_copy = df.copy() #df_copy sebagai dataframe baru (tanpa kolom id) untuk analisis heatmap\n",
        "del df_copy['ID'] #menghapus kolom id pada df_corr untuk analisis heatmap\n",
        "sns.heatmap(df_copy.corr(method = 'spearman'), cmap='Blues', annot=True, fmt='.2f')\n",
        "plt.show()"
      ],
      "metadata": {
        "id": "eC0TINO4ah3_"
      },
      "execution_count": null,
      "outputs": []
    },
    {
      "cell_type": "markdown",
      "source": [
        "- Feature Weight_in_gms dan Weight_class memiliki berkorelasi secara kuat (0.95), sehingga diputuskan untuk menghilangkan feature Weight_in_gms.\n",
        "- Nilai korelasi Weight_class dengan Delivered_on_Time lebih tinggi (-0.29) dibandingkan dengan nilai korelasi Weight_in_gms dengan Delivered_on_Time (-0.27).\n",
        "- Penghilangan fitur Weight_in_gms dilakukan untuk menghilangkan efek multicolinearity.  "
      ],
      "metadata": {
        "id": "lXeGgUK4H8SM"
      }
    },
    {
      "cell_type": "code",
      "source": [
        "df = df.drop('Weight_in_gms', axis = 1)"
      ],
      "metadata": {
        "id": "M_I0AvuSNadJ"
      },
      "execution_count": null,
      "outputs": []
    },
    {
      "cell_type": "markdown",
      "source": [
        "## Feature Selection Metode 2"
      ],
      "metadata": {
        "id": "1ZFy8t8XUZem"
      }
    },
    {
      "cell_type": "markdown",
      "source": [
        "Feature Selection Metode 2 dilakukan dengan melihat sebaran nilai pada dataset untuk mengetahui apakah ada feature yang memiliki low variance atau low entropy."
      ],
      "metadata": {
        "id": "PDTcDCbzSzEO"
      }
    },
    {
      "cell_type": "code",
      "source": [
        "numerical = ['Customer_care_calls', 'Customer_rating', 'Cost_of_the_Product', 'Prior_purchases', 'Discount_offered', 'Weight_class']"
      ],
      "metadata": {
        "id": "A8cdnyG-HiHE"
      },
      "execution_count": null,
      "outputs": []
    },
    {
      "cell_type": "code",
      "source": [
        "for i in range(0, len(numerical)):\n",
        "    plt.subplot(2, 4, i+1)\n",
        "    sns.histplot(x=df[numerical[i]], data = df)\n",
        "    plt.ylabel('Frekuensi')\n",
        "    plt.tight_layout()"
      ],
      "metadata": {
        "id": "q3LwThVTCI2e"
      },
      "execution_count": null,
      "outputs": []
    },
    {
      "cell_type": "markdown",
      "source": [
        "- Keenam feature numerik tidak memiliki low variance, sehingga feature selection belum dapat dilakukan dengan Metode 2."
      ],
      "metadata": {
        "id": "d0CjvK0CHFra"
      }
    },
    {
      "cell_type": "code",
      "source": [
        "for i in range(0, len(categorical)):\n",
        "    plt.subplot(2, 2, i+1)\n",
        "    sns.countplot(x=df[categorical[i]])\n",
        "    plt.title(f'Frekuensi pada Feature {categorical[i]}')\n",
        "    plt.ylabel('Frekuensi')\n",
        "    plt.tight_layout()"
      ],
      "metadata": {
        "id": "qBsw-3k3_lQZ"
      },
      "execution_count": null,
      "outputs": []
    },
    {
      "cell_type": "markdown",
      "source": [
        "- Dari keempat feature kategorikal yang ada, tidak ada feature yang berpusat pada 1 kategori memiliki low entropy, sehingga feature selection belum dapat dilakukan pada feature kategorikal dengan Metode 2."
      ],
      "metadata": {
        "id": "6gMsfOMjY_oa"
      }
    },
    {
      "cell_type": "markdown",
      "source": [
        "## Feature Selection Metode 3"
      ],
      "metadata": {
        "id": "_EVC1e3SQbvA"
      }
    },
    {
      "cell_type": "markdown",
      "source": [
        "*   Feature selection Metode 3 dilakukan dengan analisis nilai Weight of Evidence (WoE) dan Infomation Value (IV). Tabel yang menunjukkan nilai prediksi berdasarkan Information Value ditunjukkan pada gambar berikut."
      ],
      "metadata": {
        "id": "67H80ls4RveC"
      }
    },
    {
      "cell_type": "markdown",
      "source": [
        "![iv.PNG](data:image/png;base64,iVBORw0KGgoAAAANSUhEUgAAAmkAAADpCAYAAAB/XqAjAAAAAXNSR0IArs4c6QAAAARnQU1BAACxjwv8YQUAAAAJcEhZcwAAEnQAABJ0Ad5mH3gAAP+lSURBVHhe7P1lgB1JmiUK7o/98X7M2zc78OZ1z0x3bxd0YVZyVnIKUszMzMzMzMzMzIwhKSKkCDGEIEIhDmZmOHuOufuVx9WVUpRVStX1zKPr4W5u8NkHx8zN3f9f8G/+zb/5N//m3/ybf/Nv79zmJ2n+zb/5N//m3/ybf/Nv7+DmJ2n+zb/5N//m3/ybf/Nv7+DmJ2n+zb/5N//m3/ybf/Nv7+D2QpJ290kCohMzERhyGXv2H8HjqDjExMQhPjoWCdHRSIyKegYJ0Q5ibMQikddYSPAgKTbRQkyyH3748R4gITYVCTHpOHbwDAKOhXA/A0mJWYiJTkZMVAJio2KJaMTFRBnEy5fEJBJJvFbXJ9M3+M7bDz/88ON9QDL9YTJ9XlJUPBIeRSE1Jh5JTxIRdOIcDu4+Zvyoe3shSRNBexKfipOBIdi19wBJWgzi40i24mKRHBeNlNiosoiL4nEH0RZio0nGhJiyiLERHeeHH378kmEGYPH2ACwJR/Yfx8mjZ+hsUhAXnYD42ATu0yHFcsBG35AY99gGB3o6FusM4iwoP5/l+OGHH368NyD/eUJ/+DiKhC0BgceDsW/nIfrFNJuBWdsLSVrgucuGoG3btQfrN23GqVOncObUCQQFHEVwwGGcDTiEcwEHiQM4e8oXDlpgmrOnDhGHcc6GtX+EOOqHH378gnGWCD4tHEfwqZPYun4ddmzehOAzpxFIfxEceBJng07gXNBRhATRZwQesMH9M7z+zDH7egvKz1c5fvjhhx/vE0KIsye4H3AauzbvxPpVG+kzz9kMzNpeSNJ27zuMnXsOGIK2jo730MG9OLBnKw7u3ohDu9fh8O41OLJ7NbGS+ytxaE9ZHCaO7BVW2ViDo/vWenBs3zo//PDjF46j+9fhyP71xAZiI6aMH4ZZU8fi6KFtOHxgM383ERtx7NB6HD+0hr+rDI4fWkus5/4GHDv4FMeJEwf88MMPP95fHD9An7h/E3nRFvKh3ZgzfQbGjBiDIweP2QzM2l5I0rQG7dGTaAScCjAELScjCblp0chPe4iCtEgiAgXpd2zcRkHGbeS/CEznhx9+vIfICEdeRoRB66Z10Ld7OxRkP0RWOo9l0Vdk3yXoJ7JvoTD3pkFR7h3iLhGJ4rx7BiW591Dqhx9++PFe4z6Ks+8jN+MespL5mx6PEUMGolaNmkCpTcDs7YUkTQ8JxMXG4nTAcTODZghaxkMUpd9FMUlZcUYYijNvvCSuozjLDz/8eP9A+84KQ1E2kXUTHVvUwsAeLemE7qA4JxyFJGZF2UyTfY24wmMXbXDfHGMeNkoE5umHH3748T7C8nU36BNvoSAzHPmZ9zm4jcHIIf1RtyZJmtf2QpKmpzgTY2PMGrRDuzciP+2RIWglGTeJqyjNvGQh4wpxlceuoSSTv5lXfKI0i9dk8Tfzsh9++PFLQtaLINu27ZuDsc4tamJwjxYkXGEozblpOyX6gGz6iuzzRIiNCwSP+crTVx388MMPP37JsP1biQarWddQmHkThVkRJGqPSNL6om6tGmReZafSXkjS9JqNpNgo85DA4d3rUZB2D8UZt2yCdh7IPEeEABkXCR4jSRNZs0hbWUAgUQMrWhaX/PDDj18Csn4Cxr6voWvzGhjSvTmd0Q0g5wYdEn1CNp0TSRmyQwn6DQPuZ9F3PJOPH3744cd7Cvo4Q9Q4sC0SUcu6RZJ2D6OG9rZJWolFwOzthSRN7z1LjnmC4JOHzEMCBekR5rZlaSYdqwhaVhB/g4F0Ot/0q8Q1G9r3hk3SHMLmASvthx9+vNvw5WyeAe3ZJmlDSdLgJml0Ssiin8gSMePAzoADPZE073x8le+HH3748UuH4+MMUbtEknYZhdlhyM+6i1HDeqJubZG0IouA2dtPkrQUkrRzJw+apzj1gEAxnXBpJp2tmUUjQdNvOh2tSJhPciaIjNFJP0PQBFcD/PDDj3cXbiLlE7Rn+ocuJGmDu7fgSPHmc0iaAx8kzVe5fvjhhx/vC+TnbJJWTBRmXydJC7dJWnUyr0KLgNnbS5K0AyRpq2ySdgOlpjDNngkiaPw7nU5YMGTMF3yMmP3ww4/3DFfRuUUN8+BAUfYdlObetG938pxud4qoKZ3jrPzwww8//tHwNkmaud0ZcMC880yv2bBImj075sySGYLGggU3Y/SABM1P0vzw4x8AV9GJJG1Aj1Z0PuEoybtpnuIsyb5orUnTzJkZtGnWTeC+z3z88MMPP95TvJCkFVgEzN5+kqQlxbpIWoZD0uy1Z2nO+jObpDlk7HnwVVk//PDjPYJF0vr3bI3CnAibpOlpJjdJIzmTD2FaP0nzww8/3i7kUxz4Ov93BonZi0lavkXA7O2FJC0+OgqJJGlBJGmH9q40L6T1SdLMyJgF+yJmbviqsB9++PEe4RVImmbk/STNDz/8eKuQT3mHZ+m9SFrRm8ykxcXYJO2Un6T54YcfL4OXJGnyHyJp8h0+8/HDDz/8eB38skia3iNZIJI2tCfqveqaNDdJO7h3FfIy7qDIT9LeH9jK8pPwda0ffvjEO0bSfOnzy8JXfm8EJ3i44Wq/efqVMK84cl/nxy8OP5sOvedw2583fKX3CcfOfmbf8rqw22NIGuuorw8UZoZjtEhardcgaQlxT3CGJO3Az0LSJMR3VJD/CHCU/6fg61o//PAJP0l7PtRWN0HzCiR+kvb+4GfVo/cYbrl5w1d6n3Ds7B3lFnZ7LJKmLw+EkaTdfT2SFkuSFi+Sdpokbd/bIGkOVFkJkNcaSKB2A56BW9Du6/14YzjK/1PwdW0ZqI/eUYN4a3Drr18Pn49rJGk10b8HSVr2u0rSWAcPfJ13oD52wL/fGGqrQ84cuNrvJ2m/MPjwe2V0y4ZHh3zBde3fBD7q/NbxBm3zaYc2fKX3CbXPy7beJdjteZak9Xp1khYT+zySRucqcmZIGoVh3o/Ggn0RMw9sB2Sgyoqc8XoD7TsCZVpPg3TMJWiP0jvn/Xgj2MrykzDp3QqvPnCgv2UQ7j58R0HdKX1l/bF10OieW4eJMrrqlsc/Mq7bJK0NSVqki6TpO516eS3l5iZpRnd0nbf8bLm/qU750mcSRvPONoc0GvhI5+5zX3m/MtQWtdcNV/t86tXbwk/l+YZy/iXCxCwvOOfU/+60BpKhA3df2uelL45eueH0qy+Uyf9NoPq8qA+d/veqs4Fz7Yuu9wG3zIy98Hrzq3a9Zts8tucDz6Rx19tdd+37auc7Arv+z5C0IQ5Je4UvDjyfpLHxGgGLnKW54Os1HOZlt+ywDDlo5y3jqqwvksa0HsXV3xKyfvW3GqbzhPO3H28GW1l+Eh6Ft/vCOBj3G+N1zptsv2OgsxRRsCA9so972kh4nI50UO1iW7LYNsHs6zq13YGdT5njzjHl848IN0m7h9Lc25T3FYugme928lfpDEFz6Ywjv2cCoC37Z8p5STh94YabpDlw95tJo2Mu+Mr7leBujxuutnnKkwzc174plJ+7Hd7l8m+DN5DzLw2OrfuCzrt1QfDEJhsmrdOHSmOf99Yrbz3yhrtOrw2XvXjPTJv6O+Wpjq46O9d6fJzwkjrgJS9j4x4dUruE19Bjb7m/EKqvm0PwmIHqoL8FpXGOvyOw6+9N0saQpNWvqc9CFVsEzN5ejqSdOogDe1eTpEWgKCPMmkkzXxyg003jbwoFkUJBpek4C2fnmA+wi5iJoClNupyzF0nLuGHBCFMKZJ83jZGgfSmNbQxuvI4y/KPBVoxXh/pA/SND4L4M3QTbYAvqM6cvTbqXNPK/GSx9KckJRUFeCPKJwtzzhqzJgTrEzcywaVY4jddIb6m/pby+JOu6efrGckAu3TPXXURxjhyUjlnfo9S+dUxykm4K3H+mXu8rSNKa18SA7m1RlHUfyLlNOfA4daY0+xxKcygnIxfpTBhx09qX/LLP8leyl85R3zKuW7++/IBPXbVl/kqQLgss1/uc09eCu+yXhade0h21wbEjtdc+ZmYfvOrtKfen9Ibn3XV04J2X8cWyU/6aIKp6ODLVi4YdHVe93jX7/RngJhi+wDQl1NkS2rFsudQM6iRHyjCDeipZmgkIylBEzfgFydbRpZ+CL137qb5+HtRf0inZEuEsP9I56p7xTTnnWAZtj+WWZvOc0UXrevk19b3pf5OPu/957U9BcmDakqxrxlcaHTLH2U79Gtk4+XnBYx/Ph4iM6Qsb+tuyGbWB/iGD/sVAvkJ1omxNG1QPR895zbsGtY2/RewrTXwVkFuNHtwT9WqQpJW8zkyaIWlrkJ8egZL0myg1yklhpLPz06i0ySw0mcdSKRx2mr7taUiacQ5Emo2fJGlWoLMMQmncCuP87RyTcugaWxHKpPPjGRjlfh1IyWW8hPaNU1FADSIckqY0MhL1o3ef/b1h6YhIWn5+KHIL+Jt3ns5Xt99EqCxYJI11F0kzM7+WDpayXSVZNyznI3l49O6ix4mX5PBvI5MQ/n0RRTmXzXHL+dow1zl1ep9hkbSBJGnFmSRp2SRhcq6UfwkJmvqhNEc+QHriImlGnwJ5nHI0OiSdc0iaD716Rk8JXzNkPwkncAqsl/ucx7e8Rt+VqRvtw9iR2uGyJQO2S2WYMlW+ZCPY5fvK24Guc9I5cNff0wbZqPyq8tV1KtO5/nLZAGv6xVXG+whfxMwFhxgU0YaLcjUQc27VU46GpHHfvMCd8jIkTeckX8sHPIVbt9xg+mf66TV0zED9RX2SHRlo3+5D5mnNYHPwkxPMfdqgbDHb0bvLps/1dKEgPTCDUY+tsV4vBPM2oLyoP8ZPSsflOw1Jk36pHk5+XjDnXgxvkmbqb+ouWxJ/CGc/ECKoxk5VH7XB8RvaZ17vHCh7ophcqpj9VpgeSZLWiySt+quTtLh43e60SFqBTdIsBWUnZDBIpxHJVMhkCieVoAKLoJXY0H6pGYGo04gyJE1M2Anu6lDmk0XiJ2NQOimCcSRWo8o4ObPvdP7rKvg/EGylf3W4FF7GYYxeIzPNerC/jOyVRv3xDhqEaYMI1QUU5F1AHlEgx0tjNyCp0rlSBTMzOmZ6OWtPHjImtUu6ZsM4CTk7x3FYi+I14tb6q6IcjU51i88+bgKl9PgfQU9tktatLUoy7lFP6DxtORdS7kW5kpPsW05eOiP753UiaDmnLd0ycnLk7Za9q5wyOmrjtUiaA+m14Pzt9Ndr9lmZurENxo5c/ss5ZnTJqTflYmQjH8m/jYzs/HzB6JSdzoGn/oJzXjMomsl08nZD+kk9NVCeXmW8j/AiZd54lqQxlnFwYeRllvmw/9Kpt/o1/kBytGOX8Y0iaILdnx7dcsOrr4yusfxXhuyC9TATHhr0KKZK13jO6IPqQV9NWCRN60Ov2oRM5JzItmGOuf04r38h2A4D+lBzrWbjWB8z00hwX/lZeaqe7nqrfj8N3ySN50wd1Q+3CM2kiaTpmC0PA6ctPsr+u4OyYT+VkOg7JG3M65C06DiLpJ22SZozk2Y9LKCO4Og3/QzJGX9TRdiooKZzzqOYiisUUTGKqSglRol5zjgNVVLCkxAdQcqh6LzSuSGFdtK7ldGZgXsXO+AdhK30rw7Jl3KWoelv43TsfjEBTOffIUN4pv4WLKdrEagiOqliG3Ja1u0MtcV2lCag2m0yo0I5JLutZYKrnJAFx/lZtw40Mr1GiAjat1PfyBH/knAdnUnSBnVrQ5IWSV1h0KB8Cin3vNyrJMiUm4KU7dzNNSaY2DNphqTxnPETjty9y9A1PvDKJE3XOf3pvpb76l+j0wLTvSrK1M0uw/grO4AYe3L0yClbtiUf6G6/nZ8v6DonnQNPG/S3la90r8QhGka+DpFwyrOPGf/La3yV9T7BBzHzQOfZZw4h0ODCIWkalJVm3mRwvUOQHGjWyqRXf8knOnLl32WgfvCGj75y1/FlYOos/bR1y0x4CNIznvPUS2D9qR8l8lUkVNbMmT17ZmbWSBi0b/RT+el61ssnOXPA/O2JlxJeb83C8XgG5WB4AAlaZhiPM1abc3a9HZSxEd9wkzRrGYlD0ghDmNlWEWa2XXc9SjW7pvL062mL8Jp2/LPheSRNtztfYU2aN0mz1qRJSdlodUK6TdLS+KsZtXQydhdJK6KCFlK5C3NCuB9iByrBUUhHgNrnMXPO6vSn0HE5MimeoA5hBxiFfBeF74JmZux79i91/OeES/E9YOA0jsfXuTKQ/Clr/TpOxeQr2bv78OVRyvYLvs69EXzWX8attTea4aJRaJ1Z1k3uh5ljkoFHx0w7XW0yfaX2qq7u9rohvdRIlOQs6xZxh/pOw6N8C3MvGKL2j0TSupCkDe7WmiQtgm2mo2RQskjaNRTkSMZKR1kYexdk5yIJVjCx/nbOEb6Imlf/GvgKfs+FrlG/2Q7do9uql/pUDl7nnT5m+ufBlz2XqRuvN3laeuKBOS69c+rNtr9NkmZDM8UiGsWGpNlkQrL2lKdZcR2z/a2vst43eJMzwX1egzfqXQn7TzPlhiRwwFGQFUncQ3FmONOxD811lJu5nSyZcr+M/NVHTOML7nRvQ+6GsDk6q2PM15Ao+h+2RWugdFdAZMxze1L2aevnq5E0p80ippqhs2ZjTXniAWYSh/6VcirJJKE19XLV1eT/03h6t8KLpEnuuuth1rsrnpB4spyCLD2oxPKyNLPmtMWRx7sE3yStviFpJTYDs7YXk7TYGJK0aJK0w9i/by1JWmRZkpbBzshkJ2ldGgstSacjSOd+vmYorLU+RfZtDnNbyRGwx7nwV+t30kJRnEKmn8aO1q1U49hJwnKIXIKB1VIkXss8ysIxAl33joGOuyglhO2jQueyDXli+pRBOo3GDROw1AYLzt+WYT2F785+Sbjy9yDvGvLYd7kpmg5nP7A/SvNYz1wRF80MWUZhZKw1Vuwrs5jeOLWXrI+dToSsxPQzCXvyORSnkrTrYRKdd+Tlfe3bhNqQq7c7X6ZBXEVh2m3qajgKacC6rVGaz0BdcNcYTGnuTdNG02/5dDTcLzXOmDBtt1CSzL5L4b55nYSc3W3K7SGKsh4iPzsCBfnXkZkRRMfBtr4NJ/yLwDV0bl4Dg7qTpCmQkZwp+JfSJxRT3wqYpiCVclOg4H4xnXmxlkjIp2TL7mXrL6ELvvRZfewOfISZRXoG1HOSxVIR6dRbrEsE60A9oC1oPa11i5aOXr/ODLIDX3WhDhenhqKAei07Asmoabf2eY1uAVmgXVFPSjXqz9AsA//m9WYNrwjS2yBp5pgtB/M386IfLmG+BWmyc5bnfR3tGtRV46Oe18Z/EMgfK45Bs0vyTdJJEhqtnyzNi0RG3kNkFj1BXj5joYiH0irmGTCGKZ88+hLquvx92fglnRD4t37devUmclde0jn1pdbLGR2mbjF+5ieFUq8Zhxlbi9IuGVgP/jFGp5Mk0F5Lc8JQwP1S8/AA9dLxdR5C5gvSUbY5+xwHAc4DQdRd8YF0TdioHuHUtYdEJNPaAyE3ZB8ulFAvi1h/xSETi6iPikcOQRPMgNrIkO1lPDGzduksn7yhIOsu0lPo0+l7i9hfWu9lZO4tr3cCLyBpxa9K0uIckrbOkLSSLE3zquFSZELslgIp0uwBR6TFqkAuhal1PjyvRdXFdFjm1hId3tOn5OSM2LGahmVeeYlncSNwLUb3qYMRvWphyrCmOLFrJrLj5VjYIaZzqBzPQIbEc94K8C5AxIQwBEuKVSCnr87hMSpxCUmAnPvejaOwcFo7HNs1GfnJZ2lIkol1nRu+O/sl4e0QBJIx3ZIroGEU0sEU0fgEYyAiZIQCWnFGMI3nrAmqmu4vSZPT4vXGUIXn103tlOOKCt+HbSsGYdqIhrh/ZQvJK41bJEiO0JGX17VvDXawKkkLRFFqMG5f2I45kwcg8OhmJD0+zbafp/5e52DiMUnbA9aXI0yRBx4vzLuDwhyNzqiDyktOUDNr6ZRRisB+TWP6NAX1+zixZzW2rJyBs6c3ITvvCsE8tA5L8vau13sJ64sDA3q0oh7dtkkabT2XOp1n+YLCdMo64xZ/SYwYEBQc5NCRI2d+h/KlQzcLoCVzBhQzEvbSD29dFl6KpEm3rQCWFh2CfRvnY/nsYbh8hv4tKRiJ949gzfxBmDuhK64FbWC+CrCuMtx1sGEGICa4szzZqYKzCdC6Vrqt+l9FyLGlWDS1K1bO6cPgKbuw9d74Q+rVWyNprnPGRuVPaG9mMKbZkxu0Bdo2g3cp9booh747jwOUHBFWydurnPcJ7r70BaYxREt9Q93MignCid3zMHJACwzo3xLDJ/dE4NW9SKMMC9Wv8gciC/Jl/Ls0V7PzmlG/Tt3mYJA6XkxZF5McnTkwF1tXDsXFU8tMWqvvy5b9SnCuE8mmrxEZR+pp1kkPCWjQHYZ8+urCVE2g0O5SLyEvmXrBQaiIovS1kPUqUPzOJaHK0wyUCBzTmHgj/XkOqKOl2XoQiHqVS73KITHLCuK1Z5D+YC+2z++FeRN641zALuSm0rbNgMfRdxteJM2ZGBBRO3VoJjavHozg4/M9BM1D0tR2M4NGuaefxt1zi7F1SX8snDcSsfHhyM26h6LsO0wrYijbs695p/CWSFoUSVpsfDRO2TNpuRl3jYO1mHYoCUUgHt7ah/WrZ+JC6DEkxekbVBQMhQnDrK0ZBGuBonNvmo7XKJfOq3MtBh55ZTOWTuuKJlX/gCnDm2HZ7J44e3QRsmP1xJcUmtcYJ+wNHVd+dse/SzB106+FEhOwuM9OKmWg14itMPUcpoxsiJb1/oAFU9shO+EMj1H5ef7lSJryc+DrvA3HoN1QECm4jqToEzh7YgH2bB6NJxF7kcc6lYik0fCL6eCLswNJvgMRE3GAxHkpTuxcjLSok2yTZg4IEwx8l28IKet+K3Qdxg2ohQaV/hVXTi9DYbJIGo3s5yZpTgA0QeookiK2YcfqUWjU4EecOLYDKdHByIkJwM1zW7Fx3RLcD7/CAcNFxN3ajuDDc7Br3zLE0ckUZDOAKT/zdJdGb/xNCcXjSztweucCOpUNyEy+j8NblmFc39aYNbEbYkkI0wsvIz9Pzudnat87Bo3EO5rPQrUyjhLm9ibllXka6U/2sO8XY+n8YViyYAyWzR+CNQsHYfuq8Ti2bQUyo5g+7QFlq6e1nEfr3bctXGX50mfjD6iLLjxL0jQ7LJJ2A3H3g+hreqJt/Qoka1M4IAzCw7Bd6Nm6EhpX+QiHts5gWaq/q4zn2Zs5ZwV4rfvRLICZTVH7NUBjG7atHIHW9T5Gt5bfmMGneSDF6L5T77dJ0gRdr/xCqONHEXFmObYsH4v1S8Zi3fzBWD+3P7asGIvtO1bgweMbyOMgQ7fAfJb1PoAy0WDpefDITX2rmMOB2MXjKzBmUGs0bFgR46YOweylo3ApbB8y2XdF6jv5rzRB14mYc0BHslvMgUZh2lUUcBBXxN8iBuN1CwdgWM9q2LFmhJW/E9c85b4GeF0J/Wuh+pkDIdDHxYStpe+ajROHliE73V6ipAmUjOsckLN/RcaYPvzcChzZMQWnTq5FQcFDki2SN8UZkR9vUuYN6qie1i4iQSvJDaI9MU7TxpEWgLibmzCq7XeM5X/FlrULkZlEe85i3o6fd+CKjQYaPOVeIbEMwbqlfTC0T2WsXdLHN0kjwbTWwTN27RmJ4V0qoHWrmrj/JByZWQ9Zr7usk8qU7bnk9c7gLZG0J3ExiHGRtJyMCOQmU1gSEANV2uPDOLpzDj7/4hPMnDcPdyKuMI1u+UjoCt5yzux0MzJ2O10pJxVBJK1QjjQEBzePRdfmX2PsgEZIiTqN0gKOSNhpJXpiVI0yisx8JXQzXUwHSJR6po51zknnSmtGwg6cdG4oPztPn+moOHLqnjJ8QecEzRS68pDS0WkWkHQlPjyGCwFLkPjgKEkYRyG8TrNshSQqG5cNwMThDbBrw0jK9yw7jAZAuT0laDJEORJ2rBee3nPXPttdBkzjQGnLyIewSdq9Wzsxb3Jr1Cj3P3Fs73QkRwcwwLLueXIuNMD8MyjKPIVT++egQ8MqGNajNR6F7aHMaCRa8G0M16mDBadcybaUzu52yFpMHlIfzWv+DtcCVxqSptuJhviYuuk67ntGcWq3K58y7bKgay04aVzwtJN5maDHeiYfwtXjU0iKm6JNl2Z4GK3bnTeQEr4PG+cOwbfffI2jRw+TgJ7F9RNzMH5gHVRtUAFBN4KRlqr1FcxPt/jNU81nURx3BgeXDUPfFj9i3NgBiI2JROzNs5g3rAO6t/wel+/sRUL+deQSIga+2vC+QbPlHVrWQF/z7U46Z3MbhvJKPYyH5+di4Zj6+OMf/jtq1CqHpg1+QPvG36Frkx/RtmZVBGzbgpT7HMylP6ADu0tHLGhmTT6Dumr3s+lrjz47+zxOvyMn7nmq1oaHoJG0WGuMOGhkII25fxbjB3VDsxrfYc/6ychNPIu4u4cxb0IPjO3fEqHH1zBfZ1ApPZJesiyj687tSv4tHWf5mhXPjg9E2Nk1eHR7N3I1CNFt9BwObLOu037mYtKwppg9ri0HAprd0nWEqTfzNuuZeI18o03UjJ2bMgVHzvbfOueumwc6RrDNZt0Q9TXh5lbsmNEV5T//FRrW/A7tKfsuDb5Gl2aVUatebazevBH3H1wj8VAAd8piXt5lEp4+MHh6/tlj3lB+DvS3k97Xdd7nHDw9X7Y8a/+5daA8JCvrAR/fMLI017J/5cNTL2D5jF5o16o6xk4bjdSiVOQVPkJhHoMqybdIWonSm1f3XEFB0kX699O4em4bkh9z8Jd0mb7/ugnCkuvahQMxqGsVbF05jPmrDLv/TT/6qLMHOme1zdI5B1adCzPOI0+3suXj0g7hyuFxGNevGtq3rYbIexc56Bb5og3pnYUFtCmSseKEk1g7ozW6tvwSU6f3Q2b+IxTnys6odxqA2v3k+FirHk7fSTetV+oU5p1DUV4wCZHigNann0LK3Z1YPaEtxvTvgOOHdiIr5T7Ta5aO7XAgf2jDia9agqCZ9jySxM2rBpOkVcWqhb08/aO7cSa+KvbnEKkkhulHcG7PMIzoWhFt2jRA+KN7yMiORmFuJK/RpJBs1ZJhWdnp+Itk/nPD6k/3Kzierkl7hQcHHJIWQJK2VyQtMwL5qSJOluGnRx3Byd3z8MXX32Dq3CW4GRGGnKwIs+7ErLEQu1eFRNL0mKxxuholSxl4XItYS5iWnb1hyQA0rPYXzJvaF8lxDOC5dGzqRAVtzdyZ4C2hMq9M5pUVzk6IYMfdsTrDdDjTeCBFEJHT1K5uRemXIx0ZonFktqIYJ6zOtNPpFo0UWvftTRqOQMjIi3NvsJ5SJh0jPAqnzlZaTXNzBJVtLVw0t3B4TmuwEsIPYvea0fjyT/8JO9ePIWE7YeqiRZpi0qZeNnT7wVrkLhnaRMUsitRCTxtM53mvjWYZDClUXdg2txLYM5jWAnkpuF1nKaicg+mDi0gl2T64fhi++O3/G3OmdMGta/uQr5lPBtjilFOs03GkPtmJDYsHoWbFb7Bl1VIkPeKoSQuOMzXFzb42i1ZZF/ZPqV2m6miMiiOGO6GbMHFQIzSu9kdcCVyD/JTzHNVdtEajZrZF16uPlRf1ggFKr7Eoojz0pKQhOabvNIqjXJjeOm+nMW1V+YLSqq3SA8uhiFyVxh3GgVV90b9HNUxdPAEpOdFGlsk3d2Lt9IH44stvceTEKaRGhyD6+kYsmNoRv/vkPzB75UI8eBDM/JmfCJp5P2AoMu8cwMoxHdClcQXs2beeo+snKEm5ja1z+qNz0y+xbvdcxOTcRW5BuGnD0755fyGS1r5VDfTu1Rp5JGlmjaOCR9I+PDo3EysnNUeVal8i9FoI0um8C1PDcff8YTSr+APqff8dDm9fh/yMB2Zxtl7hUer4C2cdjbEB6T3/No5W0DHdYrpBXZBtUB/sW/UiZyJqxieYOvK6/AjjxB/cDsTYwd3QtMa32L9pOuui5QmqL/1Utl4fQoJo7FLXyedJN7mvdWUqT75BNktb0mAy8/FJXD+9kqTv95g2piUHP/s4wOGgNf8O60N74DUlrKvWpOmpNK0NUnucp4ENqdIdBq3rYXkaoFlPCcuObL122VmJoDx1TnZm94FFRriv/GRLiQFIurwe++f2YxD4ngOR3ciIZ9uoq/GRoWjUuAHKV6mM1WsWIE8LvU1+kpeul86rTMlZNqa6WrZt2ZtdJs/rb+uY0lvHPTB9oPY5cUH5W+2woH2nPwW1h3KiLzYL3M2+jjMv2rZTlnV7lsf5a+mA1R9PfaH26et0jQn2WuJh+ZSy4PU8V6rgz7/NzFjaZUwZ3gqtqc+LNixDanEGikuiqD/08/RZBbxG/ss8AEWilhBxHFuXjsX3H/4zju5aiNh7gchOuoGCNA4GqccLp/ZBnw4iaSNZL6veVt9LnvJx1uCijB+3Za+2Km0h0xZoLSVjjPyeaVMO+1u3OjNEkg4j6eYazB/bEj98+0esWb0ACfeDUEISaXSZddfAKT1yDyb1q4Juban7h1cgNeceiopF4pROfaNyrQes9BCU/KSJdcYWpJ9nWaZeEK5XG9FuVL4hePKNjAuUXWFWFPKyk1hfyoz19sRd9QfrrtuRJbSLIpJGoTCHsqJM5de3rB2B4f1qkdj2Y76WLpSYp2ojmBftkz7V+PaUA7iwZwjG9SIp7dQa9+LjkJOXyLy0fp7X2bogv6Tbv0Vqj/3QmDWhovq45P23AstU/H32Zbav+gqOWJuknTmEvfvXIJckTU7GMO2MQGRFHcK5ffPx9TdfYdq8xbh19wZy6NjyaYCF7ORidYYEnE5lSqEh5jymYNlhGWTWWsMjBcwmIWPgW71kEGpU/wwTpwzCw9hryMy9a5SxVMqVKEdD1qyFuWnsLLLOgtRHyMuIRnbaA+SmixwxL906zTlLowhEvm4lkr3n09kX5j6hEjykQoiEUZn0NKocuDpOTkDtYmAozHhCZvsYpbqHnsp6U4nycyKQnX8f2XnhJKBXkEMlNIapzjcPNiiAsPMzwungmC77ITKz7yM9nYZHGZQkhyAp4hj2rJmKT/7jP2Pz+gmIiw6mkd3mSIuOIZXOMv8BDSGc9WZ5qdeQk3yRnabRv9okZYpAUToJqepJBS3OvYcCIjfzDtsYZtZGFLHDRSJKTCCRMdAIWPfi/Cco5CipkLI0aYzR0zhS2D96UINlFKcGIeLUAtT/639H5zY1cOzkTvYj5aHzHBkh4zDCg2dh8pDGqFGrMm6G30FuivpPjsEiLSUJQZSbDFllPkR+0RNkMxAWyhCpA7dCt2LMgOaoW+kvuBy8mUT+BnJ5Ll3OtYTB3JBI1Zt9mE4CmHOOdbiKrNzbyGWQK6JjKWTAsd73dIH5XkQ2+yGD12fQOedQnkWauRGBN49kW8bpIWl0INkPTmLphK7o0q4KDpzZgOQ89lt6EJJubMHqmYPw6VffYueR44h9wrQJZ3Bk9yz88N2n6Na1LW5ePUB5avSj4KlAcw2XT6zDkM710LllFUSEByBH63xYr5BDMzGuf330GtYNt+IjqMv3jYP1aazvGWRT7UTSejskjQFPM2npx/Do0mKsmN4eFWt8h+DrF5CWSr2n/ifdCcS6KSNQ/WsO0uaNQnhUCFJFpIiCFAYnrYHUMgvaRiF1Ood2UqQ+5oCxNFk2EoG8tNskfbeQkUb/Q1tFCQdLDDiGpBnCQX3QF1HodwqzZKePERl5HuOHd0Kz2l9gz4bJyFNeGmBl3GaZCkzUJXMLiHqedJJ10IBEOkqfkXeXfkHQmkXqLv1NbvRpXDuxGi1qfozJYzvi9p2jyCu+j0TWNZ2BIYd+QstFrCfTKRcO/kQWc3IeIJtOulS2qVvpHBipvBIGu7y82ygoeICSXBFG6lAu68c25CXdog1qQHyf5+hPaSdFKZcsm6ZdWLd1ZZ/Mj/adcH0rdsztj2q1vsdB+vOUVAYx+s2s2IscIE9CzR+/wLjRfSiTc+w3BsNC1lG2o9lA83CMgizJJv1PbnYksjn4MOk0o5Qaijymyc0QcaDsFfyc9XhqEwfcJfkK5PQT6WfYjyQT8lV6nQXrXsL8itMoU/lcysS8SiGVxIx9WUr/nUffqnzN7Stzd+IK8tgHefJptH0t7Nfnx/I4aM9iHfIVoxjorWUwIn8i9SI6vJaD7SL2cYnWYEk/tZaafZMvEk1/UKpF/7o2kXJLCMHYvo3QjIOwRavnISE7jv3xiL5IJP8WfTAJk4ItiYqW+CTePYltCyfgi9/8E3ZvXkQ/Qn3NjaGuxDMeRWHBzJEY0L0Rdq6ZaOki61nE/s/Ppy9nfrmMTdmMXSW50jHZE2VH36mXx+cybTbLTePgIYHxL4P1KCi6y3hOmWg9moiv4lp6AIqTTmHnqnGo9sNnLK89ntw+abWrkOlIqJB/BedPLiVB+wH9+9ZFeORx+ljqYgZ9q0i9fHGeFt/fRX5BLDJyHyNTMYgyQp7qFUCcIlFlv1NmuQX3kJV+G/nUyxIzAaP60C+nP0RqRgxyMh+yPeonyol5F5LQ5tB2czJvIYdxPrfwMbIYAzPIHbLZzjzqzIaVozG4Zx2snjuAOqQ8GUtiH6MgNo56Hks9jKTM2RYO/i7uHoyxvaujZZd2uBWbSFkmsW+ttcXSwWIil3E+k/EzndwjnfXJzdEtUd2all6wXn9LoqaypDfc90nSSl+RpFlr0g5h377VbKiUmg0XW2YgzX5yABf3zcM333yJ6SRpt+9SwDSmTBKTo3vnYv3y4TiwZQoObpqIkT1qYlTPJpgxoicC929CXiIdTNJ1RN3ciqUzOqBBrY/wyee/xo81fkD7ns0xf8lYXL+4m4pHw0o4h7R7B7FlyQCM7d8Yw3o0xcCuLTCwRxtsWTcfd2+dIqFjR9Ipl2afxqXAOdiwejCWLBmF9ZsWov/gLhgxrBNO7J2HtMi9OL5hKNYvHYiDu+dh9eJR6N+5Lvp3aojJIwbi+tmTSHtwGRcOL8PQbtXRh4oyamxn7D+yHKk0lmw6oDw6ahHQxxwp71gxAiN71sPA7o3Rt3crjBjbB+u2L0E6SZRGRzcCV2LppK5oV+c7fPCr/4J6dT9Htx61MGt6H5w5shaFdLSBR9dh9aKROL53MRVd6/qumVmm1LgzCDi4CKMHtsaoAW0wuEcDDO/bFEsXjMLFi4eRmkZHSeedQ2OOvLUT+7ePx9rFvXFq3ywsndkTQ3o3wLABrTFz6gBE3jlBMktnSQcFOVcGihIai5niZ3/GX12PiZ3KoVaVL7B8zSLExZNEJmoGiuQ46QBObRqAgZ0qoz2NPiYtmXWkkaScR3zYVuynrEd1qYxhnathaI/6GDuqM1ZvnodUEuN8rc+goww7vw0jB7RErUofIeTMRhr1VVwP24e5S4di0YrheBJ5hHVSUAlCdtxeHNs9EjPn9WJA2YgUzZYW0AEwWMbeO4JNq0dgQN+a6Ne/Jnr3q4ORY9rjOAlTBoN0oRwFZWhGX4b0sQ0ifhmXcCdoB4Z3a4qObarhWsRh5BbReWec5siTJG02Sdo332L70eOIir1iRnTXSSy7t6qLWhW+xKkja5BNeZnbwBqApF3DlpXT0L19A4wd0YUEgefoXEuzTiPi7ELMHNUKP9auhIt3SRyyHlIX5GhchvqewpukmafbzBNfJ/Do8nIsn9EZ5WuVR+CNixzIPEIx+ywzMhgXdq1FvfKfYOr0AbhyPwD3GCB375mFddSPPRsmYvW8gRjeqwGmTupJXT+O/OTryHlyDtdOrqVza4m+PeoRDTFyaDusXT0RWTkMGgyiZvCWdp7jwhM4tGEmBxqdMbBPG4wa3RvTZ43AsEFt0bD2Z9i5YSoHTVeQ8uQs9m+aiiXTu+NS8FqSINkI9YhE5965FVgzqyuG9qqFgX0boOeAxli9fiLuRRxATMRe7KRP6deiAr7/y/+DyuX/iDadamLwuM5Yv3su7kefw/nz27FxxWj6saEojD+Lc0cWY870gVixchbi40gMqUPmXZMkMXE3N2Pf2qGYOK0HroWfJMG7heyYUPqTTRjfvwX6daqLfp3r06ZaY+XC0UhLuEZyIsJhzZpbs0bUR80AMvDHh23Btnl9UalWOewPPMLg+YCD4zDkx4WYwUbz2l9hxNBOuBYWQAJLwkiSlh1zDEc2jsH4vvUxqndDDO/ZEIN6NcGy5ZNw9RbT5d0zT0WHX9qIFQsGYvHCkUhNvoG81AskbiHIeHgMZ/fNwfjBDXH96maksx7FWUEoTjiGxFu7MHtiL+zftQJREecMISsiUXt85zgWTOuNgd3qYgj7c2jv5iS8vXDr6lH6xJus82Xkp4Ti6P75WL18JDasGo01y4ZjCPti3PhulPFuEh2RPRIFY/8aJJDwacDNa59EHsWsqd0xiO0Z1L0uhveujzGDmuHwwSWIjQo2t/zyk87hwbl1mDesEep+///D15/9G6rWLo9Ofdpj/YZZeHQ/kH6NpJCD9GLNFJN8Xg9chMXjO6B11b/io3/972haryIHd00xe9ZohAQdQlbqEyyYOx79ejTDvMm9cXDjFMqTekSdHjOmI/YdXoRU+uKcfNqQZqVIHLJiAnHhxCoM6EJf14f61rcJ+g3tjAUrZyMhMwrZRSQb9IuF0nENzs17SkXUQjhQXI6ezeug2tcf42rITuSLoBZQHrlMQ3K1ctEQtGtTBTNm9kVqKgcYHHgWJAfi+pklWD2nB4b1rod+XeuiV69mGDmO9WWMKipifxfIrwbgTug87GYcXbFqPDbuWIJhQ7twwNMFR7fPQdK9QziweTwmTRuKI6cPMk5FMtawXUlBZp35zIkd0btbTfTpVQ89+zTGjEXjcOHmaeQURaGwgDGNvnv98jGMd/WxYEJ32vh6TOjVAiPbt8XwDl2wfgFjSwJjmCZIUo/jwp7h5BfV0LBtC9yMiycBi6UcbiM7KgjXzq2njTdE374N0atvcwwY3Blz5k1GTMxtEnr6COqHuZsj+PBnPwueIWlaKxiOUSRpdWvqA+uFFgGzt58kadbTnYew35A0jWzodEXS0k6RpO0nSZuLr7/9EtPmWyStICscGXFnaWg90bbRV+jdviLmjG+D2WNaYvbgFuhS9ztMHdYbV0NPI4NELZrGunlpX7Rv8T2+/fYD1GlUA0NG9cIGGkPElX0oYl6JYXuwkk5g4IAmNMZmmDa6M6YM74AhXetgULd6WMLR99UrR83Iu4RB8uDWfuje+VtUq/cNugzsiiHj+mH6tP4IPrQAsZfWYdGwemhW72v06tkS40Z1x8RhbTCuf3M0qVYOYwb0ZEAYjxVk8FNGtcAEGmrbZl9h+PCWOEvSmM1RQx6D9YOwXdi3YTxmjGyLaSM6YsrILhhFItiucyO079UKVyMCkZVyAbdD1mH9nP7o3qQSPv7t/0CLVj9i0Ig2WLZsDC4G7qBhRGDNwjHo3KoyFkzvi1yOJktybiDh8QmOxiYwADVD/64NMGdiH0wb1Q5jBpKg9m6KESN748SZvUhMvY4sOuXzIaswdlhd1K38KxK6+pg+hvUa3Raj+jdC/Up/wsZ1s/Dwod5XRefMkaOZ0qfhmtEmR09ZD/YhYOVQ1Kj4MUaPG4ywG2eQp899cTRf+Hgf1k9thW7so+nzJtFBxHNUxb67vh0nN4zEknGtMWtYc8wY1gQTBjVC1w7V0LRdLYRcO0GnfYVGcB3XL2ynsbRA9Sp/wdmgdRzRXEZA4Dq07FADLdtVw43LOw0J07qGtMdbsWhqY9Rv8Q3mrZuOuLTbVOZreHxlJ1YxEIwc0RnDR7THpIkdMGFcW7RuVQHDGZxP0JHkZdDZ6wlUjeaNk2aQMreqLuMknUnP1nXRt1sjxMQGk3Bd4Ij9JJIYwDwk7dgJxCYxGOTfYuA9gtVTBqLiJ7/GqhWT8eAJR450zqUMQjlPgjBpZHd069IC69bORr6mz3M1i3kM0VdXYPHkjvj0y49x8mwwZaAZ0H9QkkZdtkjaSTy8vALLZnRBuVoVSNIucHT+iMH5JjLuBiJ4+1rU/eFTTJ/cD2F3jiHi3nFMGtMKTet+hC4dKmH4sJaYML4Lli0egSfhAYgOO46ALXMxe2QHjB/dxujB1DFtOICrg17tamDTpqV4/JBkm4Q95e5BHNs4EW0aVkG/nh0welQfjBvXBwOHdED9hhVRtdoX2LpxFjISriCKJGEqbb157T9h56aRyEkPRm5KEB5c2oZFo1pjePfqGNq/HsaMbInRtP3RQ1vg+L7ZuHtlMw5vGo/RXeqg3If/EzWrfYqeA1thwrwh2M1A+zAulAPdhRjA+g3oWAk5USdxYud0+pYf0bZtQ1y9HMBBKwlhqmZEzuHqCQ4uW3+Dtl2qIuTGERKDEJzcuQQzhrTDxKFtMWl4a0yhTIYx2HVu+gNWrp6F2/cuICMzgkFbRE2ziJr5lexPIeHmemyf1wNVa5TDodPHaH+UPf1AHv3ruWOr0aj2lxg6rD2u3jxOknYHCQ+OY/eqIZg4kAO9nvQnHHjNGNkRg7s3RE8OSCdNH4yQS/vM0pZboWswuE8dtGxVCVeuHES2XvuQdBaRZ9dg0eiWqPndvxoy+ziGBC33EvKiD+HmkXkksh9j8aIZeBRxAbkcGN0J2Y7ZJOmD2cbhQ9tg4qj2GDekDdo1rYKFM0bg6rk9zPsSsjloXza7B9o3/RJtmn+LgfSR4yZ1x/yFI3Dj2kH6Z/k1BV7Zv/wACWdCKMnKJsyc3BkDSEBGDGyGyeznKUObkJDUQe8ejbF+/WwOZk8iN/E8oq5uw9pp7dG88q9R4etfoXGLWhgxYQh27FiM6IdnUZSnmV7dypYfDcKdc0uwbmY3dG/wA7783T/RB9bD8JFdScCn4dL5w8hMicTC+WPQsnkldKCvnzKqI2XaHlNHtTHxZcjw5jhzdRfSCjWoDaHO7kHAjmmMK52ob20xYUx3jB/TA716tELHTq2wcetqPEwIQxrroTsSZhbWPC2v/tYDTbuwfEwvfPmr/4rdW+cgjrIvEgHMDkJO3HH079ME3Xu2wK5dixkTrnHQHYKws8uxaWEvzBrZjH3dijrWCiNI0Fs3/ppEshMiHgajoDDcTISc3jUEg7uVR636P6DbgK4YObwHFnLAEXRwPmJubcGM0Y1Qu1FlLN+yDolpDyj/s7hydA6Wz+2DiWM60H7aEq0wgPG8YZuaWEAfei/mMgqLIjjYvY71tPPuLSqhD2151dxhmDe2B+YMZfsb1kCvVo2wY/tqpCdTVhw8nd8zFsO6VkWdlg1xO+4J8rIjkXr/GAI5yJvEeg8ewrLGdsb4cd3Qr3crtGpSB8sXzcS9eyFG1wskP8VCL1/2s8EhaYSebi/K5ACLcWvUkB42SSuwCJi9vTpJU3DXy+psknZh/1x8RZI2xSZphZnhHIEFY+Hk7mhQ6Y/o0ORL7NowhpWiEsUGYuHwtujeuj7mL16A+JRoMyoqYX5bVo9B4waVMG36WCTE3aGzvwd9EzT91h6cWDsKP9LpjZ47GpdvnyYRvIUSOrNHl9djVI/KHLV8y1HxJI7MH6Mk4wydZS+0aPoXfFzhQwyaOR4PUzTjdBfFyecQe3E1Fg1ugHLffIJW7drQcW5gWWF0EmcxrEszVPz8z2hY53usYn0K8zlSSgrA0kkt0bEVyeV8jhQLWOeM6zh/fDE2LRuGfdvmIyeVebPdqbGXObKYhppNqnG0Mw0xjwJQxPYl3jmCncsm4Ys//BM2bpmD+7EXkJ17HwXpdznivIvV88eiXbMKmDW5G7KTOaJhR57hiKNr23Lo1bEaLpzeRvlFsoNJ3iKPY/m8Eahc6Sv06NsJ1znKzqBSnz8vR1kVX334f2FQ33q4cnYT01/B42tb0L7GH+iEWuH4mWMMjFEoSNUok4RItyT0+HZmKIrjAyjurQxkNLouTXHk4FpDdko5ykq4th1T+9VGj7aVcPzUDiSnR5KkkXidWojdS/qR/MxGcQrJewYDb/RJbFk3HpVq/BVT54zBg3unzS3Paxe3Y/BgrUf6E86GrEZmziWcCtqAFm1qo3nLWmbWtFhrIbJJ0h5tweLpzVC7+feYTeONSbqNzIeB2DS1F+VUC4tXLMSTePapbhGzL1YuGI4WDb/HUAbFFJLWvLxbrJ/Wq5QladtWTkbPtvUweWQ3Bl6OoJLPojTxOJJubMbqWQNJ0r4xJC0hhY4o7yZyo0/hKkfY9b//PZ1oDwRcZADLfYji2CBEhW5Grw516QB64FzoYRq6bpPRQWYeR/Ldjdg4vw/++vkH2L5jOxKitP7iH4+k5b+ApJ25cR6Z2Q9QlHad5PsAZo8YiJrffo7ls0YiiiTs0a1DmDioCb78+L+jAQPx2j1zkZJL/5NH35B0Fac2z8OIjvXRv30txMYEIj/vCuUfimtHFmMEA2SFH37EqRMnkRlzHdeOLcbQjpXxJfPff/IYEpLv4/GDEGziQPDrcp+jQtXvsGnzQqQlXkP03ZMkaS3QqOqvsXX9QGSmBXDAdBib5gxDh9rfUteG4QEJTCrtOifxArYvH4Fj26YgOvyAGdTcPLEezap8woDanQO1M0gpeoTkvHCk59zC/r0kXt1qM/BUQFb0CTy6uRujBrVBq2Y1sXfHSpIDkqr0SyiMP4djGyagcYVfY+GKYYikvzhxfAuG92qD7s2qI+ZBEP0sbTj1LG6dXIShnarg6x+/wsZDu/AkKcIMJDSDKJRm0lenH0fCrZXYNa8zalX7AccDjiFbvpL2nfQwAPNnDaJdfoaxmqV8eBqZ6dfYplloX+8LM4C9cekAchgQS1PC8JAkbAIHpNVqfIURozsh6QnzfrAfc6Z1RbNm5bF29WRkJYQYshmyZzom96yBvvQb/Yd3w5VbgSQEN5F2dzeOrRiMCuW/wM59u5CR/BBR145gMUlL3frlsfXQRkQl30A2yVVK9FksnDQYbeprEDsMsY/PISM+lPbaFfUr/Bsa1v0YS9dOQlr+I+Tn3zdLXIp1K9nMjlAnDa4ikgRo7uSuKPf1v2L39tmIfxzIWHGRfv8EboZuRMN65Vn/Oti8YQHbag9gk05jSr/qJIPfYdX6hUjPT0Vmhl7vEME4GonSoruATdL0UvfkO/uwZ8loVPjkX3Bo/3IO9uiLCh6iICcSWWlhWEjdqVnrM9SvTz1aPhHFGfQzJFZLJrdGm9bfY9yiUXicRfKXGozQHWMwrkd19O3eHNHRdxljHjJWPGTc2YNB3TqiWqXvEHD+EOKy7iLb3JrU5An9nXnJfChyqaMhm6ai2l/+OyaTnFy5Rv3MuUodDcDdC2vRpElF9vcwXONAusQs27mIozsnYuuygbh4fClKzNOqV5B5j7Y5rCE6ti6PNTsWIaPosZkNPb19CDo3+xwffvlHDBg7HHdvc9CrW/m09aT7m0mq6qN+8zpYtm0r4tOikB4XxBjYG5vWjMN1Djqys24z1l0g4T2DtiT9HQe2xy4OFrIZk0R8NywYjNY1/4omtb7CkiVjzLIjLZs6s3UGbb42mraoj4iIy8hLDEHorokYysFMvVZ1ER5D/Wf/Xz46CxMH1OUAqA6uM11aeriZab4atBuDSHIrffUZAk7sRHpmJLnB33jNsK2Xik9FmcI1M7kwUiSt1iuTtDiStJjXIGln6Yz7oF/HqtizaTIVQI6aLD8lGIdXjUa3tvXRecAAkqcE5KbSsXOkumnJMDSo9QNmTh2DtNibLOMWQOd79+h89OdIo2G7+th+7jji82OMoSNZ3/k7jZPbRqJT8x/RuHkTPIm+h8KU0zi6sRdat/wMNTs1wK2sRKQUx6OwkCQnPYQkbRUWsvOqVf0RW/cfRnp2ApX0JgpJjtbPHoMuVKw5s0YglkSmsEhrI07g5MbB6Ne5Mjr2aYP7iffMtLtup+VTKdNSbiM9laMZGmRG/BXs3r0cTdo3QqvODfH43glj7FqTtnPxOHz4q/8vNm+fj/txl0lSmE+61qHcx8p5Y9GeI+p507ojmwaaQecwniOr7m2rYMOy8ShIu81gRyXVOqv0q7gavAMDe7fD7//wv3Hg+FrE83jIpY0YSWPq3PpbhIcdIkMPY91pMGHrsWB4fTRoWA0rNm9CTOJD8/CHWdxZwL7M1T5JTALl+eQUJg1qiVaNymMBg1Je5m32ZxjO7F+EYd3rYurYLkhKJqHVQlI95Zh2hiPmc3TKN5DLduSmXEBWfCCOHViCpi1ro2ELGgidutaNXL+4DUNJ0qqRpAWdW4FUEprjAWvQvEVdNG1SG9cukKRpUXH2KTOTtnBqE1Rt9B1mrJqH2LgIxF/cj/Y//AdmTBiJ06EheJzwBImxV5GbfBW3L+zHkF7N0K51FVwJO4jM3DAU5tokTQTNkLRLWD57MPp2bIgVJPvI0UMsNJbEk2ZN2prZg/DZt5pJC0AM9U/T0LrFlR55EON71uFIujZW7FjPvGOR9ygQJ1aNRJfW1bFw6QyOFO+jmI7SLIrOCUBuzB4c3jCWA4HPsXLZckTf123QfyyS1qdXaxLXsiTtkU3Svq9RDkcvBSE28RbiH5zGkS2z8M2Hv+UAoTqCD62hTl3k4GI3SVoLfPvF/8b8ZaNwnwQojf0qYl38JAgLhnRCf+rO/k2LkEwdSGIQyIw+jaTrB3Bw2Qz87td/wsY1GxAXdgan1o1Bx7qfYOTUCbj08AGSMrSgORIxURcxZERfNGhaB1t2LEMGfVd89DlMG9kaTTmw2bZ+AEfrR/Hg1k4MbN8AM0b2x8WQvcjOD0OOPm+lW2kZV2Heg6XRcNo13A3aira1v8TUSX1x495ZkrSHSMlh+vybOLJ/MQZ0r4c+HSohI+6kmenas3kmRvTvgFULJiAz7jzldxMJYUewbmIvNP7xj7h+ay9i0q5g7ryR6NqmIQ5sXYnUpGvISbuAvGgSpCubcXDdJPzu0z9i9oaVCI++wWDMQay9Jq1UD/akH0XireXYPa8Dalf5GkcOH0BKTDgHQ+dw8cQqkqU/oU6j77GNRDgn7zpin5zB8J5N0IsDqIO7llFW95GXTt+fJOJyFWcOrEZXEuRvv/s1rl3djCQO8LZvnYLOnWphQJ8mSObgVAPiE5vHY+bQFtixZgaq16+BQ0f3ITvhOh6dW4M5/euidfvGtOUzyE1/hIsHl6Lxd/+O2fMmIPT2BcRmaP3QZQb3s7hwbDvaNaiKofS/Vy/tR0r8eayZ2xMNfvx3TJnQiSTgNvJKYpBtr/mzHqZiXUXUzBOzF3F4+3R0IIns2ak24qNCUMRBmFmzR93MSw7lwHciqlcuh1HDeyPuiZZI8PrEAA5Oq/G677CSJC05J5nk4gEDuiYRdCudpKRAxERrLgORGrkfe5YNx1d/+M/YtXs+HsddoDy1ZpEDPvro+fMHoHuPOlhFIptJ31/IAWVp3HEcW9MfPbpURquBHXAriYPPmDNYOrQuhjN+7t+3GfEp8Uh4EsH+uk0yex7bli7CX/7j37BmyyLcjbuCrPxI46fNU6a6G6FXaCScQczZ1Rjbvhw6tqmC/Yc4ME65gpS7+ziwGITGzapi7dZVHLDcMZMCKGJ72R4NmnLiLyA9Ogi5CcEkQaexfm43tGvxAwZOGoCkgmiSihAE7xiB7q2+QXkOuK48iERa0h3aAfPICETyg01YNqkJ6tM+F23dhpjkx1bdyBu0LCSN5DQz4xaySLC0Nm3ouN5owIHVzKWj2OfW14o2Lx6Kni0qYcqYrkhIvMJBmNZmByM+bBOWTOmGHyp8jcCg48iMOosQksthXauhUbuGuBXF+JR+HhvmtEO/dj9gy861HOQ8ok8PQzp1L+FuCI6sX4ZvP/gPrF89F4+f6EsokVZfevmynw1eJK2AfiSP3GrE0B6o/aokLSYmgSQtjiTtCJVFDw7QUPX0i03SckjSLu2bi+++ttak3bLXpKXFn8X8mb3Rp2sNOiGSNE05i6QlncSRlYPRhey23cDBiEil0lNxSpKDsWnxCDSsUR5zJo+hMEWCqHQ0nuvHF6PBD7/C2LnjcCryGmILGCS1iFaBN/8MHl5cgbEDWqBO3dq4dEkGd4ZOfwB696mGbhP6415xOlIKoznCYp4kibFX1mDhoDqoWosjA47i4jJiqBR3UUjHt3rmGHRoWhNzZg9DIkcluWah6wmcIEnr07EKOvbugMcpJImZJFccaYScWIG+vZugQoUPULPyn1Gj0p/wzbd/wCff/AUt2tfDw7vH6TBkGMewb/l4/PV3/ze27F6CyPjrHFk/INnjaCzrIZaRHLZpVBFzpnamMQcgh2V24+hzzMBOCD25g/UjAcgn26fzKUi5hOibR7GVpO/j3/0XjkQXIIpEN/jSNgwZ3BSdWpXH/bDDLFdGG4LE8E2YN6YxqtWvhEVbNpJ8sr00EDM1bp6wIrQ4WA9lJJzH0Q1T0aNlRYwe0hrxsReRlHSDAac/+vVszqA33bxipZAjUN0mREoALp1eie5dm+LHSt+gcrk/oxod/rff/BkffP4JmrVrgTthlEHebdy+vAvjh7RDvRofIyhwOVJYtxOn16J589po3aIBbl45QMenV3KcRHrUdqyY0xZ1WlTBwk1rkBD/CJEnN6HZX/+VQfsP+LLcN/iu4nf48fuPUL/yZ6j+7Z/w1z//T7RsWh7nr+xBCp271pQ9JWnUV9Z5FkeUnZpXwzKScPPSVI08E0jSrj+dSdt27CQePtZj4DyXEYzcxwewb8VwVK9bHiNnTsGTmEhkRpzB7D4NMLxfa+w+sAkpmQ9J0pQfy8k+iYL4AxwoTMTXn36M5YuXISpSJE067WWs7yGeS9LSTuLJ1ZVYPLUj/u3Pv8KHFb/Ftz9+hsoV/4hGdT7H8GGdERy4HWkkW6WZoYgK34uJYzqjbauq2LePI3gS6mIG3NKEE8i8uQuTezTDD3/6Hb798ANUrfg5qlH36nzzB9T94j9Q+aPf4i+//zW2rl2MJ+f3Yt+cPmhJwrNoxSI68UdIzoxCLm0+7nEIJo7ogeYNK2HbNpK99Nu4/zAQk8d2Rcu6n+LAppHIeHIIIUcXoXa5v2L2pLG4duUosklkCgoZdPL09QQGfNq4nuDMY9ANO7EWTSp9gAlje+Dq3bMMag+QXXATxSV3cOzgQvTvWhs921UiSTrF6y7j0qn1mD68MwZ2qoe06FAO3G4h6NAGTBjQBUO6NUVKwlnExp7GuHGd8flnv8F3337AAebHqFbp96hd4Tes129Q8Zvf4k+f/R5L1i/G/cdy+vag2JCHAOIIEm6uwNYZrfHJn/8ZFSt+jdqVv0Kd7/6IhhU/QO/ezRBAcpmYotv5F/Ag4pAZMI8d1g/ngw8iP0tv15f/ZBBmGx9ePYJ5k/vjm2/+HUeCVuJhUhACQ7dg0rju9J8/0D/tRdyd/Vi7cDCmjumJsCtn0bhhIxzZswvZD6/gMslgi8q/wbT5w3H9QShSEy4jYOMEVPrgP+PLL35PvfgK5ap8ikqVfkdS+QdU/OK3+OrP/4pR/dvizvUjSEm6jLkze6Jj23IMtGPpM28bXdMT6ebpPRKNIq3vUzDM14tdg7B9DQfzzapQJ+aa8vKop/n0N1osnxMfgsv0s52a1MTQ/u1x69Yx5JF8l5KgTO9fAx2bl8OKDUuRlJfCAareJUdZiKDTx+jF7eaBtaxzSLt/CPtXjsDXf/y/sHnbTNyPPUddYX1yWBb9z4L5fUjSamLdmnEsVw9G0MfEHcbJtf3Ru0sVtB7YGfcYj2JuH8OkrtVR8aP/RRl/inKVf0S1H39ArfLfotrXf8X3H32Ij/7wK2zYQiKYwP4uiKBPZ5/rTQEsxzzYpwHm3d04uLgfalf7FCtWzURy9FXEXNuH0d1Jpgd3wdGzhznwuY9CEXraaAnJ0P51s9CtTQ1U+vFP+PHH/0CdH3+LH7/636hQ6UP0GtcPCYylRdStM1tHYEiPaug8qAui8lIpyydsD+uQEoSk8I2YP7IeajWpjkXbtyE2LYoEjnJinRbO6onmTb9FFepvtQq/xo/lfo0/f/FrfF/zG8xcNBLZWvNbEIYNK0ZhYPe6WDF/MPTEdqkmBTjYSL2/DesWDUT5in/FhjULkXj/OEJ3TzLLEJp2bII78XcR8+AY5o9pgEpf/g98+d2H+LryD/i+HH1Ehc9Ru/yn+PHT3+HDf/9vWLt0Ch7dI2dgPLSeSn7qx35WOCSN+7rd+TcjaTP04EAkWXhOuHEsc2f1Ru9uNknT1LycRvJxHFk1AJ3b1kTbgQMRbkjaVZQkncWmRaPQsDqJyiSStGgamEan0QG4sGsaan39r5i5YibOPryF2Lw4lqFH5KmM2QGIv7EeU4e3Rf0GdRB+5wadZjCObB1oFpX3mTYED0oykFbwhEZBppwUaEja/MG1UbnOD1i5fwei00m6ODoqTArDypmj0a5pdcydPQTJNKC8rLNUvACc2DCUo1+OqHp3wuPUOBLBMATvnY3RAxqiXbuaWLV+FrZvmoat6ydh9OiuqFG/MklafQ9JS4s8hkMrxuObP5Ck7VmOu4k3kZ77iE49HAWJd7ByzniWW4kkrSMykg9xpHgArRp8jTEDOuNy4H6O+O6a2T7zuH7qZSRFHMe+VRPx6W//E/YdXIRojmDOXNqBgUNaoH3rinhAkmYeX087S5K2EXPHNkbl+hUxf+tGpo010+zmEXMZtKC3N6cQyRfx4OwmjCK57t2hKoLP7sDNyBC069oCI0b3x9mgPayzntRl/ycexdWjMzBlREs0a10fi1Yvxfq1s0nkZmLs2CH4sVZdNG7dGmF06Hos3jzd2b8l6lT+kCRtJdI44jt1Zj1ataiFNppxu7SHpDWEdTuBtMfbsGx6a1Rv9CPmrluFuJgHCD+yDo0++Wd0al0HU+ZO4ShyDTavW4i9GxZg38aF2L1pPgKOb0B07AVksu2FPkjazDFdGHzLYQZHbgXpWsfB8xw4eJO0R1GaFaE8UgNQGLMfNwOXoWHTH9F9cC+cO3cCUecPo2OVjzBrYn9cuHwCGTn3UUAyYm4tUSfzYg7gwLqJ+OKTz7Bk0Uo8uavF5/+oJE3OjyQt+SieXFyG5TO64uMfPsOYBbOxatNSbNk0Dwf2LMbVq4eQnn7NvDqjlAHvCUf8Y8d3R8cu9XD0yDI6UvaHXvmSeATZ4XswoWczNK5cEROHDsP2tcuwe8Ni7F05i4R6Bvatn49dW5bj4c0gZNw6in2zeqEVyeAaEv7IhChk5GrQdgfx989g6sieaNWwMraSpMWn3UQ4j00Y2w0t6n6BAxtGI/PJEZw7sgQ/fPoBZk0ej7DrJ5GXfwPFhdSdXI76qbN6FUJhXjgyE67SJlajRdUPMWlCL1yLPMcB4kPznryivCs4Sp/Rr3MNDsB+RELUGeSnX0Fc+DGO+gehTc1PEX55H5LirmPFslno3qUtViyeiuyk84h7dBRjR7YhOfsCY8b0w9Yt87Bt8yz6m+nYvmEWdm1bjK071yDsDolCip7ilsw58DK3OknSUo/ST67E1pkdUOGHP2HC5BHYRnntXz8Hh5nX+bO7EZ9wiYPSy8hKCySp2orqJEpTxo/G9ctnSDIeWPqrNapJVxB74ziWzxyG77/7Lc5c34lHtKPwByewbtkoNK36J1w9tRJnjy3F4vlDsWTZNA56ItC9UyesWzgf10/swt5lY1D9m3/BgeOrEZV4GWmxwTi+bhSqfvhf0LtnGyxYNocEhG1iG/dunYXdrOf+rUtxkf4n7skFJPKaWXP6oSvjy9aNkxnoNLOvma0w+kmBQVfvBMvTKyoYp5KOYMXcXmhW61vGI5KtmPPIo38oZHuL6CPyky7g9tl96Na8JkYN6YR794MY666hNOkMSVotdGxWHsvWLUVCdjJyMu+yzyVfxiite9MThuabqKFIuXcQu5cOwZd/+D+xY898PIg/jyy9U43p9LaB+fP6oBvJxPrVozn4Z0xMoV3EHUTA2r7o27kK2g/siic5KUgID8SU7vXQuiZjwLgRWL11MwcRG7B782rs2bgKezasplxW4Xb4KcapK8jPvsH86O9F0nR3QCQtPQj5cUdxL2gFB0FfYcKEwbgWehQ3A7ahcYU/Y+mSqQi7dwFZ+XqLQihKec2hdTMxsENj9OvekjFtOjGJfnUKhvVtjDqNyqP7uP6IL4o1xOLMllEY3qsWeo/qjfjiTMoymnFEOhKMpDubMG94PdRsTJK2Yyti0h8jkcRp25KejP0/YMzoDti8aSp2bZ2CdavHoGn7OqjZvDpmLaK96WE22temNaMxqE89rFo8hEQ7zJBgZBxH+qOd2LhiKCpXo6/etAxJD0XSJmAE5dqsYzPcjo3Ek/AjmDOiPprU+CMG0b6Xb12LtRuXY8uGJdi9cbGJF/s2zMXd68wvkXqQ+Xdak8Z93bHRoCovM4IkrefPR9K+1dOdut0ZqdcqRJBknMM8zaTRiPbqdqdm0nQrKOU4Dq8egC7tqlMh++JuSoI1k5YUQpI2liStMker45AWw0boaZDo47i0axLqfPu/0X90HxwPu4DYnHhkmxdd0kBST3LkOgcj+jRGq7bNGaDvs9FncXTLAPTnCKjvtMF4VJxOQ3lMJs86JJ1GzNVVmDukFn6s+wNW7N+J6IxYCumhIWnLZ49EW4625s4ZjFSSoQI9kpx6miRtGEkL69y7Cx6lxCP98TksGN0S7Zt+gymzRyAx5zFHczfMqzP2716Cpm0aolm7hngYcYJE4ApHNEdwePkYfPv7/4Z12xeR7d/kCOYx8lLuIJeEYM288ejUooqZSUsn+UmMPoB2Tb4lMaxvPjNUKpJm7vezDSSPj6/uwbIZ/fDlx/+EE6fWISEzDIEXd2Lg8NZoywDw4OYhO61lMAvHNEGVBhUxb9tGRGXEMUDp1i/P65YeDc6SJUEnnHP/KJaMaY0uzb7FzFlDsG7XKtRq2RDTFs4wL0bUFL2cS8njA9g4vS0d2LcYOWUE7iVFI539kpV6E8eP7qAMOqJxq7a4fuUoilmXm6GbMLJ/M9Ss9AHOnFlNknYZISRuvbs3QZvmVXDl4jaOxkIZ5E8j7dE2LJrUHFUblMOsNUupg/fxMHA7mn/xrxg9rDtOXzyDlDw6zPSHHDVrlP+QjuYhnRXJEvVPrxvRC0vNC0K1Jk3BnYFk5UwGw/oVMGZoR2Tpia98ySjA8+CAbnfuOBaAqJibJGkXUUKSpq8UpEUdxKDBzdGpW1MsmT8ZB1fPRcPvPsCW1bMRFXUZOVq8S9JZqk+jMCikP9iDbUvH4tPPvsHKtTvw5AEDR9atsob6nsI3SaP8U4/j0aXlJN9d8EPN8jh1/QqSqIt5mY+MPhbl6smxCBIfDto4oHsUeRCjJ3RDu251cOT4UvoVvZImmPZ4DPlPjmH6kA7o1qIR9m7cyEFTNIP0E5Sk3UGJXt2gp7YytT71AYqfBOPoogFoV+XPmL98AW5GRSIzW+9gu4p4Dnamjx2AJg1rYON26lnGHYQ/DMakcT3Qov7X2LtlIrKSgnHt3Bb8+NXHmDxqMK5cOEAycxVF+fRnJjhfQmHuTbPmNT3hGq4eW42W1T/C+LE9cPFOEFJJ0gry9YqcEBzdORV9O1VDlzaVEPvkLHLTOIKOC0HA5knoUu9T7No4HRevHMfoaaPRZUBPBF84YZZUpEefwcxx3dCqUVUGmsXI1jqanEjq3F2SV33w+wGys6KQnc2BX1a4IWn6HmiJeT9goPG7cddWY/OsLqhc9UvsP7EfqSkP6FO0Jsp6fVA+9TM38yLSU05zYLXVzLQN7tMNwQH7jW2VaOY5RYOaS7gdvAPTRvdEtRpf4ELEEcSw35OSgnBq31R0qPcn7Fo7FquWjsLchWOw7dAGPE68jxlTx2LSyP5Yt3gSltG/Nq33OSLCTyCb7cuLDULg5rGo/cX/gxmzx+Dq3WtIz5Ffpk7otUMZWmv2yCypyGJdExhYZ84ZiG49anNwPIX6opnD67R39r2g5TB6qz5JWmnmGWQnHCNJ6436lT/BvCmDEf0w0MxelGj9U7b1Etrju1egffMamDK5P+JIAnPot0uSgzBrYF2znGYpBwLx2Sk8rlkrBXTKQg9d6UlMowfnSdIOkaQNJUn7/2A7Bx734i8jU69GURlpIml9SdJqYgOJiSFpqSJphxCwph/6daqCjv27ICozEVmPL2NOv+bo07ImtuzcjLicTGTnJdGvRbHsRyhOf8Q+fkAfdhMZmVcoF61lpC/zkDT1ezBt4TSyHh5Ftw4kUz3aYPXiWdjOAUCNb/6MY/vXIz7uKvWIA1qmzYk9hSGdG6FriwbYsGYu/fMt+vNLKObgfdOiIWjZuiq6jeuHuCLGD9rOmU1jMbJHXfQZ2QcJRVk2SSOZSmHM0d2bEfVQiyRtyfYtiEq6jzuhG9Chzm/Rk5zg0NE1yNDsVfZ1ZCVfwPAJfdCoYyPMWjwOGYxDei3G1tUj0KcrY/Gs3sgh6S7QDFsaY8PdnVi3aBAqkqTtP7gFqY+OI2TXOEPSmndsiluPw5F4/xQWj2qCjo0+x8pNixCdk4SUnBjqDm0x/T79g75qEoniLPWNyD3l9nd8uvOtkjQtbnOTNOfpzm+++QLT5i80a9Ly9ZFTOp6F03ujfxeRtCmsEK/RiIOk6tCaAejariqdUA88TH6C3BQ69qRQKsI4NKhehaPVCeZxciO05FMIPzUfXep+gEocBa3etxUPEx4gJyUSpTTU/Khj2Di7K51eFQwdMwiJqQ+pxGdxfPMADOpXHQOmDkSU3hKdQyeTpvwCEHNtJWYPFUkrj5X7diE6PY4KQCeQfI3OYwgJQwXM48g23byfiYJMDfSQtA69OyMqORap905hYq/q6NSqIjbt24CU4mQGhRtIIMFZtWQUqtQqT5LWCA8iTlIhLiM94hCOcpT57e//C5asmY5rNMJUkjS95DAv+gpJ2hh0blEJ86d1p9IGUX4BZpauNQPFomn9kRpFAqA1eiQ2hQlBCNq/AL271EXjphVw+dpBpGffoUPfhcGj2qFt+x9x//ZBOg06gfRgJN/ejOVU2OokJws4GovKZHv1jUQz2hZRYzoanTFw3SJIDCaRZntb/YB69b9Dy24tUbtdM6zYsQ7xSSTHeg8ZCU/RgwNYOLQ+Wjf8Cos3LsGDjCjzPrPE6NMc3c5BnQaN0Kx1O4RdO2Fe5Bl2cQtGkOjUqPYBTp9ZSwdwFTeu7zNP3zSq8xkCT68g+T5HfTiB2+fmYXTvSqhc9xvMWbsQCUn3SKSOYWjDb9CzS1NsPbgNselPKPN77O9wpMbfQCRHn/cjzpAQ6n1SrKPWTprZVpI0fdmCdT64djq6c8Q2pF9LJNOZ5xXRUesVHLe2Yg0DxxckabuOU0fi6BQom2LdLsoNJJkLxfpVw9ClfXW0bPgj+rdvgg4NquHcie102negVz3kMG0p04qkxd3chhUzhuLjLytixxHdrmI9/2FI2jW0b6XH671IGsn3gysrsWhKe5Sr+T1OX72AlNRoOqmHPH+P5zU7rmUMNwyBenj3KEZN7Iy2dL6HTy1lkLqEglwODhh0i1PO0maGomebBpg7YRRSH99Ckd5tyIBTxIFJKgPTravHkRVDchx3Hme3jkfPhl+gW/+uCLoegjQONLKjT+JawGoM6NUZ1WrXwNodqxCfcw/3Hodg2sTeaNX4O+zeOQPZrP+DyBPo1KwW+jIIHNqzBKlJ50gqGZypX/H3jyD+SRAy9M6xlDDcDtyI1jU/xvBhHRDIAUpK3n3zvrZiyuDYrin0idXQtW0VxNKmc/VuMAapO6eXYeag+hg5sDmWr52NPuOHYMT8abTVKNpqONt7FVsXj0e3prUxeUQfJMZeMQ9llORFojD9NpIehpr2xsdeM6/qKNSMO31FEUmEeQUHg3XstfVYP6M7vvvxS+w6eQhJqfdQlM6+SWU70kly9MoSBo6MtEA8jDyArq2o63UqYt3SmUiIusHAzP4RqYw5h73rZ6BHp4bo3qs5wu5xkJMeQls8jYjz8zGhb3mMH9oSffu2wvSF4xFw5Rgepd3F3n0r0a93Mw6eW2DC5F4YObI90klizDuwEs7hxuF56FT7A3Tv2xbHQk4iKe0xiQjJdOodZMVeR/g1kvz75xiw6QtSbmDGzAHo0b0OdmyeambqzYta9SvQp5lPF5rXcISahfh7N45HmwZfoW2j73Htwg5k67u79BHFJDUpD05h/KjuaNeuHlatm06CQuKo77CmBGHeELazVVWs2LAciXkpHAhGUgdVDvOXf8kRWSe4n0HCcGjNWHz75/+CtZtmIyL6EvWWA2zWrZDlLJzfHz1ILDesGU8dZx5achJ/FKfWDcQAkrTOfTvgSSIHLfFh2DixF3o1q4aJ0ybgflIsMnOekAjdNWtw4yNPIez8diTGByNTa5rY1+Z9ooJIml7HYe4g6PvDlzCT+tymaU20bVoPfTu3QfsmtXAzhIONhIs8zzQkaan3D5sB7IAeHXCafq0onyQqjzZ6azsWjW6Oxg2/RPdxvS2SRmIduGkCRnWvh37Sx0KRtCjGKLYpNQhJERsxd0Rd1OagYtn2zYhOuIvrp5aj+hf/CaNHdUDQhYPIpN4WJJ7Dk1t70aN/K9RtXQdzlk2iH9Ws1mVsWz4YHZt/iX79GuLSreNIJWk0TwyfXorpw1ujcp0KOH3+KDKiA3Bu51gM61YNzds3wp0HemL5PHaQF3QjSRs9aSDCEyKRlE3ekM1BTcpN9ncowi/sQ2Y8/Yneu2fWlxI+/NnPgrdN0uJj43Dm1BEc2GuTNAU/3R9mcMuOPojQA3Pw3TcfY/a8WYiMoGNg0MyKDcESkrSBnWtg/0aRNHaeniJMP40Daweie9tK6NmvI6IZ9AupqKXJwdi4eBQa1qiIWVPGIDXOFljqGSSHb8f2xf3w57/8M3oO6YbAc0eQrSeY6KjuBm1A7+bf0OlVxaEjm5GTRYdIhTuxaRCG9qmJIZMHIrYwiQ6No0bd3kthAL6+CrOH1UKVOt9j7d5tiEuj8rPzCpIvkaQNQNvm32P+nP7I0AyfZpjSgnB8w3DzpuguvdoiLvkhCuNCMW9YYzSq8QlHAUORmJ2I3NSbOMARcYtGX+MPH/4LWneujydk9HqbfiaDxsl141Dxw/+G6SQDZ28cQxLlpJfTFieFYcXsoejYtBwWTe9B+Wkx4QWc3DcL7Rp9gVb1vsCBrbNpiOFmxBd9dTfmj+uMSuX+jM2bFyKOJC+PAS40ZCdG0PG1o2wjbx00iq4p7+Tbm7BiVCPUqfc9lmxdzVGvHH8E5avgqb60IZKWSqfDAHgzYDHG96uHD/78P/Avv/sndBzYGcdDj9BRPGJ7GAx1+5qOecW0DiTWf+FoqjsikyM4sruOw7tmmNcK/OXDD9C8JZ04SVohR0LXLm3DsCFNUb36nxESshm5HAXeu3MY86d3x+cf/CeS2wF4cGc3ws4uIQH+Hl//4f/Al9/9AfNXzaYz4ij/3mmcWTMOdat/QjLaHZfDApCbrqc7w3Hlwl6MHdUJE0Z2RCEDpd4DZ17IqIXT9guOtaA2hKPbfi1qoHuHOoiggT7Ry0JTT5GkbcOa2QPw1ddfYN8RBt04vSTzOg2YI9L8EI60ghB6agG6t/kBv//f/we+/+jXmDGqH+5dCzCkUG8fz8sMoszZ35mncP/8WsxiHT/5rgoCwx4iOZ1k5B+GpF33QdLOUV8CzNOdS6d1RMUaXyLw4hmSHb3MlgMGDlZA3wI9kJNO4kLS8DjiGMZNaI8O3avgaMASZOfqdlwoiUeIcarnT63B8F5N0aT6V7hwcitSHgUjPykQcRHbcWjLGLRu/AOuBe1Cfuw5RAatwPQB9fG7P/8v7D68BQmx53EjaCVG96qDP/zm3/BNue+xbttqJGREIvLROUyb0BstGn5rFsNn0JmmJIdi38Z5qPL17zF+RFuEh+nVE1dRkBCKpZO6YNe6iXjMgVs+65546xD6tPweQwc0w8ETGxCXqlujmrW9jID9MzG4e0307FgNybEknSQoen9U9qMjOL9vJupX+wht2tdFr1F9sPLARiQWRJtF8kXJV3Dz1DZM6d8B9cp/hHMBG5HKNhSQrCTcPYMTOxeiY8tKCDq5AZmJmrW7QX3TG/Evsz9IwhiwYzhwWEuSVqnGd9gbsB+pJF1mwK13a+kuQ+5N+gUSxywOEjk43rF6HBpX+YSkshFOHdnEgBZmyosI3YWRfVqgcb3y2Ld3JVJJ3HKyztHGTyDhwVrsWNoRTWp+hu+//Qsmzx6FiLhreJJyHZdIKnp3q46q1f6C9t3qY9uuhchJoI8yDzFdRGLEfmxf0I82+AfMWjQdt2/r6dnbyOEA7OLpnRjCMpcvGYvk5Bsc4N3C9Cm90LNrTezeMpXtEMlkG8yMCGHuEIhAMW+SJ30f+Q4HibPHdcSnv/8/sXRef9y/ecDc5ky7zyB/cBl++Ob3GD6qB85f2o9cQ/hIdJJOYuHwBujbrjLWb16EzIJElORSXzkoc/K2iJp+LzEmBSJ450z8+Mn/wBz69Ou3TyFbX8ZhEC4kcVy8YAB696qNTesmkLhZg26VcWrDEAzuUgU9+rRGTGwECmMu4/aRFRjTvSFqcEBz6vwJJCaRfGTdRizru3vDRNSt9BtcCl1HUh7K9svXE5qIMGtpNYAg8ukDSyMReHQtWjWogN/+63/Dt5//GfOmjkD8Xc2wMr3uAOSRrCWfQ+92tdCsdgWsWjAO+SR8hZnnsWtBV7St9u+o8P2/oc/Y7taDAyRjpxnrRvaojwHDeyGlIBVFJM9G7mlnkHR3I+aMqou6jSthxbb19H+P8OjGbjQq/09o2bwCdu9bg/TEm4gL24+5o9ugXPk/o0rd77F0zVSgmPlwsLVt6WC0IGkv/8Ov0H94e0TFXUJOdCBWjmmFBhV+h16DOyIqRV9yCEXQztEY2KkCmratg8cxPJZ8GXdOLsTkfrVQ/sc/Ye+JzXhCvpDDvoh/eA6HNs9DC8aRK2dW0bdTTnmSg29/9rPgJ0naK7zMNi7aIWmHSdJWI5eOtJAjFPPGdRK1rKgjCDk0FxW/+i2WzR+PJ+FnSYZoWHQgK2b0Jbutg4ObprFithFlBeMAFbJPp8oYOrgDUpP1ckItbj2FrSvZKQ2+wfxZQ5ESow+Miwicp/KcJfM9jv0756B1y4qoXO73aEhnVr/yB6hV/k+YOb4HLgZuQyY7sURrJjj6ObZ+GB14HYydNABpNKz8/EccYZN0UYHiItZj2cRGqF+fI8qD65Gh6Ws63MKUEKye3w8dmn+NuTO6IiUhkI6OCsyR5bHNozCgcyX06dkAcRwBF3H0ef/CJswkKSj35UeoVrE8qn33CUlVRfTh6KIny+7QqTyiOCKVEZeknsXDK5swtm9tVCz3K/xQ/jcYMKgJzp5ZT0O4hbWLhqNzi+8xb3JHZCWyXAa1rKQzOM8R9qThzVD9+39Hgyp/RpNKf6ai/wFDSABPkDSnxoTxehLQ7Ie4HKzH+duiU5squBt2hKM9OWCOam6tx6KRtdGo/ldYt2UxklPD2S6ey1XwlENzIAUiYU48TWcTwJHnOJT76//CX/74X3H40CokJWlxI/uL1+hbnCLdD2/txsJZPfA921O5+keoWvGPDI7l0K97c/Tr1Qkd2jZGRNgpFOfeJUkjiRzaDHVqfICQ02uRnXjRvLso4spWdGr+Bdv4b6hd/t/Rs+WXWDShOVbM7I7WzStj7Zo5yEzmqI4EMjv6OLZQT7q2p7wr/QG1fvwI9Sp/hg4kheuXjUdURAB1k4FetzvksOU89dFhs7D3PB6d24ZxXRuiPfM9d/MEYugo89k/cbd2YOW0Hvjmk//Awd2bkfSYwU0jXem5+fTVWWTHHcfS6ezvj/8ranzza1w+sYX14SgsXa/e0C06lsGBC9JO4/LBORjZrTEq1WWAuxmBxPTH5hasY5zPhbcx/wIhktahZU3069GabeZgwJA0jeoDEXl5JRZMaU1HRAd59Riy00hw9RCLZnIMmJYoJaIjjmDK2Dbo0aUiR/aLUEj5aMGyboXq9TE58Wdx9fQ6zBrdDtW+/RdU/eZX1J/fomWdjzFmQBPcvLyPOnYZpdSbgrjTJP/r0Lbx96jx419Qq8Lv0a1FOQbt7pg5ZTiaN62FrVuXIj39HmJjrpCk9UFz2svOjWOQw4Gi7DEjJhjrFw6lf/geVcv/DjUqfoDaFT4kYWmO8yfWMjBcRGkKSWTiOaym7jav/RHKf/vvaNPiBxzZMwdpcecQcGAhBpGkdWn1A4PFaeSzbsVpoSR7p3EnZB11+Y/45rN/xaiRXSifIyjI4+CRg9gS+sG8hGDcPLsR88Z3pN/7DWr+8GvUKf97tKjxOUb1bIobZ3chNYrELU2zaNcIa72VHsLQsoeYG5uxYU531Kv7FY6R8KWTPFrfnaQ8tf4yg7afE4iS/FMoyjuFhMcHEHRkvnlPVvXvf4cGlT9B48qfot4Pf8GYvu0QdHgzMhL0IlD2ub7dmB+AvJT9uBW8EHXK/QdqlPsQK5dOQUrqbZIeDrISgjC2T3X88NX/RNuOtXDrzhmzFsgMFEnSimKDEM8B6JqFI9G8YTlUK/8B6tG+a/7wAVrVL4/t62bjQfgpDp6vIjUhBHOmdzW3w/Zsnkhbp63K3g1JY9wwJE2BV6AM6K/yUy7gUfghbFs1koPr36NmBfrUyn9C40ofm3atWTQet68cQTYJcYkhfCSvSYcwd2hV9GrxOTasGI2stJvMh3JNUZ+I/JbVfb125MHFTRjdrSrr/RtU++F3GDOwGa7Q3+UknseSBb1J0qpi0/oxLIN6rwmPtAAEbB6CIV1+RG/2Y/QTxqKkS8iPOomLRxdi/LBmqPrj71HtR+pb1c/QrP4P9PPtEHH1IHJIrMyLb0U01F7dQpUfN75coP5TvtnxFzBpWFt88cH/QO0qH+N+2EmSMK3zovxFZknUS5OCcSd4I0Z1r4uaei8cfXmzKn9Cr+Z/xdBuldC3Rw0MH90J2TmaSbyGgO1TqBsNMHhkNyRlP+bgif5Ndp52EikRm7B8cgs0Y7xevWUpktIikUsyfvHoIrRp9D0qfy/b+QgtNAhoVwX9utVD1441sWLRMOjTacW0iy2LB2LCwIaYMrot5s7sgzrV/oQGjJ2Nyv07ZdoIN24dY+wOM/whZP84jOhVCS3aV8PtByT3ySHIizmK66cXYsqophzYs7zKH6Fu5c/RvFY5DOveGrdDKD8O4ORLDNE2cpP8XgTpkyPbN4Dt758haUPeEknLowCL0vRpnBAzjZwYeQhHd87D3etHOTKig6UiFyVfRcT5XeZN1lE3j7JxHEmS6evFc0/u7MSFwLW4HLITuXQopRy5laQdx4MbG8n4F+PW5d3WLVAGPt0qFDSjlRIdhNOHF2P3pknYt3Uaf6dj19YFuHXtOLJ0e1QOXs4mORjRV7bhwvE1OB9yAJnZ1uP2IialmcHIjduPuxeW4eThJbgfeYbCCeNxEqmMEERe3Y7gY0sQdnkzsumYi3LpuDhKjLmzi6O55abeuel6m/dVjsJIMC7sxf6NyziSXomda5jnvg04H7QNFy9sQHDgIqTHnaBC00lmhdJJncYtGvCerZOxZcM4nDy2DE8eBJAk3MTda/tx9ugy3CLx06ePirNJUnPO0wlqWnsD9m6ezDbPxP4NM0lyZ+PCsc1IfUS5pN2ngml26zGSSSwundqOM4c5Somj3PReLpabF38Id4IW4OShJbhz6yQDox5lprJpPZZmxDzKR0U1xk7F5egsJnw/jm6fQbI2xQSUQsq3iGnNy/do2HoHUy6dUkTYTuyiwW7m6G4763d8/2rKaQ/79xCCA7abx571SZdEEu/LF7fj6P55SHh4yjylWkRdyiUJv3BiMcn8FOxZPQEBO2ZxtL4Bj2/sQ9CxDSScp+jM71ikkv0RE7kbZ4/pbdcTsG3tdGxdNZP6twQPbx5nvW5SVzQKltNmu8qQNPbB/WNYOqYTWjMILN+yBHGUmz7vkht3BnfPb8WhLQvw+CZ1hHUWUTAOjP1hvvuZHox7JNpHt0/Gie0zkaFveSayHAY7M4pVOn02KCkIB5YNQ6cG5dBryEBcj36ANJJorX0oQ8h8wduYf4EwJK2FTdJ0C1PvYNKsRA6JTuxh3L6wxrwtPkkzQYb0X6ft6bazYL/Ogr85yRcQFroRoYErqX9HaUciHNRPkTSDSww+QYi4vAV7N4zCTurf7o3TcXjHQlw8sw15aXT2unUi58uAmh0biNBjK3Bg8wzsXjcVAftob5cO4d6tQASd3Ib74cHIz7pPHxeJsEtHcOrwcjy8vZt1CWT92a/ZlxB95xBOHVxCwjAd29fPxZa1C3A+YBeSH+nOAsvRGiPqswJ1wO6Z9AvjcYj6/PD2EdrKNepuAC6cWkv9XUYfd57kj/LS2jESpYzo0zi5Zz7tbTquBG1BWow+f6Zbv/S1+ug6kZN4BpFhO7B/E9u6biL2rGd76QPPH9toXgZbnGLNQiqImk/Syab13izqr15geu/KZvN6nMcPzyKPgxAFCUPSBN0dyeYgI+8ESgtO0uZOIenJQfq9ldhHme3bNJe+biGxCFdP7UEa/Q84wDS3U/MoIxK7kswTyHpyCCd3zsXJXcsReZ1kIMOaSdI73a6fWYr926fh+PH1SEpkXfVaGtkOZYEkDn4TLlDGx9g3S7F7Pftp7Uz61Vm07xV4fCeIMtTb9cPYtxdw89JmhNInP76zn/WmrToEzSwAt32aAduo3yx9jugS4u8dwaHtk6grE7BvI/3pxgWU4RI8uXWadq/bpMqHeqbBGePSrTOzEHp4GonNTvYX9ZN56f1q5qEjW+cNGTTlXDRru8JYr8MbJ2M3/dk56lHCvQD6uiu4fX0rQoKX4d6dvfTvmo1jvTl4ibu9GRdOLqa/3ICMZPowEVfGDT1ZHBa8HHs2jsWOjTOwlTq3a/MSBJ/YQRncYT1YptYdyr7UxjIkjfuSC4+VpF1B2LktOLBlOk7sW0CCJiJP+dPm9F4+83R/agjyaU/XT6/CofWTsX/NdBxYNxPBR5biCgc4lzhAuHJ+B/3+HcaPq4iNOGiOhV7cj7zCJyjVl0WMzNjnMYqxa3D82ErcDA9EptacZt2kbEJJ/Nebh732rJmLw5sWUrbrcPn0JtrRGtwlSdfL8vVZsAfXd+NmyCaEX9mJ8Gt7sGfDeOxdOxbHqD/XQzchg35CnwosTT9t3mBw6cwiHD+9BnGpeqG+2h/MQfQhhIeuYmwZb2xl97r5tP8VCD2+BwWJ4STVlJFePyUYuUl+LwJl7OnzN4Dx9yLQuvN4xfhBrS0dMaQXapuX2b4hSSuQI82gY6ESWR9RV8U1S8BAKmjNEuEs4DXrTNhBJakMyiRQxRyx6Y36evpGSq93n5SkBzA/fbBVCyzppHlc33uUwTiQ49YX46XAJVoYrrUa+Y848iNJ0W0Vnjf345OpcHTwxeysvPQI43Tz9DkRM9JiZ2SeMQFDa2f03UtTBzl9fdJHjo1GrkeS83NCre/N0QjMeQV985F1wSYCukWTzvIzYpkmlmmfoDjnLkei1rfqiuhYi3W93tWTw7rpKS/Wo1Bl0wEX0lDN28FFFGUwcgCavSNBKzEfrSV0y4Lp9J25kvRbDGKUrb5pp0W/GXd5rQ3+XUwnVpAsJ33bricdCeVbnHqa8tOnpvTkFx2mHJmmyGXIBtw3Iwobai9Hn6Xsi5JUKlLaJbO2oZgOVSStkIpWwACg30IqW4GBvokXQTnfs8E65URwhE15cNRo2pnP+qmNOTeNMZqRvG4bSHFJrkpSmUYPJrCfrY/K3zEw31AskFNj3bT+wwQ29hPlkZ9yx/oUFHWvlCP2Yt22Nbc/1Ea236wZUZBTAD2DoxvGom+nOug7tC8eJTw2ayj1cIeChRZR6zNFpayH9WAF66X1HekyYsGWi4w7kXXnYMS6XcN6KcgxXdb9k1g2rhva1iuPHfs2IibjEXKc9/C4CZkvOEb8C4Z7Jq3IkDTpG+Wj7xvmUa/pM/KoT9J/vT9Pi9xl7w6KbJJmbmHJZp1vKRrCrMCo/if05K50WOtJREbMe6/0/irdjnqA0jwtJ6Af8QRU6biIMvuXulKSZX0HtyQnkmVF8tfez71HO70PfStT37UttR88KZVdmjpq9jqcuI/8TC3gvs9zmkVgGSJpKUybQmKl9ayGeNIOWaYeHCkhqdH1WkMlP1MiR80yrFkgBSe2QbdANXhNk9+TI5fusg7SYeq/bm2ZZRjyuZqpVHtp/6XpWitKuxL5ovxkWxp8GlnJpmkL+juP+qrbsiLHln7znGaFNDjLDmT7SbZyA2jXpxnMA429a70a9K3ErIcGJWl6MbjqKd+pugUTJLIis7KVNJED+ql0EQnWU7PSIoLUcfW5XjegBxzMJwbTWEc9Wa5bb7pOa9QUP/SNVX3mLZX9mH4fRensH13DQZVmH1SvEgVpkQMjP8InSbOh26AkLZKpeWWKymY9SplvaRr7XT5VcjcDLukY22HeMUfiqrs95tYm8xVMOcqTkF4ZODbAdOaWI8uiLyvVDLH0Q4SbulqSp3qzfDP7p/wod8U+9kGRBhYZ0k/VVf3FOJUazF9ewxiXn3EPuWn3aD+R7EPKyPhuyk5QG03dHbAM6qvulmipjwY/sq0iETlD/q1BkeRh6mvqYl+rb6gm63asbEnfa2Xcor7Iv8LcEVD9aAuMS3n6jil9vB7A0EDCkhlJO/VKn2rU+fycO+wv6aXshLJOpb0lW7+lenE4/W0p+97UV3JRvKNfsGIi/YP0WfWmTzZcgOXrQYJirbnUZ7AyzlA+55FfeBu5BeQVkq9ZYsFzabRHcgJ977aEelSS8Zj1J6lkvxsfr3WBgi2zF4NpPP38BjD+XvapSQ+25U1JWoKLpOlDt8W5dATmCSwSEE2TstASCU/KSCckUlbKoFrCkaOIBfJ1y4OKJ4IlRdR7heg0zfflTIVlDBrF6SV2l5CXotcwaKEtzxslslAo5808LChvEqR8KZECgYghOzeF+ekpRXWuRgqsT2GWXsjKjmanmpc7ytnpHUdScOMY5fSo5AVUWu0ThXosW44tXwFDiy/pdFk3OQTVyxiYjFwGRSJYSkddTANSgDDkMY9l6yWxhXTGJGdmXQgNtJTEoYSjJ33kVwquBb5m7ZPqq9uxIkIiIHKsrE+pMWaWl0unyvMajRXSgEz7Zfj6DBaDgI7rW5KlZl9yVRBQPVV2KGUnQ5cBiOgIqr8tAxmccTo0VI/BU06USQkdqKae9QCFCJpD0gR9W9SQNMJ8+6xQspYxs+00ZvPKEJZTks+6S24sQx+6NcFDazr0gmONJM1tcMLMgLEf9Q481ZF5SW80G2IcRL4MnHU0Ci4jVH8xnT6szmv1+H2pdFO3cvXItvIVMXaInZxh1hncu7IOC6f3RYOG9TgKvICMJOor5S+iZUip6qFZNBmwSL8ctqByjQPWL2VtdI1QkDEkTrftzyMsYCMm9WuHoT1bISbuGjKpnwWShQkiTP8iyB5+4RD5Fknr7yZpOqf3SSlAMfjkS3/MIEm3yyxy5sCxd6OvRj8Io6u8vgxJY79Sv621QTxPndKnwxQMpEOl+uoEda2YfWLIipmJpX/Kp37l8bx0ywzSGLA0gDB9JFB3eG2JSJ/0THYhO2LZGqiYtMy/kKSrmCRJAwjLH6h+DAZmZkrEUNdSb1mGbp1b0ABKM3xqt3wcbcHYKXVZeqvb9AKvMQFK+dAe9dHrUg32SHBL0uiPUtQmlmkGx7IZyZntoj1YgU324ZA06b/kw2NsQ36K7oQoDeUrAqYAbUgF680gq4+gF2YE0r45uBNRMLf+bKJhD8Dl60vkc+gbrE8viUgKLEt9pYBKwmNm9dhmcyfF9KcGjpIx85Cdy4fKhuSztS5OAx7ZnwbVJJIFKdeRz0FnEcleMQfEpWyrBgEF+jaodK2AdZKty7aMfcmPEYa8ECbw2pCPkZxlv+xbUzbrp3d7mQkF1tfEEF1n5CGoPWofrzH2qXzsMtzQcUc/JVPNYOnD/BoUqP0qi2Ua/898DDE3ctUvZay+1bXy60YGKk/nHPC49JVETTqnOxPmFULy4yJHKl/lGvBv9T99tQYKhvTItrivOxfy4abvqYNGJva1huwaWVJnSZiLtV5QH6GXT+c1+ii64pRpC3VVBEP2qsG5XtQr/6Z4Y56oV51Vf7ZZfKGAeRQavZR+kribp7Dt3xTqg17rxPgmjuD0k/YVE/XKqcIk2oDqyzxE1swsMcvQejQzAaLP8TFWlxbdQkEebcsQXBFG+QnWQ/ka8q/11OQj5DHWQ0p2fxtdYbkm3YvAvNTPbwqjT7JPi6QVukhanZo1yLxekaQlxsQhKOAwDu6xZtJyaeTFRtloKBw1FqeGIjeOv3KODM56wqM4mUKksok0OJ1qFFejYsepmo5UpSVIOgeOXIoY7IokeDbEOBo5a0EdVEBDZT6GLLDzCqlIJQqmeolonpwHO1ZEh0ava1R+kQy/WESRBlNAY2fQLpBD0Zv25UwlMCm56lQgAsa8pQD5rGcxHbrqyLrK0esBB3N7QumVZ5EctJ4qE9PXiI/GTsetl86qriBRQx5lYj69xLawrYUkPkIxO0czBSUMLLnJzFe3Psj2TVBgPfP1uSIRYV5jZi1pRPnJusXM+tCYZBCqJyCSahFNdbiRsTE87isv1V0kUcFMpMgEAtapiPIiqfKkN86G+cnIbaddStJigoECkxdE0kpN0NMsCOumkQjbam6DKh/Jr5DIu8pzITRQGRPz9shTt5e1b9dHpEz6o6AjUl/Mdskh0GGIsBfazkVOXsTdTd5NGjoLQ4KkX3Q05qPxgilTToPQbETeWeSnnsaRXbNRrfL3WLZkIWIeKB0dqPpFT7oZg2VZKo9t9QQxtUl9b2bNJC/WT+fVdn3LVk+Csq9WzhqMMf3bmzU0GSnXSNBIUuVkJRenXs+D9PEXj+vo1KImBoikZZI8aOQtXXUCnmYTqNsF1LlC6p6bpJn+lK0rsIjcGb0kdL3yViDzEDTuG5nxnLExOnD2m7EhvWxWn5uTnvI6M8rXLLj6S4FIul9APbHtSDZtBhAqS8GTei17K1JfKz+Vwd+cpLPUZe6LwLG8XOqL+aSO8lR+1L/iFNop04jAFNG2zVPl1IG8pFDWiTpGvdLsPUr1xK/ImQLYVeh7lIbsKbjLHhQsWb8i5qdP4CnfouRz5lc6qgBsfJ38q+xFRMrYhFXfpySNbZbuqQ2Uh7mGftITdBz9FowM5KdCWUcGRuq8Hi7QzJ2CowNDAHQt+86sTzX9zr9lg4Wsv+xavld1yqevITErUqCVLbC+xi+TdBjypuBs6iNfwHbnMr1mbEQ6OeAtJVnT7Kfx88xHtxvzKA+98NT4dUNUmJ/6zu4r01+qnxuSGX/lZ03dpWuSnYg7dbRYawpNnGJ+xvZtqK903OVXn4GOq0wjB8K5zvg3Qr63ULODJMmJwSaWODqDIg0UNHlBX0td0Yf3jR5IDxkLUEJ5UJ8VM4yNqL3Mz5B6p91O2fLfpl91TOUrreQnvaBcpP+2LJ7GCh2nXlI/zew1z2ldZW5skMmjhDruGUiIUBtyx7qw31Un5KtvWEZJOOMrCZLqIV+p+MDy5b91S8+qB5FPn5BH5N+j3j5gfWQz1EvZiers1M2Uw/rbcb0wifIxfaZ2sS8ZS4yOyg/ksQ35rBNjXU4quYgmSOQTVIcC1k9le/iBdJjnFKMlH1Mm4cjthXD18ZvA+HvpqUXS9KLofJK0kSRpdQ1JKzH8y9leSNISopJI0hJI0o4YkqanO839cjk9sWaN0ug4FbiNAGVomlWTEWpfaY2wmV5wCJqCp4RrHK2Mg9Asl7mlIBZsK5IRoJOH3WE8ZgVo+zw7VEptDIyQUlh1sdOoXNVXxJIoYudq2tnMiggKHOzcUn37T6NN1dHMwlj1loOXAzdOnPuGpBmCQkWkEzK37QiNjiUbjXCdY3pXl4zJzBq68rECtgVzO4YKb5ydjExlyphsR2PW1LBjzUjL7lzTwZKjFFH1MTK1ofNGflZ99bZrzSJ6HJd+bVl40nqUkPA4KJZpjFr1supmDF356hpbrmqLCQYs2xpFEbk2dHvGngF4GlSZj9O3hsDTgETmRdLsfjP9bddHfaiHSKxALjk7srbaZIKwGe0SRqckIwXXp7Iy++aWj+oSigwOKu7ePGW+qZmvhf+aPZHxq01Kb5ydoH0bxqEJdhpPOpbp3B5huUmPAxBz7yRSYs5xhKSgZM/uKb1jpO81rj0lafpShgKu6U+r/SLQemFtIfVPLxzWrQvZiBmIOZCtG6hPJHO37Chv/br71/S5YOsB9z1rhkwa6ardvx77tvrRY4tGp59COq01XcXMr1j7LENBQbP9GsVrRrBY/srYnfJjveWHjG5Lb5mH7Me26xLZuGzI6K3SUi/kK6j3ggkcxib0qzysOlmEQvV5CtMu6Z5kofZq8KN920499uqkN3YtcF/1EfnUr6mfjimN8qDPlL+Szek6+RbVxeSp/GyY/O0yXL7KlKP661dQexQIaedm5k8zhNo3sUH27tg9YZZh0A7NrJ3S6pjOKS9bNrb9mTZJ5qZPrWMvBU+f8HrTZh3n9YoVIglOvc1567hHJ5XO+AcXnHx9Hmcebui4yie59pTFdFqGoxlfxVDNypfaA0XFHT3AoAGN9M0a5HqhjL93yladbcjviNSZetlpvaFrbf0y6Xmd+reERN28EJkEzul/S5d1jfSA1zBf84Qwy9BdjGKSvCKimKRIS5qMPbB/zO1b00/2rwMnxhp56Zj+tvveDeqLNYBTGqaVXtoyMbOTitvmTpXslDYpexBRc+K4IaQqw26v4NEd+9fZfyGUB+XwprB9l5ukFaRHYtRgm6SVvjJJi/fMpFmv4JDwJSgWZJMsp6M9Sm4U0NUwR0mMQ7Ovs6HALgdoArygBhhBOnlQwGXgla+pi5Sax9gh1i0KXas8lJedJ8uXsut+tSFppt46R2jKmWy8JFedrjoyL6MwFsHSOjIZk0XSpAyWYpiXIWpf5atc1smaAeQxKpYhb1RUfbzVIWpPZ1REJGSQMgKijNNk/QUjU8J0rNMOG0aWPqD8ZVBsv2RR6CFpPGaOW9eb2SbnmOkztllwyjZOTOdYrtspM1/LoJnGQPvKk+cNESJhMetnCE1FCw5pMn0iqP/Ul3LSHA3rVrkh+DzndqKmDiyP9RNJ08MfFkTYVA+WKflpdlQzZWb9EPdFCj3yYh5OXaVfZlZNfcORrW4faHROJ2M90WW3xxPwVD6PlXHWrjZ75Key1NYLzNPSZ9PXbJ9gtVf52te817hKklYDA3raJM0sRVD/WjKQ3hXRzgppg3rJp0PSPPIt46B5jXGePmRn+sCB5G/rgd5MbpZQ8JhJp35nHg4xM/btvtaGO2/1KetZwnyL2KeFhB7VFykzQYA6bWD3ueWDWF9DMNQOlmV0R3nxvHPL3NSJaUU+dKverNdyoGM6p7LVHhvmmOQg2Qj8291ecxtfM7lqM//WTKMpkz7N2Ij8Ea83t/BZJ83imMXS/HVszeNnmM6j44KO2fIw+VmwbMOBzjl58Bo3PPVWX2ogRJi2qwxB+5IZoeUKGiwZUqd66HqV71WWOUY4Ni2YtC8B1dHtWwx43ONr9euCqb8bPOazXNXXBXOe9TX954Ipn+c0cyiixvKl/5qRMg8BaOmEwH3FCcUazQ4Vy2eZZRvSNfvXA55TTDVletXD1EXy1zmW59Zxj94LPM+01u15/dKHUadK9SCA9FZEzdzGt6G28FrFPC2r0WSEIWgkZw7MgxHGJuz+NHVQuczL+GfCxAf9rbrovKMrXvDoi9IQsjeRNHtW3iJpzNvISdA+8zT2rvTKX2Wr3g70t+CUrTq65OYTTOeW4evCLtcnSavxyiQt0b7deQiH9q5Cvk+SRiEbBeTfbjjGZAxKYBpdY5TKFpIJZufZwbptwHw8JE3CEHwIyulw02HM19RD+VowIw53ZxiFstKU8rxFxJTGhh249a6Yklw6YHW2nLpREI4KqGSFJH+akTKL+Jm+OJfOO4/BhsSuWIriOH11gN1+jYBFzswDAszDImqqs8qVYiqgyLESegLLGADPGadBhXTWRcmwTVt0ja61yzJ94ANGNqqLCCGVQIZOGGKlvEx/KB9HPqovrxFJUqBwypUDM46R5bqcpIekGfkLTn6qn4xOgcOBjqkM5aW2qAzC9KV+FahusSz9qky1X2C+Luep8rTuTZ9XEfSSTs1oWCRNBs8gla3FvYQJ0k7ZqpfqyLwJ0+9G/3hMZWdZBE2f7Ck2/a70apvytdpr1Zty0ajfBBXlpXQ8b9pmQ/ssU0/iGRh5WH3wtE943XsPkrSWImmtLJJm1n6of9XflIf60JA02g8dqTVwkT7Y8JARQX/ruA/ZOXbg0T/pgfrffhrTEBb1C2VvkzQzAPOQNPWJC7INN1iGvhVakBOCgtwQ6l0o/7b61ui2sV+B/cz8RTCsGVnpCcsz+bB883QldVIPnkhXTVskCxEzEth0yiedNmD0i/UwemXbktEv1U/p5Y8EpdF55md0nu0V1G6t7TVkjdeybGOrtG1nts4iCKxLKq8TUTMDQ3eblbcgedowdiC4bN+k5zk3TL8451Rn9Zvqy3a5YWzIgdUuza4pqGudrvVQll0HDcDUj+ahHf6avyUTnnP3v5GpGyrfC6qTh5gRhijpGOvp8Xd2OnMN/2be7rseVr1c8OTP/mdbDKi3xuZNLFMfqs8F1t2Uy7JUrll7Rv1nOWadrmQo36d1ZNwXUVJc1BsGinKpd2ZdLfNwwL9LebxEbyAwPk31k8x9QXXkedNHdn1M/9rtMmk4UCVh1oDJDEhyAqnPZ3hcesL0mlnTS+zN0g7qFttopaX/VHwzM2hawqMBL/vUzKTZeEZvtQadOqj3V2pwbWSl86yHx/ZdcLfDyJY6bSZKKDcPKDPFf8fHe2DJyooHXvDIU7Kwy/f0qS84MnxD2LJ/SzNpCUiKjUHQqYMkaStRQKfik6QJZkaIfztwjMlUivtGsfhrFMqqpKBXTRRL2SRI45R0jvm/DKSYplMkaHWE8pDjFPQ383OUUWW6O88u33Ncyp4nxee+ITtyIhwViGQpkJsZM2s6tYjpCvP1S0duSJpdH9XdHjmLQJgnOXmtdb03SaNyGkJhO3BjBDwnh6FFrM4Cdjk9j4y57yiME8AUgLxhy8cajYkIM19vRfPkyfbquJnJYt+asrXPdKYfKUfbSasuHkf9vPwcx2T2dZ2dt4JQumvWzDhoBW8FKgUspWN6RwYesB3M38xoUEcKCDOzYfJWHVWOjJ2B2YD7vkga5aK+LTVvitd1KluBgYailznq6UND3tUetZt/m/605WLS81fOwuizoLwE7j/Tr3I+1syaZ42c8nvv4SZpzgJdys70t8jMU5JmfadT/eOG5OsFR8fccOzX9Jd+pXMiKwHEacIKJiZP2YQGWbRVi6TxmPrREHAbtq55wDxFygpyg5FPiKyZF+m6CZohggqoWtpwy8A8nGPyZjnSTfNQCXXSECill27xvNF9ETTKyDyZqetYrnTLY0NKy2Nmlk3nqX9GRtI5to+BFDl6YTahFyl7iBrLoS1ZtyY1S8P6GftjnUTQUpkujenMrSzV07Zpo6cs09FrUz6PObZPOVmzcjbMdUqjtK707jqbGTTVm38bnyrIjgTLD+iN/NYMjMgazxvCobwoAxFctcn8Su4sx/S/C6ZMN3i9xz/ZkH9R+w1RIkSSDGFiHQT1ufFBhEcWlB99pzXwF3jODSdv7mugYZa2CCY+sv6mD9Xnagf/NsTQLk9lsy66tWjNTjJ/p25sg0XSQlGYd47+6RzJB/MwedpQ3MyjTuaHmMkFyw6Ypy+oz0xdeZ1ZliHoGrXJuY6yJ1kw7ylT3rmnWOZJHpeesA2G1FN3pMssX7Nneq2Q3v+oiQiLmDEfB+xTi6TZ/a8yjF7xeg0qckgA9YUWQ9Ts+nvbvQNHzo6sKV9rBo3X2PHcmoBhvBNhcziBXr/EAZZ5BZO4gWm/DWNDPG/u+Njlq46mb1WX5+AZXXsN2HK3SBrxZiQtDkkxMQgOOIjDe36KpEkILjjH3ZBAjcJL4FYHmJkpKoWZSVPlTSOszvAFw+DVSaqDGRkzvYekSfnsACkDMfVTPV3pDHRc+akOPKd0MgI9JWLyUmfIgYSxHN1n10hB6XSOI2qStCIG9WLzOLVN0qRAxtCYxkwJs00MDhplmJGGM5Nm2qfyqRxlSBqvMU6EdSpD0pxrmK/pZNXNqTvhEDM3PLISQeN1Rq48btrkys/kybqYuvNcGZKmYzrHeun3pUia2uUGzxmnrjxprA5JswO2cdhmJs0haczDBDZHDrqW7WDZxezPIvaxoH29X8pKx3L0uLVD0oxMHcNTvZivLaeyJE1ly7EwGJu+tI8bQ2Seps1KZ8vFBFG77o7OsAyzltLRMyNP9qXqY0gaBx86b2TB86b/3nd4kTTd7jS3udTf1B3KwbqF4wQ/yVx95IDpvOHomBvmOjfU3wwihqy8DEljP9o6YGB03gWWWcL+K8whQSNJE0HT+wvNLU7Tz4TRV5VNPWKwMiTNaavRHZavAKfAZoiadEO+QeekU9J9Z5DCOhi7Vp1VhsB9Y5s6Z+ufkRHL9ZA0tlXIYtAzM4gqh2WyHAX/Z0hammbReJ2ZFbHqb9m0ZMryZDcOTPmqqwWLpEk+jrz4t8p4hqRJfkxjyJmg+qsfBc04acaGx40tibhfpT6IqDGdCfAsz+Qneak9DmRXtvyNvdlw64UBr/f4JxvyL8ZfECJChjCxLE+f22nUVuWhfI1tu+1bYBoHTt7cN8SB7XCImqWTuo51NbrCaw0pZBsNVDbTGD8jcN8hv6o/r9WbCIpzzxmoHlb5OkewTiWa3MjTLJvK4TGPjL3gJmlGfpSrR4bOdW6SRn+Ye4Zl6gsq0hPqkyFpdj/wOjdJK2aMNGvTZFfqOwPm+VySJl8t3eXva5A0U44hg7zGxHWHpMnGqU+eWM96e0ga//bohsqiLAxJ0znJRMdVnsrQ+eegjJ69JmxdMpMP7Hc9YV6QEYHRg3uiXo3qJGmv8HRnQnQMSVoUSdoBm6RxtGhGRKqwU6g6XkL2go67KyYYYichuDoghwqu+8aCOadfHjfQPst6EexOekrUKHijDOoEG46APcTSdcxpi+k0V3qPo5EDpmMxddP1NFoFGMHUwW6HFMgxcpvQqNPN4mAD5cfzjiw8xunAvkZO0IH7GiNXpjN15N8eqA5e8LTJBUfJDXjeqYeBjtnlecrnMVMnlufL6ZWBnZ8pyynfhnEAgp2/4BiCudY+ZtrulgXPyXEaRyaFVjB4ClOeSUeYIMF+N85HvzI6py4qy+4jIx/7uFMv7lujZSetfm2Y+lEHHBjdV/2dNMzL3QemTNbNsQGnr9x5vghl+uSXCouk9SdJK8zWe61E0iQ/ydJKI6JmZhfLXGfD3V8euehaGx55udM5aR09ELTP/IwP4XlvkqZrPLrpAyZP6YWCNAmPDdO/qqeje8bOpRMuQmLy5nFzXvos8FpD0Fgvo7NKY+uVsQG1j8cd/VE66bmxQ5130qruSqO6iLQoaCp4UvfNTJOOq+26XuVosEY/5KkTz3tuveq8lcbKV+W7obbZ5zxQXRzoGqYpc42OCbYM6TutfSetfnnMc1xpLJh1xQZKZ7dR7TL1ddrnbtsL4OkfF8qcYz18Qm2205Vplw3nnLdPdNrsyMbIzk7rqQPPe/yr0upapfPKy4DpWd4zM3lGb/ir/I3v0XFdr+M/BV3n5GVf5+kr6S2hWCfCY+IoYfRVeugCr7NmDhUbLVj9ZtfLgTnGthpoX/Vlfp44Lag/VRenHi8DpnV8rtEV+9eQNntfZRluoDKVP2Hkyus98mNbDG+w2vRS8PT/G4L1eS5JK3kDkpZPkqYXMXoWv3sKVSMlbBtOEPWG4zAFR+CeTrQ70hxz4NUZ3jCdIEE7kMBtobvhETLTG+MnPMbhwDmnX/3Nsh3naAKz3bHmvPYFu76CSW/DjNi0z+tMHg50jOeMwerXgfO3zjMvzzV2vkZ+dltM+9zgMUcZHZg6esHk4wbLM/nqV3+rLJbpOBDHYaluz1zrC0zrkbMbPPcMfJw3dWF7TGDifhnZ/BR4jUcHnSDF45782R4DleNA7RV03obbgD1/qx9sB2b0wM7H3Qa3TnrL3Z3up2Bk8EuHN0nT07OSm9po95O7b42vEOzrjWwlY8GRi9MXrmNl0gn6W+mc83Zeji8hSbMGgzznkLSfginXyUv6ZdfTqb9j5x49UTulJ/a1ThtNOnvf0VVjd4JdhgHPe+RBHTZBUdc5Zahe3PfURyRGgZS/ZlbPvtbjh5Ufr6c8nq6t0nk7nSNzUwflKzjpBPt4GTj1cOoieF3jEz+Vxs7T8fmmjWqD2ujAbpenbS+Axze4UCYNy3D60ZGx4/OcNKYOXnBf71M2jo9w5WPK19/2eUeGz1zvA5KN52/nOu9r3cd/CvY1nn7gMQMRLdbNjrtPl2gwnVtOTrudaz2x28nTDTud6VMr36d9Kz20yyhTj5eB0nuXRbj9sANn8sfUz5WHUxc30X0ZePr/zSGSplfK6D2g+gb105m0QpuBWdtPkLRom6TtJ0lb4YOkqdJOxb2N3znnguMwBY+wpBwuBfEI0IGuY36+UIag2XCTMwceZRD0N+Grfua8fm2Y0Y5jVOpkG26ld9rhMXLCzABpX8dtOHk4jsDA/bezL7jSm7qxXoJpDx2UG75kUKa9Nkxe3lDegvO3XVcD/u3Urcw1L4Bbdq8KozeECUys7+tAMnL617TbyV91Ux0duf4UnDY5f1MHDEET+LeBV3sdp+A+9qpw+vkXDZK0FiJprVGoL07k6jagZkl4zumbMrqlYwq6/NX1RhaSrUu+7r5wjpnzTl+4YNII9nnH35jbIwKPO8fc1/mCRw8E1YNw26rbzj31s/2Fu42edLpWMrLb+lxIRgL3DVQ2ry+jc3Y6Bx4b4L4jZ3eebl9grnVD+StPpwwXysjAhuu8lp88u67QgVPXn4LrGo8NqZ7SCxccgubRl+eB13pk50KZNtvwnGeZRs6Cfc5bZoLnWqVjfcvA0QHuC45cBemCO80z1z4PTvq3DFNH/TqwfZtjF9718NTfBdNfNp7pUy+8MJ2Ovyp85OP4YA+YTjbv2Lvb5s3fPO+k9eTj6mtf8PT/m0MkTU/16qsrBRl3SNJ6oJ6+OFBaYDMwa/sJkhaFpNgnNklbTpKme9Z6esVukKfDfFXCOeeCW1gOzMhToJJ4jjNvD5iXLyLyPHgTNMFxWm64DciBp6Ns+FLu58HjlN8SjMxUB5dMfbXNlwy8FUvw7ovn4bl1eQl4y+9VoPZ5HOYbwJGVzzJUTx999zJwjLsM3rDN3nDq/otGWZJm3tyvWSyjrwqw/PXoFttsZn9cgdfoq7dcXP3mOS7Zu/viOXD7mhfB17Vu3XbgtgsHTt3c8JXOIWluPfUFtz570jvtdsFXWu+83CjjD3zAI1cXfMnAdd5ZH+ybqDG/Mr5c+b8sVB9bL14V0iNvufyUbF4ZrKMv2bx1+NCtN4EvPfcFn3XxAZ9993eCt64ZEsa2PBc6b6f15MG+dWKrN2cQfOrC60HLdvSeVA9JG/LaJO0xSdo+L5LGBpbpLF+VcJ+34UtQLyRpzMcXCXkRHAG74VPYzN8b7g534EvRfcGnU34D+JKpr7b5koHbGTvw1R++4LMuLwlf8ntZqH2+HOurwpGVzzJUTx999zLwdmIGb9hmbzh1/0XjWZKmh27MU67PI2m6VeeZKWEez8jF1W/mb3cf/ATcvuZF8HWtW7cduO3CgVM3N3yl+3uTNMHjD3zA5Mt6OvDVfsGVxk/Sfm740K03gS899wWfdfEBn333d4K3rv1CSJpezv6UpFUjScuzGZi1vTpJY4Z6dLSM4/FRAZ8d6ktQ7wtJe9vwVRdfbfMlA8cRu+GrP3yhTFB5Rfiq87sE00Yfsn4Z+HJkTiB6W5Dd/KyB5W+BNyBphqgxj2fk4qPf5C88vsPlQ7z7yO1rXgTv654H73q8Et6yvrwOvINSGah+rOfz2us+7sjNuY3slqUHzM/jy234LNcXqAfevs7bhz8XPnTobeN5vsQtozeFr/zfFL7KeW28A/rshreu/YJIWmG6c7vzjUnaLWaol95x5CQnq8eF9WtIjncldNwLvgTldrCe47bg/CStLHy1zZcMHGLmhq/+8AVPAH0N+KrzuwTTRh+yfhn8LZyU7MZP0srKxMjFR7/9EknauxDUvINSGah+qqcLZepvwy23vyVJE7z9uE/40KG3Dh866ZbR24KvMt4Evsp4bbwD+uyGt679wkjamNcjadH2mjSRND04cJsZ6n0qLpJm3usihWUDy1RCx7zgS1BuB+s5bgvOT9LKwlfbfMnAIWZu+OoPX/AE0NeArzq/SzBt9CHrl8HfwknJbvwkraxMjFx89JufpL0evINSGah+qqcLZepvwy03P0nzLaO3BV9lvAl8lfHaeAf02Q1vXfuFkbTXmklLjHJeweE83elN0gj9GifKBpaphHPcBV+C8jjbvzVJUx1VZxfcHe7A1J11+lvDV118te15MnDImQPTRq/+8AVPAH0N+KrzuwTTRh+yfhn4dFI+yngTSCffE5Kml9nqFRwWSdO6JZI0z3ohR2fY5pchab4Cop+kvR68g1IZqH6qpwtl6m/DLTc/SXtWPm8T3mW8KXyV8dp4B/TZDW9d+0mS5krrycOld750y6fPez1YJO2CIWmvvSbNImnRJGn64sAq5JPteUgag74eIVVBFgnwhpTYCz4FRTzT+Y7QmI/bQN3wRU4EX2l9CVsw9WQ5zyNo7xJ8tUvwKQMFO/4aZ2Xjmf55DrxJwqvAV739eHn4kr93/7zzsElaj1Yoyr7z9BUcpo1OGvqCVyJpgnwIfcOrBhtvX+MLvq57Htx1eBX4bNPfAd5B6RlQzs9rr3PMlwyfgfw98/OGzzJ9gXrgy995+3CfeJ4OvW24dPInCYvSvAbc8n8b8FXGa+On2vyuwEfdn6eXbpLm1jdn/xl/95qgjupLNEWZ5813qfMywzByaDfUrUWShhyLgNnbC0laakwiEYezJ4/g8O51JGl3UZB+03xvqpiZF2eGGJRk2Z8gceFpoOHf6Ta0b/6+gJL08x6Upp0HnkEoEfJclKQTGeeIs6+N0jL5hbJerIu+u/nOgXXLPPdq0DXuPNS2nxvu8vx4dfiS6S8OF9GhaXX069ICxfoUWHYYiukvzMy7J1hco18QeMwQNcdXEMaBOU7TdowG7uO/RKj+bIc7ALyTeEty9g527yXcsnK1t8yAWXgDmTqTCO8k2C5jr2zjuwJxD28YH+PCi+qsCQ43nCeGvY+/IbT0oygrFDmZwcjNDkU25Tl0SGfUqlEFJCM2A7O2F5O0aIuknQs4jqN7N6Mg4xERgcKMMBRyNFzIRhWyAfqQeJG++ZVFh6zvXRKlNvTNuJL0sihOv47itGsGJanXUOpGGkfdHtC5PwclaZeZz6U3A/Mw+Zi8uJ/OfBk43k2wfq8EX3n44cfPiavENbRvUhP9u7SkTYXTwYXz9yZtLAxFZUA/kEo/YCBfcNVCOn2CB8yvDJ6eU7q3DXf+bx9q2y8FvuXzavCV7/sIu73UfQ1GihgXvaHjZWXz8iiiTbxbUJ2868V2/p1R/EKwb56Bde6ZvMgBCn8uUA8KGZstXEIeCWQWyVp27mX+XidJ60KSVhUozbIZmLW9kKRdC72EqyHncWjXTqxaPAerlszA8gWTiQlYvnAsli8aTYzCikXj+LeOWVjB8ytdWDH/WSyfP56/47Fynhfmj3tJjOX1rMNbgvJascAPP/x4M4xDub9+hOrlv8aqhZOwctFkrF44kfZKm6d9P8U4rJg7Fis9GGNh3lisegk49v+2oPx8lfM28bbr7Me7hDHU/TGMjWWhY+acz2t+AtSZ5fOYzzsF1cmBr/N/H6wgPD7kJaFrvPNZJrC/fj6MxrIFo7F0wSgsWTgKixaPxqIlY7Fo0XjUrF4ONapWQkZ6nM3ArO2FJG3v9h3YuWkzNqxciTHDBuPrLz7EZx8RH/4Fnxp8aPCZ/fuJC+7j3vBO97pw5/M24KsMP/zw49Xwz//3f8W//NP/jc/pKz7m3198Qnxs+w4XvtA5L/xV4LmfwheE8n9bUH6+ynmbeNt19uMdAvVb+MwLznGf17wEvG3GD9/43MuPvAx0ja+8fnbYuvEp8fHHf8GHrMfH5FP/65//B6pWKocnDyJsBmZtLyRpKQnxSIiJRmhQIE6fOI6iglwUFRW4UEgUvT4KfcBXOj/88OMXg5YtW6Fnz94otO25sIC/ftv2ww8//PCgsLAQBQXiUfy7sACjRgxH7Ro1UFpcZDMwa3shSUuIiyVicDbwDE4cO8KLS4DSUsJO4LXpMFOUOe0cewY8IZgEbrzCpuQ+835N+Df/5t/efGvVqhV69+5t//Vapu3f/NsvcnN03a/zv8xNfeaLG7wJnqcHpixHUYjRo0ahZs2a9oGn2wtJWhwJWjyJWhBJ2rGjJGklLNK+3pW3B74q5n3cQTFPCG+y+cr3TeDf/Jt/e/PNm6TJtt7Q1P2bf3vnNyvWlZbBm+q9rvfj5fCqm6885KuK3yIcbvHcsvhPqXa4jR492iZpZbcXkrRYErS4+FgEBp3BEZK04tJiZu6oXzH/FSxV9FUJbb6Om4pzx8MifW7Oyefjbf/n3/ybf3vzzddMmn/zb+/79jSSPKVo+u91t6eRzo+fhM+DL4aPQxY3eYt4toyn/5Ww0sUl1BPD0kpJ0pyZtLLbC0laTFwcYuPjcZok7fCxwygqLWLBQiGRb6OAKVXIK2ysbamkKpb2tPZlYfL8W8NXRfzww4+Xh0haa5K0PmbfbNbh19i88/574m/pI/w+qSx+SXJQXd3zKL7SOHiJzddlfviGYzIvC195/KybCnhagVLxqZICHi3k30UkaSNRswZJmlc9XpKkBZKkHXl9kuYWggNnKs0Ii79ik4ZROpCSawGdL9gG4ORlrucx1q/MeSeN2bTjnadmBjXmsVJbafzww4/Xh0haG5K0vmbfbDIu61TZ7ekl3Mr84bU553ydd597WTgWr33vzVda+Q05UkH73ml+Cs/bfKVVefJNdnnya+a4j63MpbzO+E/H97mv0b5zzjnuufA58LW9TDpfaRw4dXDgK41zzm6Pab8VxKzr7a2Ex815eXD3GecvJx/9/bKbfa2d77Objr0I7nIF/e0rnYOX2Mok1z/K8+8Blv1M8TrGnZdF2YvfPnyV+SL4yuNvAulGEcVJHlWax99887chaTVr2Gmebi9ekxabgLi4BAQGBuHI0aNkfdbUXCkNR2St2OCpITh9aP31vO2ZniasSluw8isi+StEHs+KBKqcfBSU5JAo5rBh+SgqYuNoSCWFFozCmKciSCELC83TZOJsxWx/AX8LeFr0UrdotWfawOt1hUSkUp62xL/9LTdfGvE24O/Lv8NGobdqSZLWq4/VAYT8YRF9R5HxHQy5/LuwiHYrmzUJXPZfzH17sar+fRqerVsEvjfrnNK4+9/KQXCO2PvFtPYC+g/6CW35PGRciHXWhlOe/lK6HP4luAelTv5uqC2C0ujvn9rc1zplsQz6ORTrzeP5KC4sQH5hMfKYrSmdvyVFrKHk5BRhslC5ul7QvrPppP6WJK0LLHmplTpO6FoTvOw8HTyz+T6hI94tLnvM1TYPVLbOOlfpV3VkOuO8+VuUy3293DOXqYuMr85jHUvl2IsKUExh6BhTmdxVipWvVYZaaf7iNQWKX9zPp47pb5Uk6Hwe40VxEXMosctmWonXxA1dJJjNkps1VaE8vOTogdNy68Kn/z499ovc3E2Qrph2umB0yIb3ufcVr9lew0Gob5pR09/mduerzqSJpMXHJRqSdtQhaXSsBqyURXlUoLW5u+z5m1J5K7QqKRN7CpGzYmMG1vkiEraC0lwinw61kI5eU4U0EF5aKivSCjw5eCpOMX+LGQmYzJxXUJCxKTdjUBSOQ9LknGXg+qSpJSqrhn787eDojODWiteBOy/BV3l+/HzQPx6SZneA/JeCaQmdkew5n8dyaXjkGfZV6jnZPQOrCBTtV0dlj9mEY5tO/+rc0010Q7lansLd59amPR01hVm/xTmIvn8b+3dtx8IVaxEZm4RcHbbO2mVZ+VpHVLds/qVv6mnfnbtTmgPl4rumz9/c15JylGSgOC8OMQ+vYtbsKRg1dhwmz1yAfceDkM3K0Q1TTPRk9HsmTgoqTicM2VI+7prppFMva9NZx4Ob4ybQMLU7P/0+s/k86LlEcDanVFEYa0/ESb0piFp5F6J9y/8b521G2CSqpYm4ef00Nm/fiK0HjyFDBL84F8EBx7Cc/bflQABSmVUmi5CftzRBZZHgsgyTo+ICoRLyqYcaMKifLSrH84wfJYofhblIfHIP29etw6KlG3E14hFymLcZT3CT1DQxUcBftUDXSopWW9zQBSrPKlNHXmezcnk38Oymo97tJowueR2zIfn9UuCr/j7xku195hyvKaFfLLMm7bVIWmwigs4E4+iRY1RiKhzz84BKL6LjbO4ue/6mVDIimYgbMiXLsFCSyWS5yEhPRtj169i9aye27tqMzbu2Yu+xo7h4OwK5zMZ6Iwh3yMRSEmJx9MA+pt2LnTv3Ysf2XTh66AgeP3mMrIJCa0TE3CWuMiSNxxy3YZ23aujH3xaO3kgz3hT+Pvz7Qf88O5PGf0iM8rMT8PBBOLbtO4yHiZlmZuhpCJP10QoLMhAdeQuBJ0/g8u1IJOTlm0GUzqpvnV/ZsXW1gmZZglZ241FDXHRWG/dL0nD94lGMHNwTFeq3QuCt+8jgYWP/zMApw8pL/+ovm1iYvKzD+rHKdPbc0LGnW5m/yp6yNx20yylKRPzDC9i2di4qVquCll27Y+jE6dhx8CR9mV2a7iCIpLEocTNTpC5XA+QT+b912JKR85ez6aiOl5GcMnZgH3rZzX2ps1m52+Ub+cvbitroFo98vXcB+lvSt1HCtEWpvOw+Dmydg65d2qL3iIlIymO+JXlYPGcq6jdohj7DpyOFydOYvWZFVa4116XBvUrSYFwzY/qrkHXKN0elOXbEIWljPVXHwizcvXIWPVq1QNVabbA74DzSKCKlkaTUIl2n3HXMaoW79WXx9L9X33SNpPYuwHf9n1NDydH097P4pfxX1mZ+Ai9or/J5Xn4WSdOvJV3zdOerkrT4mAQkkKQFk6QdO3zcWvLlKsdTN3tzd9nzN6WSuruM0QNaGclZaSFHtlkxCAkKwNgRo1GhfCWUr1wBP1SrhCqNm2HApNm4FR2HgiJdU4yszEScPr4HjWtURvUqNVGlcm189833qF61EpYuW4TwRzHIyC8yLsJ6osK+3cn/LCN2G6F/+3tsbt15G/Bvf6eNHWlImvvBAd2fy49HStRl7Ni0HL/56DucuHwPaTQ82dxTn5AD0O4Pr1+IFrWqYtycVbifmGLokWObsmHBsl7Hhq0+N77ODbPxjJyUIS/6m6lL4xB2eSdGD+2A7xu0x7GbD5DKw+Yuq5JaP0+zMJt91MXidMSql7OnX2660MCz4zlkNs+Os+mArlXGlEFRPEIDtqBdk2po3q03zt29hwyeyWXZuYUaYNrJCU/T7H0PeIw/hBMgdJEb1lkL+tu1mSRex5ztmcNeebjOWwFKcpGwmMYQXN3PEEFSW00iG/pH+Si9zqmX2fOlaUD2NexfNw5d2zdD76ETkZBDH15agC3rl6Jvn96YNncZsnhJDvVJs7NPcxAls5DH4JVXkssSNDebiaKCRCQkPMb9J0+Qll+AXN190W2Xoiw8unMRE4cNRKeeQ3D4wnUkMU9dZREy5a47PSJqTv97b+62OHg21U9tTi7vAnzX/jk1dJTQx7lfyn++SNVz8YL2WjbgO7+/LUmzM3V3mfnDqzBrc6fyBgsgSeOYCBeDDmBw7+5o2qQNgs5dRXJ6BjLy8rB841aUr9UEHXoPRlxCEq8qwNEjOzBsYFfs27oBCdFJyEnPR9Dx4+jVqRU+/fA/sGzdRtyOikcWbUUjpoIimq2cBRtUwgaoWU7TfFbZv/1NthdpxqvAv/0dN3bisyRN0TMWqVHnsWvdYvz2k0o4evkBknXYTmIulO1nP8GRdbPRqnoFjJ67FuEkafII6lfph9JbRM16fMkKwtY5w1Zcyx6sow6cXRX6AGHn12LkoBb4onoLBNy5j0xeZmaknhNPPXql8yrQU3El1lnBdaFxjkyk8p7W0MfmXK80amkm845DwIHVqF3+CwycMB1XHkcZkiayquUZJrnqYRepokQwzaoPB/ZpkQkrQDibzliNZLIyZ8pskp8dPLw3HbXO6F8JQm1Unk83nXHmnEzbtNbLrPdSj2keys7bk5lqIhkIBSyahKqUrS5NJMEPw4GNk9CzSxsMHD0daWxgCaVRVJiMgvx05OtrFrzKztH8qmytZFZpqp21PFtlcDheGo+4+6GYOn4I6jdrhou37yO7oBCFWuNWlE0umcl8M5FekI9kKkUqrxJJU82eDuk1vLfl57TBqYDZLLlIO63BRJmTL7U5+b8L8F3759TQQwyexS/lv18OSYuNI0mLJ0kLwrEjR6m8zFD37mkUJXKGXptVIRoMSdCd2/cwdvQUbNywFbm5OaxIWSP2bKqQB0zD0Q4K4jBn8iC0bd0S0xeuQlxWDrLogGVwFy+EYNigPqhQ4TtcvXsHKcX5iE21bqOkJsaiKIfGk1uE1AcR2LtiJr7/+NeYMHU6LkfSEbMMs2bBOCA50KdEzZqWtzdTFz/+pnjbm68y/PiboFVLvYLj6XvSrLVF0Uh7fA571i7Cbz6tjsNXHiKJ8U6Bz3FbZrF85gMcWTUFLSt/i+GzVuGmTdKM7ykoYiCVvVrPQ+WyMCesF7OM0iLdKmTqYl2hYKpcrbkPrYMzW0EWEYlbF9Zi3MAW+L5aMwSG3UO24S3yb3m8PJW7Wn+mQGvlohz1VxEdSLHuqekhpcI0XqNF7fJMVjlKZ7WJNSzh+YIEHmCYl5/hcaVRPqqPSJXloHWE5RUrHZEXhYDdK1C74pcYP2Um7j6Jtud/rPyNwzfEV3Wgz2WmKlMkTpBszMJ4PTxlggeT62/VuYR0pUQPYRWbdXiSkt5/WUQCVUByW8C8jKjMP7pWdRMhKUUed1VnXaNydMb619BHQ0VymJcp3xzlNTxvlvuXsAXq31KmNUSN53mp1guLW1tlKR+l03IXrQEUkljEfWzfNBvtunRBz/8/e2/9XceVdYv+A9+4d9xxf3rvvve+DifdnXSS7g5zbMfMLEtmtmXLzMzMzCTbMjMzM5OYmaWDkuabc9cp6ciW0x3HSSfdZ0nrVNWGtaFqzZq7alfVmDlIYeeVMB5lWeTkRWyL1a/GqLlax5JNfh0hqgOgRzC4NxhCpHcnI/H+CYwf2hsNGzfDrUeJJGn6TA/telhznYNIrlVL9buOBGsPs8JuEscShuiqmwplmSrW9AvVkGgTolz5TFLM8vlrzjFWjET73eNlj3Gpltvh/qIwxflreX7q03G/pFZVvxepxe/lrypS9SJqcaKq7b08kpYqknamMknT0mfcZ9/MV8vOycbZ86cwavQIErTJmD93BS5dvA43RyQlelLn6dIlCipX2vTyoE5/hCE9g9GhUydsPnxObmpGkoK5pKi7WD1rFD57/1VsObAHT1hmPjObF+2aScc05OKoKDUOF7csRfX3X8OI0eNx+eET5DFKwGREJE1A53u6woBZpboE9FfVly1VlRHQX0VDgiu/zBYkPnAnlpO0N/9a7zkkjafE/CgcXDkZbX74AsNE0tKzjM96i52IefAQEydPw+iJUzF00mQs3rQRd6MjDU3QHKUyqqsgG49uXsLkSaMxduIYjJ4wFpNnzkT4jt1wiCt4+OONI0lbj/Ekad+SpJ29E4VCMxHfBQ8JWnLsAyxeONvg2IgxozFuylTMW7EGsckZxDLCrU6uxKnCjBhsWbcY06dOwLiJEzF17nycvH4duUUkCCRvJSRbyU8uYs6UkZg4fixGj5uMpavDce9JPIkFT9I8a1tPuIpYkBh4s5CT9gD7N81HaJva+OIvb6Fe/eYIGzoBSzbtxsUH0Tzliyy4UZSXhqP79mD6pGmYxP4YPXkChlM37NqDRwkphgQKp0tJzB4/eoC9e3Zh85aNOHB4D2bPn42p8+Zj17HThpyWEPv0tLxH32JmvmKHAyePHsbpYwdx9cIpHDm4G5MmTcCYCVMwdsoM7DtzAWmsfLFONN4C3L56Erv3bEH4np0IP3wQI6ZOxdT583Dq6nkUktB4uF9S02Oxdt1SjBs3AuPYp5MmTMWCxWvxOCrR9EMZSY/XRSrlzcMd2luzYi7GjhuMyVOHYMuG6ZhDzA/u1hvdRs9GupeEhwT4zvVD2Lx5DbbtO4ICQbl5OtPF81Y0Dh/YhjFjBmPchDEYMXEC5q7bhFN3H6GAJOzyye2YO6YnSfDn+OCvn6N72DiMmTiLtnbgycMHyEmPY99ux5JV63D9cQz7SOc5nidKClGYmYy927diJo+JSWMmYvxY9gt19/7DiElOt45V7tOyslzcu30cu/ZuRPj+3Th69RpmzJmLCeMnYOaMGdixYweKnS5D0vRAg5ZPi0Js37DVP9XTcb+kPls7SVU1/HH9vfz9vkmaQEX/NCwtIWAlJibi6NHjWLlqNSZMmogevXsRJKfj/t0n8Aj8WBFzv7+8dC19qgqWK9N6ipHx4DL6tGuOHqFhOHzzCdKYspDRImKFyU9wYNVUfPHn/wsL167CnZQUM0JyqT5mpMgO8Hg4GI3F6dWL8e3br2Hi1Lm4HhVXmaSpPoakWUTNDEcZH9B/ob5Mqcp+QH8VtUhaaEWAuTquK2mXsGvNErz1YX0cvhZrbnfaQzepudKSH4OD9O/WP3xlrqQ9IElzEWPiSNBWzluAGvVbIrhXP3QeOBgDSXzWbNuEQq+D5MKJ7IxUXDpxHEumTUHfvqHoFdYLvfr2QIfO7dGle2/sPnQVmblFdPVU3LsWjrGDgvFVnSCcvSuS5kVBTjru37yApQsXI6zfYHTt2QvdQnuhc69eaNy0NdasC0dUXAyxxkE7yYjYvBY9u3ZAt66d0WfAAIQOGYZJ8+cjKjaKhCMDiZEXsG7xJDRoWBcdunVH9z6DMGTkFGzYtAtOMkavR68L8voGsB7WKx9ZyY+wdeUMdGr8Pb549218XaMJgnsOwbRlm3Dm1iO21Y2MjDjs37URY4cPRfeuPdFv4BCEDuqD4K7t0aP/YCxaGY77T2KtJxaJbceP7Ef/vt3ZhvoIHTYY3QYPwsAJkxC+9xDJjUif4M/BtC7CcAlystIxa+IIDOrZnmUMxJTJE9F/YH/06x+G2vUboveoCThw/T5yiJmlngzs3DAP3Zi2QceO6E4i2pF9MWzCOBw7ewjZ+fF4/PgGlq9bgYEjhqFXaCjCSOD79u6PVi07Y/mycEQ+SUAJ+8FZkIMnd65h5tjh6N6pDbr36oD+A7pi4rDOCOsRjLotgtFp5Cyks10l3nTs3jgH3Tq3RdiIScjSwwSeImSmRGLXjk3o268vWrdrj96hvdGnXz/0HTYG81ZvRnJaGk4e3IJJg7rih6+/wp8+/A7N2g9Cn4GjsXr1Wjy8ewXxjy9j0rBQ1GoahK3HzyOPxM7rykJWykOEc2AwcPBIdO/Rl33an23piw5tWyOsby+sWr8eD2IS4DIkLZNkbh7bEMR+aY/hcxdhAI+PfqF90LZ1EDp37owbt27D6XSy3wMk7bf2929B0vTl9tzcXNy/fx/Lly9HixYtUb16TYwcPZ4jBA/cJEoeHdwaderqVrk8W9lyJUCUuIsQfek0urVsgrABQ3E+KgXpjNXIUO8FKslMwMWIhfjug/8XKzaF42FaukW+7CLMLQA3Uu/dw8aJU/DVW+9iXfg+PE7Phm5MiCoaCZC0gAb0F1GLpPXmBn1Kfq1bhx4OphKukaQtx9sf1MXRq7HIcVkpykVXkwrjcWD1TLSq+Q1GzFpJv80iljhwYPMGNK9VB8MmL8ed1Czj82evXsKcpXOQ5tArNBxmHurIXmHoHdIJ+YVOFLscKHHl4vLpQ+jVtTe+rN0d529Fw+FOx53r2zBiSFt8Wq8NTmlOEvEg8v5VzJ4wAt9Vb4ozV56ggPXTU4FxHPANIuls2qAuNmxdgzRnGq5H38Fn31fHwOHjcPXGbStdWirGTp6EO7evwpGXgKN71qB+za8wcNIs3EhMNk+Q3mDaRXMXkBDmE+s8cPEk7XTpfZBlcJeRqJWxUHc2Tu8NR/Ma1TBoygrcTEgzt+t0yyynMIdYvA2tmtbB+LFjcedhJIqJi3pF0eOoexg9ZhwaNQzGtBnLkFMk8lqKE0f3oVuHlnj/wz+h0/BROBMdgyzaKyKWF+tVRQZ/dVPQQXwvRm56HOaN74faX/8FTZs1xKrwLcRfpnNlY8XiWWgc0hFdx8xEXJGTZCkVezYyrFk9vPtDQwxYsA6JRcWinNy5WYiPOo15s4fhuwaNsevkZeQTbnWMFOQUYMJIkvEmHbB6+SYUF7lRkFuAWeMmoVntepg/dy5ySNqKi9Jx8cA6dA+qg8++rYaOo2YhgQN/rysZe9fPQjcSoNBhU5DtZSu8uTi1fwN69+iK4G4DcCsqHa5iYrunBKdPnce8hSvw4P4juJ3ZSHxwHeNINmu36ovTd7NQ5NYDGdrhGYh/eBKThnZBteZtEH7qInI8hchPv4cTe1bj4+9rYujs5bgWnWz6pLSkEHGPTqFv14Zo1KgW5q9Yj2Kd80pTsHfrNLQMqon3atRA78mzkJKRhRKHAzs2b0aL5s0xftJEpKWnlZ+knxaF+s6M5eqf8um4X1L/+Rr+uP5e/n63JE2X+d26REuylsYRyZo1a/Duu+/iz+/+EUuXLEVcbDxcLnmhRBVgWhGgSoUKlkWVqlCCVIm7AJHnT6B7y6boN2gYLkQlm9udBszZtpLMJFzZtgz1PmOZazfidrIFYBVgT0crzsG+dWvR/LtaaPZDM9x6mIAsj2Yo+IlIma68aRQbIGkBDejLUTppSEgwSVovrgsL6Feaj+RJRU7CDexcuwLvkKQdI0nL1jnR5LBUJEEPDuxfMwstan6LkTNXIIokzePMw4HwlWhRtybGTCNxS8tCPl23wO1FIQmc9c4qF+ZMn4ZBXUJxdv8JM+vBTLNw5yM9/gk2rd6I//vt2li94wJSONC7c20Hhg9ph48ahJgHBwp5Ij68Yw2C6tXAus3HEJOZDydt6DpTcWE+Lp84iqb1amLyrPG4m/SIJ+mHPGH/gAHDxuPCtZskiXrND6mS240S4QqJwNFd69Cg9vcYOHU+biWlopCNdLm8cBfqdqgwTydzD7zEIPOKCIZoThyK03Fy+xo0+OZrDJi2DhcS05FOIC8mPqanx2JI/14knV1x+NAh84JWzf3SvC/d8j1++Ah6dg5FvTot8Dg5HQXE7MOH95KkteAg+mucfhyDOJfHYKbmUOnWnLUXWK5Iclkx8nMTsWBSGDq1qYkVG1YgxUEiydqVlaTh8Z3T6Dt0GOp1Hogz96LgdiUgYtV41G9cG3W6DcS1HNqmTfPAgDMZl4+sRvP6n2HOyk24l5RmMFjnJHexCxdPXUJQs7YYPWICoiLjkJqSiWYNWiG0+wAcPXoabq/mGeaipOAxdq6ZgXadOqHT6JlI5PlHJG3/htno0qEDug2einQX+68oGStmDseAsL5YvvkA8s0VKhZI0bszdeHAehdaDlIe3zRTcr5vHoZjt0kGNc+Q5x4dpyKWkwa1x9dNWyP8zAW2pxCR946jb/s6aNq1D7ZfuoEUHmAFOnd4M2gznoRsJkKCGqJ5255IySqG1xGLA1uno//gLhgwew5SeFzoFremzF08dwH9+oahYeNGePDooZlnWZWo6rZv2OprjpGn435J9S+3Qqqq4Y/r7+Xvd0PSUlNTkUaSdvbMmfKX2dpGk5KSsGTJErz++ut4+523sG1bBAoLCnXHEpoaYL2HTJfPKw5Aq6oMN+MsqeIYRqAy6QRYRZmIuXQMPVo2wICBQ3AlOhXZTGVSikflZOLa7o2o+bc/YdHqcNwhScvmwV8s5xPY0GlOHdqEXt3aoV7jFog4cArp+cXmSpugqKL9rKgxaKu2GRzQf42+bKmqjID+8kr/DglpQ5LWk+u6OiMw4MmvJBk5Sdexc90K/PHv9XDoSizSGa0UegZOLxg1L4t1JmHvulkcXH2J8XNWISojiye3Ity5fhxjh/bC199UQ/OgTlgdvh/RyTmGoIhAZOWnYeTQQfj6rx+jQfVaaBXUAs1bNUGzpvXRsG5tfPP1D/j//vQt1m45SDLwBPeubMeYQR3xcYP2OPEohvkzsGvdAlT/6F18U70pajTthDot2qJxy1Zo0aIZGtSqiT+99SZGjBuLu7HRSMjKwPwFC9G4QQM0alAL02ZMQHR8tLltpYnsHncx7t04j7Ej+uPzb75B7UZNsXT1JsQlZ5J8CLY1/0tfT9Ekd8221R+7SjjozMIJErx635OkzVyNy0npZt5taakDSbF30LROQ0wdNxu3bj00NJhcl31AZCWGxT96jIWTpqHGV9/j1NWbSC4qxt6jB9GfxK53r25IyM1DAeuofhdiWjc7ha7EY08xSvRUY04iZk0biE5dGmHTrk3IZ3q9FrasLA1pSTcxcsJ41AvpjYOnr8LliMOOtRPQrXcHDJy9EMk0ai6WkcCU5ibg3M5lqPHpn/DVD43wXaO2aNCqI1q1DkHLJs1Qt2Z9/O2DjzFk2BDcfngLD6Ieo3qtxhgzfg5u3H7E9tBSWRYb+AD7wqejY/dO6Dh6BuJF0typDJuHjp06ouOgKUgq9vL4uo/xfYMxiMfe4dPXTL+YQ9L0nYia1rniTUNK5BWMGzMRPzTrhzN3eX4QYyWphzMDCQ9PYfrgzqjevC0izl4iGSvAvct70PK7v2D8vGW4EJNonvj0aF+VsH4lsXh4fQ8GD+iDag064OLNeDgK4rFny2z0GdITA+YvMVN2RPp1LeDShcsYMGAgiS1J2pPH8IjUG1Ftbf3polw6hp6nL2b1BeTFm/D7lJ/RXnGpSiTtp35g3ZC0tDSc8SNpthQUFBAkbmHp0qUEgP4YNGgQpk+fiYMHj8Dp0AhRqk9tSEXsBAqiaHraR08CWarDxyJ0TKcrb45MZD04j75tGqBP71CcuRNtSJp8yOAX63Ni01p8+/572LDzEKIyc1EoECEouB3ZuHRmJ/rTUdt2CcbcdRsRmVNAAmeNUisfqDJI1VDLVv4H9F+kL1uqKiOgv7zSy6wraRZJs56/LKTzpxiStmP9Mrz9YTVEHLuDpHyPOZHKN80no0Q1ihKwa/UMtKz7PZZu2IX4nDye9J3IzYnF9StHsHrFEvTo0Qftu/RDn6ETsHjdJqQV5iI+NQ4D+/dF3e+rYfTgwVixajGWrVqIxUvmY8miRVi2fDUWrd2C+4+iUZwXjweXtmPCwE74xEfSUjMSsWXJNNT85D207zGYJ+MVmLtiLRavXImVq1Zi1coVWL50Gc6cv4iM3HwUu9yIiozE9q2bMXRQT3Tu2AyDBvfD+CnzcedxCoqcJaxzGm5cO4PVq5ejS+fO6NCxCwYOGYEFy5YjLS8DBZ48M6ne6gGLpGkJVw6O716HOtW+IklbiStJaexBDzyuLDy6cRrVP62OeVNX4dHDBB+9EgHQgwhepEZHY/XsOaj1zbe4dO8BUpxO7D52lOUOxFCS2NzCAubRYFn0zN5pKp8kzOtGqbsIudnxmDFrKLr0bY3NB7ahgGmcLKWMVCMz7TbGThqPBq27Y9+hs3AWRmLn2vHoM6ArxixdYd31kDmW602NxqkNJL4fvoMO3QZg1MwlmL9yPftzDVYuX4GVK1ZhNddPnD2G6NRHuHL/Or75oSEmTluKuw9iLZJWQnrjuYvd4RPRngPvjqOnIYHnE68nBXs3z0eHLuzXodMQX+RFeswtjOjRHANDu+PY+Zu+12ZYLdW8rxKeB8wrUUrTkfDkPEaNGIkajXvj7J1i5BUy3smeLM5C4v2TmDW4K2o274DtZy+zzzJx/dBGNP70bcxfvRU3kjLMPGi94sMMQLzRSHp0EuNHj0LNpj1w6wkHD8Vp2Ld9MUKHhqHP3KVIZHq9y00XMC6eu4Sw/gNQt2ED3H30EC4GVuwLf/3pomPoefpiFl9AXrz6v0/5me196STNNmhfVdN3Mq9cuYrJk6eQrA3AlClTsX37Thw7egIpyWkcnJCUeUTYRJRsiqZfjR551PquYpVy6ZUDeQnK6XcxonsLdCew7TpxBVksUqNTJU2PicOmBYvw2Qd/x6Hz15FapM9FlaIwPws3Lh5DWFhHNG3TEFMWzcPDtAzfU6FV9KECpE8fxQH91+gvIVWVE9BfVvkjkhbapxfXrE+7leqZxNJs5KU/xN6INXj3r19g9dYjiE0XATP0gP4nHHCjKD0G6xdMRvP6NbH/xAUSsCKDF9ZkhSJigAsnjh83T9TVadAYtRs3waUHtxGTmohhQ4eiU5tgHNm7lzZdzOUicSFZEPmgfV1N11gM7gw8vLgdkwd0wuf1Q3CGxC0rOxnbl09Hw28+wqwVW/EkI1vX9UgUmMFPtTBjOsZpqbrfunkGS+aPQYe2LfDOe9WxcTvrnWXdhLReA+HF6ZPHMHXiODRt3BDVf6iOc7eusW05Zh6a+kwqbmN+XdkWSav+JUnaCkPSCthTLmcmHlw/g1qf/4Bxg2fg+tUH1i1L5tKn8rwkWPevX8WM8ePMFb4HCUnI8nix59gxDBgyGENI0goK8tgGleQPfFL1P5X9lZsZh5lzh6NDn9ZYu3crMth32gtlSEVqwlWMHD0CDVt1xfFTl+HK163IcQjt3wUjFy9DuuqjJhUVkV/F4HT4YtT56F3MXLAetxPSDHFSa62O1PmkFK6yYmS703Az8hZ+qNOE9mfh2vWHjKYhc6XqAXZumoB2XYPRefRUJGnQ7UkmSZuHTt27o/PI2YhzkBRnRGNMWFuE9uyGHccvWYN7tk19qiuU1vc+9XqPNMQ+OouRI4bjhyY9cfpmLjLzdQuV7edAP+neccwd2Bm1mnfEtjMkaTq3HNyK5l+8jxGTF+LMk3hj27x0pJRnGG8k7pH0jxo6GK07D0MCT1geRwYO7FiGvsMGIHTOMiQwfYFIGg/4C2cvoW+/fqjdsB7uPLoPJztMtbR65mn9afL0XvXXn27tBeXFqv77lZ/Z3pdO0sxj3SJcHC7p4QGJwVeWk5qWjPAt6/FDzermJbQ7th1AakoW03rhpoNo5KEDW9CtdT12nZeRheTYeGSkp8Ph4UhaT3i5YjBnLEen7UIwd+UWpDjc0AeadVXu1tUbmDhyAr6vXhdXnsQil/Uodhbi4Y0LGNGnG/721RcYOW8erkbHoIhHZpUETWJ37NMakIAE5GdJSEgISVpverjl7yJLmjXmKMzEuZP78UO1apg+Yy5u3dfTisQGkR+P5o858eDGVUwYPpRkphFuPHhiXmDtYlx+Xi6yszTdneds+nxORiJWLJ6OWrW/xuZDe5HI+HnzFqJLSHssW7AARbTlIenTbcUSjwMFuTmITSFJKGZdSHYeXtiJKf074qt6rXDhURScrhyc3LUaIfWroc9Y4kesJvrz9M66lXIg6igoNHN0C/MLaM9DDlKMxPRM5Lt12zIXDpKVCyf24u8fNcSMeXtw71EKcvKzkZqZYG5D6jRZnJuKzWsW4PtvP8X6XXuQkJ1j8Eki6LHoGkN8JK1utS8xkCTtMkmaBpu6spQa/xidmgejffNOiIjYj2y2R63UvD93UTp2RWxC9+490KNvf0SnWHPSDpgraYP+MUnjsqzUbUjarLkj0aRtXUxcPh+3MzKRx3qVliXj7tX95snZ1h364MHjWHKeJ9i9biL6DOhOkrainKSVFZEMFSTj+vGtCKn1NQaMmoXT96ORa+6qcH9zvzvVp2kpJEjpxOp8JGYlICSoA3p2HoBDB06iRCSu1In83FtYs2QoWrVtjq6jpyBV5wJD0uaiS8+e6DZ2PpK87DmeO2ZNHIiOXTph9obdSHR7GaaedaKoIAPZqXFw5yez7EQkRl7EBJLZei174silRGQVMa1Yt5vno7tHsGBgB9Rs1hERp68gn8ff4+vn0b1RLdRq1hnrOXhIIfkVwfZ6M+F1PsCWVWPMk77DJyxClq7KFSVj/5aF6DukH/rNXYEU1qKYXazn1S5duIT+A/qjbuN6uPfkPs+N2vMS1fVp/Wny9F71159u7QXlxar++5Wf2d5f5Hanrp5J7W1bvCRiDs1pIGBevHgDHdr1xOxZC5CfnwcHR3lugoMAxZA0rjuLCrF61jy0rFUXo0eNwL34h8jjyKm0NBm7N89HUPMGqN+sDS7cekRQ1OPVyVg0dzEaNgzCVI1OcvI42vUi6vFtLJ0yGh+/8yamr1iFq/GJyCGZ1IsSjVTVgXbH+mtAAhKQny0WSetjTvs6/XCIZby+jCQjIS4S44f2wzeffoT5CxchMTWNrkfn44kqNyUJE0aOQYO6jTFy9AQUuN1mrlpMzGNsWLsCUyeNN/YlyQmPMXfGaNSt/z3O3bmNPIcD165cxciBg9G0fn3cfnwP2c5cluxCZkYK9u87hGYhPXDlxn0SqjQ8uLgXEwd0wdf1WuCiSFqZC7EPr2L+hBF4669fY83e80jOsR41EiE7d/YSevXojX3bdyA9Pg7HDh5D6ICxeBKbQPKST9L4APt2bMQf/1wdy9adwJnLd7F24yoMH90fbr0glZIU9xgLZo3F9999hhMcbKbTbjlJYxdYA0r2mCFpG0jSvsLgGctwJSnVzIESdhbkZmLryjWo9dX36Bc2BBdvsj0iPWxnLHFwYL++qN+4ObbvO4xiTVZnvoP/FEnzKYlHXk4yps8egU+r/w2f1auOicuWIlfzhd1pGDWkB+o3bIyJMxdbX25xxGPvxhnoN6gPxixeZZ4aNVOsOHCGJxspsTewZtZ4fPJ1LcxbtweRKfnwkFC52fYb125i0OAhWLF+FTId2SRrGZg1YSoafV8fs6ctIsn1wFlciPCl49Gs1of46PO/oztJWkY5SZuHdp07oe2QKUgmwRJJO3MkAp27tEftoM44/ygJTp6n9ALfIwd3YuqEUYi6dxUeErGCjGgsmDOL55f22Lz/EjKK9J44HqeOLHMlbd7AzqjbtD12nL6EArY9MykKmxfPwl8+q4EB01fgUlSyuZkvEpkRewl9Otbn+S4Eh0/fhJN1KXOlY//mxeyXfhg0Z7n1hgJD0spI0i6SpIWVkzRPgKT9vuVntvcXIWlmJGRGh5VrJqhQuOILC4rM487x8QnmiltJqUbVugFiqbkRQEddMnkG6hNwBg8ahJvRD5HpJaEryUVGehS2bVmBLh1boFG9amjVtCGaN2mGtu16YOrsZYglcLk0GvM6sGtbOBpX+x5/fOVVfFytJqo1b41GrduhdfO2CGkegg4hHbFn115kZ2abupWYt0iaClfWgAQkID9bbJIml9L5WpPO9aerNS5nPmKjbmP5/Gno1KkdGjVvhtZBQWjbsgXaNCI5GzoaW7fvx73IODhIAvRRbAdPnGdP7cbg/l0QFNwcTVs1R71GDdCeJ+ilq1cjmwO4YpcHOZlZOHfiGMaPHIYGDeqhacuWaEkcaMvB4rBRU3COhCY9N5sn6Rzcv3Yc44f1w/cc8F24H4VCjxfF+dl4fPsqpk4cj5A2IWjZjHVqHYzgtp0R1LEPtuw5hsTkdLgdTkRHRmHM8NHo3okkoXVTYlNdNG/ZChNnb8CdyBRk5+fi/PlDGDSwA9oF0U7LIDRr3gIdu3fBwhXLzGfuCp1uEgMCkcEioad6i8SQJO3E7s2oX6MaRs1ZgYdJaebWq7k1zD7JTE3EgZ0R6NunF2o1rI9mbYLQunUbNGnQBEOHjMR+Esj0bN1K1YSSUhw/dRzDRw3HcPZLQWE+cZzoWxVRE6YzPDcvA5Nnj0GbLs3Qa0A3DBk5CC1bNUNQUHNUq1ED46fNNt9DNjZcqdi1YT76DeyPCYtXm7lampNWZn5IEp15iI96gPkzZyMkqB2aNGZfBLVFu3ad0aNnP2zasguP4xLM07H6LFNiZCSmDBuO1k2boVmrlghu1wazJw7DvKlj0LlHL/QaORm5rGdpSRp2bVmIjt26otvI6chQufzLy0nAoUPb0J+ksV6j+mjdqglatmiCLky3aMVK5BSo/bq66sTRwwfQuXMXfPNDfdRt3RHzV27Ao0f3kfT4KuaM7IsmLdth76mLyHc5UFyYitTEJ1i7dTNCevVB7aYt0IzHbKvmzRHSoikmjR2Ho8dOIy2nyFx9LSvJw7Hd6zByxDCMnrvcegMBHaLM7cFFnk/7GTJdD4+iHsGry2tG/E9GtlYhPxJl701/Cz+SPCC/AflFSFqF/LRdL1jQmEGqw1KfLbl5/gp2bNiMUydOIYUAml/qRjGdWyPg5MT7OHFoA1YumYzlS+Zh+bJl2LZzH24+iDQ2VBuP14m7N69j4/LVWLFwGeYtW4m5y1dh4dJVWL5oJcNWYDXjbt24ZT19Sk8pFTD6H722BiQgAfnZIpKmLw7IpeTzutmpQVmJbg+V0Ae9OYgjUdu1exsWL1+OJfTrlYsXYdXiJTh58jwSUrM5UNPDQCIT8vQ8pKfdxcnj27BsxXwsWrYY85cuRcTefTzBxxsscOnWltuJ3Kw0XL9yAYsWzMOSpcuwdOlqrFqzGQeOnkFBSSncxJfSsiISnWicO3kUG3bux5O0XBTo3VskQK7CXDy+cwURG1axTguxbOlyLFu1DqtIJqLTcsynjMRliguLcPnMKWzZKHxabF6Au3Z9OMllEvJJvrxlDqSnP8Lpk9uIP4uIX6zLilXYtn8/HsTFwUOCo4n+mj5inVnVW6JhJGnufMQ/uosdW7fi9PU7SGdZejLQQ/w1L+xmn+RmJeHY8b1YuHw+FixfgsVLVmDJ4pU4deoCMrL1OSLrylsp1+IT43Du/FmcPXcWbvaRyFXVJI2FUHPzsjFpznh079cBK1bPxamT+7F8MfF3+TKsXr8JV+8+MC8F11dn4MlD5L1rOHz8BE5cvWteOu52aa4WVzQPpoR94SxC1P072L4lHMu531YsX4lVq9dh87ZdiCLZKyYeax+a8l1O3L58Hts2r8ey5YuxcvUKXD5/Gvdu3sbxk+dw+NwlFLGuZWXZiHx0CQeOHMKB81cNCVIrdGszKzMGF0iQly+fzXPGAixdsggRO3bixoNHPLewGCVjWSlJ8Th2dD8WL1uC6cvW4PDZS0hNT0VBbiqunTuF7bsO4Em86ufkfs/h8ZiL+LRY7D64l/tyOft8CRbOX4SVPN9cunSD/V7A/S7T/PEWIj7yDvv8DM5cv21mVKq7yjweJMfH48SJ4zyXbUNmTgb9QvtCopo9rVXIj0SpD6TPiQ7Ib1B+BZL2zx8Oym3IGVWHpcmpFR7ZcmrNTXEwlT59Ym6R6P1KJdlMaL4pQBXoEBeYUbcyDb4JyEn2rOfedclb9mlPxpXYYBFHNlSVIZJmXshri1ZtDUhAAvKzxZC0UOuzUHIraw6qlz7rgMubhxKe8MwHtBku97QeHKAP62o7HVi3hXTStuYk0e/l//rQdmkWVW/G50mdWYQIUqX1logYiORYt1XdLgeXOpkzi6CBqhOlm+WUlpKolBSzHi7zMIHeuab5Qpr3al5urW8zGvUYrDB5CTYuYoe58EU1GOJlWaojA0uZyMt4ESNTnzLNr81nwkKqWqnp66qdVWel07xcg2iqJNW6v8Dc+nSVm2Uz2EmbqqMeENDXXUpJsnT7jjVm7kLacTCOvav6Cwa5NK/8YmbNB9SVSIuU0b5R9UnVJM2KKzUkbfKcCegR1hH7DmxlFHuOfSX8VL+rLmqjIWIkYZpb7GREIQP1lKnLwbQGnKmqlGbLMz87ie1kGLOpbcJqg+W0ZXpI1dDtSZPWt2dZzxL1K1mqm4mVVndiWBprrCk0HkO8iowt9bFidd2xgKqZfOpx9bL2je/VI/Y5wAwA9HErh/k2tHmDAP+UXr8Olqd97mI6R2khnKX5PH702hTtJw06WB92uI4J9bv2gZWdP/qOrK7YsVFqo9payoGESJqOc+X3MN5rbKnhyliVViE/EiVLtrWA/D7kN0fSpP7wYJvQweziwVvEA1fw4xCoM4UOZgu85Gw+52BGHeu6lW8c2zZqqqIfBVTUS19K0EMHqr86xABIRXRAAhKQlyX0K/PFAZE0n4+JovE0RyWpKC2A01tgyIDtulJ7zfg313T6lK+KSJXxBInSHLp/NsrcRTz3WSdGfYXEOpUrl/Jry3eliGsSnYzNwMyXttir+bQiYLTLbZVj8IgJVCfflilbeRRUwjOsvg5QpjOxbJXnoTJOJE33+KwnSPVaEasNEmPHEALlskQWlEbvNjMPUPkIk37Nmm9FWRxkXB7mN9ArtqgrYV6RP11P0hviRMUYr7pQ1R4RJQczaNK85jvps1O6xan6SextlemvNnnLzcvClNkiaZ1I0nYwirhL24YEUs1sEV9ztBDpUf20rn4scbN1ZmKaQnxqOpL2ib36Ao1Jz2Az2FY01VRPycV2BO7asyzbRZbK7jf7XGlNe3k+8JAIu0QQmVxfXdC7Mp0irKZ3NdQXQbZecaKjTb8iS24eONZXcHQ+0dlGLxmxiJxUol8HCxRJdrJiTpJ3q6eteFXVHKNU05NcMftZ5xbVXxFqI8PMFUcuvcUkeC4RUPUzW6BjkA23bDKNWT6tVciPRMmKbSkgvw/RMSD5TZC054me1jJPi/LgLeAIuIijKBE0OYKomRl1EvyscRTdSMe8tWqJlkosMd5PtzHAZ9WtqoccAhKQgPwCQperTNJEWHQy1E1PB9fNdGs7qXHdCtXtSJ5iiQMiJk6HJqvrRE0UKNOVsSIuLb/WuVCcSWRE3xzwGMrDk2BpEUmVrtJZ9p3FbqMSbVslM1Z2DCmrWtxut3l1UFVJZEMn+2Kdb33x5uWtIpCmrb7TLtvg9nhJtHRlSZjEUKohc+wJIZpFVdWmCpImMmQ4DkV2zInesBiqJuubqzlqo65RWlcjZUWqbGqtrio5PW7z0IJeQWIRM6VU26zXklTksvQZkta3C0naHlMJG06dbLODpMlDdqW6iWSpWkZYpkiY6TQ1QETLZLREc4HdTpJkXVFiHt0AKc9PNX0tNfYUwLy6qqY+8wWrZ9VnOj+oBgoroQGHS1cNraPMfo8ArVPVI3YPGcN+ovwkryJz7DWdX6z+tNIZ2z5VWdqzeuBNuRRmvf7E6m83DwiPi/n1QlzfQaPBgdfBY5PkzJRv71jG2yRNtzp1Nc264lnRygqtQn4kShaqamlAfrvys0iaviqQkZGBCxcu4OjRo77QlyvyQxuEpLrFYY17LMesOOjsQ4/qW1SS8m07siKBbdu39SMakIAE5OdKu7ZtEda3r29LniX/I7kwAy15d4WvGc/jj+3duhJjKdd5krOuQumUqNNhxQlXNkRENDlep9ZysqOTHUdwsiUiJTLh9ZbH+nKrPgwT1sg8wyrE2rKvuluieiinta1f5bMuoNGOuUIk8qSaiD7Y+az26KEp62qZnd864VshClPtrFij/CkvWmKvaylWqEEocwsTld/ksaNNjNV2tcG6QmipnUpkrWpCIFV/uRGbEI2HT+4jIyvDqg+Ta1foIpG+mOAVGfPlKBdfOmtdG4q1UmhV+9PLium2sNm/viQmhZZ2lcrFCqy8j9QWm0pZoWqbR1dXWScz14+9q4GB1RPSpwz7rSpO1M5OJ5uKVl2McsNObsJ9W/pVDiuM60yrl7abY0H7SMIIczucYZYhP2VkqWmbpdYxI/358nKsBOTXFB3DY8eORaNGjXwhFfKjJC0lJQXp6ek4d+4cjhw54gu1DD5febgZfTqc+ewDn95pq+ZyWEBsbduea8VbGcyBroz24WdsWekstYLN0l/9xJRFG3ppbiX1+wtIQALy86V9u3YICwvzbVli44Ic8ynXNPJ0WOVt26GlsmH5rX51HaSyRcXrBG0RFUOkqFYuS7VuyJPRZ8uuSqwTr5VSvypTfyI8Zl6sbgnSsj95qBArh51fUrFVOfwfikn6/PTGGn9snvCs/FhZijO9Y9Yr/iybNtSKDNkkTWLipfyxy7XDJFoqXFxFBE3vI1Pf23FmjT8G058RpRdW2/tZfc69LjJuthlCW3row0PVd1BLTLzVBrstlcQy4xNa8SPgVhzDRCTZRtl+RhikYP8oXTUVYdfcSM1t9M+ldbVfzZP65zPv/2SAaR2XlZTxVWlA/j1E+9i+w6f1MWPGoGHDhmbbX36UpF2/fh03btzAvn37sGrVKmzbtg1bt27Fli1bqtatm6nh1rKK+K3hW32qdaahhm8Mx9YtWxFBVZg0Qum1vplxPt2ymdssO0LqSxuxeYtJa8K2RvjiuNwcYWwqvanv1i3YzPzhtBPO+hnd4qe+sKrqHNCABvSn6TfffIM6deqUbz8fMxTuH2dv+8LotxVx9rawRb66GZt9qritET412CMMos8zPJwYEc6l1jfTrqVWmK1bDEb4VNsmzKp3OYb4hVfUQ7gS7lPftl0fk99SO+9WP7XDnqdWOqtclS9s869HRXxVyjRst53WpPfP71en8u3yMNXfaoN0awTxVLjPpY3/4WzrJuEzw7ZGbMMWs4ygjQjGqZwIbKZqW3FaV/gm1kn5NgmLWYbJE8E6qV4sX31n6snwiG2yqXXm2byJNrhPIxTPfe7rc/VthNJwuSl8o9FwquJM3U2brTQRssl6qG7qI61vY93Vrzq3VJw/mEd9x3puDte5SfmVlvHGhtLQNtOY8xbDVI45vzC9aZ/yqmzFqX987Q9nei038xyl8Aiq+tIcn+X976fqE9n2U/WV1a6A/t5V+3jTpk1mqe1mzZqhVq1ayMvTs8oV8qMkbd26dcbI6tWrMXjwYLz99tvmg+qvvfZa1fr6q9RXrGUV8a+/8rpPtf6q0VdfeQVvvPYm3nztjfLwN5T2Vca/qrhXzFLhb772Ot5k+Vra6aRvvv4G3nqDNhj3xqtvGH1dabht6vvGq3iFdoyyfq+84VvaYbT/PH2V9QhoQAP6z+t//dd/4X/+z/9Zvi0f1PIV+rr/8tVXX6OPSRlm9LVKYa++Zof7bJvtqv1UPv76m8IfK015Wpb1CrHCtl9ensJMnNKyfq+z7CrKs7GrvM4Me9WHGa+W2/fZ8W1rafIaHJQtK+w15heuafkqyy9XbT+lVlr1B5fCOWEZl3Yexb9m4tW3/qq6Wu17xqbaYeryVJxp01NhPn3jzTfx1jvE/TeJsVy+xnqY9rKc1954i+EMI/a+/ibXuf0K66DwV4nJr77+Zvm6wl8hvlv7wuqf12n7tTd8fU99RX3G7TfeehNvvE2bb9EW96lJr/OK9rH2r6+/33iD2P8m03Nph9mqutv77o033mC6t7h8i9tvsN+4zfW3WHedN7RPKs4f1jnoNdmg6vyiuLeZ30qj8wvt+uy/yTZUHN8VqjabPmEZdr+8wuNMy1d1rlN93nqH+dRuhVk2Kint231j62tSX7sC+vtX//39v/7X/8K3336Lx48f+xiYJf/wdmd8fDyOHz+OvXv2IjMjE5mZP6YZ1HTfsor49CxkplHTtU7lenpKOrIyspCdkW3Fp2dwW/G0Q83K0DLNhGdnMp1P7XRSE5aVbS1pJyudSptZWZZqXkVaZhpSM1OQmmVpWlYqw/w1DelZ6c9ole0IaEAD+lxt0aIFunbtWu5/2dnZZm6rVPEZ8mX6a5bCuUzPtFTrmb6winX5L+1mW5qRncZt+WqF78pPs7KtcpTG+C3X04gdqcSQNGJEhs++XZ7CUlkPaRbDlNfUh3bS1Q7ftglnHTTtw25LJvEknXghrEtLJ56kpSA9I5XxamOaWWab+lhqYaLyE6tUFtXGLqN+uFauvrLMuq8e/vmMHTvcT9WWDGJfOvHV2vbLTxUWqo+yqNnlqjSV01XSnByrP3xL9VlKmtXHmdm+OCnLTmd9tV15HzKcdbL6XPuD2Mo+lm0Tz7K1n+1+t8rUUrYy/fYx6236ONWo6U+mUZj2gVT7I13nC/UTbT7d/izu+0yeI7KzcpDDuqsfM3lcmniuq7/Vvzq/6FOFZt8wLse2YadhXW3bWurYTmN69U2a8jKddfzkmGWa9onfcZ6lsqnqE/VZhvpN7fdX2VXf+GmmaW9A/x3UHE8+1f4eMGAA6tatax6i9JcfJWmpqWkkamk4dfIMDh48VPl+eZWqe/jWpNQq41m2pVr3bWviiOrkF6cb93pKyEy41CRXzfnQHAj7pn55/LNabktpfOVqnoieoNEToh7oSTC9hU3blVVzXDSjxFZatP782xDQgAb0R9V8cSA01My38J9z4a8Sxcjdn6s+P7T80v6zJudrYniF3yqF9Wel1ZpsMK9PtU2TvnBLNTfKmh/lC7fLUx4ujf9zXWo/SGCVwT+VS8Dy6mEBqua3qgT/BwSspcKUlyUwvy+oHMeM2mH/jPrnqUJUhLrcPHThq7u/2P1k9YilVkttffZPol9b7Yc7/MNMONXuS3vdX01/M5+XfWHPw6rYx5X73VLrT/2sP7vE8v402xLVhymZrvz8w7Ls9lfqA676b0qejlf/mvx2P1ep+qkQ2VCfqG2mfUxkteHZvjBmpYzQXDazv6h2meXqs+mvdnv+GTUF+WlVaQL629FRo0b99Kc7k5NT/UjaYV/ojwkPhvLDsgqxo/zVR6qMlofbBxY3NKnTaMXB9uNaYcduvOXi+hOg2yD/7J9f1nINSEAC8tOkKpJWlchd/U9ezyjxxFIfMTJ/FSStIsz+Uzr7BFm1L/tvV11WhVZ1UjSkwe9PJNEiB/4l+AuN2+q3+lK0CmEVzcnfqK/OtmjNoj3+9MEOed4fbfjy/phWWHtZavW1/59Vkx8TO/c/Sucn/o34qfqUKKhyG6pWk9Xfzo/pi0pVtqQB+U2Jv4++0Cs4/h1ImoC2AuSfT9IseK+U3WhAAhKQnyYWSetN96VPyXefI3LXSkTpaSWeWOpPjP4RSfMRLNl/SiU0W75ddVkVWiVJM1dJ9GeVb67kiaTxzxJZttclWvep3+pL0SqEVaySpOnXtJm/Uv8eevpPcZW37JS/plauhf4q+vh5Yuf+R+n8RElfVJ8SBVVuQ9VaRdZfRvzramtAfnNi++hvn6RVCqcdQ9CkFkmzAccog6VWuqe1wo5F0GwVOFWQNK3p8X2pwFaXyf2ylutvQ9iugIcF5HciFSSN3kV93rErd61ElJ7WSr5rE6PnkzTLn608P+bLNP1s2eVl2eWRFhA/bLUxxyJpXv6pDlwzt1stCmGJSrLXJVr3qd/qS9GqhOF2Xcvx0go2NbPb5t9D/n92+LMhv7aq3Mp/Vkt+TOzc/yidn9id8yL6lCiochuq1iqy/jLiX1dbA/KbE/mo5FciaT8iqoeO0GcIma1MYMiYDbd6WzUBXiSNKKqGyE2tOSYWsFogxFB7HoIa62fTADHzVAC3nVYwrw9N6R3TFSRNwix2dqNVi2KUXqoclfNYIS9LZE0nOunLtx6QgLxcKSVJCyZJ60WCprfc+0iaDltbKfYpV6qjWj5qjnAGiGBofGb7uZkPJju+r448S9QsTLBs0M9l1KeybUNOudjxTGgDpMEKYYy58idk0LxVfQnSem+9scNC9LJtUbQKkkb8UD5jkGIWvnUjWvep36plUWo2KqQ8jX7sNFXoU9nK85loq12mHxnmHyW8E7qqxr7E5s/aGzamKcSOVYy9VSHlRWldZSnQJ3b402qlUVr/0p+vZr9yzaqfQvxLqUrsnP8onZ8o6YvqU6IguwY/plVk/WXEv662BuQ3JzYGvSBJSyFJS8WpU6fNgwM/S1QPGy2lXDe8yBw8dEICcKk+Smw+GyMA1Ac+RNSYQPjMPAJDG8wtACeIel3wlghKrYaahc++DfTlJM2gVgVJ0xfetDSQpMQ+kQlbnxWmY131jUDzNUCzbqVUc/Q5G48eYPg5Ul6wVtRalSXVetW1CkhAfhtCktY2GL379KLvuanyPh6zcgkdvlQRB23aR7KWFnmw4hRg3F7KhKVe+pi+t+m1Pq9jebNF2JTL+LiUseU25IxUxclDrVookCnM4M+nwgSfGKw0pFLfxsyjd7uRx7BcZlOoeVu+IWk2PdQAz6qNshopN2eM+dSO1dJWWVR97LinReGKV+3Nh4d8qm0rn22pXHz4ZgOr+sEuQdjnJml2MUQfk6pMw/z71P70u5VXMVY6a8tsUiybvjqoP41yy/o3Ofxy+bJpzfQkty3aZalVA/PHhHa+Z1L67P+4PJ1A27a+DPG396xWHVpZAxIQW0TQ7IeSXpCkJZOkpZCknSJJO+gLfb5UHIR0ea++fUdI8HBUKtKiCPkalxVYwgoyXVkpCYj5Fp0+dlvIJPoGnpSg5Msn/7QB0QZlfU7DfrpKMeXiy/MsSeOG6RDRP4ukacxsgMgg+z8hsmHA0kHlSUMf8DVEjeBXUgIn1V2FLYVI9XZytbnUy1o9lc7E+9QShch2kU+1XhEbkID89sSPpJU+S9J0LrephnUk68RMwlMq/yd5EGgxuchZoUvfN2Q6D33NmcuMJE9MZZ0KZYzeS4MVJE1+TvphgYVRm6RZgzEFckv+SswwhEwgwTTCJIvbKD4Vt64fwMYdG7Hr7AWkM9wjk0xjDRStT1FZ5alGxoQl5RtasWhGRayWUqseVu7ynH5rEjudekufLbJVrZFt67dS2QZYfe1jXsXJQkxcHA4eOYyI3duR6yrkcM+LW/fvYPOWcERs3YyCgjwOLJ1smwbGonA+kkbDZpQvu6YdCq0oUXHmOmY5SVP5irP2kLFBVQ4rj21HWpkmau+YLRVHVT61Qr1krJl6MOAni13KC2WuQmx7VenLKiMg/ynyK5E0HZiWK2rNOlwJZATW1MQYXLt0EYcOHsbBw0dxgMvzFy8hPinFAl86dImbpMyVjaTYBzh9+gjT7cCRw1tx5Og2XL1xAckZGeUfsrWJlgFLquXc+tOIWmRJqYxLWz5NNYDPkAqSZqlF0iyyZmpuwOWfECazwFWAyZOH+eiztBj5+dm4/eABDp46i2t3HqDYqatfVg2Vw2iJG5lpibh9/SrbeRSHqUcPHsKlc+cRl5BQDsXqR0sEVbqCIK0A6IAE5LcpegVHMPqE9iLpoV+a24dlyMtMx4Mb13GRx3lqQRHyCUw6mhWHEnpiYSquXzqN04y/H5OAAjKEXEeJuSpd5ilACeMzEx8TF47gwaMnyC/Q1S56rwgeTejVDha5sOiTuJdRmfephRdEA7ExqZ1A/woS0yNZRFkcNq0ag9YdWmLwzHlIZkWFQfw3PizMsK432XYVp9jyDcVQLZrhC/AtlUBoJKqnpR3nl7VctCU7Kkl2LBS0U1mWrKUJUntIXC0EkX0r/tTZcxg0bBjad+2I5Nx0FDFN+PYtaNm6BdoEtUJSSiKK3UUcXJKoGZKmuxqsmW1AjWQHmb5T6w3JtfpRs3tVkulTkV7zjifrBqXJyqXB13KVUakVrng7jekLK8rsFpVmbPtyvphUlPdyxLZXlb6sMgLynyK/EknTwSlgEEBawCvAdDjycXD3VvTq1hWff/4tPvrsG3z40aeo26gZlq7dhLS8IpMOnnwUpT7BpmXzUL/2D/ji84/w9Rd/xCcfv4E2nVpjze49SCx0wUGv1ShWjTGjXhVLMSBdUoziwnSkJj1BsaPY3JKw3UXpLTj0jbB9/iQo98GRAQnb3j8jSipYMWBYxpNFSRbys57gztUTGDpiON785Du0CRuBWPafIEiQZcO101mME0f2YWDfUHz15fds77f45q+foHndBli8dBkSCwp1s4V1VhkSQZ2u2kll4SdUNCAB+bWFB2274BD07d2bBzE9y1xFL8X9CycwtncnNKxdA0dvPkS8gz5tJSd8OOBNuIcOjX7Al9/XxKiFqxHnMsMu+iw9wZuD4qxInNi7GW++/S4mTJ2HR49jFEnT9F8asdBH0yXo//RLXSHX1S/xFuNC4hAVq1a5+rFVIpLhFfmLwpYVwxDSoTmGzJjHulb4o5ZCOwvxaIuBhlwY62orF8aeSrFTmgDfUqmFSdaVOOWyxWfBpPpR8ZWhtCrF2DAbDDQkzcIKO/7kmbPoN3AgWoa0RmxmEgpIxnYd3IOevXuYuYPJGSko5KDaxbyaa2fQSuRapNUAumXIug3KfeXORzHJXnoKybTLhWLuB2EuR+aWEpNtAibs018lKa+/hcsWUfO1wxenPrLzKlyqqJ8uPy/3s2Lbq0pfVhkB+U+RX5mkaUxVasZwxXTcowf2ol3LFhg+aBiuXbtr3iadmBCLXr17okGLNpi3arNx7jJ3LsKXzsCCyWNw8vAhZKXrTdKPsW7dTDQOaozqLYKx+dgFZBfrcrwaw/KUT4SL4vUWISPlMXZvWYYfvvsMe4+cRloOR96MUwoLwK0xoCF5zC61J/8Kdn4KSVMyy7asi6TlwetKxbxxfdHg+4/xzp//hLc++R4tew1FTJJImkURDVyz/DPHj6FHhw4YENoP167esd4+HBeP8UMGo1HT5pi0dDWylVZlqAiNUMvUqzpl2a0KSEB+o8LDsz1JWlivUEIC/dWwmxK46KMbZ41E3epfYNLKTbifnVsxGNFVnNhraNfgW7z17ocI6j8R52NIzBjn8RQwewbyM+5h/9aVeO2Pf8eaiKNISWdu44zCBPmwrm3plilJBNflLfIhQ9JENMQ7uFB5Ps5h1Lh9uUtxq6yAae9hx+rh6NwtCKMXLEI6401eLxGDBo0va1vhymIc1YdN5WJy+NQqwEplhehq3NMkza8iFWJX1D9KmbitRXkbTDoGlpM0zT6zgg8fJeaQNLdqG4RE35W0Ipeu/Ocij+oiObXomYat1iQQc0VMDSzvMFVAHVmE7LRobFu/Eg3q1MLRi5eQWVhoRaszSpjY7PTyjIowdfSvr6kzt0QItffscDtW+OqfXuZfTCx7P8dCZbHtVaUvq4yA/KfIr0TSdGDKGeXmDjhK85Gcnoj+of0R2rUfdkXsR2G+g0BLOlSSTzK1Bh06dEPHsHFIKiQclLiQEHsPcZF3kZeTQXMCmDRERV/EiHEj8HWdlli0di+y8ovIzXxAaJBRYFRMcpVFknYP4Wvm4y9/egO7D51AUnYBgUcdwFpx6eKKIWnMYUgbw0pKOdr2FnGwL1Ci8EdLW8vFP5CqBbOzCoTZ0kIU5MTizIFwtKj3HQb2643+Q4ejVou26NB3MOKSk5heI1Mn61GE3KIsjBo6Cn3YL5vXb0dRAdtKwgmvA4f3bkPXHj3QrFsY4nh2cvrqb7VV4CiiphYoMCAB+Y0KD88KksZNQQN/yoqTcDhiIVo3qYmGXfvjTGwKMnho64pXfk4aju1ZhaBm1fH+3z5Dk7b9sfXgFXOLsVS3H0tSEHX7IOaMH4i/ft0Q+y49QKZuhdKRPS5TAPGFGENMePrKtdxH8KRbmV4z58q6ykP+aKZcGBeTBZOOObw5DHiC8OVD0LZjC4yctwBEJeIJc1J19V++6ZBNhls/EtZBAyqzJNaR+JToISWVWOKB001iREJJCkiaY5E8xZovHqhs1aKMjl9CnCO2mDrJtr/bU009uVQeXSlU642UQ4NCRFF1VdEaSh45dgy9+oQiqH2wj6S52DdKpxQWTbKGqyK5mrrB/OogJrHL0QCzTOSvJBvp8XexZtEsfPPFJzh65jSyC/JN8YIyXdm05sUpM1vppi22X0NiPRKmmrmYzsloC8uJv0zLNWIzfw3WkTBy3cF0Zh+adFwzE5kZ8JNElqU/OeNzxN/e0xqQgPw0+RVJmlxUAJgLhycJT6Jvo17t5hgzfA6uXX5EX+VB7aaDl+Xg/uVjGNBnAOq07I2zDzKR7xE40H3NBHw6teZ3IRnZuQ8xfd5MfF2rDWYs3I6M3ELaJ6wJCOWsetigNBeP758mQZuJngTUd99+HT3CBmLUtDlYvXUPbt2PNoDqZPrcwgKcuXAJcxYux+wFSzB7zjTMmjUBO3ZsRmxcPAFfV9oq3K9cbP/zU4FLKU8Kpd58OAqT8OD6SaxevhBnz53Fpu070bpTd3QKDUN8UiKT68RRQEKYztF/JFo3b4dhA6fh4tl7xB0Cn7k9UIT7d85j2Mhh+LphMM7cT0OeQ3M/WJ5BPoGT4Er9rMCABOQ3Kjw8dbszrHcfc5K3SBqPXU8qbl3YgaEDuuLd7xpg/61YpNPdRUdSU+MwZ94YtOvQFLXrNkKr1r0xb8EmwxM0vIInBecPrkSvkEYI6jkc56OSkUdX0C02R3ExEhPisHrlUsyeNRNz5szDgkVLsWbjViSlZZsnMo1T049KiS/Xb1zC+g3rMGPmXEybPhdzZs/DpvCtiI6OZTmspzObhh9j84rhaNc5CCPnLkaqqsD80bHR2LJ9B1as3YzzV+7AzQq63SQUJIuaX2v8kzh268YFnDl7Bhev3cS5S1cxe/ZMTJ46BZNZt21HTiCTeGjNMC1DZHQ0Thw/gcMH9uHsyf1YvmQWFi1dgBNnz+pusbkoVsR2nDhwCPPmzsOcufMxc+YcrFy9EbfvPzaD0BKVba5glSEuJgp7dm7DzBnTMHPWXGwM34JFS5aid98+JGltkEhC7OT+iIqJxOFDB7Bnzy7kFeeTfIooOZCTm4ArF09iJXFy7oxFmD5zMZasCcdZtsXtKcSDm6ewbuEUdGndCB9/8Cf0HzIQE2fOwsbtu3HnYbRVZ9py5Gfh/PEjWDxnNuZRp8+bjsnzZmDbgQOISU6HR13FpJqPGBf1GEePHMLu3btw8uRRrFq7GgtXrsL+k+dQzPaZ+XFekT1RW5PrJ4jZ+dSfmu958rLtBeQ/WX41kmZdo+JIlmNOhyMSd26fxldf1cO0qRvx6GEG/ZDxrkIe2xlIenwRY0eOQs0m3bD9xH1kOfQtTUK1RkoCGo4kUZaIlNTrGDNlAj7+oQ1mrjqEtHw9+SmSxjSaO1JKhy0twNULhzFr/BC0rPkd3n/rDdRt3hItuvbCKALM8Yu34WAHZOZm4TABY9iYCWga1BndQ/uhe7f26NC2CUJDuxAUl+Heoxg4XLpl8pT7aeNpZdll3mJyJ46LS/Ko+cR3J4GnBIeOn0Sbzt3QrntPxCTF057GjjlwueIRE3UFdWu3wNgxK3DvbhrNcOe4CdckrwlxNzB1xmR8U7sNth2+i+w89qfBAxZoRpjq4wA4BOQ3Ljw825Kk9ekdykOW2KCRj0iaNw2psRexbsVcvPbhtwg/fAMp2Q4SDA9iYh6he1gXDBg+EIOHDEf3Tn0wqP9oFLisK17eolTsWTsLLWp/jblrtuFRJgeDxICigmzcv30dCxctRPdeoejQqQu6dO2Bjp27o37DViQou5GQmG6uBjmcTjx6/BBLVyzEwEED0IU+2rFdJ7Rr2QrNGjZC+KYIZGbkwuvI54DyESJWj0aHriEYPmcJ4otLiCHZWL5iCdp37opeYUNx8MgZOF2lKCpyw+nUXQK2VdhUlosNq+dg0JDBGDRqKibNXopu3bqiU8e2qN+gPrpx8Hb84lWkE2scBOajx45y0DYAHdu0xvBhA9GtRyf0GRiG8O0RxFIn0qKTcZQDzgkjxqBz127o2rMXOrGdrVuGYNbcJbhNYuTSrQEOGNMSnmDdyhXo2rkngkM6o1PnHgjrPwC9QnujZVArtG4XhITsNLhYz+MnOFju1wedO3VAUnoKyZUXuXnpOH16P4YOYnjbTujUrhc6dgpD9z5DMZWELy0tCeeO78W0Ef3QpNrn+OCPr6NFSDDaEOvGz16IM5duczBaigLi7cn9OzBh2GC0b9OW7eegtUc7NAtpgp79wrB6/VbExsSTQBPTuP/PnjiMwWG90KJpI/QfNhRd+/VD6LCRWL1lJwp56LCbiLG666DLij8V/4SZLxM3X7a9gPwny0skaSdJ0g74Qp8WXTDXhXu9OiOVwHkfl87uwd8/qYk5C/chNp5kRsMmF8lXSQpy0u5x9DoDTdr0xO7jt5BtSBrzaw6EuTcpZ0zE7Rv70ZWO+0GdYGw49RAZTKdrbhZJYzoD/iyey2yOgiPmzcNHb7+FrYcPIyovD7mM0ks8HCVOXLxyBq3btES7Tt1x4twN2tHJoxDpyY8xa8ZEfPnNdxg/ZRZS0kgo1WmmVT7Riq3GP7lCQmau5JFQlnkI6l4RS1LIUpK0YyfQplM3BHXpgchEApFuySKTI/4o3LtxBN9Va4yJ0zcjKpbhAle38qYgO+ceTwKL0LBRV+zd/4AjWmf5rQ2jpvCABOS3L89+u5Nn2tJsHupxOHfyID74qAZmzgtH5MNYlBQX4ub1y/isWg0s3RCOffv2Y8yQIWjRpDliM4uRQyKUkxKP9fMmo0W9Gjh78z7ySF5KOUB7fPsUpo8ZgL999i3O3niEfDI6D/0wOiYandv3QJ1aTbF1234UOkuQmJaOmbNnYeWqFXj44BG5QSm8hQVIu38Fbev/gLC+w3H4zF3kkzwBCdiyajSCO7TGwGnzcSc1G7sO70ejpvUxfPRYXGMdjFvyx+UogZe2zNV13ZpFGsJXTUPtunXxcfWmmDBvLdxuDUCLsC9iDbqFNEfbdm1wLzUduV4vDh3aj25tg/DZX99Ht36DcCc6hsM6Dls1PSIrCVtXrEfrBq2xdPkGZBQphoWynAWzp6NxszYYOnYmilzECm88dqyYgODmTdF7wEQOai2oOn/uJLp27YAP/voXtG7bhiQtHYUcZB49cRT9wnojmLgYlxxHcuXG1WuXMHToAHz/3Tc4e/4SMagQpWS49+/cxqQxI3H71jWS0gJkJkZj3fxp+Pyv7+LIhUtIKCxCAcvS7Wk3yfD1s8fRumFNDArrg1u37sHpJnKXFeBJ5A2MGTUcdWs2wqzpi5CXl89+K8HFk4fRt1NrvP+nN9E2bBBOcv9w6GumrLhoVCcwWqayHy0w/Ami40/6U/M9T162vYD8J8vPJ2kpuqKVTJJ2wo+k6eCsrHrqp7Qsj2vJHEXdwZnDm/Hxl/Uwa/FBxCSK0PCgLuEoiCQtK/0epk6fjJoN2yF893nkEHjMAwGGpNEJdcXNnYjpk/qhRsN66DBiGu7leZFPxNHbva3bnbQnP+Gq7obkxiRg5/xF+PitdxB+4Bju5uYjgwmc/Mt3pWHMhJFo17EjVqzegIIiA3MUDwGoAGdOHUL3bl0MUdOtiYJizcuwWmadYHxbAgpzRUsqkuei6hYu21Xm5iCPlJDk7dDRowgytzsHICYpiVUUSctAceEj3Di3C9/XbI4JMyMQqYlnQlEzOkxETs5dLFkyFzWqt8aWzZeQlUUC6CvWrkVAAvJ7kLYkadaVNJukyWc4iPNk4fbVi/jqyzro3mkgrpy9gBwShF0RW/HHT6vj6OW7iIuNxur5U9GyYS3sOXEBcblFuHj5CsYMHoiQls2QnJMPdwmHWaU5OLJrGTo2r4kVG3ciPisXTvqKhot5ebk4sP8IatdujGmzlyAyIQ1ObwnysvNQREKhBwCMg5dxeOghPoR1QXD7XlgYfgCFZlpBCrauGoWOnVuh18iJWLr9MP788SeYOGMGbty7B4fHmoqg6VbkNtZgymCEMI5kae00tO/UCf0mzsfj7EIUiVR6cpD84DyWTxmKxnWr4cj1u0gqcmAvyV/n9kGoWe0bXCFpzXFqMOqmzVwkRN9Ey0aNMXv6Qly78wT5XmuGK0oLcffGZfQOG4q23Yfg4ZNokt0HGN2d/dqhHdZu1y1Vq4lutwu7d+1Cp06d0So4BMnsm3yvC4ePH8agAaHo3DEIyZlxKPIWYuuO7egV2g9Tp81GLgmUbuHqSr87Px0FWSnw0JbwNzXmIVbNmoCvPv4Ahy5eRWJhse7KmvS5GRkYNaAPuoS0xvatW+BiX3nYWaVlDng8eTi2fy96teuKhj80wqOoWPalG2dJ0sK6BOO7Lz/BoSu3EVfs5JCfXakuNX3L/WVImpZq1U8R3/H3k/M9T162vYD8J8tLIGkJJGmJJGnHSdL2MUQHpg5QsSP7YNVcBs270lwyOjPJxpmDm/HZ1xwtLTlEgHSUz1PQ3JLM1PuYPG0afmjQmSTtOvKKXfB4CZZCO47w3M4sHN6zAW1aN0TnXr2w+9RlZDKrJpuyKTKklpmF7nqWMSInMg475i/EJ2/9CZsPnMVDAns24YwUDdkcvQd3bI+BQ8bi9Jkr7BCaMFLGMh2Ii7qL5Qum44N338KhwweRlZdnWqdOE5hbT2xRNV/Od7ndgJcMiTCa1Dw1lBK42Y4jR44hRCStdxhik5KZU7eBM+EoeoK7lw7ihzqtMHF2BJ7EkoRpvoxOCiSleWl3sGThLHxXozk2bjuHjBzNwTMl+0qw1tUDAQnIb1Z4gFpz0kjSeHxbtzul9B8OamIfP8aA3kPQtlkITh/ci9hHN7Fo8WJ8WCsYZx/EIb8gA0e2L0VouwZYuHItYjKzsW7zVnTu0gWDBg9CAcHEfGkkj+Ru9TTU/uJ9VG/QHI3bd0frTt3QrnNntCNBatC0Jd7484cYM3UWIuOTzHhIpHHbxo0YMXgIejBdz/ZtEBZSD9X+9kdUb9gS0zfsRo65WpOMbSuGo3nDr/HXL75Crdad0SFsJM7duE280qDLaqdmaAgezFjLhBEfvHHYtnISuvXsibGL1iKVkS7z4up8OFLvYseSiWhQ/UtEHLuIyLxCRBw9iB79e6FbaFekErec7C8RGpczCTeuHcYXn32C6tVqoWnzILRt3xGd2bbunTuiVYvW+IhktxXJ7u27D1Ecex5DQ77H4LDe2Hf2JlJZFdVLFTt++CT69ByI1m06I4lEtZDAefjYIQzo1wPdurRGZl4MUvOSMHXufLRs2wubth1BoctNguUksSK59uoJW9Emy2Ba7GOsnjMFX33yd+w9fQGJ+YVwEN9LuH8zU+IQ1LQxxg4fgask18It9ag9nzj+4UMsmzwdP3zyFU5fILaTNJ84fQKD+vdBh3bBiE5JY/30DksL84TDymfuoFi9/BNFdZa+LPml7L1MmwH5vchLJmn7GaIDyUPSVQy9Idwa3ejKVAkLIniVZqG4IBLXz+7DF1/Xw6RZm/EgMsvM17CenO3Kv2cAAM/FSURBVEpFYswNjB4zETUa9cL+0/EoMvM5dFXLiZysBBw5sBXdu4Sgb1gfROzYhdSsPDN51HbR8kNaJkXS3CRp0SRpCxbis3few4Y95/Aouwh5rFuhNwvxBMY6DRtj9NiZuHXrcYWf00AJR5TpSVGI2LAYn/3tHZw4eQTZ+ZpEq2iOWm2SZm6x6oqgbsWSlBJEVL4lWpFRakkJjh09wVF0D3Tq2cdH0tRHuXA5YhB17wx+qNsMIyeuwN2HaWwA87oZ70xDRux1jpgn4auazbDr5F1kFjjKiZlN0sqLDEhAfqvCg7Ti6U6RNCvMHMncyEpLw9bV69GyTm1sXrUARw9sw+BRo9Gy3zTcSsiA05uDa6c3YXRoc/Ts0xt3YxIwftZCBHfuheXrN5sJ96X8K059hK0LRqP25+8xridGTJ1NkrEAszS5fv4CzOSgbfLseThy9jzScnOQkZWJvTt3I6x7D4weMhwLZs7CwmkTsGz6EDSr/aV5Invqxj1mcKcraTtI0oIaf41valRDqy590DC4J/Ycv4DUHAsfbAIkFbzpCp55KtIbj4hlE9CnXz9MWxthngzVF0jKyopQkhWJvStnoPY3n2LtzuN4nJ2PzccPo9eogRg4djDy9ZohpeWA1+FIwKVL+/HRRx+iZYtWGDFsFObMmI15s2ZjAds4a858TJ23HJt2H0FScgoKH57GwJbfYsTAMJy4dh+ZbIYebBBJPnX0HPqHjkRQm+5IyMiDkyeFIyRp/fp2Q9cuLZFdEI3knDiMnjINjVuxnYeuocDpIbl0w0PM01OfZSKgrFlZiRspUQ+wcvYUfP3pxzh88QZSCh0oLnHBUZyFmEfXUbd6NcycMh0P7j8yuKUeNYcBuygrLgFbFixGzU++wPmrN5FZ7MCRM2cweOhQ9OkTisycbJPWUhFWKfc4VT3z7ye+g+jfsm0B+Ufy80la+bc79eCAbnfKTei4XgJViW5vah6aHJlURJ8V4WjR60pB7MPL+KFabYwaPRs3bj4hr+FBaO4NpOLxzZMY0H8oarbohyuRxRytCdw8JGhJOHpoJzq3b43mzZth6/adSMugwzJak4fltPbhbKsmBGt0nBMfi11LFuGLP7+PTXsu4El2MVgTFHpyEZt4F/Xr18eQgaNw+fwNc9KQO+iVIGUcKcY8uYuli2bihxpf4drN6wQnfTSF8ew081JcQ9IIMyJpej1IqcsAR4VLqf6+2pGkHT9yAh1E0rqHIjZBI3jFFZKjJiEt+Q7qN2mG/kMn4+KVB+wX5nXQtisLsXfOYuyo4fiibmucj8pErksz8GS94i8gAfnNCw/TdiHB5mW2ms9kfNQXpTVncQEx4BJa1v4Gk0eTyEwfh9Zde2Diqv2IIWnx0HMj7x7C/PHd8B3JzN4jp9Bt0AR07D8OZ29HopD2RNIcGY8QsXAEmlf/O5au3ITkrJzym2HyXYMbXNebvwo9xbhx9yaaNmmN7p1DcfbkBZS6Obh05TNRPMYO64Zm9NlpG/dyOKVcKdi2agQ6tauLXgP7Y8WWXfjyu5roP3g0jp29gqxit3lq3DxQSSe1SJoaSgpJkrZt2URD0qauiUAa48zrK0jgnOmx2LZ0Dmp+/SXCd59ADAlfBEla79EDMWjcYBQ6NYuWuESS5nSlclB5Cl9+/hGmTp6Kh/ceEoaIRx4NGM3sXHOLsZD2HS7ajr+OIW1qYXDfPjh0/iZySPacxJBSbwnOHD+PgX1HIzi4F5Iy88xrP46TpIWFdkGnDs2QlR+F7KJETJk1C81adSX2nkC+5gALA9mDXtZdLxVWO0s9LqRE3scqkrTvPv8Ux64/RAr7QyStqDAdj2+fR51q32HMiNG4fv2m2ScappopLaUliL57H4snT0OD6rVw/0kc8j0lOHpGX0QYgdC+fZGdk8PU1n5UG/1VNM23h/3058rLtvdThceN0afr8a+oS0B+bfn5JC0pGynJ2Th18jxJ2mGG6MARiOmSfw6JWTryCuiYKSlILyLhMkQmH3lZsejUqjmG9x2Ak4dPw6FHdEiIyhzxuHhwI3p2741m3Ucjhiij+QoeZw7JzV6O6rrg88+/wuYt25CQnAYXUcFc1WKJIiz+qsPaklLkJsdgz6qF+PrD97Hz6DVE5+lGp2rKMaAjC707tkW75i2wae0GFBN8TF7Wp6Q4B6cJkqFh/dAipD2iSKo0+VX2VaZxHUOyvPC4CpCfk4LMjBQ4SeSsuTYmARNaaK3bnUcPH0f7jt3RqWsfRMckm6tu5p1FZVkE0yR07dYBoX36Yd/eY3AUMB8RrNSRgasndqFfWF/UDOmFKHajdTKya2FrQALyW5dS81mo3n16m0n85l1nvhj5keameV3J6B5SG107t0Br+mat1u2x6dgNpBVaV21y0u5j78aZ+ODt/4PBg4eifps+6D9lFWKLgDya0PdA4YzDsa3T0LHB55gwbjYSElLNVSj5o+a3ujn4yc3NQzGJWJ4jE8fOn8Q773+FaTPX4vGTJJOu1FuI4qyrGDagNRqHdMK0tbstklaWiI0rhiKkY1OMnD0X9xJTMGvqaNT4+iOMGD0Jl+/FI4/JnBqzsXHyUtEI8/og3e5cNsHMge07dSHu5zno+0rgRdyjh1g4ZToa1W6EC9fuETMdxKsD6Ds8DINHD0C+kwQKLmJeITwlOYiNuYOGtX/AyMHDcfniFQ6OSwzB0pP0Xq8LWYWFSM0vRJGLhNOZjKlhHdG9Q1cs3XwQaewi0T1HcT7279qH3t0HomP7UGTmFZr6HD92mES6Cwl1E2TlxcDhzcSq1UsR3CoEUybOZBiHuWycvr9azHplZmcgVw95MXNWQjQ2LZyJ6l98iu1nbiC6wMEzAqlziYNxj9CuZRO0C2pj7oTkkwzrazFlrG+JMx9H9u1Bnx6h6NypFyJjUzlGLTWvGxk0fLghaTn/kKT546FUYS8qL9vei8jT5fvrr12XgPza8vNJWmI+UpLySdIukqQdYYgOGoukES4RFXsD46aPxMc1a2MZR5tJWdlM4URRQQrmjR2CJt98iQlDhyH6cRRKOUosjL+FkT3bok1QO8zftN/M19ALcG9dOYYh/XqiXp0GWLduGzIzs1FCoFVp9mGqpf/hK+pkSRnyUmOxd/0CfP33P2HZph24m5ppXhqpq09elwMHtmxAi1rV0TmkLc6cvmBl87qRGPUIUydNQrW6jbE8fKcFTIyySZpE3x7Ut+puXDuHEYNDUf27L3Do8FGCSZ6vUqwNCZ/slbhcOHzgCELadSVIhyKKJwONtjU61gME+nzV3NkTUL9ONQzgSPvJwxgzpy4vMRITh/RBixYtMXPVFvaLYJj57Futhiiq1QEJyG9drA+s9+rbS9dgfHNJfVJCP/FkosQTh2VzBqNW7S/x2vvvo05wZ0TnuOHgoEz4UepJx92r+/HdR2/i7+//Bd/Xa4epK/dCzyDJr0vM1IMUxNzdj0VjQ/HZB1/gwN6zyMnWvFigqLAYF8/fQFjYYBw4th9FpTm4fu863vvr12gT0g8nT141fpmdmYz1S4agZrW3Ub1BI8xduwNFvitp61eOQquOHGjOmYcMLwd9mQ8xeVRP1KpVBwNHz0J6IV1evIztEww8TdLqNGiAD+sGY+TSrSRA9H9iw9L5S9CobnP0DxuOPNbRRf/ez/oNHBGGYWMHkFAWsK80fUQT9IuRm52ItUvnoXn9Opg5bQZiYvXeRUkZB4BPMGPBQkxftMyQYXiysHnhNLRo2BTd+49DCqsiMrZv9w6EtA7G3z/4HG2DuyMxLZuD61KStCPo07srQoIaIzs3jmnzcZMYN3roYFT/5ltcvHQZacThYpcbN2/fxvAx43Hy8h1kFxSjICMZu9ctRY0vP8WCjXvwMD3bzEj2lnpQnJOKzauWon7N6gjrPwgXb9xHgZMnIeJjStRjjB8+CvXrNcPmiH0o5MBedTxFkjZkxAj0CQsLkLRK+mvXJSC/tvwiJM2rN2LToXUlLTKao9AJA/H2x19g3poIJGToxRcEJG8+Yh9dx6KJI9CtTUsEBQWZkWUngnf/0D7YsCkCUSkZcBKkSjwZWDx7BGp9+zH+9t6HaNowCJ06djfvO+rctTs6d+uG3hxhXbt1GzkFHIWzQbrd6HRztKzJsTyWPc5s3L12EKHdm6JWswZo1Kkzpi1ZjXuP480l9szkBByI2IghoT3RvGFjhPbsha4dOhnwGjRwBCJ2HkJ8ajqcBFObpMlFJBZJ85Kkncfgft3x3p/ewK7de5GRmWPKzs/OwfGDBzgaH4AenbugSaNm+Ojjr/Hxx9XRNigMfXqOwaZwjtAdBTwJFRBcb2LhvPHo2K45WrVugXYd9L62NgTMHhzJrkFUQorfS8ZVC7s2do0CEpDfsviTNE85SSvloKtUT3iX5qOURObQjoWo16g63vn0U3QbPg6ZGueYc5KbB34+EmOvYXjvIHz49qto3Kw9Nu06Ya4u6wp5cVkB/TQDjsIo3L92BJOGDkKnlm3QKSQYPbp1RY9e/dCj33is23YEUYnJrIUTmTnJ2Ll5Gzq27IjgpiHo3rErQrt1wsBezem3DdGuc0csWbvZEEvQ9trVE9GqUyuMmDsXOSJBrPeju2fQp08vNGD+NRt2EQstcBXRKNXVdKaBJwZbl443Dy807j0KA+duRJdefdCFmNS0cWsMGDgGN249ItEU5SjBgSO7MWBobwwdNQBOl7477CKJIlUs0RSJPGLwHaxeOg29e3ZEi9atSTI7omunUPTtPRgrVm/EXQ6ANd0E3gIkR9/B7GkT0bhJM4R06Ipu3UIJ/BMxdvQk9OwRZr70EpeSBhfZ5TGStL69uqFdUDOStCS2g0Q0Lx3nTh/BiCH90KZlM3Ro3w4duvRAj/7DMXPxWsRy8KuHILxuB25cPI1enUNQu1FLNG3XDXOWr8f9qHi4SEZTk2Kwc+s69OvXG41btED7Tt3QrVN3tGvZDkP6j8Q2ErTUNNrS7XD29skzpzF4+DCEDeyPzGxNcWHPSE0PVejLJ2kS5ffXX1v82/GvrktAfm15CSQtFynJuSRpF8pvd5aUavSjJw9zCHyROH7mAOYsW4lzN+8ju0hfHdABp/sABXhy+yJ2hK/DrDmzMWXWbEyfMx/7Dh1DbEKyIVtlHFmXeTNx8kg4li2cjvmz5mLBrEWYM3s+Zs/W5Ni5mDlnDuYtXIQHTyKRz5GXLveLpOkt3+Zl/cJU1ikv5zFOnQgnmEzHxPlzsWXfYZaTrmlijC9BXkYSTh/ei3nTp2AhgXf29FmYNXMu9u8/hsxMkT/NHSHGMrkxSZVoTpqupKUmx+DY4Z1YMHcaHj58iALdmqHtIhLHm1evYtWyZZg3ew7mcuQ9Z84CtmEJ5s1aiUVz1+LE8Yso1LwRPVyBPDx5xH7Ztortm4KpM6djKvPt2LsPkTGxtMnSS1gL1tk8OmZqokZIA44bkN+6+EgayYyHzmnf7jSDHb2AuqyIy1TEPTqHDeGrMXfVKuw/ewFOHt4iO9Zx7kBhQSIundqJJfOmYWvEDtyPjGOovMdLzYOjVA8kZcKRn4D7V09j9cLZmDdjMubNmYX5i5ZhCUnUw5Rc5JfotRUkFt5CFKalYO+mrVg8i/45dRYWz52N3fTDY4e3Yf+BPbh28zbrKu/Pwc0bx7B59xYcuHgB2fR/vdDH68nGqVNHsWbtRpw4ed4CV7bLSyAo0dvwvRykuqKwZfFYtr8PBs9eid2X7mDOgkXEszlYtnw1Tp27wsGaPFm44sLDyNvYe2g7ydoe1pHlsM9E1ISzhpKWsa9iLmHnzrWYNnMKJk6abl7JsXrZRty588i8ud+jK5C6Ssk23r11AevXLsPsWTMwZ+4C7N1/BJcv38CZM+exa9ceZBcUcDDqQWTUExzctwc7t21GsTOX9WG5ul2ZlYirl09j4ZzpmDtrFmYQs5eu34JLdx+jSFcEuY/KSEiz0pNw/PAezGfbps9ZiB0HjiImOcPcDtU85eyMeBw+vIv4PQMz2PY5M4iL0xfg8IGTyEjXYJ7VpS2Rr+i4WBw6dhQHDh9CoaP4VyZp/2r5d2lHQF5Efj5Jo9OlJGeSpJ0lSTvEEDoggUWX4kvK8qh0bo7AdIFek0NFcMz317SlJyHp9AJmhSle7zHScwLmCSY9OenVu8AKaFY3MTjK1nEqjPaJNqXGouZjqEF+4eZHmKoROusDZNOKUzcWzVU6DwFUn3syTweVihAS+HRrUicM5hMPEicyD54K7GjvaZKmQtSGMvNkJ0kWgVDETROipdygckVLPzFbild7FM0ffSHPvKpEVyJLNTfExTJLzdOrUvN9QBI0PdBQVk7UVFGu6+EFY6xyOQEJyG9LytA2JBihob3pHzzizbFvi45n+hGPf5DweEksnPQbp9hZeSI5jV7pQ1/VlSnhDcN09GuIU8i1QvqQg4NAPcBU5iF2GGV6EaWyEkP2imhGqKJHm/TJdX2r17xQWy+rdRMPXMQTl951KH/U6yV0/Vqer6Wu1xXARZzLZ/l5VDetiKgxF3FI/q+2iKR5zMCqRBjkR9J6h4Vh2pqtyJJVNY/t1BwxDWPp3QYN5P9uluEoLYLLK3xhYvWDwRO1Wy97TWWAppEUMD2Joq7eqZqCBVZB/Ws+saQRI/FWV9Sg12UYvKgwKdFSWd3EFqv+DOFSNVOsh21wMa8+01fKvtSDH7Kvq6FS4aMZJJs5HMJc9TcDZYYqAidyZX0KT5SadmhbJehipLkgKaVN1UvpzdObjLeJmdYVZ+IV7qeKs2L8VWG/Z/l3aUdAXkR+PkkzL7NN4uhRL7PVKzgETg6CYwGXBEUBCZ1VBVQI120GRPaj9595BGQM1585FuWl5ooRgYCgrduJJq4KUahRlmGyUmnZcnBxF+GLGBYBRgRSjwXoGal8bhcS+PQpKX12yk2Cpo+pW8LMJp9PZdQnxjbVDjLv6GFBupqm9pYS1EU6zXmFP3q61LT1qfor3hhROq4I3A0YChTVLx594F2gyHE+2yYSq9rpyoOu6lkfKmZ6nXg0StY8HFOzyuUEJCC/KeHh6f8KjsquIWfgMS1CIn+lX+k1Ny6XBmxWtJxG175K6Q3CFjuzfm1TVoifyM/EhKiGDGjbWNEjO6QLDHToKp5E5SiCSzPY0ufdSPb0glhrrq1U9E6v/slCfmkubXiIKS5mKTW2Clj3IpFCfU/SkCEVqIJpoyQe25ZPQt/+/c0rOFJZrSImEV7Jgkim6J5aqT996pyIaiyYBqp+7BPrO5VCM9FM+b5UYb7Wq7nMpI+0GCIsHCLWWvNjhYUWpZE5Y9snlZ5MF0gJO30ilCJSsj5O/hKTGC2zpk9pyDwfVZ6ZK+poY4Ob5QXJvpd1Yq+ZAbp57tWKky3Z5Kp6Tabsk5T1kIJJaUS1t8mZrVaLfIbKVWG/Z/l3aUdAXkReAkmL970n7RhJ2j4aInRyNOohQJWaq0skGG6O7hxcN94skOTIiQRE62aUpDDfX4muEBlmZaXVUsBg3scj0uYTgzdSJtHoTWBR5CZ8yJEZr0NaadxOOreDlo1JrmtkTLtOgTJHeRoJF5doMq4okuhaBSAZwzIktUGGQUphlyHRN0XNE54GpXyjRybU7VYPh7BmBFsFSfMXzVdx88TkoRrwJGIb9fWNk3XRJ1AEXH5V4Y9sszwzUVrl/ng5AQnIv1x4eLYPbkuS1scc0BXkyyc6qes1EjZe+NQSnYgtouDSVSP+6cSsWKmIjmBCH0032U0eSwQrJcQDfe5J9nRF2gymmEpeo3eViY8IekqUX8aMbV0xKqKrkZgZokYCSfWW5RFHckhXClgfjyijickjVhUQ33SbE/rurgZ+WldDzYMDKdiydCr6hoVh1ppwZLEYB8vT1XzZcdCSRYHYDcynl8Dq6poJUF8VcYVgIJzU1X8WQHzUAFMEkPaJvdZLsH1Z+GNImvIKNImDpSR5HqeFwbaYPmGcw61bqUwn8SNpujWtfrf7XOaEu4RUeNRwZakwZ7WHRNLrZFtUAVXE9KmqUYJ8R5H5XJXKUveYKXvqIl/RSqlqqIp6Ar6EO9QX5dtnz6rCFVtZrTJ/v/Lv0o6AvIjIL38WSUvP0HvSEnDy1FEcOqQvDpDsEKR0ad9MlKXHiZyZ96DJ4fXPpbbljHJAHXrWIagwjph1O0+38oi2pbqKJEfn0ryskBkMmPjUuvZkqSbH6opTeZwcWyN1qnmrucCAaKDyBDMCRE+ZbicSlEh2vAQhL8svUb0lymMqxx8CjEDOrDJIaruN2mm9hkNtpGXdG1UdmFi3HjQh2kIepfblkXLFAJRJSwDkqFvzVtQ+k8hKbkTdp7kcUrXLzOswStumr6w+07YhebTxMjQgAfklpGP7DhgQ1s9yBL/DTIeccSUfQXta7EGdTte+m2Rc068lJr+0iuwmjD4tvzHb8hNfTv2aqvjyWHbsUPkTB0BG6Ws+BBB5KzEqNFF9rBhNT9BVHyZmO3y+b1dKA6mSPCRG38Wt2zfxKD7REDszvYO+q1eHmHl6PgxSW4VpKs2IFqYKXDHArc4SfpBImgEiI5VXxTHGqj3tU8sDFMfyDCY/JWqzmwRO5VoBVNWN27r9KYy0BrJWzxnb3DTVVYAvm0R5DN5qX6rPfWpsqRziu0ioyrLuODAPk3Kz3JTWJSYP7ZgvvGj7OWqJtaU8AQ3o713NEe1biqTpna5Py4+StOzsTHPL8+RJi6SJZGj+hZngSgekddtnjAOaJVVRUrPNhaIEdAZ+RchI9Eo9tMURqcet+Q8iQgIlkRqOpY1azl6uzK2lANIo0UMESVeyLPJiFag/vUC2hIDmpZpraLriJzWEUFekmEqgQns2oAmMxNtsMJY1gzuy72uc0pa4VVfVhekILCW6NWHiLQQycbLBTQ/zWnUVSROx1VU59UhlUYhs6T1ItuollKZtvnXr6Tj130tQ1slm7wEN6MvWjh06oH///taxrRO0CZcv0X/pGNbAxgo3J3GfD8hf7KtfNpEwt8EU5pfOqC+/tFy07vNVS8pTmy2J9Tk35ZNNi4DZS5Xg/+fzasZb2FBhxRIVVVG8EijAInzCI1lU3Q1+GH9jKWoPfdAYUxaflosv3KgR1sMP32zxT1YRSrEDVPGnRMHq40p9RrHxQOUIf58R22blbJXsaF37yOw7bttqsjHcpLX+y9VfVL7HfBP16ZiqxbYZ0ID+ntUWrb/QlTSRtJSUJJw+fQKHDx+gE7kIMARSEQY6lc8D9V8OWFKBsaJtpzRkh2uqiK4qmc9AiehRvfpobzlJE0hYQP00SVN+s07DNlEzV7kEYP4krdwOy7FBmOlEkMwtEKqVrkLNKE4EjDG2mjqbttCeVvSvNB7ZtuJUF/WFabyBJNVSJaqufiSN5esK5NMkzb8O6k+NJG015YpQGWW8UXv7JSnL9K9DQAP6MrR9+/bo16+fWddxZsLpHiUkaB6PdXybOKp8Wh4h79FVHouUWeESDcbsMPmVldbKa5cnscqglUpkRsvKWoE1tClMYHozmFPYU6mNR3PF+LqWvnAj2magcf3yQFtUD6supjyjtK/0XtZdtwd9QKPqGhu20JZpkl9BBr9MuyrEFOvXBxVq5a9k0ycyKUyyCbARrpZjOtWatmKFP6PqCN+6KYvb5VH8NQ9UMNxWex9ZBFB9btfRUlu0rvLdbt+dhqfEP0+5smzbbkAD+ntUHce2aHvkyJE/naTFx8ciMTEeZ86cwoED+5CRkYbMzMwqNOtH1v3VDqdmWJqRTpsZGZXj/mn9R/nseC2l6WxDOrKynk7nrz9SZ25npPun8Y97VjN8qrJV7j+ub0AD+vtXvRexR48eZj3Dz7e1np6WjvR0+YK/f1iayvB0pvEPT1MeX5id7vlq+3lVcT4t90P5ZBrSiQnSjH+QL72KMAsLqlCVQVzLSEtFemoKl1Jup7ItKelIS9Y68SMti/1haWZGFnFJ+MLtdNXNrg/TM39aeuqzfan+ekZZ1zRLhVGymaUl7Stfcmoabal/rXBhcGpqqtE0agbjsxhmlOkqlGX71C47TfuS/aa+SWObU9lm7UOpttOlJh3LpPrXs1JbaDM1JRVJSUmVwk0ct6tsK8u27QY0oL9H1TFsH+/ygQH9B6Bu3brWhR8/+VGStmHDOmzcuB6rV6/E4MED8frrr+GVV17BH/7wB7z66qvcfp3L16hvUF/Ha1y+9tobTKOw18z6a6+96YuXWvlfUX6qln/4w38z3x+Mvip9jeHlyrQs55XXXmW4tfzDqyzfp68wvdTK9wrr8ypee/0Vy4YdZ2xY6394hUvqG2+oflb9paZO0te4zvpKX2XdpQo3adm+19mGP/xB9t9iGq6/wvrQ3muVypYd1pV5FGfq6uszq64V5WrdVrtfbX2Ftp9VXz1/hvqXEdCA/hL6X//1X/gf/+N/VBn3h/+uIkx+Qv3vp8PpO8+EKe3TYX5qY4vBE3vdVl/ecjzgeiX11aNcTbh8xvYbLYlhfyBOcFk53krzKvMZJa7Z+tor0leo9PU/UP+bGPDKW0Zfe0X4+CbeeP1tvP32O8QFbVv48OabbxhcserL/K+9RuxSGLGW6/74UaHCFUvfeP0t2ngbb3L5BjFNtv+b5Qun3+D6m69rqbZYbdVS9XyDOPg28e0t2vDX12lfca/7yhYmvSockw2GleOyD6uF2VY6C3v86/l0W15h//33f/+32X5a/fPZ6o9pAQ3o71UNZvB4li/87//9v/Hdd9/hyZMnPgZmyY+StBs3bhjdu3cvVq1aiW3btiMigrp1m1nfsWMHtm/fTuVym9YtVZptEdb6Dl+YpUpL3batXLdti2DYU7rD0m1cj9i+zei2HdYywoRZqnj/fDuYxuT1D/fbttObdKyH6l/RBtZZdd+x0+g2hksjfHFqh1Tt3mbHmziVKVuWan0bVfm2Kc6XpqKdz5Zr6zbTH5Y+Hfcy1b+cgAb0Zeu3X3+DunXqPBMeERGBrVu3mqXZtuPkH9StDLfDzJLHqsK22ulMmN/60yq7EVuxncsd8j0ut9vbPv+L2LqFaajbtlbSCMZvZR6DNT57qsNW+rul1noEcU3YZqnKlD/ZKr/1+bnWfbrDKP2eut2nO7btNLpdup3r1J07dxEXtG3hg6W2TdooD3sWOyrUxlqlk00ql1qXRqh8xVF3+pZ2nax6URVHPH9ad9C+jYPl5akuVBvzDF76cLByvZ7Vp9ui/vNv49PxAQ3ov5tamGH5QosWLVCrVi3k5+s9jRXyoyTNvgx+8uRJ7N+/37qXWqK5JZoPUHnugG6v2qo0Vc/V8BPFmXglrFpZyo/+VZXnn9dnpapU0vKq+sQ//GlRmB1fIVWHBiQg/47SLiQEffv0sTb8nMTM6dRDMMQRs+1TW8w8U8034rrtKWbepy/sH4nmpGn+lwEg5dDSVgNItK/5sFLNZ9WcMZ8KT7hmtHwuFU1oLpq/quoy5a+VK6cARTBQ4T9Fq5QfjfzJUl5d2+zz1NeMSmrHVSH+WQISkID8NBHe2A8O+M9Vk7wwSTPg5CcGk3xajomVy6oQhdtaCQUq6/NImgWlLITrL67Pin+sXb2nt58X5q92vCVVh76oyFJAAvJblsokreKI/YckTQ+zML3tLZKfRtKICyRfZja+ctgErRyQaP85JE00zUKVCqImkvY0UfulSFpVyX8JKbf7dGFPq68ZldSOq0L8s/gn+ef2XEAC8p8tL52klWOenxiQ8Wl5/NP+qe2ntRIKVNaqSJpFzuwXZVSd75/TZ8WOMdXyiX+On6rPC31RsS3416+SlPdpQALyr5NKJK38iNXAjkRITxH6SNrTYr3u5kVJGrGBwGORNGEDc9hgVQ5IRJBSETSqnv4WHTMETS/qKaVa7yyrIGpWNuk/JGm2mporghv+4SaualGUL9cz+ovJ03X7MbUro3Wf2MESrQuVbbWTaq/ZuB2QgATk+fIvIWk/CqyKsNX8yJjl4rZLV4RYqm3LorYqkzRBgdTefr6aAv+B2PWx1D/3T9Xnhb6IKGflvvCJVoz61zsgAfnXSdUkTYTI9/odH0mzD11brPeByZctb5bojRAiR/7pJJXzModhTCJoHmspC+VgVeE55lU8vldvyLsFiMIq5dDLeaQWQaNNmXyOmgral9rsypRXSG2wqJ4JrBRXWRRcbq5cbXLzVKZKPu6vzzH+Y6IsP6YSs86f8gZbomD/umnN7mGrlxVm7UX7r0Ks3P72/MXK6xOtVNqw81WdV1KepVJef7HzVxkZkID8S+TFSVpKmtGTJ0+TpB0k3lnA5U/SjA/zx1Lr0BfouQmUzlI39IkQW+xbGRKT3sTJkA2RGsdagKlQxVqgadk1P6ZgpZAqtaDAggP9+irkS6ecVIG02faVbuxY6rfKH+UXyNtw7WG4hyUR1PlnpzPt54raqS8hmPpx26jifWrXzNTLp9btFYYwn14KrHV9okZP3ZpROlNVFraQ9TKjeG7pa1ZOnrkcXrWfYswqUpWy667AZy0FJCC/iOhQ89NnSZo5cql6obMLJR7rfVj+2STGN+htusqldwtaYU+loZrDXUvftrVm5bVwQev0MZVhfF9+wTIZV8J182Z9Q9Ks3PrVS/6NxzOP3pav+pnC7YLk5NLybcWxLBI+C1+U3rIly8IML/TFAsX78mhpFhV/FQjhrxV/viw0yjKMz9slCJusCon8unUbWXWQaFGesbLYUSapSeOfsDzWb82/8VadLXrrVzeKYtV/qqE+8We+IFOejjZMYrvF2j9W3Y34DGmhGKUw/a/o8n7TirHuW/oymaWl+i3PYm/Yycpj7bbYkVXpy5Sq7D9PA/KfLC/0MtvUlHSjFSSNhxKPbXtpcMks5VR0LZ9jyomdBEWRNPNpEKKqAESkRq4hkNULZEs8AjA6nN7S7fuAsJXfckOXT41L6hg2fqUfhViOagXbpTKnKUBRivFZMiDKQBNG0cKnCipProaZz6+oVNVJIOsg4XSwHXqRr8pktM+UIWlShT1lz1LVy/otD/H1k+bEWF9u4KmDZwjhr9RcZJAtI+pXwhb7yAI9puGPi33nJCjrqwZqmnW5gfU13/i0vvfnZyQgAfnlRIfZU/osSZPfOBhXRN8pppvJ7yufVK3MIhokN2ZwZ/maRHxIqhQmlQ53hWldCYwFi6TZFMKKUxlco0195kmeqhubXjqN/eJVW1Sa/NgMMOlbFkljgF1Bu7ByZaQhafI7LgUKzKBfqzR9CVOfZheeMNCK5r+FCT/+Z2GZtW5lN+BAcqtPxMmYdXPWqowwwnyphHUqxw+TSaXZGybA2Cu3aaRizVoXzqhs1dPXf6Z3pCpXIT59uv+4qTAXcV2fmbIs+Jdo27ZuLptwu599C6vNTKdwu68VobQmj3DZIC5VoqUSKZeVSucXszukdrLydHZbrDzPanmGlySyV1U5T+vLLjcgvzf5ZUiarXQovRFbZEKAoT83gdF8zkVXmjgK1Bv9jSNLeTwKULxuwhkBrowEqKysmIcpQdzQMoEcUEzbUqVXORXeZzuaDmwLSATApgQ5t5JwaYGE6sUAGwwkVjaj5cFmWw1jyUZVU0Gt03yo3eUpgtelE43VeCW3a+KSDVM/Lrmu1QoIsOpRvqW8Rlkv9o1AlfhKkOWSavCefWPqpTaYPlVvSNVOtpJxLuZxsormXKaM5kPPql+ApAXkVxYdan76LEmTLxUyLpfHdgGX1vGto9QcvlQ7s8iZh0REV7osEkTsEFbQjCwpmfBHHMnOK5+wfnWitvCngubIZyxSIFWM6I18yOF0IS42Dnfv3kVqZiYxqwyFDgfu3nuEm7fuICMjy/in8W1V1r/CRhkh5y1PZBEFtZZDOqrwg1uWMxu1avljatXZqrdCKPrRANFLH/c6CYMW4lmlKY0Gi2wPixIUVOBkhR3LiPXrr5VFlmwSZef1V5WoNav/3SRjCQkJuH/vHpJSU+FiuU63G/cePMTNmzeRmprClFYdLa1sz4SZfuGqT60e4p/C7WwmSn++HaBjw0Qok2VXS19OY7I8r89u5bQ+O3YdKqlJ/BLFvzI/pnZF/TUg/0nyUklaJTWAYUGfdQneImryFMXru5xudxHyC3KRVVyMXBK2Itp2mzgrv5ylpKQQTmca8vPjqTnIzc9Hem4R0vPccMgvmd7KIOeyVYFyNMGiTWRoT/9Uk8WnphipLfa2v5bbU4FWGXJ9V4mDgJSPMlc+PEW5KMzNRn5eLnJYx6yCAuQR2M33+Piveto1MuUaw1qzVN8/dTiKUcB8+QX51AJk5XK9yMl+Yk6hn4ejYgKe7Gj+jIvlFhSksF/SkFeQg6y8QmTkuniSoUUVpNG1IWhSkVzlNA0KSEB+dXmWpMkv88llsuByZqMgOxfZeTzmXfQFHuc6hO2jValFoMxVa2ceHHmZKMzPRVGxAy43w3yOpXRa9W0asQiEqAVJgAZBVIv0WGHWH8tjBmlKahomT5yC5s1aYMeevSj0enA/OgbtOnRH3TpNsGvX/vKrdgZ/fNBgVAWrWVoad1MLrJroV1EcejJaW5ZWIjnPUSuVaqlCFEIxoOKirxcRC4qQScxIp+ZQLRwpRFq+AwVslHijIY36KDsHmPpIvEiXhUMVYtdWaovSqGyltxtq9aj/n1Uz7aM84t+8OXMR3KYN1m3awAG1B4mZ6QjtOwANGjbFxo3hxqpVim3TamVlrVw3IwqiPoPjVEv8Q59WZaxYLddyUURFj1fWSglfgtgVeRF92XUJyG9ZfjmSRrXGRZZzG8jVxFySjjKOqrJSE7B96xp8V+sbtB00GKfvPyBcE3+VVwhoHMWDJ0/uYP78qfim2qf4rvon+Lral2jeuiMWLd1qgNIcryzMAjp/IBFKkq2UFVNddg2egYN/hqRpYRWlNeW2SJohnyRBeenxOLplPYKbNcR3332Nr77/BnUaN8SIsWM5akwzmdUfGsiawSwtVFi11OUqxuIlC9G4SUNUr1ENNWrUQLVqtTBxwgzcvHGvfJCoXKpHXFw0VqxcjB9qfs1++Qjf12C/tAzBjJmr4NGdFJOerbVv0wZIWkD+xVI1SctDXNQlLF8w0bzs9rvq9TF/1WY8SsnSjdDyo1WpNafJTTJSWpyGsQN7oWHdeujZawD27zuJkkIe23Rwa3DoPzNLaoX5qJiPpCnMupZmkzSlF8lITCFJm0CS1rQpSdpOFHOwExmfgI6depOkNcPunfvLMc9kMhl9KpCxgcb4q0VxtKFfO4nKq6idlcI2VbUqldbsgmScljhITI25iy1rl6F6/cb4qHodfPJtNXz17beoWaseuvUZjtsPo82FPevKnsiZNSfOolY+8a1U1KpCrPpZf3b5Vo9aiGv9VbQhJy8fc2fPQVBQS6xev4ok14HknCz0Ch1gSO76dRuZSqJ82lM6DphThRtAtttpKm2pOpzgKfy0u9gv1mS1xA55nlaktMrzaSVRwI/keylSVRn/rL7sugTktywvSNL0TbUMkrSzJGmHqiRp5sIP01rX0OiMApQSEjRHHk7uDMfEwb3RpEE1vP6Xt/BD587Yf+s2Mpm+2GQmoSjJR+zdy5g7YyqCO3fHjKUrsHl3OLbv2YpRoyehbXAY1q3ezVEbQVvlsBJugqk+imyBWQkKs5Nw8egODO/XA9fuP0SW02VumhrnJhiY24bKbOpMqHATCg1IVIiibTAQWNkhFrA4kZ4UhT2b1iC4QR1MnzYF4ZvDsWdPBFYsn4mmDWth6swluP0o1lwhFHEy5MkUYdsivDHw0KEDWLJ0EYnXMuzevRP79u7C0N490L5pM8yePg/xqfm+G74liIt8gKVMG9SlG6YvW4bNOzdhz74ITJ08Ha2adsWieeuRlpplbg9pHo9ujXo8xWbpKzwgAfnVpRJJM36mIzob0Q9PYdb4/vj//p//xv/5w1/QPnQ8Dl+4pyGWuV1nvSeNdEADouw4nD+2CQ1/+Bh/fOct1G8YhHUbdpGvMKHv0pZFKSzSoFIMvWF+LweJijHTLXzpSugTLi8Hcdx2MYOmCyQlk6SNm4SWzZtZJI0+lFNcjMtXruPM6fNIiku2Zj2oAB9fMgVpKR8n09PUBH0EXsTS3KI1tbDKNPVjed4Sa26uro6bq4RMZaZ8+NZtk7Za0zNYoPFjpWD/eXOQFHkVqxbNwGc/NMC4xcuxbs9uhO+KwMpVK1CvdhMMGzwGZ89eQbFb8+5ULvvStF8lWGIu+HPTzBOm2jHmY+kmrXrO1IJ/omZEdXaC8EX9Z9rBGNVMV9Lmz52Hdm3bYO2GVSjwFKGQA/Nr12/i9OlziI6OZRlWqzSNpayM5wXuGzXPEuEww4VdGti7i5Hy+B5WzJmFrVu3ISE7z9x1MURN9TZ1VB4L37xeklDdRTD1tevs++NxZz9FrOk2ej+f2mi2mZ1Bph7m3OCnsvFyRfbs+v1Ufdl1CchvWV6QpGUatUja4WdImnxAeCkaIzUX1enQJa58JN27hHHdW6Nbk2ro3qEZvqz5LWr37Indt+8gjWmLBGheumBRInYun4UeHTuh14gpuJ2Wgyxd1i8txmGW2SW4D1o16Yao+DQ4WJ6DlXDQMS1AlLN6kJ34GDuWTceXf3kTu4+dQmx+oWbAEKh8juqlI/tm5cvRXURo+aNxZCnT2ta0ZCt8a8xXVoBSbxbOn9iHAT26sC5Ncen6dRQ4NAk6n0TqHAb1Ckbtxh2x+eB55PsGi8aYAQVZt1QAc/HieVy7dgUpKUkEC4GTE1cPbEdoqybo0r4rDp69ba4slDJ879Y16N2rO7oOH4cbqZnIJQHzEugunD6LHu36oM73zXHnbpT1EAFtC5BdBDqd6AISkH+VtAtpS5LW19ow5xmSjLIMxD06iYVThuDN19/B97WDUbfVQMxZtQ+5jDaERSdhPfhSkoPkuKuYNK4rWrWoho8/+wQNmrbFmvW7LJMenuj1oIzvOFcRIj+GjtAH5As6deuhHl0DkkPKJ9wiSwzT9AnN30pKSsWksRPRgj4tklZEXHEJGHxS5iFecNRlipEL+wvLKSvhgKjUBTf92EV8ESaJdFik1CIPqo9L8cQtzdnSIM4QNapmN2hdooXVBm1ohWuGjMhOMTNkICnqEtYsmYHv2BeH7jxAKuPzShxITo7HsD790ahGAyxYsAKJmTlw04QeSCplG3THQgRFX3QQOdWtXk3PMF9nEJCrSPW9abv6rMz0E1vDdaK6rsqRRLm8TuYn2WWc9pchaXPmol1wEEnaahQSn0TgZEUirNV77gypMnc6ig2p0hxDK43K1ODSImne4jxEXTiFLk0bYtiwEbgVn0Jqb+6TMA/tCcNZB6uPWQePm+HCaLXPuuth7yqrC7n3Ge8ROfc9pKVuVbMrncuY2F9frsieavQi+rLrEpDfsvwiJE0qsDGASNXIVaMiryMHd07txZR+7bBu9nAc3bUGwe1aomHvMJK0u4akFQv53CRAGQ8xqW97dO7YEct2H0MC47IJpm46btTde5g7Zio+/csXOH6Z+RxuFNKJBHjmICZhyUqPw9UTezB3RCi+/uAdTF2wGOHHTuDM3fuIT8tgfZjOVYhSRx6SE2Jx6dJVnDl7GZcvXsKF8xdw5/5jpOcXw8F2CBKZWtDBX22RLpWkw10Yg/Wr5qFu7TqYPW8pErOyCcMkishBbuYd7N28BB9/2wTTlu9BQpZOHsyqKhqHl0WfqsO4tEaDluppTGfsfUzu0x3Bzdtg5dbDBpTcxVmYOXYQOrQPwcq9R5FIU4UqkwCVGPkEq2bOxwev/wUHj55HVqGeIlP/W6PLlw80AQnIPy9tQ9o9S9JKU5Hw6DiWzxiG9977GybMWIv6QUPQc+gCPE4qMjhiXslTks+TdRxuX92DBo0/w5jJQ9G0TQiaBnXDmg27zaDKW1yEUlcRz9dFyExLw6UrV3CS/nzmwgVcuXoZj548QRHt6VQukiF0crkdiI6LxoVr13HiHH3/yg2cP38J40eNR4vGzbBj924U8+xd6HRaDxPcu4dU2nZ7vCguduL+w8d49OgJcnNyLT/WAzreVKQl38fd+7cQGRtPAkaiUJqJ9JT7iIq6y/JiEJeUjNMXLrJul3Dx6nU8iUmAg0wtv6AY12/ex7kLV1nnG3jwKJLEUVfefH2mFU1j0PC3jEPOklSStHMkadPwddOO2HvnIVJYj0ISoOKCPByN2IFmNeph1KhJuB2VgAIS2ZiYODy6cw9P7j8wk/vPXriMC9fvIj2HSOJlzziLkZOejCvsv/MXL+KC+u/KJbb1AXJcIqy+/iPmeL0OxMSr/67iJHHzwtVruHbjBmZMnobg1q1JoNeQpBHLSIoSExNx//59JKWkkIgS50jAUFqAgrwU2r7H/Bdx9hL3AQesTx7dRV5uJhxF+Yi+ex37Vy9B82pfo327Dli5cz/2XLqGOzHxyC90kDRTndlwFqbj1s3r7LsLOH/hPLH8PC5eOGfwPs+tp2pVb3YZy46NfcK+vYEnUffw+MkjYv5F3GQf5GTmm+41u5LHVICkBeRfLS+NpBnyIeUxZA5wqgDWuq0o0iFA1kVqEhxPOtlYLO5d2IOOzeuhabf+2H/rnrnd6WDGMgJtUewNDOzUBF1Cu2PHtTvQ80C6CqZRXE5CDLYvnoeP3v4jZq4Mx83kdDOfTRfhLeDPw8Eda9C9VX387fX/B+/84f/gnQ8+wB8++BtqtW6PtRF75IGsTgZy4+5h8cyp+OBvn+Kddz/CRx98iPf//B5COvXBzlO3kMihtSYxazRmNVCuzpp44lCUcRuL50/Bd7UbYcOek0guKCLJdHLkm0NwicXtS0fw2XeN0WfkMly5k1zhW2apH9WXapNLO4E6j8CW8eAmxvTujm4dumPviasEXiAzKRqjB3RH164dcfDSDWQwuSBbI8m8hEgcXrMMH/7hvzFt/grcjk3SWNuMnsvLDkhA/kUSQpLWxyZpEhGashTEPTiEBRPC8Nbbf8GmXRfQoc9UBHUdg/0nbsPFg7vEVYwybyaykq9j2/rpeOP9V7Bu7270GkIiFdIHq9btJAkogcthPcCTHv0E29auwfsf06f/+je8/e47+OiTD9Gtd08kcOBSrNunJGilJH7x8fcxetxofPzNd3jrvQ/xXY1a6NW7Lwb3G4LgFiHYvecgijwlSExNw4QJk9C0WTOE74lAPusemZCIoI7d0alLH5w8epo+S+wpyaI+wsYVI9CxfUtMnDYXhS6Ge2OwdfVoDBzQAYPGjMaUBcvx5w/+jj+99wE+/uwbjOCgMz4ph4TpNpq17IC/fPgFPvr0e7TvGIq0zEJzlcmCDP6Uk7QC2k1CcuQprF08DV817Yrddx6B6GquarmLinD/9Dm0rlkPI4ZPwLXoJERlZ2PipAno3bUD+vXqho4d2uNvn36F7+oH4eSVeyh2lSAzJQH7t6zDRx9/greIhe/8mf338fsI7hCCe0npyCWRE+UpLclDZnoUJk+biC+qVcMb776Hz7/9Fj169sTg/oPQtk1brN8YjiK2Xw9CzZ07F61aBWHZylXId+gKmhdedy4unNyPbt074Q/M//oHf8Uf//w2Qru2w7kTBxH9+DamDu+Hah/+Ee+98v/iHWL+6x98htf+/g0GjJuNh5GxKHPnw5n5BI8uH0GtWjXYr3/F+++/h7+//0f87e8fYs7qLbgal4Jsr3WGKGbZ8+dNRY9ebRA2sBP69O+K9z98H/VqB+HEkSsgbw+QtID8ZuTFSBoBy3pw4ExlklZ+HOmg1pUh+wAXSSOolMox9ch9HlEkCQ8v7EJvEqmWXQdiP0ePImmuUgKooxDJt8+hV3AjhA4ZhJMxiYak6UqSngp1pSbg9MYVqP7Xv2Dexh24nZoJWiQw0QlFBAleRTkJeHjlNJZMGY+P//wnrFi3Hudu38H9pBQk5xXSTgli7l3DiNDO6Nu1M3bs2IPomFjEPHqM08dOYPDw8ajRpAPmrNmBlFyO4mmfLeGvrk2xNG8k0qJPYurEofi2fiscvRGPbKcHHo4uS9k+tzMRMQ+v4NtazRE2ahHO30jgSYQ21A3CWWNPP/wVIpgtzfNwW7c7XU4smTQWXZo1xZwZs5GSTxLmLcPD21cR1jUYPXt2waWHkabdoo1lJU54suJwc99GfP2nV8xJ4EpsoolX3e15GAEJyL9KQkLak6SF+bYkcohkRN3dh9ljQvGn9z/FobOPMG7aarRu2wdTZixFPt1Nt8Z4cOP+lb2YPrYXmnZsiYtRTzBk4jw0C+qNFau3wlnqNL4feeMyFo4di25Bwbh86w5uRT7B45gH2BqxFm07tkO7vqNwJyaZOOPG43sXMWPCQHz67TccZB3AjUeROHvxEmbMmIW/vvs31PimJrbv2E+SVor4lDSMHz8RjZppQLYJWcSY+4mxCOrWEx27hRostB7QSWOFb5KQDUXnTkGYMGOhuQqH4rvYvmoIWrSogc9rN0CfsTNw70kkHkdy0DVmIj7/qjp+qN0EPfsOw+lzlxAdHYf1azei5g/1MH/pRiSkZhjcsPHV8mqStBKStCiRtKn4umkX7NOVNKYpZJriwgKc2L4HjarVwcjRUzhoS0V8TjamTRuPej98heaNapOszMHj2HjcS0hGRpELD+/dxdIZkxDcsA7OnD+Pmw8f4lHkPezft4X9F4wmHUJx6vpDOLwuxEfdwPwpQ/HND9WwZOMWXHnwGOeuXsXc+fPx6d8+wTdffoeVq9ej0O1FNknabJK0li1bYOmKpSgoLoTLWYwT+7ahU+smGDZ0MI5duMh9E4uoqEjMYx02LF9ADL2B9GTul70RaF77B3Rjfx84fQm3WOcnaTkkwB5kpcZj14bFbOfHWLBgrrmCGh31GLeuX8KmTevxVZ3G6D1yKk5evWMGrHmFxazjVNRv+C3qNfoWk2eO4THyBAmJyewzp3U3mX3oT9CkL1fKd+YL6MuuS0B+y/JCJC0lLZ6aRGA6Vf7ggHX88ODRJWyOMstIqXRJXHM/rLkHYicEK70SojSfzCIJDy7vRK/WddC8+yDsu2WRNCcBuYQjnfhrF9C9VTP0GzoC5xPSkcS4ApZRQi8rSU3BpU2rUOP9P2HG6s24npxu5ig4WKrmvhk65y1EdjxH1MsW4JM//hH7jpwy5IywZm6N5jqLsGTZEnTp2AnzZ89FOkFYUkbyVphfgF07dqNNUDvUa9wSt6MTTdlqlXm/EXJYkSdIfnIE48cMwFd1W+LYrURD0jQRWZfw3Y5kxEfeQO2mQeg/bj7OXY+CBtTqp3JOW+6nXCkpwKnj2zFl8jCeyHqiW6fOqPfNV5gxehxu37hjbtMUMN2D21fQt1swR/tdcPXxE3MFkZSO+6AI3qwo3D6wHtXefx1TF63G1dhk015TnoCGSyNa+TENSEB+AamSpCEZ0fcPYvbEAXj7g69w/HIUDh06j0Fhg5m+M27FZSPbXYKCvFTsC1+Ebm3rYc7qBYjOzsSoKfPRPKgnicAmeIkpZRwcbVm5GKN69cb6xSuQ73STrLjhZXhU5GWShOn4y2cNcODYTeRy4HX6UAQ6tqyDDmEDcDE6FrklpcgrKsKVy1fRpV1X1K/ZENt27DUkLS45FePGjUfjpg2xcdcGZHizWLcHaN2lE0I6d8axEyfZFjk4caTsFravHYGuXdpi0uylKDbvMSMWkbgFBTdESN8hOHL9gYV19Mstm7eSvAWhQZMW2H/8NLLyctmWYly9cBQ9OrVFCxKjiw+iUESs4DjNglnj1brdyUFn1FmsWzIdNVt0weFbj5DFBIVuByIjH6Bbh55oXD8Iq9ZHIL3IiZScLEybMhq1vvsU40YOwcOHDziwLIGzzAGHJx87wtdgSPcuWDZ7FjJzc1HgdcJdmouE+BtYvHQOPvyyATZsO4XMzFxcP38IHZrVQLvQPjh65x7S2X/ZDgfu3L2LPj1D0ah+E6xes5F1KTEkbdbcOSRpzbB8xSIUFmchLy8NU8aORGjXLti6eQvySZ40L04PXUSSHEY/vo/CvHRiaTaeXD2NjiTIw4aMxL2YFOSy9XlMm+/14MTZUxg8bCCCg1vixs3rKC4uYv+VwO3ieSQ+Bv3690fDxk2waPkK5BGEs4uLMXv+LNSqWx19BvTEpZuXuI81uGbHCv8MJkvtzla4L05ahdhRz9OqpaqU/4wG5D9JXpCkxVITSNJO4MD+g3QqBpqDWh4moNJtTT11qVc3iqhpkqnICwmOLtWTQImk3b+6A92DaqJpz0HYS5KmW3eaRFtS7EDcZZK05s0wcOhoXEnMNiRNL7DVvOBSEqrLm9ag+nt/xMzV4bhKkqa8hTyARZLMNFGCc05CNHYsW4iP33kHOw+cQWxOIUkNR5hMk1GUg46hYegzaCQOHznJ5DKshrAJrMPj27cxY8wI/P39d3H40jUkOVyG8HjMCDaPiSIJjscxcdwQfFsvCCduJSOziLF6GIGEy+1IQvyja6jTrBX6jZ+Dc7ci9Zoz6zYwLZguk7+ZfqMS9C+f34mliydj4sSxGDViJHq3b4/xQ0diU/hOXH0YB73WVyQtrFsQeod2xvXISANWImllpYXw5ETh5sH1+Pq91zB18VpcjrPATLRStTbu7e/rz9OABOQXEOt2pz9J07XxFEQ/PILZU4bgjQ+/xYmr0YiLS8aS2TNQt1ZtrDtwCdH5xXj4+DEWTJuITsGNcOXhFaQ6cjFyyiy0CumOdevDefxn0+cSMW30ELSu0xBjBo/GwmXLsWjlIixdMQ3z545Cv7CeePXtr0mKTiI9Jh771y9Es5pfYOaqTbiXmW0GPPKTtNQ0TB03Fc0aNCdJ22Nud8Ylp5CkjUPjJg2weecGZHsycTvmNpq3D0LbLh1x/NQJ+g7bU6Zr/newbc1IdOncDhNmL0OhQAsx2LJ6GNp2bIXB0xYiiUEKlbsdPngQvUksO3bpilQSNI8Gs2WZeHDrIMYO7oqv6rUk+XqAbCYWulr4oUGXHhxIQ3L0eaxbPA2fVm+CsIlzMWflKixYOheTSMaCgrti7vyVuHk/kvhZirSsNMyYxvDmdbFl01pr4rx5SjMLjqJ4LJjBNtaogREDh2L+ksVYyP5bsmI65s0fhUFDQvHWX77n4HY3Ep7E4szu9aj/9QeYsGgZMZr4x3qJdhfowYFZ8xDSuh3Wrttk+s9cSZunK2nNsGrVAhKpVCQmPERIUBDGj56Ia5dvmPOIOZcYcOQ6iZF5MIFY/eTKaXRpoStuo3EzOhVZTKJXnBeUOLE6YjNadu6KqfMXIisrgzDOntWdHP45HEXYs3U9mtevgdFjhiE2PQ0ZJJKzFixAy6A2WLh0CQo4YHeyH8zVMhuPbXLmr/w3WoWUZ6tCn5MlIAH5p+SFSFp6SiI1GWdOnMKhfYcqLg8TBMwTOYZOWF8J0OwF8x4iOY1InOZWcHQGd4ohad3a/ECSNtCQNDm5m85QWuRA8pVz6N2yCQYNHkmykYlUxqkYMQ53YirOrFmN7//yHpZt3Ylb6VmGpOWzDF2G99LZdLs1NykeO1csxsd//DPC95zBo6xC5LKyztIiZOYloW6LVhg2YQau3bxHuzSsz6sIGLylSI+NwdZl8/HJX97GtiOHEZWX55v3pqe1SNJKY5EWfwHTp4zDDw3a4eSVRNok2Ll1FS+XwBKP6OunUL1eY/SbMB8X7seaJ5/Mw6RcGueV99peXFpAgMokKOUxiESTZPY6R4ihHTuhdr1WGLsgnCNHksc7lzGwWyuE9uqIS48iDVgZksY+d+XG4Mr+9fjonf/GzBUbcTmBgMR4nQoDJC0g/2oJCWlbMSfNHGvytzTEPDiCOZOH4NW/fo+j16J50nTjwK5wtGhcDz2GT8f1+AxE7DqOQWEjMHLYUBSQkGWXZGPE5Ilo3a4LwsM30zEzUJD+EKP7h+Hrv32FujUaoXGzZmjeugmat6yN1q3rsvwgtGjdC0cPX0LWo3vYs2gSmlb/DCt3HkZkbr5vEGaTtMkkac1I0naTZHhJ0pLKSVrErk0kBzm4H3cXLdq2ROcenXHqzEm2RaSJw8nS+9iyciQ6dGiLMTOWII8DwLKyGISvGIbg9q0xaNoiP5JWhkOHDqJX717o2LULSVoWCRNrUpaEh7d2YfzgjviCJO3A7QfIZJ/5LsYbHkMKwpVUpESfw9pFU/HOxzXwReN2qNcmGM1aN0T7Tq2wZsM2JKVlcvBLAlVSgrTMZMycMQZhvTuSHO41VrQfSrxJyM95iGkTR+CTv36CWjXqo1HTxmjWisr+a9GqFoLbtkKzoB7YueM4Uu7fw4kN81Hn83cxn2XcZhnW3QybpM1F29ZtsU4kzVtiXrArktaqVVOsXUuSVpSA+/cv4bvvamDqlPl4eC/aAimpyBrrK5zUrW5XYT4iL58lSWtGojgWl6LSkWZa7ybxLMCC1UtRP7gtNu8/jILCPJ6P9EoPTR3h+YAk7e6lE+jcqj4JXhjuxUYhXSRt4WL06B2GLRHbTX8aGNYxqY41deCGAWo/5b/RKsS2UZU+J0tAAvJPyQuRtOwEgiT1/NHzOLzniEE2y6l0DUsUQ59Z0UPX1ru1rTDruDdHrUY6nnTcv7bTkLRmPQdgP0laDqP0TqSyomIUPryEIe05MiSoH73xxJAN+Y9+siPjsH3OAnzz3gfYcewEnhAUBBCFdOgCAqI+46JicpITsW3FUvztz+8h4vgNROW7CPB0bWcK0pNuoVbdWhgyciyuXr+jgjkQ1giWbSAop5KkbVq+CH977y0cOnscqUUF5tqgg6PlYnc6iVw8ctLvY+Hcuahdqx127LqGrDwHSj0Eao6yHTmPcftwBL78ri6Gz1yLW/HZcLL9etTdgIHdF+UerNZZ/efS90C9umRfhPUrFpKkNUP1tgMQR4ROfnIL4/u0RY8ubbH34g0zSVjAqKuWuWmROBi+FH995xWs2bYPdzPyDLCLpKkoI3bZP6YBCcgvICFtQ9Cnr/WeNJ3zzJXrkjTE3j+E+ZMG4ZW/fofD16OR7y7B7evnMWxgT7z9wRc4cPohQvsvQNPmA7Bu4y4ezzk85tMxespItKJNzTuCKxVFKY8xqv9gdGsfhrMnr0Ff8TBXY8roVUbpCwQizc8sy4zCvsXj0bz651i57SiicvLNg0kWSUslSZuIZg2bkqTtIslwI44DU5ukbdu9BcVlBXiS9Aide3ZCt54kaaeP07CeNEwhljzGxuVj0LZ9CEaTkOmJyLKSeGxYNgJt2ra2rqTRly2SBhw4dBg9QvugQ9euSM/JJEnLpa0EPLy505C0z+u3NiQti4lVP0mpPJr4AG8ykiPPYN2i6fi2RQ8cvvvYGkzqjgJJo64n6eEL88UBSnZ2FiZNGo6+oZ1x5NB+htAoSVopSVpe7hNMmjyWxKwDDh27AIezkDY0KNU0Dl1pAoppS09HlmbH4tTG2ahLkrZg3XbcSX2apM0hSQvBuvUb2X/eCpJG0rxmzRwUFkTjzp3z+PTjbzB5wkI8uhfLSjKzYNBfvTyD5BeTpJ1HpxbNMWj0FFxNLiBJKyUe55DQx2PWosmo1bQRNu3ag8KiQmKnk4eWrhCWothRgNuXTqNdy4YYNWoIYtNTkUmSNmP+QnTr3Rebt+0wxUrNVTx1sKkHG+tP0KT8fx4+qnufp8/JEpCA/FPyYiQtPg9ZCbk4d+wiSdpR68A2B7EohpvHuIOq1z94qbqWZiWpTNIySNL2oFtQTbTs0ReHb91FHuPNU0wEtdLsaIwPa4duHdsjfM8xFDDYSWATrj+5dQ8zh4/Fx+++j7NXr9LpnAYc9ERTIQHEvDaD5WQlxmPr8oX46x/fwZYjlxBFElXEOpVx9FWUF4tgjhL1Lp/dO3aaDGVu1pLLUpK0G1evYeyo0ahTtw4u37uJXLeTLbKuDZYSuEq92XAXpWPjqjWoX6MFFs7biKysXNpmJb05yEt9gCMbluOjz2ti+spdiMvXN/t8Dqsf4736KYcIqi+K9r363JQnF2uXLUD9ZsFoEjrekLTizHjMGxmKzsEtsDJir3kwQB95IX1EfPQdLJs7HX99910cOXMVacUec+JRudoP5WX/Iw1IQH4BCQkhSfO9zFZwYaY+iKTdE0kbTJL2PQ7ciEYe/a8gJxmHdoXjg/c+wsBB01GncX/0GLQId2IyeSzT95CE8dNGoFVIENauWWnwpNSVhblTpqJr2+4IX7eNBeisax3U1h/XzPHNcr1pOBgxDy1rfY6p89fgAUmG5n3KIytIWhOStB2GpMWnJvtIWiNs3bWVA8JCxKZGYtzYwejeORjHjx6ibXpZiUWwNq6YhLYd2mH0jIXEDhKc0kRsXDYGwW2DSdL8r6Q9RdJyK0jao5s7MGFQB5K0Voak6Xan5qSZTKqpSJo7GUmPT2P1wun4uH5n7L79EKklXmsenNCKydTXwlWpSNqE8cPQo0cH7Nq7Cw6PD6HLMs0UjcWLZqNVUDssXbEWDofQQ9gkSmgmkZjyaYn9nY7zR9ag4XfvYyzbeCUmCdksS6VWkLQ2WLtuHYo8bt+cNOt25/Jls5GbG4u42Luo80NdDO0/CpfPXzdwaCDRFFSx9BY4EXXpLElaE/QfMRbn4zKQwlo4UAy3Nx2rV5Ms1quOYSOGsH3sP55fRNBLeHzpytrqVSsRHBKM2YsXIYUkLqWwEHOWLkOX3n2wYUuEdYdDZatMu1ybmPkr/62+f1ZU7efpc7IEJCD/lLwQSUtLzkZqcg5OHb+Ig3uPkUww0KCfaEw2UtJvI3zHcvQbMwr7z11GaoGDMECQNF5ID/AW05tTcf/qHnQProl2BKezN29phoV5qaNHL4p0ZmD94inoENQC/QaMQGxChnnZbEFuITZv2Iw2rYLRu1cfxMUnmnfuyLcEesWsh9YFToVpiTiyaQm++fAtLNsUgbupGQS6MvOZF5czB8tnT0Bw/eoYN3QgHt5/zDASOK8HGakpWLFyLZoGd8GEOUsRk56GYrJDXaEzzswm6B0/pRyxHT+wH51atUHzBk1w/tIl5BQVoLgoFzcvnEDH5s3Run0/7Dl1Dfk88WRmJGDHplUYNXoi9hw4hfRM3TZ1wUuyt2XVUty5fAFejvz0Uka9XT0m+gEGDR6E/7+9936rIkvXhv+B77q+6/xyrvc775xzZs6kc2am48z0dO4ec8aIEUUQTIAYMWCOmHNCwYyKCRUVM+aEAUFUQHLOG3becH/PvWoXbBEd27a7PdN1w7OrauVatZ6n7rVq1ar2vYdg2to9KJF8HZZKHIleLfXmjZFBocjIy4NFbk5V1Tk4fDgGg3z8EBAwDo8e50gPmuOY/DYCx9lojKVeeZ10Y/MyMWDgB4DnnDTevNT81foCZKcJSYuYgl991AbxdzJRYeOCpGbpxF2Fd9v26NSqK9p4BWD+poMosHLxhyq5ARdjwYIZGDBQiMC2bWJTqEsmnDkai8lBIzFu1Gi1Hlh1jUV9SaSqsga37yRj8aotyCsulQ5jBW5cikGwf3f06DEQN+4+hdlWj8zMTKxftw4dWrVB53Z8u/MQau02iVOE+fPnw8vLC7sP7IPJaUFpWb6aC9a389+xRQhAUWkZyitLcPzgJgzt3x5tO3fCrBUbUSGdyAZrFvZtngsf36GYsHgj8sRIKbMpfydPxmPU6FHwDRgmtrIajvo6sTFC0u7EYv5EX7TqxUVqH6NSKk2RNBIGMglF0gqR//QqojesxKckaffTUCzGz0oCLDWl2Vz5lw1tYmVlBZYsmSekMBBHThyDRRz5rEOolRDMciSeOYLJoaMw1GcA7qckqy8tcPpIba0Zdx+kYt6yDXj49BkcQkZT7h3H2BE90LlrL5xKFBsn162guBh79+1Dnx490aV9R+zYuVMtdMtvLi9esgQDBvTD1qjNQp7KUSH1t3zBbPgN8MbmjUKgpP64mDA/OHPm+HlcOn8TlRV1cEnvvCjlBkKG9MSYcWNw+l6KeoJQLXbfUW/GlQtHMX7kQHRu/SnOnElQ18Eudryurhp3794WO+6P0VPn4uilGyh3uqTzasbyzULSpC3ujj2obDo7/4qksSrkuEV5hX1sHsRTDBj4PngjkpYvipgvhOf8hWuIPy4kTWdFnJOBYjxNP4vJMwPx+88/w8pdB/GsnEtYSE9MSE3W4xSciN2FXRsjsGTmKHi1+RidO3fEzHmLsHl7DI6evii9Lj42rEHq/ctYvnAO/AcNxZL5yxG9aSvWLl+N0NAJCBo3AecvXoJZjAeH6Gi3aPQ4oqYUQ36cdZW4f+ko/Hu3QWBIEGauWoPY84lIL5beuPS0nty7jE2LpmJq8AjMmjkX6zdsxVYxFisWL8Jk6bFNW7wBl1My5KZhp7mTG4OYVDlXjZSKyDnnpD/Gjk1r4N2tAybPmI7lGzZh7fqNmDtjBvr36Y9te48jPb9UyKcN+VnJWBAWhL9+8i0WLo9CZk6ppEGSVoANC2di1ZxwbFm7FFu3rkX09kjMFgM2InQcwpeuRcLdNO0xhtRh+oMb2LhsIfx8fBARsRBbIpdgzZq5mBA2XnqHk3Hy9FW5KfFRBQ2HNrZpk1/1hUKDpBn4iTBk8FCEukma1sxEWxsK8ezxWaxaHI7ffNQaCbcz1ZcG+HgyP/Mp5ocE48sP/4w+/sHYdvaKeszllO6cSzomC+fMwuCBvti9a4/YCy69U4eCrIfYF70WoYF+mDd/MVasjsTGjVHYsD4SK2V/ReRe5JZWiibUoCDvFvZsX4qOrdpj0fxV2Lplp+jRWkwJm4zBffujR5euQtIOotZmUSRt4cKF6N69O3bF7odJiJtFSMDDKycQNMALQUKwIpauxtqNm7B0XhiChg+AV79+mLlyIyqFZDRY87F/c4SQtGGYKCQtX+wIzSa7lJwbFhQ0Ar7D/FBQa4KNb8e7CvE46TDmT/JHG+mknXmQhiohECQUGkmjIRLb5yxFXvpNbNm4Bl/3CMCxpDSUSjh2zNhF06wiGYjEkf/KykosW74Io0NHIi4hXrrVisrJH69FDUpyHiJu90aM9h+AmQsWYOkGqb+o7di8JRrLV23CgjVRePgsD1ZXNUqKkxB3cC26dOiIyZPnYsPGaGzctAlz58+D/xBf9O7eA7t37xbbJ7UtJC0iQs7fZzB27toNq80KK+sv6QIWzgrFpEnBiFi5Eusid2Lb5hgsmLEcRw6clvJapC7kipc+xbJZIfD364/xs+dgXcx+3H6ShRohXMX5T3EyNhKThveTdCYgYvlKbNqyGRvXr5QbXDiGT5yJXScu4HFJpbKhfHFgyeZNGD5uPGIOHm4kaOpxp862WhJWu9ZwX4BnEAMG3ibejKSVFAhRKxKSxsVsz6inFtoQk1hX6aHm5t7C+s0LMWDkCOw/k4gifl9TNMBuMeH6mVOYFRoE354d4NOrLQZ5d1YrU/fuOxi9BgRg+sKVKCgXI+qk0a0VonYLaxYvwZA+AyR8P3h374UJkyYj/uw5TSH4eFS6l1Q0FkN/hKAplAMlhU+wa9NiDA4YhG4DB2LmirVIkp4gSWODy4TyrBTsjdqIwYOGoGfPvujj1RX9e/XEMgmXml2qlJqvQXBEip8PURlwTF/XSjEgJQVZiF6/CkMDA9Gjvw969h2A4YEj5eYRg6KKKjFoUjYhheVFGYgRQscPNe/YewIFJZI653o4K3A3MQFzw0LRr0dH9O7dGd6DeqPXIG+sjorG/axc9ZammlvmlAI4zMh49BCbV6+RuuuPgQO6oX//bpgwJQxxpy9JldDoEpybx1FGLhziHkmjj6qbV4gBAz8AfNUXB/S3O9nQ2KLLkZ97BzG7I9FvaAhupxXA7FbimooKnIuNRdAwfyzdFInEzCwUiQe/z2s3V2H71ijMn7sIZ0+fg4urzqu3K2tRkJ2K/TuiMGDgUPT0FrvSewCGDg3E0hXrUSFpc24oZzTJ7RrFhQ8RMWsmRgcGwWfgEEycOAl7du/BuVMJmCdk4PzFC6gTQlZSUY6dO3di2rRpOHPhPMxq4VpJrLYEB7asxdhRo9Cnz0AM9QvE/j1ROH/+JFYIYdm87xBqXWIonDU4G7cPc+YuxrpdcSgVY6X6esIObt+4glXLI7Bg4VyUmk2wix1tQCWy06+KXVmE4KmzcSs9GyZlRyRS40ianG99lZCUNMQdPoDgaRG4+igbVSpt6r7ebaVdZnjtUeTumB1YunopLt+6rkyZesqhwtTKQQVKc1Nx7MAuDB0xAt36+aB734EY4h+IOQuWIq/ajFo5HZI0pysPNdVPsHpZBPwG+8v590dIaCh27NqJk8fisXzxUpw5cwb8rqdZyFRMTAzmz1uAs2fPwyknYuect/pyJN87i6VLZqGv3Ad6yfUa2CcA65ZtxcN7T+W68nwlQ1cVLpzah2nhoegxqB/6Bo5C/MUbKKvSnjxYqvKQcv00goNHo1e//ujdpycGePcQUueLi7dTUFRnVU9qWBsVNht2xh3BonXrcCbxskbOePPQbXpLwirXpQV4BjNg4G3izR53FuWJcctH4vkLOHn8pDaSpiDKXm8TwkRaQ2rgfvQof1xs1WU1ibJJU1YtWVwloqNeDK6jQQSoE6JnEq20N4jB5eMLisRTvUAPRXFvNHCHSiaidJnHDEs3d4+Ta7bZREU5rE+d5z1AgcxOvY1JVx7zR4ybFIbz0nRwIRH1+gPLzsi8t9DbU7HFXdli2VVZexZMLxCtAQ/FS7idiOxwWM7Ot7nc5pJvWonxtUsmXLuI8804M4Rzz1RqVqkb6YXSWquotK3MSqCKIfsWNbKo5a+9iqD9tQgGay4GDLxtSLvy9RmMsWpOGhuZWyekhfPNZG2sVzpE0qaVOno0V+5S5bh8TqXoUK3TAptDdEQC2u1iQ2wSk8qg0pPQ1DPRbao37QHj6znyRk1N4xxOtd5hvYhNCJsYD44y2+12WCz008AOj71B6I6aLCVlczolKPOgTZN8aT+ohC7mKbk4OFrNjpEam1L5qS9+sBNLfZUo6isKbj9lL1xiYey1Qkj4ahKtpqoJycIEh7NOyqsolNhKLRt1IvKjhaOP9liTLyWxCAzC/DWSRjIqOXH5I9obegpoGeir1RrPh+mwxBTmyNe/tHyZC8tJYZnrJA272Hg08N3yCklb6sBdP+rzXFJIfX6vZoOboL4XKu4um0NNC3E0VEkufNRqliLyPCQak9MLJ5k32OS+IvVs55cFXLVSJj4V0NqEdjoSSc6vwc6OPeuf11J8KAL+eiSn4rFW2J4skqEKxuCsBl3o3kyYjZIWwLOnvMTbgIE3xhuRtNKCPJF8XDp/HqeOn2giaWzHYsBcQiC4or/Wpvkr+3ysZ62TsAykNWZFn6Tx67rMRRUtovD2ej6qoxEQtaKxdYgxrjWLPbSLAZdjGlSVAvNTyTcqma4pHN1TQ9jKVJFiqQeWkpdLjKRngd3iCd2NCUp4vqtKqafVp6XkxDlGYTK0Ym6hAaWhpDfDWm3VYgC08+Ar4S4xXE6rlF2sdgPn3ckNRlv2gycgJRWjr9b4kbxYbm0MjC8caAaf2TUwvPuGwF6m2czHsNppK5Fy84PRal06iau5vgI8j+ZiwMBbRwN8B/sISQuRfb21Uou1t8HtoiOqtUr7U3osHbcGO5fu0do9/WzSpk0uCyxOfhBd4klbV6PGqncmyqAUXoTKTx1hXHZY6C37HEHjjZrJq9s15345auA0VYoKiraJXXBwIr3su4T4qY+LS0hqo07S1M1abaXbQzZJUlYnhIorVbPnRRsh4S2ilHUSX9RTEQEmRNXmABzND1OhptskHfXmpHRGG5zs3NKY0IdLSIjVor2SwBJF6TlFRZazUEREtnyL0UGby2yYD0UC0YJotIqsR6ytHLJqmAT9VZpKxIW2Vj0JkfOXQDYnrQ7PmzZaqztFbmSrmXDGkfBcmJxLqahUNWiERrsufBOUNlf31Ukat8yHpRBLKftS32I8XbVirUnKGEGknvMThRUyLYeEcfBNVInDslmEmDnd10VSln/uy1blxi1FflX9yL1Drg992AZ0As19FUwqgtFZh1o9Sg7NxCPJF8B09VwNGHibeCOSVl5UhOK8fPX5pIT4U02NV1opG3pjo1bQPEgaaNS4mjS9aBz4Vo0yQCIMpREom9g9i6Qjiq+0RuI6RJGl+6nIHw2nO33l7VYuTcR00AgwD13pJGWaCBoVZbbEw8k0WSqmIVuiMU2RxmMJR4PNcilDI/kroyzkivsNQtho23Rrx/zI4Zwsh4R3OCwSn+dCkibhaZh481FWVISjdYqkSToqfTFUcrOhUXFJHPUWqZSX5adZYp1xfgZfbuBNhefI6BJVMyzucvNmoz5KrSqFjt9RDBh462jAECFpY0KCVYNV+uDWZa6h6JTG3Nj0ZIe6wqVwpAWrdk+NdYo+qOVpJDzdm5orI7CtUzz2BUovRLilvZF/NxhGlJcj/2RObl3XRsnkX/ZVRAF/NYvRBGUfGIbnwM4WbQPjUu8EJDd80Ug0Vak6k6K+eqolQ/KsNcLD+tBpkxwrd82fLtxXaXBHgTvucOKo7KJ2qIXVfORXT1PzYBma/HXhL8vQlJ7LfR6sN9pnPRVuGVoD4+gETUulyU8g6aiyMT13uhS6awG10CSTJJqsqHrpvKo6oheDyT5tJvd51fmn50SC1vy6qIDiqokbkhjtsRphk0OeA7vs6toofxHtFPTNdwbjvEk8Awb+EWbMmPHdSVplaQUKc/Nx8QxJWoIokta6qWdKuV4A1UoUSjSOCktFoOLTkFGUERM39rrswjrY66HBZGLKkKuelxZGB/OhMjcaPREaWBI5F8MznoSjcWB+BFWahEd3U2SNedBPtrrwWDNUcvOQ9Dh8rwgiRUiaGhGTHreLhE0vvFuUQZK8WRYaBhJTfm+UBkKBGwlDUUSLc8zET63rQ5LG3qX4OdiTVfs0Lqw3Ghj5Y5pSRyRqTIOktF7KwCQJVW4pJ+tMy+sNxYCBtwwfH5K0EGmX0mbZRqXtqjbMNkt9d4Pt3Clt3y76IK1d6asichw5USPNLTRYXb8U9GP6aaBeqDmljaDOUP+ZL/VK8pEy6CStUVqCuOsdOHWo9I+OWjqEOifmSXceu8OocG7ofgSLpoiW+5ig9/NFlgNdpF4026DVoeqgUueV30ugRXt9uJPi5uWpaj6qft2iOTQJ/WhLtbptCu8O6bbH2jHPl9tGYTg9TU/QrSlQYxhlK912U/PUoQVmPlpbkuutyiTubmEa+jno+XqKAQM/Ntju3oikVZRWoiC3EBfPXsTpE6eFNIjyUf9oAF7SlqWZSxD+cUud0BRXPa5wKwCVmI8b1LwPN/GgcJ/6/VzydKebiNtOqXQ00kIDxhwZR9sSWt66sOOm5a2H04XHdFckTcTlTpOihu+lfBTu0zh6QpVB4jQK48mW7rq//IqIGwkXH9Nwn0PxHEUTN4ZxKsImhkbiKlGV646jRtLYH9SO1Y3BnT6TVudPG8UoenbfQZi/IYa8bVHrpIWMkXYpOsI26m631A/qkw7RGDVXlfPOOHqmxpKlQbtEP9iB0xq2Lu5GS11R+9ywEesKoEF12iRP7UATlknXTZbHQb2mTjO++8atJ0kod7Uj/9Rrd5m1c9HOkfuEvs/0GV4ngI1pCJSfgC5i4sTWSBzlImAecuAOouKpPNzlUgSNZIT6z/xFOPLY3B49B6bJamkJLUTzON2WvJ8Dy/ecPXeXk4mwTHonV52HiCJD7lTVY2vZ5xE77zxlCo9VWL0SdNCjMX2GYb1qJ6Y6xnwKoYiaHk+lJH9sWSyjZrtVmXi91fXTrpU6B/f+c+Iu95uIAQNvAr3t6I87m7elV5K0gtwCFOUX4UriVZw5dVbNFeOE2+8rNpsNVqtVbVvy/ynE2oIby/dWysg0bJwQy2NuKUxXxMr1nVrKwx2nMV4LYbhkSHM3Qwz5iYUjaSEhIS+426yi9xa9PcuxtGmz1YxaswkWu0V0kDbBAou1DmZLrYRx60ijMF5TfM1N1yW3G3VWbEtTGE10PabdMVuYhzsMdegVeqRslbvMus1Sbu74+r5n+vq+Lp7HNsnL0tyOipvN043hpa60ckk+Uid25kc31qFZjpvl8Zw0T+8tCs9FF+XGMqpyan7q/Flfbn/l5o5rkevEfZt7X8X3kMY0PcUjfV5nm9sesp1Ype1w+9z1V/ua6GH0cM2Fy4OwHJ5iFWlKyxBDfjzhSBqX/mFnwROvJGl7d+9Tsj1qB8KnhOPjD/+MD9//sFE++OCDRvnwww/x0ccf4YOPP8D7H76H9z94X7ayL9v33tfkfZGPPpIwEv69995T8v77jPuxuH0kxxJejrlPN92dbpp82Cjvvcc0PfIR+YAi6ev56u7vyT7L9qGIcnfLRx9LHuLGdP4kopepJWGZ9bJTeC6e4hmOdfGBuH3IPEQ+YDnFT+3L9v33/qT5sWx/kn3xb5QPtHDcZ7j3ZfuRuDENxv3oA6lnSf9DloH5SZ19+P5H+Oj9j7+zvM86lDQMMeRtyr/8y7/gX//1X5UeUDd0faHfn6S9e4blsRJp65T3uHW7eYajsL3Tn3qg65Tux+MPmRfz+RP14uVtW8uvBT9Jg7aiubtnWZrr+5uIljfT0OXFME2i1QntBM+LopeH5+8pmm2hbdXT5JbHutvLxDM/EdYtbVOz83yd81Zl86gvXWiXmZ6ysyIt1r+IXr+8jjyfF8JI3A8+ZDmYhy6M10JY8VPXWpXnRdHanFYWXV5MwxBDflhheye3+Ld/+ze0bt0a6enpbgam4ZUk7c6tJNy5mYRjR45jy6Yt2L5tO7ZFbdMkWmRbM9m+DdHboxG1batIFKK3cT8KW6O3ishxdHRj2KioKCWam6Qr6UVFRcuxpBEtx3QT0Y5fFIZlmlEqD13EvVGa3LdKHtGqbM+7R2+X9MWN/iotd5laEs+yU3jsKXoYiu6/TdLcxnqQ86fwWO1Hafv0i1L7zUTcuW2K5xbJQ9W7EsmLeUo9aNeDdfjdRC+3IYa8Tfniiy/Qvn17pQc81vWiebjvIlpbd+9Td5QuNfkrfXLnw3DbaEvcfq8rr1POl4V5nbi0WZp47v+jOC8XvU6aRCtDUzk8j18lWtjGfcahfWQ8jzp+Pu1Xy3Nhue+2idxX0iy8Lno8JY1l8/QXUWXzcKeb57EhhvwvErZ12soePXqgY8eOqKriaqlNeCVJKy0uU3Lp4mWcOpGgP/JvkhbQIH/17j/u80jNNZG/18Urkn8OTPFtyttHS7l8D/Gs+9cVAwZ+ZPj6+iI0NFTtNx+6fx4tNdjvI/+M+Gc+tx8Snu3iVWLAwLuBWbNmoVu3bu6jJrxzJI3J6rSkxSw88vYM+zbk7aOlXL6HcEKhfv6vKwYM/MgwSNrbxD/zuf2Q8GwXrxIDBt4N/K8gaUySofj+ji7PZaPny0BuD/3wbcjbR0u5fFdhLfDtMu0tz+9M1AwY+JHxZiRNh6fbq+Rdxdsu3097vj9s7nrqP0QOnmm/SgwYeDfwE5M0jaLp8lLVEA/66bSkZZImPzT87teu6eSZdnPxPNJK4+miCfPh9jtBlcUtEpsvl+tnqpwawSPm4BaWWydaOrjvKW401R4X+zRImoH/HWgkadL+1IoZCs0bJkXXQO7r8PRvCa/y+yHxuvm+LBy1+cWz/fGhl+/1SsJQtDwvD6mn9ybQ475p/FfBM+1XiQED7wbeiKSVlJQquZR4CadOnnK7NkfzBk9jxNVwNCPAxVm5ir+Da9SIi8PVAJuT6yXRX0I0RVPrDfF1a66nQ98XzYgcKZJD0Xz4q4n25xlPM4u8SzRRPrpo/k37LRLCV8ChvvkpMbjoEc/LaZXztEg6Fjgg5ZeUuLQPF7vlit78FIr2sRUuaCu5eZRdDTSoHbd4QDsf/rE+WUIJ8CqSZsDAOwCStLE6SWu8w0trlrbPb9ZqYGPX2jTX13JaHeLn2ZhVpBagx9P092Wh3hQtp0dXXUFfDKH7Kh/aJve6Xp5gaanFcpbKPrSIl2fxFsEMeFH0T6jw2BO8TnJNxLZx3UjaYt0+tozXLzRDeErzoxfxKr/XhWceLYkBA+8G3pCklShJTEzEyZMn3a6eaKnRUzQjykcdXDCQBM3mdKkFDG2i/FYhaHYRrgKtLRApSi7GgCtpq+92yn5javqOMgRMV6QFkqbvPW8y+Msj3cxw39NP+3Wn6nb5x3AKkay3iZEjUeMikw5+g7RWcqkT02eTrZRDEpNTc5M0m/jzU78WyYSfqOE50BgKbWMSslWnJPsu/VhCsxZ4Ro0Eja6aR8tiwMA7AI2kjVVtUidp2grx1AN+s5KNlR4aSWgkaWz4ys/d1lsE/agPmo3g0dtEy7nqOenyfCiWxn0m4kUl5lZ5NYJ+0rUT6yA2rrmnjqaEXlaQtwBmQqKsf9VSux601dqisNw6pSPKRX9FxEixSIylwHI1lo07LddJc3iG1KVZYi3gH/m/DvQ0XiYGDLwb+JFImq5+VGlRbvfK3rRZipyJF7/hSRPBjxc4hLW5JIxaVV8Xkh49JdnR7bZmKhhTtsqYaB7aXxNoDClNbtxTqbn3dWj7nr6vDZ6QnSRNRJGuOkmnTkrGkTT3B6RFSMIoalXsen6AXURuVOBq6vzygHiyTvihdvXdPNkySZI7FZ95NZaQibkPXyYGDLwDGOLrh9DQcVrbp9pyKzvaiLI0cKXL+lazFQqqHfOH7d3t7vZqggrUbO/HgJ7bizmypNppih87YC2QNFo1fjKcJI2jaS2CCVGalP8HABPnh9irYTNzsfJHeJqejuoak9hqG+pqy5D57BHupz5FqcmsPrjuvoTaD6M3lo8/aueV8IzmKf84JvF6oV4OvYwvEwMG3g38iCRNszTsOZOgKZImvTSbiFmkToywRYLyW7qNoGFzmNFgrRYOIyIG3c6wEshs1wPSVPCRIYmR7uZh1dxOfEmBH5jhQ0Idr28UGEKXV0D3dkl57JVSnBohnSYhXGY5R7s6T7MwLqtNes1yDiRdilg6haRZqiRONVyuOthddlgkbI0SIWyN5/USeBavJTFg4CcGm7qP7zCEjJ2gOlhOUc+mZk1dtcqx2U3aOJruHlFvDCM7HI2qZ+fnucg/EJj+98tDty9NZedWOTSC/jo1ZS28CInAeCqunqI7EW50aUSLjv8QWgdW7JCzEBnJCVg8Ixide3jj2t37YqsqcPv6Qfj5dUWrnn1x7Pp9VEiBWWYFFomFJwlV5XxJ3spd8+OvfjYtyUtSeIvQy/IyMWDg3cCPStJI0Pg5k1VrVqP/oEHw6tkbXbr3RPdefbA+MgpPMp6pkSOLWC1Nz13ISk9D9IY16NG1I7y8uqJ7z14IGBGC6O37GUCFERYn0mgyBNwXUYZRdkXYS5XbgBpzoz3RSqSJyqpF6OV/PTRwGJAfPhdiVlaSgt3bl6K/rzfa9fAS6YGOXj3QqZtIl15YtXozHj/JZCxGFIJmwpO717AiYi46duuEjr17om33HggcMw4H40/ByoK+DHoxXyYGDPzEoL61RNKcTgts1gpkPL2POTPDMaDvAHT36oOuXt4YOXo87j94CkutTRSVeiV6TvkRCJo23/NN8mEcCs9Y39flRTCULi2HaJ6GLm8X2tlyRF9I2sN4REwJRBuvfjib9AB1rmrcuXUMwwK645tuvXHi1j1USYFpSxVaOonGovJCM6T+OFsD9/TgntF1aQqp40WX7wem9yoxYODdwI9K0mw2MxJOn8DadauxdsM67IrZje3boxE8bAj8fQZg85ZoZBVXoU6Cc8QrI/Ue1q5cDv/hQViwYi2iduxATEwMpk2dAV+fAOyLiYXJZJIOHB8Rcm5Lg+ThkH0xCkLcasuKcOfCeSyaPQvXHzxAQV0daqUkpHBNpXP/iuG388Pl+g1AD/BdoHq8knd9GQrzLmPlwlH4tnNbhMycjY279yF6117s2bsPe2L24+bNOygvL5NINukg1yHzYRJWz5+LCcFjsGzFauzevw+7tm/FuOAgjBk/GQdPX1GzRVh21qaOxiLq5W1JWsArvAwYeOtgWxvs64cxoeMVx+IcS97A6+1leHTvHFYtmY2e3r5YsX4Ltu3ch6gt27F6xTrMmbEUxdkl0vDNMFfn4f6tS5g+KwJ3krNgMjdNtafeuuqdcNZzUruk30LjZhhOteCWoo/Y6dDdmWi9JKD2PaAGstygFwf0nJIZ7Y4WlsL0HVIWzrNza6v4qQEmRmyEdqRi0U8C8APkyk32+fFvfgS8OZgPXzzSITmrv++Cplkh6odO7l+xMK58ZCQfxeKpgWjVwwfxScmocNlQWJKFxEunEHfqNLJKy8VGu9RH8Hl+6txEuG2sIu7wfPhkoC4fz1KvY+GiJTh36TZKKuu0a+QuuVMK5FLCl8f4xjrrS5Pm4DxlNQ3GfTHUaKtHfTwHOr/Eq8nzZWLAwLuBH5Wk2e0WnDuXgFu3rqOwKF902Aa7pRqJh7fDr2cHBAWFIuFGCkwSp95pxoGodQgY6oeRYXOQUlgBk53Gz4VTR4/Br78PfPoOQm5+gXpkqt42ctWjzmwT5ZZeW4MZ5TlPcGDTWnz18QfYf/IUnlRWoVJKwoejbhWXcHZRcofElfI1I2nUfZsEYVi36yuhhWHehSjKScCqeX7o0KcndiacQ7lYJRstUyO4L2Hrq1FvLcXW1SsQNDQAq5auQUGBkDeWw1KB2OgN8PUbjoCpS5AnNrFOnHXTzRS08xDw4GXSDHRivMa4Bgz8CPD1HarmpLEB8sUgpYm2XJw+tBY+vTvBZ3g4HmQVodZeD3OtGRmPn2LzmmiU51VIuGpUF6bg+P5o/M8H3yDm+B0UVQoRYsJyw653WoXYCCGQTpJFFJdzOvWmT1XS5HmSxn1+vJvTLkgI1FbiKn/qKg2AOxFxkvBCEOgvaXNOHQf3SNKcah4pz4ek0SJhpSwkaeywCRFlXH06GmmJWDfZEy2mh1tIPOqddtnl414haFI2EjU3F9GK4haSND03PiHgVpwlDT1NHsi/BFLxeewB5a7eXuJJSBkpdOezBiFpT+/HYf6kYfi6+2Acuf0QpVJ4Gwm1lJm2h/OHbWIzXRzVlNz1aqJfYyeSPyRpjgqYyx7gVsIu/O3Tb7By0348zatU01pIxkjUrGJ3He65uHZeH7rLtXDRTeqCp6TexWI+JGmcu+uU+uWUGTkP7ZpJ/joz58ZTWkTzQM3FgIF3Az/ynDRtS7NC5VZmRnpa1txkTBk+UIz4MOw4dhFVooiOmiIsGC/kRAz71oMnwTEnRa7EwmSmpmDt/Hn4+i+f4Pq9ZFTa7Gow3SbKarXT0NlQXZmH5OtnsW5eOL74+H2sidqGYzdu4dazbORXmVRPTk3ZtVaiKP8Z7iUnizxEysMHIsl4lp2DslqLkCvNKCnD80rQtPCPj2PyUZR7UkiaL9r27I7tp86iUhJgTfBHbQkx5g2OYljL0jHEuzfGB0/EhXNXxbYxkNSXqwKpSecxOTwcX/UbhauFZlQ4aCq1NFimxnLR4WXSDHR6Lq4BAz8CGl8ckD+OeoHj2tZ0HNkxDz3af4kpc7cgTTpjZjZ96gsbKO/6ooC1RZl4cvM4olbOx+/f/wbz18Xh9OWHePw0GxVlZaJKZSgvTkNm7hOk5eUgLScfD5JT8ESIXlWFdITcI2MOhwMZGRlIFRty//493Lx1E3fuJiG/sBB1VhI2CSf2h9MWyosKkJOTi7zCYhQUl0r4+3h4PxlpyU9RmFOucxvRV6sQBStMtSVIz7yLlNQkPBQ78lDST31wX/JKxQORSpMJDs65o+1TLxaJJkpepupylBQ8Q0lhJsrKc/Eo7SGSH0j8B6l48igTNvVGJUlIPSy1JhTk5yEjNw/pBUVIzsjCvbQnYq+y4bTUKQLjsFpQUlQi+afgwd1kPBS79vjxYxQVFbkJjYhD7KTDDFtNCQozU1V9PEi5g6ePL+Pqme0IH+ePL7r54PDNhyiXfGuttcgtyEFqZhZKxS7auWyK2Lp6lxmV0vl9mv4M9x+mIknyupfyCIWFpbBZ7TBXZOHZ3cM4vHk2Pvz4c0ycsx7Hzt3CoydPUVJaCqsQMbOUxSJkuaKyUs79ER6mSFmk3h7cS5LyPFLfLDRxHi/bhPzZLSYUZz1GllzHPOmkZ0iZHian4nFahlqqSZHQV9g/DZ4BWhIDBt4NfC+SdlFI2onvRNJomHWyJu6iTQ12M2qzUzAx0Aejgsbh2LUUlIlFqspKRXhAf4SOGI6TibfBhSrY+6KSVuVm4fCGVfjsf36PFZHbkZxfpEhQnepJ0ZqZEB+7Ff7enfDHX/4bfvnv/4Zf/Pq3+L//8z46DwrEjrizYveZUh1qCx9h44r5+MMHH+H/++Xv8Ptf/xK//+2vMChgNOJupCBPisu8WeoXoZ8fhSEoDC0kLe8MVs7zR9se3bA9/owie6r8EkRxMAnF0T5HXTYKUi6ht1c3TAufi6S7KeLB+uH8kBJkP7uDGYvm4g9te2LTqdvIrzE3lYWJuKvyBdBNl2bQo1EMGPgxwLbWOCdNWqC2aqBJkbS4XQvQrc2n8A+cjqd5xarDRV3hFE8dlw5vx6R+rfHpr/8V//c//oD/99//hn/5xZdo08Efu6Jj0FDzFHuiZiFk0jAMmzQW/uMm4b9++Qe0+ao9jh+OF87lVAQtPz8fPXv2xB//+Af89ne/xn/+8t/xi1/8AstXrsZjITwqTyqpvQJRayMQEjoWE+cux/zVW/HeH/+E3//nr/H1Jx2wfFE0zFJ8DRY5lwpcvHwAvfu2wR/++Bv8+r/+E7/9z//EH3/zW7z3p/fwX3/8AIfPnkOFROJiG2qeFg2BkJSLCUewYv5ErFoyGbtiNuKzL/+M//jFv+P3v/oTOrTpi4wcM8xSKQ5zLR7cuIS506dgWPAEhMxYgr/38sN//601fIePhrmySL2wlJ/5GOtWrsL//P4P+NW//wq/+9Vv8PXnXyJiQQSsQpwcDhdcQuQabNVIT76CeROH4/2P/4j/+sOv0K3LF5g2zgfTp4aidZ8AnLidimqnGWlp1zF7ziRx88cZIX48Y07tqJM8Y/fGoUvX/vjNb/+EX/yH5Pf7DzFvzkbpTOchKeEwZge0x5e/+3+krn+P//ObT/Bvv/kzvm7VHmvXr0OlkE62h/KqSsQc2I8P//pn/Pr3v5ewYofFFnt7dcbJ48dQZrGgVrIkOcx6eh/Lp49DyOggTJ+1EH0H+OL9Dz5G3779kZdbIFUqKdLIvRIM8CoxYODdwJuRtNJCFJcW4eKl5iSNjZtWjmSMqqcdaU3e80gMdL1DbKED5upKbFw0C/59e2LZqg1ILxVlFGP65HYiRvfvjMnjQqSnKL1JiWWTZNnJdZQUInFHJD77/X9h+ZZdSCooRrn4W5RmivGrr0F1YRruXY7HyoUz8JeP3sfyNetw6vJV3M/MRm6l+NvtyH6chAVhIzEhaJiaK3b/gfQ6795CwoljmDR9DjoPHoUNBxNQVFPbOIyvnYsO/Zz0RwEcJeTMsVIU5l3Fsnmj8Mm33+DTDj3RuY8vevboD6+u3li4bLP0JJ9JVBNs1Y/w9NZRtGvTBvOXrEV6thha9rZtZXKi+SguSMbKjWvwdR8/rI+7jPzqWo2kMWvuaFX9IuivSzPopW4pmgEDPwTY1nSSRi3RSJrWEXl0PwELpo/HRx+1QpuOPtiy7RCycstgEVXmCzNU69qyTKRdPYSti6bgj+9/hoVrDiD+4gM8TMtCeWkxGpzPsGPjJHTq/S0+7tQBI6bPFX1OweOUJ6guKUW12KxzCSfxbesOmDVvMU6dPouHyQ9w68YV7N8TBe/ePTFZOkmXbtyHi3OtHIU4sHU5evTyxmedBmHi/A14cF/sQ9J9zJq8CAFDJuLAvlMSlsNpdTiZsAdhUwIxZepoPHhwR42ERW/YiCHe3ujYvj2OXbyE7MpKmKnbQjTUhDbqr2wTE+IwdnhftPryDwgK9cOphHg8uHcfMdtjMNDbH8NGzUHq0xzwze9Hdy9g+vgReO+v36DHsDCs2Xcc1x89QUZ2lpiNCqTdTMCSWZMxNWwyEhOv4UGS1NHdB1i/eh0C/QMxe/ZsVNVWw+4w4961C4iYNhb9u7bGiVPHcPnmRcQdicLMSX744tP38feefki8lyod2lo8fnQRM6ePwhfdB+O4pFkrJLM4/yn27diIDh17IWL5Fpy9eB13xYYmXr6B0HELcfbUNRRkJCMj6TD2r5+OTz75CuELNuHY2du4n/pYOvpCqOwm5OemY8mKZfD29cfGHTG4nnQXd5LuIOHoQSydPRk9u3TE4g078Si3UOywDdnpd7BU6vmvn36BHoOGY+O2vUhOTUVmZibsNodGQjkU+0p4GsiWxICBdwNvRNKKy3JQVJaHC5fOi3KfcLsSVAzSGe09Ss6XoAlTpEJBGn99Hc6fOYQVS+dixtTJCJ84CX06tMWqBQtx504yyq1AjSha6u0rGNa3M8ImhiAl85l61GmnbZPkG8pLcWv/DrR677+xeMtu3M53kzSlXLTqdUJeKlCWk4L9W9fgsw/fw5H4BORWVKsXB0xiGAtNldgStQnD/X2xctlSFBQUig+jO2GqrsLBg4cxcLAfvAcPRWpuDswNqv+rOFETOBqn0TOugqatdcTHGXUw1+XhflIi9h85jG17D2FHzAFs2RSJ0KBgdO41GBGr1+PhoxuwVN3Hg6t78fc2rTF/+WZkcv4N57E4pZtuK0RNaQY2RW7FN92HYUvcTRRW12n1yarmjk7SvqNdMUyRgR8P1BO+ODAUY8aOk+baAEcDrYN0vRpqRN9ycP/OVaxetQmff9EOXTr1wJigMVi9djOe5NfC7JAY9eWozL+BoztW4I8ffondx24jt9wGu+grnNWiL+nYvSEMbb1ao/OI0Thw8642PYLPCS0VeHTzDBZOm4iv2ngh/sIVVJjEEghZclqrUFaYjBmTRqNPP18sXbsbpjrRdHsuDmxZCF+/AAQKKTt9J0U9KuQQ394dsRjuF4Rp02agVtJ2NlRj46alGDFiCPbsihaCIHkKs0y7c0dI0FT06NoFV9LSkGe1iv1pUBPk+aiTHU6meeF0PEJHDkH3Lt/i+OljqKgul+hWZD1Nxpoly/CXz7xw5PgFVJbn4knSccwdPwR//OgrzNuwH3eySyRNsUFcb9Geh6glEzFj3EjE7NkLs4Xz4qQSpP6Srt3GLClv955euJ/xQOxsOXZKWf0HDcLMKVNQUlYIs60UJUX3EX9oLQZ7d0TbXgG4eOcRrNKZfProHOZOCxSSNgjH7jyAyWHCo3vnxX4HYvCIsTh1NQnlZruykbVWOy5cuYOsZwWw1hahruQurh+Pxt8+a43VW+OQnlcj103qgHOHHSU4vk/s8MhAqeeZeCgd7jqXC06nHSY530sJ+xHo0wed+gXi+OW7MNnqpF6uY9HUEfifv36FsKWRuJ2ep+46Cqxa9yPdlkH31xEDBt4NvCFJy1ZE7eKlcy2QNI55maWZW2VPzdBqIjbKOFVLDysGyyJmYNrkSZg2KQxBgwdj1fwInDh+FqmZBYqkPUq6jqH9umLSpBCkZj1jn1st6trAiQllpUg6FIMOH7+PZdExuFNQgjLJi2utaVNqaSrMKM97jAObV+AzIXOH4s9KT7ZG6BPXY3OgoKYIw0JDETxxKk6eOot6u8Sh1XTr6JOHyVg2ezo+/+sHuJh0A6U2qxojayKcBPPT1l/jgpT059mTtGlklSNsDarcnAhbW1OB61cuYNCwkRgYEIC9ByJRV52E21d24avWrTF32Rak51aJYWUEqTl7OSzlediyeTu+6uSPbXFJKK42q6ks6jRZsRTuG3bFwDsLrYEO8R2C0LGhSmucDVxfnz0uro9mUSM7paUlQtRWYmLwCPTp2gFt2nTAnJUxeFpQCZurHOWF13Fg5zL87oOvsPv4HeRX2kS3RE8cRXK/f4yYDeHo7dMf41duQJaoYI3k6uLEMXMBEg8KEejdBWGz1yAlv1Q6XZI1R8Ec0ilyZODMoc0YMNAPoycuRU4hO0jZOLh5LkLHTcDyHYfVnFilYqJvJ44eR9Co4UIsfFEladvrq7B+wyqMDByOvbti1IR/2rpHt+9goRCgbp07IzHtEbKFpPEJqeInEoTzYilnTp/CpHEhGBMyEiYrpzNwsrwJpop0XDxxCO//uR02bN6LnMwHSE86gCVhPmjdsQ9O3khBCU+PLxs4K1FfcR9T/DpgWP/uWBCxXDqGh7B37wHs3b4HG5evRXDgSLTr2Bpn753Bs+osLFq9DP36D8X+fXGwSL719ZVSrhw8SRYiOCkQHXoF4tzNVJidNUh/dBYLpg7DV0LS4m8/QFVdCa6e3gnffm2ko7wD9wuKUC3npr2BrnXO1duZrmrUlT3E9fhd+POnbbA8Mg4Z+TUakbVXSeEzsXL6cCG4AVi7Px7FEk9NL3GKJZWOdmH2bUSunIf3vuiIzbFnUFRdKSTtKhaGj8AXXftj1/lbKJJmxPxeD7yKryMGDLwbeCOSVlqSJ5KPS4kXm327k5SExtciZkZ6ubKnkRY3SKK4ur4oLtjzk/AOIT+3z57GiP6D0LePLzZsP4wqix1pd6/Dv38XTJwYggeZz5Ti0tTze0mu4hLc2LcH7T7+CJv2H8aDkjKUSNo1Yqy0HrpGkiry03EwcgU+f/+/sff4OaRXkKQJceKbn6YcdOnfD1PnL8WdeykSXDSdk2nJgCSjstxs6UmvxTd/+SOOnjmB7OoqRRSpvtqbXGpPfrWJwHx4Q0NBaTxfBa1XxzXiOFm4XshXZFQU+g/uj2WrwlFjuos7dw7i89ZtMWNxJNKeSc+crM4uNx+nCTXFudi0LgrfdhqGXcfuoaTa0jJJM2DgnQUbaD18fQcLSRtDjXCTNK0B8+1ql4tdOtHBegtqSzNxaMcGdGrXHv/nd18g7uJ9VAopKC26JSRoJX7zwd+x63gSCirt2giSI99N0mZgpHS8Fu8+iAJJmaSBXagGUzZORC3CkA7fYm/8bTytMKNGisS3y2EvlZ3HyHpwAqODxiBg7EI8fsYXEbJxOHIeQsdPxNKdh1AiaalbtxT52JFDGDlyCEYEDYJJ8rY3VGPHjm3wHeSHsUETcP9eMlJTHyF6UyRGDB2GkaOC8LS8DKUulyKHqi+okzRJMiHhJKaETcD08Kmw8MUn5tNQA1ttJu5dO41Pv+6GlaujkP7kJtLv7sPyKT4YEDAe1x5noEoCW8XuNTjK4chKxNh+X+HLv76HT1t1xlcd+6Jjx17o2LojurTugN5dvRAcMhzXH1/Eo+JkzFw8DwMHD5f8r8DOL6XwOUN9Lp4+iMOCCcPQoUdAE0lLPSMkzR9few3CSSFp5RU5OLV3BbzavIctcfFIKa9UTzM4UsgP4PEslJ10VaG2LAVX42Pw8aftsSzyODIKhKqShJkK0FCejDmj+mDS+Ak4fuuJIml82uHkIuZCzGsqH+OCxP3jl52xalc8cstK8OzJZURMH4FeIyYh/m4KhGar+8w/Bmv2dcWAgXcDb0TSKgsrlFw9fxUJ8acb2zSNL8eOOLKkre7frLkLWXEK+eBr1doxLaX0pM3l2Lx0Adq364aefpOQlleLvLS7GOvbXXqXI3BOFJG9YqZHq2bKykf8pi1o9dGfceCMkK/qGlHUBpjEWJml50yaxhG18vxn2L9lNT758I84eOEmskwWoY9CIJ2FKC1IQocu7TBl5lwkkaTxdXfp6XKCMYfLywvzcXhnFP7+2Z9x9uoVlNTVaY9cxcKahVhqRI2i3WianakbfKQhpaER5VIfLiFYTgv2REeiV5dWCJ82DMVV95BeeAetvXpj4sw1uPkgBxbpavN1fE4uzst4gsULV6B1F38kXM9GRZ2kw6z4w3kX6jU4LXe9RBQDBt4daK1SJ2maXrA7Q13TlsDRwlCP5HbrqkBpbgp2R0Xi3377CVZHHUR2fiZKCh9g964N+NWHbbAj/h7yq0jSLELSikRVMrBnA18cGI9l+w4jR1LSuoFijwrTcGj5dHi3+lo6a3eRV21WRMCmRtLKJL9UZCXHYfio4Rg9ZSEqasW9Lhux62cjZOw4LNl5UJEHpeHSgToWdwijRw9F0BhfITD5MDtKsG3bVnRo0wX/8W+/wa9+9Rv8/r//gD+9/xeMnTQDRZVmIWRaJ47EjKqr+Ivab8DpU/GYOmkcZkybImSJoQQNtbDW5SDp+ln87ZuuWLEmEumPr+DxrZ1YNKEfBgTPwIWnWSiTNHSSZsu6jJD+32Jc6CicuHoHxY56VFv4dRPp2Ip946NfklprQxEyi+9h1rwpGOIzFGdOJQo51L4givoipN8/ioUT/ISk+ePMrRSxqTV4mnYWc8ID8HU3XyTcTIapLBdndyxFx0//E5sPHcK9snIUSbGrJRWLnCm7ruqj+c4KId2puBIfiw8/7YIlkaeQXsDnGWIXpe6dmTcQ7ueNCaGTcfLmU0W4eN1cTqF7rlKYqp/i8rk4fNTGG1HHrqKsphyZQqjnTvRBv6AwHLufCqHZUnJeHd36vUoY7nXEgIF3A29G0gqqUVFYhSsXruNU/Bmt7auGTWImhlPoDLccZ9LUgiNJmpKorbJOjCNgl9JWgY3LF8Kr5wAMC1uEgjonrOV5mBkyBAFDByHm2CmNIInOk99lpT7B+nmL8cWHf8GlW3dQbtEeRXJOGl8eYK/KJemW5qVjX+RyfPLB77An4QLSq0xiAKSPJz00U9lDDOrXDX6+Pjh6JE4Z3wYxVA3qmWoD7t+9i1nh09GubXvcTH6Eajt7h9ptpGkkjWRTJ2nNQX8VGg7pFdptJrhsYqzNdVg6Zza8vTpi2fIZqHbmodSaD+8hQxA0NhynL9zQlvyQMjD9h0l3MFkMfTsvPzwtsIkxZV2qZJtEjps7GTDw7kBrlS2RNM2PrVcTh60G9dYy0c8snDgWh99/3BpLN+5BRnaGkLRU7Nm5Eb/54Cvsib+JgkptPTI4ShtJWvCEcVi+97AiDJoeCIExF+L4jlXw+uZzBE1ajIf5xWpk3inkBk7p/jkycWTPMgwdPgwzlm1ChVlIo6sI+zfOVSRt6c4DigiwhLRXp07GYfz4ERg7IQAmez5Kq7OweMlChIwKxfHDJ3H37j3cuf8ASQ8eqqUyzFw6Q6LSLqkzpr6KEqtpDfVOnDt1DJNCRmHMiOGw1Yqlo1lpsKCy4hnij8fid3/5BhuidyE39y6e3ovFkml+6DUqHBeFpHHdR7t60aEcDTVpmDS8B0YO98N+scs1kg9fvHAJM2wgD5bM2Y12oAo1tlysWjEHvt69sW/nHjm2CWm1wSXE6OmDU0KCAtG2ZwASbqWi1mXCk7RzmDl9OL70GopTN5JhrqvC5WPb0PXL3yJ8+RJcyclxj4KRjKoHtnKOkml9lVzLx7h8IhYff9ZePe7MLJA6Z5ktUubyDMwM8kd/bx+sijogJZPzEeGSJnCWIyfjFpYvnYfPOg/E/jM3UV0nbmkJWDV7OPqNmoAjSSkokfPUxh+1dvZqYbjXEQMG3g28EUkrKa4QqUTixes4eeKsu03zh/2ZSpSUpeLIid2YsSgCZ67dkd5PrRgmOyx1Fdi1JRJPxYC5zNJf4ptOLicKcjMwdkwIunoPQcTmGNRwJMlSiZ2rF2LYgN4IC5uK/LwiIToumE1mHDlwGAG+ARg9MhjPsnNhl14i7RrtkCJzIvwGYE1RBk7uWom///U32BSzBw+Li1EphtniqoWtLh/rFk/DwK5tMC98CtKfZMBmFYMuTLC0qBBbtm5HrwEBmL5wLTIKy2AVy8o8qOaNEMaY9ywdcbF7sWDOPCQlP0aVWQij3YrsrCfYuWMjikoKYLVbhKjZUFtZidvnE9G3hzcCAkdJHR1HnfSYK6ylciEmYGBfLyxdPB+5BXkqn6qyMmxesxa+QwIxedZyVIql53SXF2yOe+Pp/J3AyJ5iwMBbhdYqnydp1NZ6VFaW4/LlRBw8GAun06HmIjnttbh375Ya5f7VB61w4NRVlFVViD5kIv7gdnzw0V+wZXssMvKKYVefi6oWEpKB/ZFzEDJpAlYISeP0B75UoKZX1Jfh7vXjCBszDF+37YrD0mErKK0WnZSupLUWOen3ETxyKAJCJmD3sfOok3KgvgCHoiMwfkIYVu44hDI5BbWEjhCPUycOITR0GIJDh6LSVoiy2nwsXDgXPbt0x7igcZg2LRxTp89E+PQ5mDt/CaJ2xaLY7kK1xKd9Yh9VMTUuPivlv3DiKMb6D0GPv7fC7o3RKM0ulMzMuHPnIkaGDsfXvQbg1JVrMNVk43HSYSycFoieo6Yi8ekz9YSBK/aLQRXDl4d90YsxMmAwZsyeh5zCYmWLuDBuaUkFLl26geidu6VTWymErBZx+6IQPKgnwkb6o7BEiKvVjKePbmHrmjnw6tgaX/cciaM301DlIEk7LyRthJA0f5y89RBmpx1PHlzFzPFD0G1AT8RePCOd61ple01i2/fGHseDh09gMlXAUpuHuzdO46tWrbB8rdj/zDyNoDqlNmzl2Lt1DXwGDITvyHG4IXHMNqe0BSfKywpx9Og+dO/dHSHhEbiTynXQSpGTcgwrZw5D/9ETcOJuith0zfY3GbC3IQYMvBt4I5JWUFYiRq4M5y9dQ/zJs9rIjhpd4kB1MdIzzmPK7JH47SefYvm2/XhWUq4eS9RWF2LhlInYGLEI+7dF4eC+3Yg9sA9LVyzHsNEhmB6xAhekZ8QPinP9tJRbl7Fk9nT4iwKvXrICB2L2YefWbZg8eRpGjRmHhDPnpEdHIyzZSxnYS1WjaKo4DjhqCnD3Qgz8en+JoInBiNiyCUevX0VmWTEcQtQeiuFYMT0Uk0YOw6IFi7Fj5z4c2LMLm9asQti02Rg/eyUu3s9AlZV9wxZUV0javevXMDU4CH/+w/vYf/QscipqUGOtw92kK/Af2gfrNq3Djl27sW9PDPZs2YJZY8ZjTHAYovYcQWpWPszSMzfZanDxbAymhPbDqGG9sXL1MsTs24/I9RsQHDgCU8LCcUnILr8pr6qZhdELRDcWpZm8NtxpPCcGDLxVaK3yeZKmjaJVVJTjyJHDmDp1MvaI7u3dtxe7ReZELEG/YUEYMSUCKdklsDkcsNUU4+7lk9LJ6YJxks7KdRtw+sIFFBVlCknLROyW+QjiSNqeAyhTJI1TDUhjylFW+hgJJ2MxYvRITJ46C2tXR2LPzljs2r4HS0T3g4MnYMOOWCRnFQjR0Eja/qjFGD9+EtZEH1TrHFL/+JQg/kSshB+KkUE+iqTVOqqwZvVK9OraA34Dh2LC+ImYOGkywiZMEcIUjEFDR2HriXNIqahWc8hI9jSSJvUihPBifBzCAoaij5CY+RPCsUeI2uGY3Zi/YDra9+qChdt3IaOkVIhLOR4lHcecqaPQd8xUXE13z9Wl8SPpdZYi+8kNrFo2F6NGDsfKlSuxe882xOzdhcit0Vi2ahPWRG5HgblWyuBCevJNbFowBT6dvkXkpg3YuXs3tmxYhdmTQ9Gnjze+6jUSx26locZZKyTtImbNDMa33Yfh9J2H6olFdWUxLp09CP9RQzBt4UxsFpu+b18sduzYi4mTI3Dh8l1Ummpgd1QjJzsZfgH9MWbsaKxetUquRQJys3OEQNYh/dFdrFu7EsNGBiFs+jyxw3uxZ3cs1m/cjOlzZgvxnoiTF2+grLwKDbZiPHtwFBFTfTFISNrZ+/xCjWb7XzRk30cMGHg38GYkrbxAiFqRkLTLOH7yjNakyR4a2E8sR3buDaxYNxtdBg3BjmPnkCfEhSTNbq3AzfOnMXFEILq3awOvzu3Ro2c3tOncGavFiKRk5YBvaKrHfZzIL4Y85W4Sls2Zg25t2qJ3p67o2r4TgseMxdGEhCZVYtYi5C2c80Gbxbic11FccB/R62ag18CuaNWjE8IWLcCtx2lihrnMRTWKn95D9JoV6NGtJ9q164zunTqgV7euiFiyCqk5pdrbWCKNeelQedQj7d59rJo7HwO8eiNBDAnXMat12pD+JBnTp41Hj1590LptB3Rq3Qb9OrTH0F69kfIwA5XmejF+2iNa9Q2B+iJcvbAbM6eORJduHdGmXXt06dgZ4UJILydeVtmpMvB+50nSBHRqLq8NPWFPMWDgrUJrlS2RNO4/e5aJyMhN6NixPdp1aId2Yg96D/bDvNWbUCy9rhpp6w4OIUvnpyznMXZsXoVBA3ugfZeOmDRtKm7fFv2w5+LUgU2Ys2g+oo+egNzOxQ7QBphkyxmr1bBYqpCS8gCBAYHo2LYzOrTugg5tvdCxfQ+cOntNLW9D0sNldNBQhrh9m6XztggxB0/BJOaIj/AcQtIuXjmNBRHTMW9hmBC0PJhqi7Bxw3rMmDYHN64myblRieTc7DbcTLwE/4BR+LBLPxy+/xhFchrKvvHUaaxcLlw4eQyzJ43BtJDROHf4BEKHjULvrl0xYKA3whfMRZ50EtVk+noTMh5fw4a1EZiybA2Sc/OlQytFFbLXYOcnnarloAZpj5KwcsVidOzUVmxJW7Tt0AreAwZg7eZtqJL6rJLysfbhqMOTpEuYO3602L8u6NylK6ZODsP+PbuxP/YI/MbPwfW0DCmvGdlZSWqZkeHjZuHmo3Rx42QWO6xi088lnsDIkEB06NQR7aVevbr2x8bIWGTmCrmWjixfIqutKxXCuAlDh/ZDB7H9o4aPxIUz52Gzau+DFpfkY9/+fVLmLugkdr692OIOnb0wcdp0ZOTlo87ugsNuR72tHLlPL2PjimmYOn+J2PJ09SiZ5pBt6e2JAQPvBt7scWdpnkg+Ei9daPZZKBIOm9geM5wuO2rsTiEs4iIWiW9v8TGG+i6dGC8nRXqRTiE0VqddKXOdGOJaTm5lL9hsQb2Vk0slrrhz+LtRxLBxSYtGuPVKdShFWxvY5eVSHVKGhoY6ybtS0i6DxWmCVcrB79ApyI2i3sJ5YmY4xBDaLVIeIYd8eUB9N+8VuspvDzZI2AYpjyqf2S5l4zcAxeRI/FqTGVUVVTBb5NxsTjiYj6Valb9ButJ8SiN2R438cXIzRyEb6mtgk15ntbkaFdIDtYlR4keWWR8sMR+TqKLTwnIr0RizJXlt8BybiwEDbxVaq2yJpHGOKvddohCafjtgEzHLPudysdtHIsIVG9TnAGSHUyTqLOWotYmOcLSMaYnu1NtFz2216nEl56Ta7CRoonf1onf0b+CcK82W2DnHVES3KfwclKikmrChjZvbpFwMz5cbqKF8Z130WPzsTNtlFf3lmoZZuHR+LwICh2HspHkoKKHN4akJdRDClPn0LpYtXoRffdEFMTdTte/v8lREVLXI+Z9MiMOkKcGYMSsMNov2eJJl4hcS+NZlk2pyZNAq9s+BWjkPjmZxMK6Bb7xLPGe9eqdSwggJo7/YVrvTihqpEzMfe8p5MB3N5vBHbJxDzlbsDKd6WCysEyFDYr/MdZKe2DXaHvUqmORrZ0db6sNKm85vpao39Pm2vMSTvGotFlSbrKit5TdReV2FKIu/k0usuKokPG1hnVwXi/pmaq2pVmythJPqVh+Yl/LpbcBqs8AsYpU64Eih4rOSm1YHdXJ+JtRaeQ0066mhqaa+vxgw8G7gjUhaWbG+BMcFnDrpuU4alV97u1P1OqWtU7mULWLPi8xEHdGQ0PjR8lKRNbWgQXCwlydBXGIsSGbqSWiEcJGcUJmbFiqkuKEfUrTkxWDzbSaWgi8ziEEREqQIZL1VGVgNEoFkjyIMiC8NqN4aLZ8n9LQ9oD7MLMZMiy+eYmxYRhaNRoWfJrGK0WN5+eFfbYFLmkepA56DHDIboWysDRHWGt+K4g1GyuE2qDp4zg4xYA1kaqw2zWLxVFuU1wYzaS4GDLxVaK2y5ZE0zRaQpOnz1LRbu3Ri3MJQSuXZ9oV88HNEnFhOcsCw/FMKwXRI+EQR6VZPheRNXYTLTFMI6p1Kyi1UYabA1ERj1Z9DLRHCnAn6anoqWq+l2OAQHeU09wI1VWHgoIHoOzgIl289VjoPV61kXYZLpw+gb08vdBwYhAtpmSgXL1IbdabMW7ZcwHZ8+BhMnztFbIbYJnWyAtkofRdw/py2ij5FK5kyAdwRI8vOLO0OD/kGOkWvG35Kia9xKbMhYWxiR7QXk8RXtiSoep2oojO+TewQ38RXZEzspqoZpsYwJMC1sNrVjDghTEJoxU3lLwmo+pSAmrBMEoYLjMse5+ZyoVreD5gP8xMuKLZUUmenV/JkRMbTwkheJKtyjhJEzqVBvc1qcQlllrKpNqMqgSV7m2LAwLuBNyJp5SWFKC7Mw4VzZ3EyPl4plBrxEYVyKhG1FDfV+xH9ofIqhaNxEH81mqZG0TSjSVAtqGo0PFRc1bPiyBSND42QeEg0ZQTop/XARbFpEJS43SmSKQmUEuanDIyYKSFJ/Bgye5cssycYTxtBk7ASn8eavrq3zcAeH/OXgCyUu9BNQRmNH3VWbu7z185OxJ2mCsOwSuR8xI9bgm7NoeXHHRF3AC3ui2LAwLsDrVUOHjIYY8aMUbrAG7W2FI/omhxzHUG1lqC79fKXzVzTBjeUo/woMtcUthFuPXtetzVl0f601JT6MRnZVyrqDi4xlfBQ62a6PRS0fY3Iib2TsqrlPxqqUJCbisgtkQgYNQ7+I0Ixe9ZszJoehjnh4zBtwmhMmTgO8WcvIa+ab5drBE0vPSU+IR7jp4zD9NnTVOePk+rVOegF5Ea2yvbJvubi3rrDkMyx7Cw1O3gUdSzp0ALSXattCa6nL+BGS5vuFAknO7SF7FQ3uHidxC5KfKan4sgxCZJD2VHaQdJW8aO3FkSh0VZLTI0gM23tHqAH5C8vKcvfIPeQpo68lhjLyXuKKps4kWgyN7uUQY2gSv5a+LcLzWYbYsiPL56g/syYMQNdu3Z1uzThlSStoqwUBfl5OHfmDOKPHVeERQ3NC+niaI/+OFJTeFFRZQTYi5LeGYfQRbhP0aGUVYlWSBZWI0yiuOJBoW5r+0yTpE/MT2P6Wh5KmIcYGfXoUtKQU5c/+vHYJvnS8Dyv2MyPaxRxy7TVaJoqFONqu7o0HcgPbyzq5sL0lO/zeC6sW1pEY0B19FJ4BnuN4AYMvCvw8fFBSEiI6J4LdodVbIPcbqnQ0og1cvW8Tjbpi0cjl+MGNSrt9lOieVHvVeeK4EZXSbeTDt0YKl2nfutxBHTz3DaHNlolcfindN8u4kBWVhb27j+IiZOnIiwsDJMmjMPkCWOxcmkELl08r+wN6YR6suCRL/O5/+A+YvbuwQH1huvznUTPshE80m2kAnclDYajuxKm7y6n6iDrwdziCfF2l4VbEQ97rUKr66KloefbINdPSeM1c6fKjXuX0M/PfaREpdXo9lxwN7RwTdKEF32eP3qb0MtpiCE/tniCejh9+vTvTtLKy8tRUFCA8+fO4cTx46r3p0iXm6ApkiOJK/HYpwHiiBvd2FPzJGk69EJyq0bnSNLchZcklDFRBqlZ2s8J02dZ3PnpoJ/uzn1PMH2WR8tHjI/bOKpyiBHQRNIQZ2WXuMM0pCen+tZisPVyeooW7nlpKdxrS2MdeEhL4Qwx5B2TwYO1kTTql0M6Sxyh0W/03NenPyhIeFFkad/6SInmTr3UphlImqLnFBVW/umujlVA+Xf3nZi3J/TysBzNbYynH7ee8PR/GV4WRj/mlmkr20Vx76t5rWKX6M/y0P07wTM77ruPm5ejJTBMS/IyPOf/iuRflYYBAwZeDuqOboPeaCSNBK24uBhXrlxBwqlTitzoCb5KMT39dOP0Kvyj9F4FPW7z+DxuyQC+zJ2gq6coqGT584LP82CQ5mLAwM8QQ4cOxbhx42SPSuCpL/pxcx1qHk4gThox4z4PuKOB9kTvXCl47L4MLdmI7wM9Lc+OIN3UqL/bRr4Mejg17cJNHD1tEo893fR9neSpff3YTfTorsfTRY9LMAztt56v6myL6ISR/no8fZ9+Kn13vrq/LoQejnH0Y4JxPNN8V4VlNMSQn0TceqXzqjciabGxsThw4AB27NiB8PBwfPHFFy/Il19+qaT5vi6ff/652n799df46quvXhDP8Hp8T9H9mvt7uuvysjTpxvy/+eYbtaU7t3pannE+9xA9jS++4Dl4iqefIYYY4in/+q//il/84hduXftc9Ev0UOSLL+mv6RCPvxb5ytNN4n7lFu5/IbZD27rF0/1z0dsvRG+/eNEWeOr/2xDdTujpcqvbEdo33cZRdHeG0e2K577u5xmneRotuenHrxLP+C1JS3FeJi2F169B47FHutzq59dSmHdR9DIaYshPIWyDuv0iN/nlL3+JVq1aISMjw83ANLySpF2/fl3J4cOHsW7dOqxatUoJF0+k6MfNRff3DLdmzRqsXr26Ueimb/+RvCyv5nl4pu0ZR3fXy6C7efpzu1JkhcTzFM88Vq5c4Zbm7oYYYogun3zyiTI6+vHq1aJnIitXNYVZJft0X63cRKdWrMAqhlUi4WW7YrnmRlFxnhOJu1L0VrZamtxq+qx0Wbl9P1khZWrJXbcZLfnp7no5PEUPo+97uhliiCE/L/G0DeQmHTt2RPv27VFWVuZmYBpeSdJKSkqUJCYmNlsn7Z8THLBvLk3gMP6Lro2gd3MxYOBniCFDhqgXB/gYrDn0x0xN4L7oFN8W8lQaPopyipvnY80fAM+XpQmejyX0Mhvy3cSAAQOvhqeezJw5E126dHlBdwyS5gFWjU7DXqRjnr4tgN7NxYCBnyHeHkkT9x9Yj15GJuhukLTvJwYMGHg1PPXkn4uk8Rze1AZ4xHtZMnR7BR1rGXpinmLAwM8QOknjxNjmePEGzn0SoeYk7UXe9kPgZWRCL6chby4GDBh4NTz15H8ZSWMhRdHll2b+BXXXvBvR7LAJugdFZ10eCWpeuqfbUeAZ/LWhJfa8GDDwM8QQLsHhJmnNDQ6PX3yCSS3kqJsHK5ONQdL+d4sBAwZeDU89+V9E0lhAjTTpe7TVrwLDPX9a7iPPBNRnEdzHHt6aA9dx01bA1qPo8tpgxOZiwMDPDg3wHeyD0OBgNHDZhkbl1ZSCi642o2OyFXfw80z8OJQ7gnhybcDnoSuWHvOHg0E0DBgw8EPjZ0rStLhK9AT4cdHnPjAq0gimzm9tUuSmIn8Mostrg2k2FwMGfnZoImngGmDUOaUL3GojayRp7BLpRI1dI/U5N1hlj76a8vzUJM2AAQMGfkj8LyVphFZI/r4OWWK4phg0/Ywh+/oh3xLjV3tfStKaPvFskDQDBr4f9Med/KRQPV8eoNEh4+IkfH5JQMKQpOkjas+TNPpoymOQNAMGDPwz438xSWsJunH2lOagG82+ZvrVzYETYKRHrwlvFO5gz4EOmiN/GUSX14aehKcYMPAzA3XGZ8gQBIeGSp+oXkiaVXSBRE30T0ia+nq27CrOJrtKPUVZXELZ+NVLiaHS8JQmVeLeq8TAm+DFejbgCdaLXkcGDLxN/CQk7a31QBuT4Y52wN/nDYruQquvP0RxiKtTxK1SKrr8KNGcXgY9NU95bah8mokBAz8zUGd8hvgiKHQsHMLEnPWcayauipW5O0pqfijnfGnhxdVN1J4fxdalSZV0xXqZ/DSgzWvJ7unuL/N/V8A61iZ6fH+8y+f5puAZ6W3RgIG3CU99eUOSVqwkMfGikLQT4sLIWgL1YnCdzqZHE8TbMUZUBabLx48kXppquMSouzvhylVRsgaH2H2zBKnTxFElheAjE5cyOkyF4e2SBHvsLJkqXnNxb3RF9JTXRvM0KQYM/MxAnfEZ7IegMeNgF2Wzi51QqkDbwA+tc2TNJUL3BpfopRA5CWBzalvG19VHFw3NXVuS7wfaroqKCuzfvx+RkZF4+PCh2+fV4CNcrqdWXV2tPqMXFRWl4ur28FXyU+Hp06eIj4/HiRMnYLHZlW3lSx3ft3xWqxUXLlxQX6lJTU11u/64YL47d+5Uwuv5srXuXhcM+Z3vBwYMvAY82+EbkrQiJYmJF4SkxYuLbkJJmpxC0qSXLIaWiTZf+PHNwHhCreprkJeVjKuXzyDuWBwOxR1D7KGjsj2Ow8dOIuHCFWTmFcBsr5NyCDFzVcJeV4y8tNs4czoOcccPI/boERw8eQpXk+6hxGSDTYrOmwDXx+RTF8+7ATe6U3N5bbjTek4MGPiZgc2eJC14zHj1ro5VeklKj2gnhKDVVBTgxrVziD8Rh6PHDouuxuHsxYsoKKmAxUHSxsDNoSvUP5LvB35MPDMzE8OGDUOnTp0QFxfn9nk1aPf4oeTc3FyMGDEC3bp1w5EjRxpt4avkp8LZs2cxefJkTJ02DTW1YkelKG+DpJGoLlmyBMHBwTh27Jjb9ccFr1vfvn3Rv39/ZGdnqw/Kk0g3P7fXPT+G+s73AwMGXgOebfCtkzSiQXrBLpdDGTeuLs4tM6DRejNIvAYLYC9C3K5VGNSnM/740Uf4y7dt8bdvWuPrVh3wbdtuGOQfjLiEizCZayS/GtitJch6lISo5QvEQLbGF22+wCetvsBX7dti8IhgXL73BGVmO6xSdJvcNERn1dMXngrPhrsvk9cGE2ouBgz8DDF48FAhaePUSLZFlEjpkcsCa00Rbl89i0E+/dGqfWt82+7v+Kbt39Fv0CAknL2K8iohCy0qXUvK1ZK8OWi3aL94Uw8LC0NgYCDOnTvn9n01XGLvHA4H8vLyEB4ejuHDh+PMmTONHVddmEdz+T74Pmk0J2mq8+pRrjdJm+HfBZLGumf+Y8eORUFBgSJp36f+GYrNssWmacDA94BnG3xrJE0bOdNFa7Z6g6cikKy9buN/EbQUddL9zkHCntUYM8IPoybPwuOKWhSZalFabUJlTS2q6+pQbjHD0lAnxKsaj5/cw5qlS/Dl3z7FoZNxyCzMQkV1Hq5eikOndt/Af/R0XEpKRZ0kb+VzUkIVUcotecpZqceiuiJ6ymuD6TUXAwZ+hhg8eIiQtFA1JcHGEQxqV30Vbl44hHHDfNC6W3+cvZeGnOoaZBTkIv50AoYNH4+0JwWwCbPzVB1NO/U/amRzJfOU18XL49CGWSwWmIW4kHg1B2M0txF6Ko1xzWYVl8eeottJT3kezVN8NVpO4/Xwz0zSeA/iNaiVewbrnWh+Xrq8DhhKvzKvCz28pygwsTe7ZAb+CeHZBt/iSJomZksdrl69jLGhITiTcBIVZSWod2mjaYTeFr9be6QxrwXMz3BqxwqEBg5D6PQIFIit5CiYXRSORt8i5LCuwS6hxZDWV+LAoRgMGDAEE8Nm4VFuLsxOiyhnBfKzbmD1oulo22Uw9hy9ggqL9rhT9dZVwTR6Vi/CP94Q6NJ0lt8BniesiwEDPzOw2fs0krQG0U++yGMVtlaAEzGrMKBra4ybvQr3ispQKYFrnQ6UVlUi9dET1NXZxIaI1kkHkLaA+keixyO5pcovXXTlaklaAlPQ5rcyRFNamjTt6Tv8YRk018ZflkmVq6kkFLro+zSueieVj21d8sO5uw0uuyayTyJEEQ8JR8ujrQxH0dLRSOnzoA8JI1/CcDaFl/ic56cdCRhNhBu9TLo8n2IDzp09jSmTJ2Ha1ClC0mrd00AkFEm17PO8tHNjbP3cud8EHumi0pfzqpFruXTJIoSEjMLRY0eVu+bHH22jx1FHjenqIbWzb8qfR/q5a23ihfjSxrilG2tCxWM9s455TD+5X6DBpsIqOy/+2s1Qk6Z0mT9/mQr9tN+mPLX6Zhp6zTeot5fZzpvK0FyYmpaSLgYMsO00tYW3/LizAXa7DenpjxEdtQmL54RjybwZOHJgn3pcwAbpOe3/lU1SS84dSGI01IhOFiJh1xqMHTYU4ybPRZkkZuOLA2JAHHICNgnskLANqIS55hnWr1uB9l37Y8uekyiuEeImCtkgPfeq0jScPrQbX7bqhUVrY/Ekt1qbnNyYH0tHM0nlovDPU2G/A/Q0PcWAgZ8ZqDM+g30RPGasaGg97HJjbIB0vBy5iNu9GD3afoqx0xcjpbgU1RJW+k3qFqxAnXFZkPX0Lo7E7sLeQ/EoqK5Ry0xTL03Vlbh46hT27tiO1NRk2Jw2OIT81FSWY0d0FJYvWYLFEUuwZu0m3L6bhto6qxg8MwryHuLcmUNIuJSIKw8eYtvefVgYEYFFi5di6ZpNSM8uhp2GQWxLbXU1Lp47gX37duLhoxSxO9J9U08MrHiWdhd7tm/FwvkLEbFkBRYuXo7DxxKQmV+oylglZOfcmfPYuycGyQ9TJU0pNUmUsxK1lTlIOHkUS5Yux4KFi7Fo3iwsWjgX++OOSceykDUknU9aogbcu38fsbGxSJBz5aM6VUNiF0sLH+HcqcPYsH0fHueXSNkccFiqkJf1CJs3bsLCBUuxYP5S7Ny5D08zs4V41au6pTBdzb7xXFxIPJ+AmdMmYMqksXjy9DGiordhkZzXskVLsDUyGnllJpiEMDskrFhfIZ9m5OVmYeeuXXLuS+TcF2OhnMvaLTuQ+iwfVk5qkzxqqiuwfOlcjB7th02RG5Bw9pycr4SfF4FNGyJxM+kB6iRJUpqGeqk1Z51c7xQcio3B4oXz5PrNx4KIRVizeRvOXrmjlVc64mnJiXJNtkubOIZK4fxmqVsXyVG9BVXFWbh84iii5LzvPctDspz7kePxqqylcj2t0kac9XWod1bAVJaNrduisEjKvnDhQixeMAfLFi/CpetJKKkyqTbLs7Y7TDh18iQOxh7Cg/sPxY3kjdeiFqnJN3Dw8CEcOHUBNdJu6iXtJ8lXcCr+IPYfPYaDCRcQsWoDlq+LROKN26r+GVMjftrV0Bq7AQNNIEnr2rWr+6gJb0zStH0XLOYq7NyyGjMmBWPmlInYsG4d4k8lICk1DRV8ZCBBuY6sHvMF0KPRk01ZSFpDORL2bsRon/7o19cX+w6dwNG4OByXntmlq1eQkZsrUaShO/NQkXsLSxfNQYee/jh+JR2VFiqk3Bjqa4TA5eLe1fP4pnVPhM3ZhFspuUpFFBoLo52HQdIMGPj+oM74uOek8YZna7CIKphEHwpx6fQ2BA7qgo49+mHDrr1IepqBCotVab0Ce09yI716ejdC/PvBZ1QY7ucVKALDtIrysrF42jQM6dkTR48egslRi6KKYhzctwdDBw6A/xAhh6NDERw6GREropGdUyTkohz3b8cJIQlA/+AgTJab57jZ8zAyZAyGDhuBr9r2wMZtB/E0qxAOufEXF+Zj8fxw+A7ug4NHD6LGboXZVoeCHCFCy2YjyN8HfkOGYkzoRDnHCZg0dT5OXLiGMosNeSWlQnQWYVC/fjh48CCsDrFFQm6qih/hxKEtmDZlHHz9AzAqWMo4MgC+Yt8CQsZhWfQe3MnKRaUQQlLa3Xv3wt/fH9OnhcMq9cM31uEqwpMHJ7AgPBituvvhNEmoQ/LMfIAdGxejX59+GDx4OIaPGI9p4Quwa98RVNdZUMenD5Im6097XiB0rcGBy+dPYOq4ERjczws7dkQjXPIKGR0Ef58h6N61NyL3nUBaUQUs9XZYzaVIf3wHGzetxfiwMCl/CILGjEHA6DFo33swlkfuwcOMHEUKTaYKrFg2E4N8vBAydhTmCxkeHRSK0cNGoZdXb8xfuhbJ2YVqXKxB6qYg8yHi9kZj9tTxGBMUqGTY8OHoMWgExkxfhuzCYjjt+bh6bidGDvdBbznHB1kVqLJKN52jY64aZNy/ghnDh2JgwFgcv5WMuEvXEDJhErz7eeNxXg5Mkk+tuRjZT67jwLZVGBU0GgGjghE0ejRGBwyROvBG6KTZOHTqPHJLi6WG5JqbyzFt8jQMGzoCe2MOStNky5brgDIcPbAZI0aPwojwCBTbOHpaiYQD0q6CpO58fBE4dQECx07GxOnzcPzMBTVgwfuOtt4A6Ty33+nuYuBngLdI0jyFPQI2QWm89WYc2r9TFLETOnTogCnhs3Dh8lXkFJejrE6btN9i/0FPSnkwBJfUKMfF4zGYMDIQrb5ug2+/aY22336BLz/9CL28e2NN5FZUVJbCVfsYRWlnMX/WVHTsOwpXntSi2s61mcQsifI6LMXIe/IQrdv1xuQ5G3A7RQwJsyEaC8Idg6QZMPA2wGavjaTxcaeQjgazuIlOowr52XexffNy/PWzL/Dr9/6CqfMW4+rtJOQXFsFmFxrBOWC2Ilw7FY1Q/97oFzQNt/MKJSatjJC03GwsnToNvkLS4uPjYHLVIenRXbERXyB80iQk3UqC1VaP9KwiTJiyEGmpT2C35iP5zn5MCu2Df/3oY3QfOw0Jdx7A6qrHs2fZUs4wdOs1CDv3HUO5yYaCoiJEzJ+JIYN64mDcXlTbqlFcloeYLWvRt0MrbFyxDIV5+Y1TJtZv3oG9R88go6gc+SUlWDh/Prx7eWH/gd2wOk0w1RYjMSEW3l1bYfaMqUhOfaRG8xk540kaxoVNxd+9+mLe+i0oslpganBh+7698B0WKGRrhpukSf05c5B+/xAipo3Etz0CcOruY5jsFlw8uQ89Wv8Zc2bOxaMn2aiV4LfvpSFi5QZkl1ehSoiiVdJ8nqTZcfFMHEb69sZf//RrjB8fiqdPHovBcyL57h2MHj4af2vnjUPnb6PKXIvcdCFoy8LRumMbHD13HjVWm+LTxeXVCJ0yF+16DsKa6F2oFvcaUxWWCknr2Okr9Pb2QvT2bVJ+ydtUiemTJmCQ3whs3HtEyiR21mnFueOxiF67GAlH94sZtqDeXofSigrMW7UVrfuORPShk0KwclCSewOzZ01Em67eiD11DdVSL/zWa72tErfPH0ffVl9j7spI3M7Kw8kr1zBmwgT07dcDaQVPUeOqkmv9ANvWLsK3f3kPhw8dQWFJuXrprbaqBDcSz+PbVp0xwG+0ELVTsNbXwWypRtikcAwZPBJ7duskzSLnUohjB9ZjeNAoBIQvRaEiaWU4E7sGQ/p1xntftUHQvLXIKatUlI6UrGWSZtwgDDyPH4ikUYRYuaThNdhgN5fBVPYMuZnJ8O3dDZ/9+ROMHDdden1POD6mGitjeEJPRWuy/CVRq4fDJr1AkwnVlZWoKi1ETVkGzhzfg9EjhqFj+y7YuGoFqsuTUfTkPOZMD0PrniOQmFb3PEmT3lPOo/to9RokjWKQNAMGvi/qMXiID0JCg0WjHHDUa+sW0j7Uy024xlSN+yn30NmrCz784H18+N4H6NWjP5JT8lFXKYTOUoBrCVswZlhP9A6ZhmtC0solVbvcJItys7BYSBpH0k4cP4JaRy2SHibh7199jlnTpuPe/WQhhXyjtB51ZgtcDpMUJxcpd2IwM2wQ3uvWE3vvpyDL6oTZ4ZL8SnHjwgl0FvI1b9kqpOaXIrO4GPPmzYdPv16IO7ITZlsJ0p+lYoT/cCyYsQh3b94TciFWQvJxiTGpqjGjWpiR2eEUkiYEb/E89OrVAbv3rUedPQ/5BWkIHjESQwf648SxU41zdgmXxDkRdxTD/IbCq09PZAgZrBHiELXvAAYGjMLk8DlC0mhba4WkPUPGvVgsmxqIv3f3R0JSGmrtZiSe2Is+rf8i+a7Ek5x81IjRqpZzqxESYxEmRULIR51aN7SJpF0+dxyTQ/zg1787iosL4RTC12A3obLwGU4cPow/fNIea7cdQW5WNq5LHt4dPsfKLVvwIL9AiKT24M5ms+OOEOPe/QZg8rx5QojyUWaqwaJlCzFqlD8OxMZIGBIbOQdrLvZtXwG/EcMxdv5KFEvduSQdh+Rrs1SJva+WcHKHkGO71MvOIwnoPnwCRs+Yj4qqAiFvxTiwfzsCRwVj3dadKh/OCqsszsfB7dH4+q+f4vKdRyi1OHDuymWMGx+Mfv074klREmpIrE4exEi/4RjtF4zC/EJt/p3UC+eT1dXWYPmCxejWqRsWLF6EYlM5Ki0WIdAzMXhoCPbsjXM/8ubD+aKWSdr+tfAf2AtdB43EvUIrKhwNqBUmb1GPjHkNmJukwXTYeJi9AQMeeGskjW91NlEYiii9gyNpomANYhitZShIu4U+7b7BH37zGwwKDMXRG6nK0LJnwRie0FPxbLMkUpx7RiVWE0O5YK2zFNUVz3DkQAyC/UcgxHcoSrJvC0m7jLmzZqBdn5G4mFKFGulJ13Oug/SeHHX5yEm5jVZtexokzYCBHwVC0gYLSRsTpMiAy0WSpmuTUASxEyZzhRCqGzgTfxDTJ4Tii08+R/9BIXLDfwhzVZYiacEBvdEzZCYu5xWhTGKSpBWSpLkfd544dgQWhxl5hTlYvngB+vbshV69+2Lx6nVIzy9SZK2B5KAhDw9v7cKcsMFoP3wszmTlolz8nPVCIesqUZByCf26t8LU+Qtw5Wk20oSkzZ0XgUHePXDowFZUVmfi5u1EfPtVRyyLiMTjlCwhZ3Lj5bIONE0uuUnLjZjLcBSJrZwzbxq692yNvQdWweLMFIKXBK+ufbFo3jo8fPBUq4cGuW1LGmLg8CzlIVbMm4lOHf6O20/uo8Bmwqb9+zEgYDTCniNpmULS9gtJC8C3Xr44lfQIJrsNGQ9uYGl4CNq1bYdeA30RuXs/sorL1HgNKQW3GkkgsWoiaZfOHcOsSaMwZexw1ApxVm/qO+tgE0KUfP0aPvmmJyLW7MbDpLs4t3cz2v719/iySzd8088XXX0CMGCQHwb2HYDe3b3w8V8+xIRZQpJzspEvHetFq5ZjVNBIIbmHpexiceuli+7MwIGdERg6bKgQr2XIk8KR5Ao7xLVL5zFr+hT4+frAt18fDBrQH992knTbdYPfxCkoLM+Tuq7CrevSIZd8RowcjoJyzgN04FbSHcybuwg+PoHIzS9WL5YlXrmIieNHon//tkgvvoFq5CF6TzQG9h+OXVuPwlRdJ+WSf75E4LRIEepw8+w5+Hn3x5SpU5CWl40SkrQpsxEwciJiD51QI5GvJmnrMD4oECEzFiNPzsss6XMxZzXdR9W/QPalot1bOhgw0IS3StI8RRkdGmLphSVdv4h1yxdh4fTJmDx+LOYvWoz98WeQWlDWOJLWvG3ymG/a8KUACuGUYwoNixpmFqPmclaqeWa3Ll/EtOCx6N2mLbJSrqAgPQmLFkagY+8RiL/8FCaLXXidkDp7KayVT5F2/TTatO2Oucu2IyWz5HmSprLjD3N6nqQ1er8u9AieYsDAzw4NiqSN0UlaPeekUetoK/jmo11IjRkuRw2sNXm4dj4O44JG4Hd/+gwx+46iOO8RrpyMxii/vug+eg6uCEkrFV2yim0ozM3BgqlT4dNLSNrRw7AJSbNYTEhLTcb+PTsxbuxo+A7zwYQZ4Zi3egsy8zjPrAAPb+7B3MlCLkZOwdXsPDXHrb7eCVdtBSrTr2FInzYImzsH51PTkVJcIiRtCQb2IUmLRFnFY1y6fAp//fhbrFm5C0/T8uGwC9Vx0f7J2Yqx4KgM38gqLi7CjJmT0LN3a8QeWYNa22PcfXAB337TGSuWbsPTx7laPXDEiLZOiFpJZjq2LF+Irh2/RUruY5TIOW3auxcD/IerKSNcRqKBb7w7s5B+NxaLwvzxddchOHn3EWqkDKbKUiTfvoytW9Zi5Eh/BAYEYOrUGVi/eRtyq6yokPLxYTNfs9LsGy2cQ5G02WGj1VxijiQpgyXXxV5diNQb1/HJ1z0wZ2kUkq5ex+ld69H+0z9gUNAYhC1djYj1W7FmXSQ2rFuPjRvWYsOmdTgldjm7ukqRtAUrl2PkmGDE8e1O3iMaOCcxE4d2RcDfPwAh01cJCRKL67DjxvkTmBU+GX7DR2PF2o3YuHYlNqxdhlESv3WP3giYMBFF5QVSXSYU5jzCzsjV6Nz+a9xMvo5iazV2xx2D3+iJWLFuOyprTOr8rlw+j7Dxw+EzqL2QtKsodz7Dmi3r0LunP+IPXUWdiY+Q5d/95q3LIWT3zl2MHDgY08On41lpCYqFpE2cNgvDhodg/4E4VWvqDubIwbH9axtJWgFJmqMUp4WkTR4XjCkR61EqIVnndjl3p4i6j8mxApOhGDDQDG+dpPGLA3ym73BYkXzvOi6cPIRVC2djpN9QTJ40GSfOXUB2WSVqpXXqvbkWyY9SFGnMHBaWniX91KvlEpp/pE50dXC+Qr0VV86fQ2hAILq1+jvSU26ipCADq9esQ9eeQ7Ej5iRqaqSXxM/OCEkzFSbjctwutGnjhXXRccgtk16TlmtTQWhpG3PiX7PyvS4a0/MQAwZ+hhg8eLCQtGBRLelcKZJG7WcXTTpQDTZxE5FOXYOjBBXFKTiwNxq//tMnWLNxO7IyHuDa6RiEBA5B9+FzcDu3SBENkrQCIWlzp07BoN691Eia3VYn5oNTGyRtsQ93b53BihXT4T3YG7/6pCMOn72FiqosIWkxQkiGop1PCK6m56BOdJM3aIepAoWPrmBAzzaYvmAhrolfmiJpEejfy0tI2hZU1TzDzVsX8dknf8fyiM149PCZ3JQbb7likyRrKRulsLgQM2dPRp++HXAgbgNM1qe4c+88vvmyLcInL8K9JH4mSewZv2fKYSSnC0/v38PyuTPg3bsrsisLYBLyuOtArJo8Hz41HLVCPBpctGn5eHL/COaFBeDLbn44lpSGSuE/GnmQ+m2owOULhxAxczJ6d/TCN0IMz93LQI7Zztc2JMTzJC3x7FGEC5GZFDwM1VXSAVZs04K6ijxcP3cWH37WWcjWDm0kbV8kvL79GMu2RCGloAgmydfOLFVHmvMOXaiV+DVyXGKqwfzlizFqrJC0+GMqV0VZGrJxZNdSBPqPwLjwtai0iL03lWJpeBAGD/BGxNpolAnhqedSFs4aHIrbj4GBwzBy4gSUVJZIOnWwm/JxKX43vNr/Ddtjt+JO1mNEbN2OfsMnqAXLa2zSroQAX7l0WiNpPh3xtIhkTu4Rm1ahW6e+2LpuH2qqSNNpokmupRx2iZNwFv79B2NxxDJUWu2osFoxZ/4CBAQOx969+9S5qqdF5kwc27u6kaTlWzWSlrBvLcLGhWDK4g1q5LdWgtvqpf3L+ej3FQVeLooBA83wluekaUtwVFVVSO8wFVMnBKNXl7aYOTUMSbfviNpCKbJ0lhQpUusCKTLUlIJKRSxcbXkJSsT4lpeVwezkGkCi+GJ4q6uKpYdXwSOVHte84STa2P2x6Ne3LwKG+SGvIBNmSxVidu1E/559MX/mPBQVFonBFAIpPfX8jDvYunIhOnTuh9jjiagWHXs5SdMUSTu7N0Bjeh5iwMDPECRpITpJI4niiILDAlN1KSrKC6C+uUvC5qpAedEjHIzdgQ8+a40tO2ORl/sE964dx4xJY9BtSBgeZObBLASozmrGowd3ETY2BP379MTJ+DiY66pRXVmq3vp02PhIrRR11Vk4l3gO//lZDyzZFo/0rId4eGMPZk4chE86eePAtbsoMbNMXC6iEudOHELXTm2xbN0mZJRWI7OoCHPnzEVvr044EBsNq6MCGZmP0LVDZ0wYNR7XEq+Ca6ERJGgVlTWoMJlRZ3cir7gA8xfOQr9+XXHg8FZYnUV4lvUA3t17wMfbB8fj4mG1WaVO7NKPrINDiMDxuDiEBAcLqQkRklYMi3R8T5+Ox5TxwZgyNkjqrFrspFVsXy5uXY1FWKg/Pu8xHAdvPUGRxQVTrQmV5YVCbIqkQOWoKy1E7NYYfPl5R2yIPYmn0lEWisfadts4jaTxxYEJo4bAt283PHqUDKvVIvHtKM7NRMy2bfj4626IjIlHQZ7ke+YgBnX7BuNnzsD1x0KGhKTyHQ8n513ZHMgqLUN+TQ34Jmm5qRoLly/A6LGjcDSe66TRojLtLBzbuRgj/AIwbtoqVNY5YclPw6ShXREU6IfjF24qMsnQtbXl6vFkD99BGBE2AUWVZXIP4SLnhXhyOx7TQvtj6uxx2BF/ENNWb0DQ3OUokZuE1KgQo1pcungCE0ID0bd/R6Tl3xHyl4vtuzajZ+duGDV0JHKyc6TTL21S2pVNTqSiogoRC5fBZ+AwbI3apVYjsMm1idq8HiEj/bBz+1Z1v6t3mFBb8gB7IufDN8D/BZI2aVwwJuskTdJwyLWs5xpu7lpQtwTjvmDgJXjrJM1UW4P4E8fVN+42R0Yi9ZH07KpNqBOlVcRMhWKLFO0Ro8w3h2geSLjoz63NYsGB9WsR0K0bFsycjbScPFikh1tRmIX1EbNwJGar1otkaDEIt64lIXjsJLTy8sJu6UlXSxkaGiy4eeE4Jg/th05//QDnz55FsShdaUUZTsQfRqtWrTBu6lIkPUxX8wOYt+oVsWhK+KObL73cBgwYeDN4vDgg5EyNjotCFaSnYef6pZg9ZQzMDrMQL6vooxUXL57BYF9/fPhFR9y890RITA2ePb6GNUtm4n/+8hUOn7slN34rkh/cR/jUSfjDf/8G7du1wrGjh1CUn43zp0/KjTQQedkZYlBqUFWUi8NxCfh//6cj1h+8itziZ0i5FYPwcT3wf977H3QfPRZnbiXBJkQr+eEjtOvUC929fXE4/rzYrgYUFBZi4Zxw9O3VCfsO7kaN3YSiErnJr1+GXq2/xLqli1DAJYDEUNSJaVqxOgq7Dp1CemE58kqKheDNwcC+vXHoyH4hDHXSkS3AwV3r0L3d55g+ZRKS7ifDLnVCm/gs/TFCJoShQ98h2HH8NKqFMNhhw/3rZzA/1A89v/4Yd69fhbm2EtcuHsaE0X3w0Z//iI+6jsCRe0+RkleIQ7H7MH9aKKymQjGTFhQ8K8DGldvx9TfdcfDcNeSKTeZMquYjaZfPxyNkWD/89b1fY9SoQDx+nCbRzbh08hS8OnVHn4CJuJqcJiSmDvnpdxC5cib++vkn2Cad5KKKSk6nQ7XFgStyzUZPnoPo/UeU7a4yVYBvd44d44/444fkPKWi6qUEzgzE75ivCNnEOatQZpXOt7kQc8cOQj+v9li5ZmNjBzr2yGF0GTgAv/7ycwydNgV5VZWwyXVwOYphKk9Wb/8OGdwdIyaMwcRlK7HuWAKKJR7PkwuOXL1yFhPHBaG3d3chaU+FPNYi+d5lLJgShL/+9y+xY8cu5BVy/lo9yqpr1FpmX3Tog3EzV+LG3Seol5NzmOpw+sA2+PZujVnTxiBHyCtfboiNnAPvDh9LXXzqQdLKkLBfSNr4IIQtXased3K0lkuS8JuhOoz7i4FX4S2SNDYxaZhOh5qDcfXaVeTl50tPjEPN0jBV49TomTAs6eFZpQci6iOWmrE9SZrVbMbOJYvh/e23mD55iiJpNglnr6vEpqVzETiwJ/wGe2PwoP4IGOKPAX0GIXzWApy8egPZ5WWwcl5IvRk1pRm4kRCLWSN80K9PH3gP8oW3zxAMGDIYE6dOx9V7qSg2WcSIaHnTTOlgSXXjpf25y27AgIE3gEbSghtJmlJ9IRGVuH3xFCJmh2Fo4FD0GzoEA4cORr+BAzFciFPC5SSUVlvUfDWLKR83rySgW+++6NLHB/0HD8W4caFYtHCOGLKp6NXbSwjAEbEfJjx5nIKpYePhP3ggAvv3x7C+gzDEJwgTl+xHUmYxai1FSL0diwUzfNBqgBfGrVyBkdOmop/PIHTv5Y3Wnbyx/+gZFJQK8XDVozg/F0sXzhCb0wsHjx2CyWlDnbUWRVkp2L1+CcZI2Qf064+hfiMwaPBwhE1bgDNXbqHCZkduSQnmz5kPXx8fHD4ipMVulxu4GaX5yYg/uBmhwYHo2r0XBoht8h/SHwP69kTYrHnYf/YynpZXolYqio+Ha8uz5aYfCZ+OX6K3V2chJAMwdeIoRMwLw6Rpk/E3r+E4evsxisSm3byaiGnjAjHMtx8C/IfBp58/AoeOw7r1u5FdWoFqJ9deo731JGlOJJ6LV4R5fPAwrFqzAqODguA3aDAG9fRG7+7eOHPjHkpqzWLPndKZrkDm0ztYKPU/2M8P3nLNBgwR+zo0AL6jJ2H7gRN4nFOk7HGNqQzLls7AuDF+OEGSRmvKF7mcOTi2I0KtSzZ+xhIU19XD5azBvctxCB8/Gu3bd8bgoSOk7QRg5JjxGDp2HHoGjYLvlDAUVsq1qReaWV8Nlz0XhZnXhER3wOfffoXRs+YgIeWxGr1SHXA5vyuXLwpJDIZXz+5IzX6mFrOtrS1G2oML2LZmHry6d0ev/oPg4zcMAwYPQR+5XyzcuBuXHjxBWY1F7llyD7DaUV74BEvnjkXfnm3h7d0D/kMHYPmsIKycNw4jg4MwYloEikjSnJU4GbsJEycEY8qS1aiUcvApEh+BGyTNwOvirZM07qvPmkjvyRPKRw8i/vonUQidpFG475SeY/L16zi0axcSL1wUBTFJH4/RHHhw6yr2747GhnXSU1q7Cps3bMTWzVG4cu2m9G7FcLjT4fwOuGpRW5GHpMTTiIrcgrUbNmHtxk3YJuneuJ2EGqtVKQ3f+FKPU1XuGjxJGvd4zL/n0OzQE+o0tV0DBgyINiiSJjdJLlugj6TxczxVpQW4de0iNkRuwqoNG7Bmw3psid6GhLMXYJY7rF3UUj0ecllQWVGIuOPxEjZK9HkjYmP349bNa3j48B6OHDmAjIzHkq5Dbr5VclO+IHq/CZtXrcGW1Ruxa1ss7j0pFr13oN5VgZSkI1gwNxC9Q4Zj7+VE7Doah1Xr1mLt+g2IiY1DYVmV6mByeKyuugo3r13A8aMH8Tj9ifoUHckmJ9XnZ6Yi/shBbJTybNgYifUbInH63GXkFZeqGXfV0um8euUqjh87hidPnqpHaspK1degsiwLCaeOYe269Vizdj02rl+NTRvW4uK160K2zOqRJG2a+nyRqw5FOWmIj90p4dZgg9TT0bgDuHPrCm7fS0I0SVFBOSxS6PLSIlw8G4/NG9dh86bNkuZWHIw9hoxM6fBK2VkuZSeV6LatHjlZ6bh2+RxuXEtESupD7N6zBxvXbUB05FYcORSn1jxjXNpFjsM5HCY8Sk1GzN4YqTc5h3XrsG7jZmyPOYDMvGLYJBOnXG+73YybNy7i7GkpQ/pjLWf1hmcl0tWq/HE4k3gdJjvbhQ2WmiLcuHwemzdvkfrcgnXrNuPgkWM4lZiI45cSEXfhPGrFfmvl5oT/aljrOIK4B5siI3HiYqL6BizrT7PqDcjLzcGZ0wnYfyAWpVXVakSLteuwlaMw+xG2Rm3FmvUbpfybsH7jRkRGbcPDZ/molPbCpy0c/JMbmyRoxv2kROzdEyXlWoNNUsdXLxzDowfXkXj5kuR9TUi83DUkXEbaHZw9dwrnb9xWLw0wHbXMh2r8GpgspcnFgIEmvGWSpje3VzQ55cwfXbTfF2K6G7HuR4PykpAKz4cj6CJHNAQ0pi2A4dnLorBHqb1vo4HKr5O0lvJTu7o0A530GAYMGNCgzUkLEXLTIESFnTm6ipZQP9lx046eE2ouhVMR2PnTtNLtJqJrG0eBKE0a7T7mnZVMi708EWUKeJN0VeHh3XjMnROMHkGjcTMn2+OGroEpK2He6uYs6fGFJh6rEARjUJpciMa4bnkRdG08Ozq4ocVgis/70kU/N7rqoK/WidTDM6Tursf2hJZDSz7Ey+MRTXH1cK+bR0vhZUvyKaRa6wjrPgzTdCae0H08a0A74gVm3TyfwvPhmqCXQAvRvE6boKfTFJ7QU/Ysn5aG53XQGhvbIV8/c6fDhAySZuA74C3PSWsurw/Vdj3kH4Mxvl+zbspPG0XT3uPUzA9/3wZJa8HbgIGfJTSSNkbuUSRpGtlpCZ768yrRiYKmqZzb2kTUuOWxCsmbInf1+zhHspxC0pIShKSNQ+eAANzKylIjHUxXh0YMNeELSioddYOlp1t+FPyomRlQ+IHqXCUrPx5Jc1drzwYMvIh3hqR9d6jWru2+IZpK6knSXvxrCtlMs15SBDp5xmouBgz8HKGTNJIel/P7kzSdnml/GilrLiqkGjmTXfchR8NQb8KDpLOYNWsseo0ehbvZ2YqkaaMdGilrLjpha0nnDfyzgRfZuNAGfnoYJE2JQdIMGPihQZI25qcgacyH7IuiIspOgxk1VblIe3QbiQ+TUWCxKJLmlLAtETRKI0kz8DMAr7NxrQ389HhDklasJDHxopC0E+KiN+jm8kPi++fRVNJX/3mGbEQLTjro9PzN5HkxYODniB+WpOndrJeQND0SE1czwG1yXAuXqxYmOeZaXFyqgSRNJ2MvEwMGDBj4sfCGJK1ESWJiopC0k27XHxvK2mq7bwV6ei1JC3iFN530e0JLYsDAzxE/LEnT/54nagyhUmSiuig3vkVglTLY1duK/H6wXfz4UoMnIWtJDBgwYODHgkHSGqGn15K0gFd40+n5m8nzYsDAzxE/BUmji1ArCe0JOVZvlAqJq5cYcqiehHoQsVeJAQMGDPxYMEhaI/T0WpIW8ApvOrV8U9HEgIGfI34cktbynzaipguPREi65FATyVWJHHjMP2tJDBgwYODHgkHSGqGn15K0gFd400m/HbQkBgz8HPFTkjT+NRE17ZcjaORlGjmjiKt681Mr28vEgAEDBn4svBFJu3DhAi5evIgDBw5g1apVmDVrlkro+wjTeH1heE9pKczry0xJw1NeTJ/iEWdmM/H0E5n5GtI8jiGG/LPLBx98gL/97W+azs9wSzM7QJnx2jLjO8tMt8yQvKcr4b64KZmuZIYSzf1l0lK5DTHEEEPetnzzzTdo166dGhjzxCtJ2uHDh5Xs2rULc+fORbdu3dClSxd06ewhckz29zrC+D+ldBXp4iVbkZb8DTHEkO8vbdu2VUKd9/LyesEOfD+hvdHlu/gZYoghhrxboviUSOfOnRVBGzt2LLKzs90MTMMrSVpxcbGSy5cvIyEhQa0hxMcXzaX5OkMvk5YeKfyYwrkpLmjSkr8hhhjy/SU/P1+Jw8Gl/9829EeZLT2OVM803WLAgAED7zZoL8mNnE6nGkGj3WyOV5I0AwYMGDBgwIABAz8NDJJmwIABAwYMGDDwDsIgaQYMGDBgwIABA+8gDJJmwIABAwYMGDDwDsIgaQYMGDBgwIABA+8gDJJmwIABAwYMGDDwzgH4/wHPHqfUVkbUSgAAAABJRU5ErkJggg==)\n",
        "\n",
        "\n",
        "\n",
        "\n",
        "\n",
        "\n",
        "\n"
      ],
      "metadata": {
        "id": "KJrXr81yObrq"
      }
    },
    {
      "cell_type": "code",
      "source": [
        "list_column_raw = list(df.columns)\n",
        "drop_column_bin = ['ID', 'Delivered_on_Time']\n",
        "\n",
        "list_column = [i for i in list_column_raw if i not in drop_column_bin]\n",
        "\n",
        "x_bin = df[list_column]\n",
        "y_bin = df.Delivered_on_Time"
      ],
      "metadata": {
        "id": "_f4Bolo2lTrN"
      },
      "execution_count": null,
      "outputs": []
    },
    {
      "cell_type": "code",
      "source": [
        "#Start Binning for WoE\n",
        "binning_fit_params = dict.fromkeys(list_column, {'monotonic_trend': 'auto_asc_desc',\\\n",
        "                                                  'min_n_bins':2, 'max_n_bins':10})\n",
        "binning_process    = BinningProcess(list_column, binning_fit_params=binning_fit_params)\n",
        "binning_process.fit(x_bin, y_bin)\n",
        "\n",
        "appended_data = []\n",
        "for i in list_column:\n",
        "    optb = binning_process.get_binned_variable(i)\n",
        "\n",
        "    # store DataFrame in list\n",
        "    data = optb.binning_table.build()\n",
        "    data['features'] = i\n",
        "    appended_data.append(data)\n",
        "appended_data = pd.concat(appended_data)\n",
        "\n",
        "features = binning_process.summary()[binning_process.summary()['selected'] == True]['name'].tolist()\n",
        "woe = appended_data.copy()\n",
        "\n",
        "woe['% of Event']     = np.maximum(woe['Event'], 0.5) / y_bin[y_bin == 1].shape[0]\n",
        "woe['% of Non-event'] = np.maximum(woe['Non-event'], 0.5) / y_bin[y_bin == 0].shape[0]\n",
        "\n",
        "# Transform Binning Value to WoE\n",
        "\n",
        "data_transform = binning_process.transform(x_bin, metric='woe')\n",
        "data_transform['Delivered_on_Time'] = df['Delivered_on_Time']\n",
        "\n",
        "# Nilai IV merupakan nilai sum dari IV setiap bin\n",
        "summary_woe_iv = binning_process.summary()\n",
        "summary_woe_iv.sort_values('iv', ascending = False)"
      ],
      "metadata": {
        "id": "muhiE2HBfrV8"
      },
      "execution_count": null,
      "outputs": []
    },
    {
      "cell_type": "markdown",
      "source": [
        "Berdasarkan nilai pada kolom iv, **nilai diatas 0,5** terdapat pada feature **Discount_offered dan Weight_class**. Kedua feature ini dikategorikan sebagai feature dengan **suspicious behavior** atau diduga berkorelasi sangat tinggi dengan target. Karena jumlah feature pada dataset tidak terlalu banyak, maka diputuskan untuk mempertahankan feature yang masuk dalam kategori ini.\n",
        "*   Feature **Product_importance, Customer_rating, Warehouse_block,\tMode_of_Shipment, dan Gender** memiliki nilai iv < 0,02, dimana feature yang masuk kategori ini tidak signifikan untuk digunakan pada proses modeling. Feature yang masuk dalam kategori ini akan dihilangkan, kecuali feature **Product_importance**, karena pada proses EDA ditemukan bahwa feature ini memiliki pengaruh terhadap target.\n",
        "*   Sehingga feature yang akan digunakan adalah:\n",
        "1. Discount_offered\n",
        "2. Weight_class\n",
        "3. Prior_purchases\n",
        "4. Cost_of_the_Product\n",
        "5. Customer_care_calls\n",
        "6. Product_importance"
      ],
      "metadata": {
        "id": "CPaG-l9VSkoW"
      }
    },
    {
      "cell_type": "markdown",
      "source": [
        "# Feature Encoding"
      ],
      "metadata": {
        "id": "Mb4x1n39fKEE"
      }
    },
    {
      "cell_type": "markdown",
      "source": [
        "Terdapat 1 feature bertipe kategorikal pada dataset, yaitu Product_importance. Sebelum melanjutkan data preprocessing, dilakukan terlebih dahulu feature encoding.\n",
        "\n",
        "Akan dilakukan teknik Label Encoding untuk Feature Encoding pada feature Product_importance, karena Product_importance merupakan feature kategorikal yang bertipe ordinal."
      ],
      "metadata": {
        "id": "4g3n2sz3fJVa"
      }
    },
    {
      "cell_type": "code",
      "source": [
        "#label encoding untuk product importance\n",
        "df['Product_importance'] = df['Product_importance'].map({'low' : 0, 'medium': 1, 'high': 2})"
      ],
      "metadata": {
        "id": "4ikABIq3fHnB"
      },
      "execution_count": null,
      "outputs": []
    },
    {
      "cell_type": "markdown",
      "source": [
        "# Handling Outlier"
      ],
      "metadata": {
        "id": "hEcDCgREwJan"
      }
    },
    {
      "cell_type": "markdown",
      "source": [
        "Sebelum dilakukan data preprocessing lebih lanjut, dataset akan di split menjadi data train dan data test, untuk menghindari data leakage dari data train ke data test."
      ],
      "metadata": {
        "id": "ZCDNb3Ca2if1"
      }
    },
    {
      "cell_type": "code",
      "source": [
        "# memisahkan kolom feature dan target\n",
        "X= df[['Customer_care_calls', 'Cost_of_the_Product', 'Prior_purchases','Product_importance', 'Discount_offered','Weight_class']]\n",
        "y= df[['Delivered_on_Time']]"
      ],
      "metadata": {
        "id": "TFXZGcWF11S8"
      },
      "execution_count": null,
      "outputs": []
    },
    {
      "cell_type": "code",
      "source": [
        "# pemisahan data train dan data test dengan proporsi 80:20\n",
        "X_train, X_test, y_train, y_test = train_test_split(X, y, test_size = 0.2, random_state=42)"
      ],
      "metadata": {
        "id": "kPWEhpjovzx1"
      },
      "execution_count": null,
      "outputs": []
    },
    {
      "cell_type": "code",
      "source": [
        "X_train.shape"
      ],
      "metadata": {
        "id": "Bu7s1Whw2NKZ"
      },
      "execution_count": null,
      "outputs": []
    },
    {
      "cell_type": "code",
      "source": [
        "X_test.shape"
      ],
      "metadata": {
        "id": "ULAxMEik2Xut"
      },
      "execution_count": null,
      "outputs": []
    },
    {
      "cell_type": "code",
      "source": [
        "numerical = ['Customer_care_calls', 'Cost_of_the_Product', 'Prior_purchases', 'Discount_offered', 'Weight_class', 'Product_importance']"
      ],
      "metadata": {
        "id": "8nd9qBxtHvFb"
      },
      "execution_count": null,
      "outputs": []
    },
    {
      "cell_type": "markdown",
      "source": [
        "###Pengamatan feature numerik (data train) sebelum handling outlier"
      ],
      "metadata": {
        "id": "6Pu4IG-bGsyo"
      }
    },
    {
      "cell_type": "code",
      "source": [
        "for i in range(0, len(numerical)):\n",
        "    plt.subplot(3, 4, i+1)\n",
        "    sns.boxplot(x=X_train[numerical[i]])\n",
        "    plt.tight_layout()"
      ],
      "metadata": {
        "id": "IkytPvqg2Z9F"
      },
      "execution_count": null,
      "outputs": []
    },
    {
      "cell_type": "markdown",
      "source": [
        "Dilihat dari sebaran feature pada dataset, feature Prior_purchases memiliki global outlier pada nilai 10. Dilakukan pengecekan pada jumlah data yang memiliki Prior_purchases = 10."
      ],
      "metadata": {
        "id": "2orjkQ87KcNF"
      }
    },
    {
      "cell_type": "code",
      "source": [
        "X_train[X_train['Prior_purchases']==10]"
      ],
      "metadata": {
        "id": "zs-OTkYjFpfP"
      },
      "execution_count": null,
      "outputs": []
    },
    {
      "cell_type": "markdown",
      "source": [
        "Dilihat dari jumlah data orang dengan prior purchases sebanyak 151. Jumlah data cukup banyak apabila dihilangkan sebagai outlier, maka diputuskan untuk tidak menghilangkan data dengan Prior_purchases =10.\n",
        "\n",
        "Sebaran feature lain pada data train tidak ditemukan global outlier (hanya ada collective outlier), maka diputuskan untuk tidak melakukan handling pada outlier yang ditemukan. Dataset nantinya akan langsung ditransformasi dengan metode transformasi yang robust terhadap outlier untuk mendapatkan distribusi normal.  "
      ],
      "metadata": {
        "id": "AzJ1Q3QdG5LP"
      }
    },
    {
      "cell_type": "markdown",
      "source": [
        "# Feature Transformation"
      ],
      "metadata": {
        "id": "u-A43SndHPBs"
      }
    },
    {
      "cell_type": "code",
      "source": [
        "X_train1 = X_train.copy() #variabel sementara untuk trial dan error proses transformasi data"
      ],
      "metadata": {
        "id": "q82stfVlOLLm"
      },
      "execution_count": null,
      "outputs": []
    },
    {
      "cell_type": "code",
      "source": [
        "X_test1 = X_test.copy()"
      ],
      "metadata": {
        "id": "KitX64jVl_kS"
      },
      "execution_count": null,
      "outputs": []
    },
    {
      "cell_type": "markdown",
      "source": [
        "Dilakukan transformasi data pada feature Cost_of_the_Product dan Discount_offered dengan metode Quantile Transformation. Feature lain tidak dilakukan transformasi data, karena feature memiliki nilai diskrit."
      ],
      "metadata": {
        "id": "Vx7NngOrWFw4"
      }
    },
    {
      "cell_type": "code",
      "source": [
        "# membuat fungsi untuk transformasi\n",
        "def transformation(data):\n",
        "  transformed_data = data.copy()\n",
        "  transformed_data['Discount_offered'] = transform_Discount_offered.transform(data['Discount_offered'].values.reshape(-1, 1))\n",
        "  transformed_data['Cost_of_the_Product'] = transform_Cost_of_the_Product.transform(data['Cost_of_the_Product'].values.reshape(-1, 1))\n",
        "  return transformed_data"
      ],
      "metadata": {
        "id": "SotVfJKZrxNK"
      },
      "execution_count": null,
      "outputs": []
    },
    {
      "cell_type": "code",
      "source": [
        "# Data Transformation\n",
        "\n",
        "transform_Discount_offered = QuantileTransformer(output_distribution = 'normal', random_state = 42)\n",
        "transform_Cost_of_the_Product = QuantileTransformer(output_distribution = 'normal', random_state = 42)\n",
        "\n",
        "transform_Discount_offered.fit(X_train1['Discount_offered'].values.reshape(-1, 1))\n",
        "transform_Cost_of_the_Product.fit(X_train1['Cost_of_the_Product'].values.reshape(-1, 1))\n",
        "\n",
        "X_train_transformation = transformation(X_train1)\n",
        "X_test_transformation = transformation(X_test1)\n"
      ],
      "metadata": {
        "id": "5Nh6J0MJmTHq"
      },
      "execution_count": null,
      "outputs": []
    },
    {
      "cell_type": "markdown",
      "source": [
        "### Perbandingan Sebelum dan Sesudah Data Transformation"
      ],
      "metadata": {
        "id": "Kbbh5IH8Dv9f"
      }
    },
    {
      "cell_type": "markdown",
      "source": [
        "### Transformasi Data Train"
      ],
      "metadata": {
        "id": "4jaKVoKW93y6"
      }
    },
    {
      "cell_type": "code",
      "source": [
        "# list kolom yang dilakukan data transformation\n",
        "list_transformation = ['Discount_offered', 'Cost_of_the_Product']"
      ],
      "metadata": {
        "id": "ljLlslnz_Zb3"
      },
      "execution_count": null,
      "outputs": []
    },
    {
      "cell_type": "code",
      "source": [
        "X_train_transformation = pd.DataFrame(X_train_transformation,columns= numerical)\n",
        "\n",
        "for col in list_transformation:\n",
        "    plt.subplot(121)\n",
        "    sns.distplot(X_train1[col])\n",
        "    plt.title(f'{col} sebelum transformasi')\n",
        "\n",
        "    plt.subplot(122)\n",
        "    sns.distplot(X_train_transformation[col])\n",
        "    plt.title(f'{col} sesudah transformasi')\n",
        "    plt.show()"
      ],
      "metadata": {
        "id": "DYkOpqHwhso1"
      },
      "execution_count": null,
      "outputs": []
    },
    {
      "cell_type": "markdown",
      "source": [
        "### Transformasi Data Test"
      ],
      "metadata": {
        "id": "11Prjcaf9zX8"
      }
    },
    {
      "cell_type": "code",
      "source": [
        "X_test_transformation = pd.DataFrame(X_test_transformation,columns = numerical)\n",
        "\n",
        "\n",
        "for col in list_transformation:\n",
        "    plt.subplot(121)\n",
        "    sns.distplot(X_test1[col])\n",
        "    plt.title(f'{col} sebelum transformasi')\n",
        "\n",
        "    plt.subplot(122)\n",
        "    sns.distplot(X_test_transformation[col])\n",
        "    plt.title(f'{col} sesudah transformasi')\n",
        "    plt.show()"
      ],
      "metadata": {
        "id": "_p4Dqt3IsGmQ"
      },
      "execution_count": null,
      "outputs": []
    },
    {
      "cell_type": "code",
      "source": [
        "# membuat fungsi untuk scaling\n",
        "def scaling(data):\n",
        "  scaling_data = data.copy()\n",
        "  scaling_data['Discount_offered'] = scaling_Discount_offered.transform(data['Discount_offered'].values.reshape(-1, 1))\n",
        "  scaling_data['Cost_of_the_Product'] = scaling_Cost_of_the_Product.transform(data['Cost_of_the_Product'].values.reshape(-1, 1))\n",
        "  return scaling_data"
      ],
      "metadata": {
        "id": "WogE77FrbNQz"
      },
      "execution_count": null,
      "outputs": []
    },
    {
      "cell_type": "code",
      "source": [
        "# Data Scaling menggunakan StandardScaler\n",
        "\n",
        "scaling_Discount_offered = StandardScaler()\n",
        "scaling_Cost_of_the_Product = StandardScaler()\n",
        "\n",
        "scaling_Discount_offered.fit(X_train_transformation['Discount_offered'].values.reshape(-1, 1))\n",
        "scaling_Cost_of_the_Product.fit(X_train_transformation['Cost_of_the_Product'].values.reshape(-1, 1))\n",
        "\n",
        "X_train_scaling = scaling(X_train_transformation)\n",
        "X_test_scaling = scaling(X_train_transformation)"
      ],
      "metadata": {
        "id": "40Rj91aYbf9l"
      },
      "execution_count": null,
      "outputs": []
    },
    {
      "cell_type": "code",
      "source": [
        "# Sebaran fitur setelah dilakukan scaling\n",
        "\n",
        "for i in range(0, len(numerical)):\n",
        "    plt.subplot(2, 4, i+1)\n",
        "    sns.distplot(X_train_scaling[numerical[i]], kde = True)\n",
        "    plt.tight_layout()"
      ],
      "metadata": {
        "id": "YDB8SfCEZriT"
      },
      "execution_count": null,
      "outputs": []
    },
    {
      "cell_type": "markdown",
      "source": [
        "# Class Imbalance"
      ],
      "metadata": {
        "id": "MjgG4ZtIMmUs"
      }
    },
    {
      "cell_type": "code",
      "source": [
        "percentage = round(df['Delivered_on_Time'].value_counts(normalize = True)*100,2)\n",
        "print(percentage)"
      ],
      "metadata": {
        "id": "8TJ9-B1p63Bu"
      },
      "execution_count": null,
      "outputs": []
    },
    {
      "cell_type": "markdown",
      "source": [
        "Dapat dilihat pada perbandingan nilai target (1: tidak terkirim tepat waktu dan 0: terkirim tepat waktu) memiliki perbandingan data 59.67: 40.33. Sehingga pada dataset ini tidak perlu dilakukan handling untuk class imbalance."
      ],
      "metadata": {
        "id": "--RPDhFfd0jk"
      }
    },
    {
      "cell_type": "markdown",
      "source": [
        "# Feature Tambahan"
      ],
      "metadata": {
        "id": "q_q6D4wOUevH"
      }
    },
    {
      "cell_type": "markdown",
      "source": [
        "Feature tambahan yang berpotensi meningkatkan performansi model:\n",
        "*   Tanggal Pengiriman (dapat dilakukan extraction pada tanggal (menjadi jam, hari, dll) agar didapatkan informasi tambahan terkait waktu traffic ramai, office hours, weekdays, weekend, atau waktu yang bersifat seasonal)\n",
        "*   Jarak Pengiriman (untuk mengetahui estimasi waktu barang sampai)\n",
        "*   Lokasi Penerima (untuk mengetahui estimasi waktu barang sampai)\n",
        "*   Nama layanan ekspedisi pengiriman (misal JNE, JNT, Anteraja, dll)\n",
        "*   Jenis Pengiriman (misalnya Same day delivery, Pengiriman dalam kota, Cargo, Express, Reguler, dll)\n",
        "\n",
        "\n",
        "\n",
        "\n",
        "\n"
      ],
      "metadata": {
        "id": "HHuX03vUUluf"
      }
    }
  ]
}